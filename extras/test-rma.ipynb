{
 "cells": [
  {
   "cell_type": "code",
   "execution_count": 18,
   "metadata": {
    "collapsed": true,
    "pycharm": {
     "name": "#%%\n"
    }
   },
   "outputs": [],
   "source": [
    "import numpy as np\n",
    "import pandas as pd\n",
    "\n",
    "from mintalib.testing import reflib\n",
    "\n",
    "import talib\n",
    "from talib import abstract\n",
    "\n",
    "from mintalib.utils import random_walk\n",
    "from mintalib.testing import sample_series\n",
    "\n",
    "from mintalib import core\n",
    "from mintalib.testing import reflib"
   ]
  },
  {
   "cell_type": "code",
   "execution_count": 19,
   "outputs": [
    {
     "data": {
      "text/plain": "date\n2022-08-22    100.000000\n2022-08-23     98.122582\n2022-08-24    100.695528\n2022-08-25    101.619933\n2022-08-26    101.181830\n2022-08-29           NaN\n2022-08-30     97.373524\n2022-08-31     98.434423\n2022-09-01     98.921668\n2022-09-02     97.629565\ndtype: float64"
     },
     "execution_count": 19,
     "metadata": {},
     "output_type": "execute_result"
    }
   ],
   "source": [
    "period = 3\n",
    "series = random_walk(10)\n",
    "series.iloc[5] = np.nan\n",
    "series"
   ],
   "metadata": {
    "collapsed": false,
    "pycharm": {
     "name": "#%%\n"
    }
   }
  },
  {
   "cell_type": "code",
   "execution_count": 20,
   "outputs": [
    {
     "data": {
      "text/plain": "date\n2022-08-22           NaN\n2022-08-23           NaN\n2022-08-24     99.606037\n2022-08-25    100.277335\n2022-08-26    100.578834\n2022-08-29    100.578834\n2022-08-30     99.510397\n2022-08-31     99.151739\n2022-09-01     99.075049\n2022-09-02     98.593221\ndtype: float64"
     },
     "execution_count": 20,
     "metadata": {},
     "output_type": "execute_result"
    }
   ],
   "source": [
    "res = core.calc_rma(series, period)\n",
    "res"
   ],
   "metadata": {
    "collapsed": false,
    "pycharm": {
     "name": "#%%\n"
    }
   }
  },
  {
   "cell_type": "code",
   "execution_count": 21,
   "outputs": [],
   "source": [
    "def slow_rma(series, period):\n",
    "    if period <= 0:\n",
    "        raise ValueError(f\"Invalid period {period}\")\n",
    "\n",
    "    result = []\n",
    "    rma = np.nan\n",
    "    total = count = 0\n",
    "    for i, v in enumerate(series):\n",
    "        if np.isnan(v):\n",
    "            pass\n",
    "        elif count < period:\n",
    "            total += v\n",
    "            count += 1\n",
    "            if count >= period:\n",
    "                rma = total / count\n",
    "        else:\n",
    "            rma += (v - rma) / period\n",
    "        result.append(rma)\n",
    "    result = pd.Series(result, index=series.index)\n",
    "    return result"
   ],
   "metadata": {
    "collapsed": false,
    "pycharm": {
     "name": "#%%\n"
    }
   }
  },
  {
   "cell_type": "code",
   "execution_count": 22,
   "outputs": [
    {
     "data": {
      "text/plain": "date\n2022-08-22           NaN\n2022-08-23           NaN\n2022-08-24     99.606037\n2022-08-25    100.277335\n2022-08-26    100.578834\n2022-08-29    100.578834\n2022-08-30     99.510397\n2022-08-31     99.151739\n2022-09-01     99.075049\n2022-09-02     98.593221\ndtype: float64"
     },
     "execution_count": 22,
     "metadata": {},
     "output_type": "execute_result"
    }
   ],
   "source": [
    "\n",
    "exp = slow_rma(series, period)\n",
    "exp"
   ],
   "metadata": {
    "collapsed": false,
    "pycharm": {
     "name": "#%%\n"
    }
   }
  },
  {
   "cell_type": "code",
   "execution_count": 23,
   "outputs": [
    {
     "data": {
      "text/plain": "True"
     },
     "execution_count": 23,
     "metadata": {},
     "output_type": "execute_result"
    }
   ],
   "source": [
    "np.allclose(res, exp, equal_nan=True)"
   ],
   "metadata": {
    "collapsed": false,
    "pycharm": {
     "name": "#%%\n"
    }
   }
  },
  {
   "cell_type": "code",
   "execution_count": 24,
   "outputs": [
    {
     "data": {
      "text/plain": "date\n2022-08-22           NaN\n2022-08-23           NaN\n2022-08-24     99.606037\n2022-08-25    100.146014\n2022-08-26    101.165764\n2022-08-29           NaN\n2022-08-30           NaN\n2022-08-31           NaN\n2022-09-01           NaN\n2022-09-02           NaN\ndtype: float64"
     },
     "execution_count": 24,
     "metadata": {},
     "output_type": "execute_result"
    }
   ],
   "source": [
    "talib.SMA(series, period)"
   ],
   "metadata": {
    "collapsed": false,
    "pycharm": {
     "name": "#%%\n"
    }
   }
  },
  {
   "cell_type": "code",
   "execution_count": null,
   "outputs": [],
   "source": [],
   "metadata": {
    "collapsed": false,
    "pycharm": {
     "name": "#%%\n"
    }
   }
  }
 ],
 "metadata": {
  "kernelspec": {
   "display_name": "Python 3",
   "language": "python",
   "name": "python3"
  },
  "language_info": {
   "codemirror_mode": {
    "name": "ipython",
    "version": 2
   },
   "file_extension": ".py",
   "mimetype": "text/x-python",
   "name": "python",
   "nbconvert_exporter": "python",
   "pygments_lexer": "ipython2",
   "version": "2.7.6"
  }
 },
 "nbformat": 4,
 "nbformat_minor": 0
}