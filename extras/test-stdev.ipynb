{
 "cells": [
  {
   "cell_type": "code",
   "execution_count": 6,
   "metadata": {
    "collapsed": true,
    "pycharm": {
     "name": "#%%\n"
    }
   },
   "outputs": [],
   "source": [
    "import numpy as np\n",
    "import pandas as pd\n",
    "\n",
    "from mintalib.testing import reflib\n",
    "\n",
    "import talib\n",
    "from talib import abstract\n",
    "\n",
    "from mintalib.utils import random_walk\n",
    "from mintalib.testing import sample_series\n",
    "\n",
    "from mintalib import core\n"
   ]
  },
  {
   "cell_type": "code",
   "execution_count": 7,
   "outputs": [],
   "source": [
    "def calc_stdev(series, period: int):\n",
    "    \"\"\" Simple Moving Average \"\"\"\n",
    "    return series.rolling(window=period).std(ddof=0)\n",
    "\n"
   ],
   "metadata": {
    "collapsed": false,
    "pycharm": {
     "name": "#%%\n"
    }
   }
  },
  {
   "cell_type": "code",
   "execution_count": 8,
   "outputs": [
    {
     "data": {
      "text/plain": "date\n2022-08-08    100.000000\n2022-08-09    100.231638\n2022-08-10    100.325462\n2022-08-11     99.885454\n2022-08-12    100.589699\n2022-08-15    100.035472\n2022-08-16     98.579563\n2022-08-17     98.246084\n2022-08-18     97.791303\n2022-08-19     98.099980\n2022-08-22     99.067690\n2022-08-23     97.984103\n2022-08-24     97.862164\n2022-08-25    100.270918\n2022-08-26    100.261441\n2022-08-29    101.694086\n2022-08-30    100.347729\n2022-08-31     99.702950\n2022-09-01     99.790858\n2022-09-02    100.231773\ndtype: float64"
     },
     "execution_count": 8,
     "metadata": {},
     "output_type": "execute_result"
    }
   ],
   "source": [
    "period = 3\n",
    "series = random_walk(20)\n",
    "#series.iloc[5] = np.nan\n",
    "series"
   ],
   "metadata": {
    "collapsed": false,
    "pycharm": {
     "name": "#%%\n"
    }
   }
  },
  {
   "cell_type": "code",
   "execution_count": 9,
   "outputs": [
    {
     "data": {
      "text/plain": "date\n2022-08-08         NaN\n2022-08-09         NaN\n2022-08-10    0.136782\n2022-08-11    0.189224\n2022-08-12    0.290476\n2022-08-15    0.302881\n2022-08-16    0.847708\n2022-08-17    0.776945\n2022-08-18    0.323073\n2022-08-19    0.189576\n2022-08-22    0.543743\n2022-08-23    0.485804\n2022-08-24    0.541840\n2022-08-25    1.107875\n2022-08-26    1.133270\n2022-08-29    0.673133\n2022-08-30    0.655964\n2022-08-31    0.829527\n2022-09-01    0.285496\n2022-09-02    0.231370\ndtype: float64"
     },
     "execution_count": 9,
     "metadata": {},
     "output_type": "execute_result"
    }
   ],
   "source": [
    "res = core.calc_stdev(series, period)\n",
    "res"
   ],
   "metadata": {
    "collapsed": false,
    "pycharm": {
     "name": "#%%\n"
    }
   }
  },
  {
   "cell_type": "code",
   "execution_count": 10,
   "outputs": [
    {
     "data": {
      "text/plain": "date\n2022-08-08         NaN\n2022-08-09         NaN\n2022-08-10    0.136782\n2022-08-11    0.189224\n2022-08-12    0.290476\n2022-08-15    0.302881\n2022-08-16    0.847708\n2022-08-17    0.776945\n2022-08-18    0.323073\n2022-08-19    0.189576\n2022-08-22    0.543743\n2022-08-23    0.485804\n2022-08-24    0.541840\n2022-08-25    1.107875\n2022-08-26    1.133270\n2022-08-29    0.673133\n2022-08-30    0.655964\n2022-08-31    0.829527\n2022-09-01    0.285496\n2022-09-02    0.231370\ndtype: float64"
     },
     "execution_count": 10,
     "metadata": {},
     "output_type": "execute_result"
    }
   ],
   "source": [
    "stdev = calc_stdev(series, period)\n",
    "stdev"
   ],
   "metadata": {
    "collapsed": false,
    "pycharm": {
     "name": "#%%\n"
    }
   }
  },
  {
   "cell_type": "code",
   "execution_count": 12,
   "outputs": [
    {
     "data": {
      "text/plain": "True"
     },
     "execution_count": 12,
     "metadata": {},
     "output_type": "execute_result"
    }
   ],
   "source": [
    "np.allclose(res, stdev, equal_nan=True)"
   ],
   "metadata": {
    "collapsed": false,
    "pycharm": {
     "name": "#%%\n"
    }
   }
  },
  {
   "cell_type": "code",
   "execution_count": null,
   "outputs": [],
   "source": [],
   "metadata": {
    "collapsed": false,
    "pycharm": {
     "name": "#%%\n"
    }
   }
  }
 ],
 "metadata": {
  "kernelspec": {
   "display_name": "Python 3",
   "language": "python",
   "name": "python3"
  },
  "language_info": {
   "codemirror_mode": {
    "name": "ipython",
    "version": 2
   },
   "file_extension": ".py",
   "mimetype": "text/x-python",
   "name": "python",
   "nbconvert_exporter": "python",
   "pygments_lexer": "ipython2",
   "version": "2.7.6"
  }
 },
 "nbformat": 4,
 "nbformat_minor": 0
}