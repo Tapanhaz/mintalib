{
 "cells": [
  {
   "cell_type": "code",
   "execution_count": 22,
   "metadata": {
    "collapsed": true,
    "pycharm": {
     "name": "#%%\n"
    }
   },
   "outputs": [],
   "source": [
    "import numpy as np\n",
    "import pandas as pd\n",
    "\n",
    "from mintalib.testing import reflib\n",
    "\n",
    "import talib\n",
    "from talib import abstract\n",
    "\n",
    "from mintalib.utils import random_walk\n",
    "from mintalib.testing import sample_series\n",
    "\n",
    "from mintalib import core\n"
   ]
  },
  {
   "cell_type": "code",
   "execution_count": 23,
   "outputs": [
    {
     "data": {
      "text/plain": "date\n2022-08-22    100.000000\n2022-08-23     98.470053\n2022-08-24     99.747402\n2022-08-25    100.209999\n2022-08-26     98.030197\n2022-08-29           NaN\n2022-08-30     98.781717\n2022-08-31     96.952893\n2022-09-01     99.243804\n2022-09-02     97.272874\ndtype: float64"
     },
     "execution_count": 23,
     "metadata": {},
     "output_type": "execute_result"
    }
   ],
   "source": [
    "period = 3\n",
    "series = random_walk(10)\n",
    "series.iloc[5] = np.nan\n",
    "series"
   ],
   "metadata": {
    "collapsed": false,
    "pycharm": {
     "name": "#%%\n"
    }
   }
  },
  {
   "cell_type": "code",
   "execution_count": 24,
   "outputs": [
    {
     "data": {
      "text/plain": "date\n2022-08-22          NaN\n2022-08-23          NaN\n2022-08-24    98.470053\n2022-08-25    98.470053\n2022-08-26    98.030197\n2022-08-29    98.030197\n2022-08-30    98.030197\n2022-08-31    96.952893\n2022-09-01    96.952893\n2022-09-02    96.952893\ndtype: float64"
     },
     "execution_count": 24,
     "metadata": {},
     "output_type": "execute_result"
    }
   ],
   "source": [
    "res = core.calc_min(series, period)\n",
    "res"
   ],
   "metadata": {
    "collapsed": false,
    "pycharm": {
     "name": "#%%\n"
    }
   }
  },
  {
   "cell_type": "code",
   "execution_count": 25,
   "outputs": [
    {
     "data": {
      "text/plain": "date\n2022-08-22          NaN\n2022-08-23          NaN\n2022-08-24    98.470053\n2022-08-25    98.470053\n2022-08-26    98.030197\n2022-08-29    98.030197\n2022-08-30    98.030197\n2022-08-31    96.952893\n2022-09-01    96.952893\n2022-09-02    96.952893\ndtype: float64"
     },
     "execution_count": 25,
     "metadata": {},
     "output_type": "execute_result"
    }
   ],
   "source": [
    "exp = reflib.calc_min(series, period)\n",
    "exp"
   ],
   "metadata": {
    "collapsed": false,
    "pycharm": {
     "name": "#%%\n"
    }
   }
  },
  {
   "cell_type": "code",
   "execution_count": 26,
   "outputs": [
    {
     "data": {
      "text/plain": "True"
     },
     "execution_count": 26,
     "metadata": {},
     "output_type": "execute_result"
    }
   ],
   "source": [
    "np.allclose(res, exp, equal_nan=True)"
   ],
   "metadata": {
    "collapsed": false,
    "pycharm": {
     "name": "#%%\n"
    }
   }
  },
  {
   "cell_type": "code",
   "execution_count": 27,
   "outputs": [
    {
     "data": {
      "text/plain": "                series        res        exp\ndate                                        \n2022-08-22  100.000000        NaN        NaN\n2022-08-23   98.470053        NaN        NaN\n2022-08-24   99.747402  98.470053  98.470053\n2022-08-25  100.209999  98.470053  98.470053\n2022-08-26   98.030197  98.030197  98.030197\n2022-08-29         NaN  98.030197  98.030197\n2022-08-30   98.781717  98.030197  98.030197\n2022-08-31   96.952893  96.952893  96.952893\n2022-09-01   99.243804  96.952893  96.952893\n2022-09-02   97.272874  96.952893  96.952893",
      "text/html": "<div>\n<style scoped>\n    .dataframe tbody tr th:only-of-type {\n        vertical-align: middle;\n    }\n\n    .dataframe tbody tr th {\n        vertical-align: top;\n    }\n\n    .dataframe thead th {\n        text-align: right;\n    }\n</style>\n<table border=\"1\" class=\"dataframe\">\n  <thead>\n    <tr style=\"text-align: right;\">\n      <th></th>\n      <th>series</th>\n      <th>res</th>\n      <th>exp</th>\n    </tr>\n    <tr>\n      <th>date</th>\n      <th></th>\n      <th></th>\n      <th></th>\n    </tr>\n  </thead>\n  <tbody>\n    <tr>\n      <th>2022-08-22</th>\n      <td>100.000000</td>\n      <td>NaN</td>\n      <td>NaN</td>\n    </tr>\n    <tr>\n      <th>2022-08-23</th>\n      <td>98.470053</td>\n      <td>NaN</td>\n      <td>NaN</td>\n    </tr>\n    <tr>\n      <th>2022-08-24</th>\n      <td>99.747402</td>\n      <td>98.470053</td>\n      <td>98.470053</td>\n    </tr>\n    <tr>\n      <th>2022-08-25</th>\n      <td>100.209999</td>\n      <td>98.470053</td>\n      <td>98.470053</td>\n    </tr>\n    <tr>\n      <th>2022-08-26</th>\n      <td>98.030197</td>\n      <td>98.030197</td>\n      <td>98.030197</td>\n    </tr>\n    <tr>\n      <th>2022-08-29</th>\n      <td>NaN</td>\n      <td>98.030197</td>\n      <td>98.030197</td>\n    </tr>\n    <tr>\n      <th>2022-08-30</th>\n      <td>98.781717</td>\n      <td>98.030197</td>\n      <td>98.030197</td>\n    </tr>\n    <tr>\n      <th>2022-08-31</th>\n      <td>96.952893</td>\n      <td>96.952893</td>\n      <td>96.952893</td>\n    </tr>\n    <tr>\n      <th>2022-09-01</th>\n      <td>99.243804</td>\n      <td>96.952893</td>\n      <td>96.952893</td>\n    </tr>\n    <tr>\n      <th>2022-09-02</th>\n      <td>97.272874</td>\n      <td>96.952893</td>\n      <td>96.952893</td>\n    </tr>\n  </tbody>\n</table>\n</div>"
     },
     "execution_count": 27,
     "metadata": {},
     "output_type": "execute_result"
    }
   ],
   "source": [
    "pd.DataFrame(dict(series=series,  res=res, exp=exp))"
   ],
   "metadata": {
    "collapsed": false,
    "pycharm": {
     "name": "#%%\n"
    }
   }
  },
  {
   "cell_type": "code",
   "execution_count": null,
   "outputs": [],
   "source": [],
   "metadata": {
    "collapsed": false,
    "pycharm": {
     "name": "#%%\n"
    }
   }
  }
 ],
 "metadata": {
  "kernelspec": {
   "display_name": "Python 3",
   "language": "python",
   "name": "python3"
  },
  "language_info": {
   "codemirror_mode": {
    "name": "ipython",
    "version": 2
   },
   "file_extension": ".py",
   "mimetype": "text/x-python",
   "name": "python",
   "nbconvert_exporter": "python",
   "pygments_lexer": "ipython2",
   "version": "2.7.6"
  }
 },
 "nbformat": 4,
 "nbformat_minor": 0
}