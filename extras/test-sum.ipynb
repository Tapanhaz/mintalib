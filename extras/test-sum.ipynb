{
 "cells": [
  {
   "cell_type": "code",
   "execution_count": 1,
   "metadata": {
    "collapsed": true,
    "pycharm": {
     "name": "#%%\n"
    }
   },
   "outputs": [],
   "source": [
    "import numpy as np\n",
    "import pandas as pd\n",
    "\n",
    "from mintalib.testing import reflib\n",
    "\n",
    "import talib\n",
    "from talib import abstract\n",
    "\n",
    "from mintalib.utils import random_walk\n",
    "from mintalib.testing import sample_series\n",
    "\n",
    "from mintalib import core\n"
   ]
  },
  {
   "cell_type": "code",
   "execution_count": 2,
   "outputs": [
    {
     "data": {
      "text/plain": "date\n2022-08-22    100.000000\n2022-08-23    101.753395\n2022-08-24    103.658845\n2022-08-25    104.916266\n2022-08-26    103.553464\n2022-08-29           NaN\n2022-08-30    101.346695\n2022-08-31    101.388557\n2022-09-01    102.200779\n2022-09-02    101.423003\ndtype: float64"
     },
     "execution_count": 2,
     "metadata": {},
     "output_type": "execute_result"
    }
   ],
   "source": [
    "period = 3\n",
    "series = random_walk(10)\n",
    "series.iloc[5] = np.nan\n",
    "series"
   ],
   "metadata": {
    "collapsed": false,
    "pycharm": {
     "name": "#%%\n"
    }
   }
  },
  {
   "cell_type": "code",
   "execution_count": 3,
   "outputs": [
    {
     "data": {
      "text/plain": "date\n2022-08-22           NaN\n2022-08-23           NaN\n2022-08-24    305.412240\n2022-08-25    310.328506\n2022-08-26    312.128575\n2022-08-29           NaN\n2022-08-30           NaN\n2022-08-31           NaN\n2022-09-01    304.936030\n2022-09-02    305.012338\ndtype: float64"
     },
     "execution_count": 3,
     "metadata": {},
     "output_type": "execute_result"
    }
   ],
   "source": [
    "res = core.calc_sum(series, period)\n",
    "res"
   ],
   "metadata": {
    "collapsed": false,
    "pycharm": {
     "name": "#%%\n"
    }
   }
  },
  {
   "cell_type": "code",
   "execution_count": 4,
   "outputs": [
    {
     "data": {
      "text/plain": "date\n2022-08-22           NaN\n2022-08-23           NaN\n2022-08-24    101.804080\n2022-08-25    103.442835\n2022-08-26    104.042858\n2022-08-29           NaN\n2022-08-30           NaN\n2022-08-31           NaN\n2022-09-01    101.645343\n2022-09-02    101.670779\ndtype: float64"
     },
     "execution_count": 4,
     "metadata": {},
     "output_type": "execute_result"
    }
   ],
   "source": [
    "exp = reflib.calc_sum(series, period)\n",
    "exp"
   ],
   "metadata": {
    "collapsed": false,
    "pycharm": {
     "name": "#%%\n"
    }
   }
  },
  {
   "cell_type": "code",
   "execution_count": 5,
   "outputs": [
    {
     "data": {
      "text/plain": "False"
     },
     "execution_count": 5,
     "metadata": {},
     "output_type": "execute_result"
    }
   ],
   "source": [
    "np.allclose(res, exp, equal_nan=True)"
   ],
   "metadata": {
    "collapsed": false,
    "pycharm": {
     "name": "#%%\n"
    }
   }
  },
  {
   "cell_type": "code",
   "execution_count": 6,
   "outputs": [
    {
     "data": {
      "text/plain": "                series         res         exp\ndate                                          \n2022-08-22  100.000000         NaN         NaN\n2022-08-23  101.753395         NaN         NaN\n2022-08-24  103.658845  305.412240  101.804080\n2022-08-25  104.916266  310.328506  103.442835\n2022-08-26  103.553464  312.128575  104.042858\n2022-08-29         NaN         NaN         NaN\n2022-08-30  101.346695         NaN         NaN\n2022-08-31  101.388557         NaN         NaN\n2022-09-01  102.200779  304.936030  101.645343\n2022-09-02  101.423003  305.012338  101.670779",
      "text/html": "<div>\n<style scoped>\n    .dataframe tbody tr th:only-of-type {\n        vertical-align: middle;\n    }\n\n    .dataframe tbody tr th {\n        vertical-align: top;\n    }\n\n    .dataframe thead th {\n        text-align: right;\n    }\n</style>\n<table border=\"1\" class=\"dataframe\">\n  <thead>\n    <tr style=\"text-align: right;\">\n      <th></th>\n      <th>series</th>\n      <th>res</th>\n      <th>exp</th>\n    </tr>\n    <tr>\n      <th>date</th>\n      <th></th>\n      <th></th>\n      <th></th>\n    </tr>\n  </thead>\n  <tbody>\n    <tr>\n      <th>2022-08-22</th>\n      <td>100.000000</td>\n      <td>NaN</td>\n      <td>NaN</td>\n    </tr>\n    <tr>\n      <th>2022-08-23</th>\n      <td>101.753395</td>\n      <td>NaN</td>\n      <td>NaN</td>\n    </tr>\n    <tr>\n      <th>2022-08-24</th>\n      <td>103.658845</td>\n      <td>305.412240</td>\n      <td>101.804080</td>\n    </tr>\n    <tr>\n      <th>2022-08-25</th>\n      <td>104.916266</td>\n      <td>310.328506</td>\n      <td>103.442835</td>\n    </tr>\n    <tr>\n      <th>2022-08-26</th>\n      <td>103.553464</td>\n      <td>312.128575</td>\n      <td>104.042858</td>\n    </tr>\n    <tr>\n      <th>2022-08-29</th>\n      <td>NaN</td>\n      <td>NaN</td>\n      <td>NaN</td>\n    </tr>\n    <tr>\n      <th>2022-08-30</th>\n      <td>101.346695</td>\n      <td>NaN</td>\n      <td>NaN</td>\n    </tr>\n    <tr>\n      <th>2022-08-31</th>\n      <td>101.388557</td>\n      <td>NaN</td>\n      <td>NaN</td>\n    </tr>\n    <tr>\n      <th>2022-09-01</th>\n      <td>102.200779</td>\n      <td>304.936030</td>\n      <td>101.645343</td>\n    </tr>\n    <tr>\n      <th>2022-09-02</th>\n      <td>101.423003</td>\n      <td>305.012338</td>\n      <td>101.670779</td>\n    </tr>\n  </tbody>\n</table>\n</div>"
     },
     "execution_count": 6,
     "metadata": {},
     "output_type": "execute_result"
    }
   ],
   "source": [
    "pd.DataFrame(dict(series=series,  res=res, exp=exp))"
   ],
   "metadata": {
    "collapsed": false,
    "pycharm": {
     "name": "#%%\n"
    }
   }
  },
  {
   "cell_type": "code",
   "execution_count": null,
   "outputs": [],
   "source": [],
   "metadata": {
    "collapsed": false,
    "pycharm": {
     "name": "#%%\n"
    }
   }
  }
 ],
 "metadata": {
  "kernelspec": {
   "display_name": "Python 3",
   "language": "python",
   "name": "python3"
  },
  "language_info": {
   "codemirror_mode": {
    "name": "ipython",
    "version": 2
   },
   "file_extension": ".py",
   "mimetype": "text/x-python",
   "name": "python",
   "nbconvert_exporter": "python",
   "pygments_lexer": "ipython2",
   "version": "2.7.6"
  }
 },
 "nbformat": 4,
 "nbformat_minor": 0
}