{
 "cells": [
  {
   "cell_type": "markdown",
   "source": [
    "# Using mintalib pandas accessors"
   ],
   "metadata": {
    "collapsed": false,
    "pycharm": {
     "name": "#%% md\n"
    }
   }
  },
  {
   "cell_type": "code",
   "execution_count": 7,
   "outputs": [],
   "source": [
    "from mintalib.utils import sample_prices\n",
    "\n",
    "from mintalib.accessors import register_accessors\n",
    "\n",
    "register_accessors()\n"
   ],
   "metadata": {
    "collapsed": false,
    "pycharm": {
     "name": "#%%\n"
    }
   }
  },
  {
   "cell_type": "code",
   "execution_count": 8,
   "outputs": [
    {
     "data": {
      "text/plain": "             open   high    low  close  volume\ndate                                          \n2022-08-11  84.76  84.76  84.62  84.74  149925\n2022-08-12  84.39  84.39  83.63  83.80  125560\n2022-08-15  84.22  85.30  84.22  85.20  149768\n2022-08-16  85.55  85.55  84.73  85.27  145777\n2022-08-17  86.16  87.75  86.16  87.75  144972",
      "text/html": "<div>\n<style scoped>\n    .dataframe tbody tr th:only-of-type {\n        vertical-align: middle;\n    }\n\n    .dataframe tbody tr th {\n        vertical-align: top;\n    }\n\n    .dataframe thead th {\n        text-align: right;\n    }\n</style>\n<table border=\"1\" class=\"dataframe\">\n  <thead>\n    <tr style=\"text-align: right;\">\n      <th></th>\n      <th>open</th>\n      <th>high</th>\n      <th>low</th>\n      <th>close</th>\n      <th>volume</th>\n    </tr>\n    <tr>\n      <th>date</th>\n      <th></th>\n      <th></th>\n      <th></th>\n      <th></th>\n      <th></th>\n    </tr>\n  </thead>\n  <tbody>\n    <tr>\n      <th>2022-08-11</th>\n      <td>84.76</td>\n      <td>84.76</td>\n      <td>84.62</td>\n      <td>84.74</td>\n      <td>149925</td>\n    </tr>\n    <tr>\n      <th>2022-08-12</th>\n      <td>84.39</td>\n      <td>84.39</td>\n      <td>83.63</td>\n      <td>83.80</td>\n      <td>125560</td>\n    </tr>\n    <tr>\n      <th>2022-08-15</th>\n      <td>84.22</td>\n      <td>85.30</td>\n      <td>84.22</td>\n      <td>85.20</td>\n      <td>149768</td>\n    </tr>\n    <tr>\n      <th>2022-08-16</th>\n      <td>85.55</td>\n      <td>85.55</td>\n      <td>84.73</td>\n      <td>85.27</td>\n      <td>145777</td>\n    </tr>\n    <tr>\n      <th>2022-08-17</th>\n      <td>86.16</td>\n      <td>87.75</td>\n      <td>86.16</td>\n      <td>87.75</td>\n      <td>144972</td>\n    </tr>\n  </tbody>\n</table>\n</div>"
     },
     "execution_count": 8,
     "metadata": {},
     "output_type": "execute_result"
    }
   ],
   "source": [
    "prices = sample_prices()\n",
    "prices.tail()"
   ],
   "metadata": {
    "collapsed": false,
    "pycharm": {
     "name": "#%%\n"
    }
   }
  },
  {
   "cell_type": "code",
   "execution_count": 9,
   "outputs": [
    {
     "data": {
      "text/plain": "                macd  macdsignal  macdhist\ndate                                      \n2022-08-11 -1.737383   -1.630154 -0.107230\n2022-08-12 -1.841679   -1.672459 -0.169220\n2022-08-15 -1.790724   -1.696112 -0.094612\n2022-08-16 -1.724811   -1.701852 -0.022959\n2022-08-17 -1.455679   -1.652617  0.196939",
      "text/html": "<div>\n<style scoped>\n    .dataframe tbody tr th:only-of-type {\n        vertical-align: middle;\n    }\n\n    .dataframe tbody tr th {\n        vertical-align: top;\n    }\n\n    .dataframe thead th {\n        text-align: right;\n    }\n</style>\n<table border=\"1\" class=\"dataframe\">\n  <thead>\n    <tr style=\"text-align: right;\">\n      <th></th>\n      <th>macd</th>\n      <th>macdsignal</th>\n      <th>macdhist</th>\n    </tr>\n    <tr>\n      <th>date</th>\n      <th></th>\n      <th></th>\n      <th></th>\n    </tr>\n  </thead>\n  <tbody>\n    <tr>\n      <th>2022-08-11</th>\n      <td>-1.737383</td>\n      <td>-1.630154</td>\n      <td>-0.107230</td>\n    </tr>\n    <tr>\n      <th>2022-08-12</th>\n      <td>-1.841679</td>\n      <td>-1.672459</td>\n      <td>-0.169220</td>\n    </tr>\n    <tr>\n      <th>2022-08-15</th>\n      <td>-1.790724</td>\n      <td>-1.696112</td>\n      <td>-0.094612</td>\n    </tr>\n    <tr>\n      <th>2022-08-16</th>\n      <td>-1.724811</td>\n      <td>-1.701852</td>\n      <td>-0.022959</td>\n    </tr>\n    <tr>\n      <th>2022-08-17</th>\n      <td>-1.455679</td>\n      <td>-1.652617</td>\n      <td>0.196939</td>\n    </tr>\n  </tbody>\n</table>\n</div>"
     },
     "execution_count": 9,
     "metadata": {},
     "output_type": "execute_result"
    }
   ],
   "source": [
    "prices.ta.macd().tail()\n"
   ],
   "metadata": {
    "collapsed": false,
    "pycharm": {
     "name": "#%%\n"
    }
   }
  },
  {
   "cell_type": "code",
   "execution_count": 6,
   "outputs": [
    {
     "data": {
      "text/plain": "date\n2021-08-19        NaN\n2021-08-20        NaN\n2021-08-23        NaN\n2021-08-24        NaN\n2021-08-25     98.842\n               ...   \n2022-08-11    131.982\n2022-08-12    132.762\n2022-08-15    133.186\n2022-08-16    133.788\n2022-08-17    133.750\nLength: 260, dtype: float64"
     },
     "execution_count": 6,
     "metadata": {},
     "output_type": "execute_result"
    }
   ],
   "source": [
    "prices.ta.sma(5)\n"
   ],
   "metadata": {
    "collapsed": false,
    "pycharm": {
     "name": "#%%\n"
    }
   }
  },
  {
   "cell_type": "code",
   "execution_count": 5,
   "outputs": [
    {
     "data": {
      "text/plain": "date\n2021-08-19        NaN\n2021-08-20        NaN\n2021-08-23        NaN\n2021-08-24        NaN\n2021-08-25     98.842\n               ...   \n2022-08-11    131.982\n2022-08-12    132.762\n2022-08-15    133.186\n2022-08-16    133.788\n2022-08-17    133.750\nLength: 260, dtype: float64"
     },
     "execution_count": 5,
     "metadata": {},
     "output_type": "execute_result"
    }
   ],
   "source": [
    "prices.close.ta.sma(5)"
   ],
   "metadata": {
    "collapsed": false,
    "pycharm": {
     "name": "#%%\n"
    }
   }
  },
  {
   "cell_type": "code",
   "execution_count": null,
   "outputs": [],
   "source": [],
   "metadata": {
    "collapsed": false,
    "pycharm": {
     "name": "#%%\n"
    }
   }
  }
 ],
 "metadata": {
  "kernelspec": {
   "display_name": "Python 3",
   "language": "python",
   "name": "python3"
  },
  "language_info": {
   "codemirror_mode": {
    "name": "ipython",
    "version": 2
   },
   "file_extension": ".py",
   "mimetype": "text/x-python",
   "name": "python",
   "nbconvert_exporter": "python",
   "pygments_lexer": "ipython2",
   "version": "2.7.6"
  }
 },
 "nbformat": 4,
 "nbformat_minor": 0
}