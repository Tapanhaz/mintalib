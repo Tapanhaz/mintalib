{
 "cells": [
  {
   "cell_type": "markdown",
   "source": [
    "# Notebook to generate accessorsm module"
   ],
   "metadata": {
    "collapsed": false
   }
  },
  {
   "cell_type": "code",
   "execution_count": 7,
   "outputs": [],
   "source": [
    "import sys\n",
    "\n",
    "import inspect\n",
    "import project\n",
    "\n",
    "import pandas as pd\n",
    "\n",
    "from pprint import pformat\n",
    "from pathlib import Path\n",
    "\n",
    "from mintalib import core\n",
    "from mintalib.utils import random_prices, random_walk\n",
    "\n"
   ],
   "metadata": {
    "collapsed": false,
    "ExecuteTime": {
     "end_time": "2023-09-10T02:15:18.377319Z",
     "start_time": "2023-09-10T02:15:18.356113Z"
    }
   }
  },
  {
   "cell_type": "code",
   "execution_count": 8,
   "outputs": [
    {
     "name": "stdout",
     "output_type": "stream",
     "text": [
      "['calc_avgprice', 'calc_typprice', 'calc_wclprice', 'calc_midprice', 'calc_price', 'crossover', 'crossunder', 'flag_above', 'flag_below', 'invert_flag', 'updown_flag', 'calc_log', 'calc_exp', 'calc_roc', 'calc_diff', 'calc_min', 'calc_max', 'calc_sum', 'calc_mad', 'calc_stdev', 'calc_sma', 'calc_ema', 'calc_rma', 'calc_wma', 'calc_dema', 'calc_tema', 'calc_ma', 'calc_rsi', 'calc_plusdi', 'calc_minusdi', 'calc_adx', 'calc_trange', 'calc_atr', 'calc_natr', 'calc_latr', 'calc_psar', 'calc_cci', 'calc_cmf', 'calc_mfi', 'calc_bop', 'calc_bbands', 'calc_keltner', 'efficiency_ratio', 'calc_kama', 'calc_macd', 'calc_ppo', 'calc_slope', 'calc_curve', 'calc_stoch', 'streak_up', 'streak_down']\n"
     ]
    }
   ],
   "source": [
    "\n",
    "def core_functions(first_param=('series', 'prices')):\n",
    "    \"\"\" list of core functions \"\"\"\n",
    "\n",
    "    from mintalib import core\n",
    "\n",
    "    result = []\n",
    "    for k, v in vars(core).items():\n",
    "        if k.startswith(\"_\") or not k.islower():\n",
    "            continue\n",
    "\n",
    "        if isinstance(v, type) or not callable(v):\n",
    "            continue\n",
    "\n",
    "        params = list(inspect.signature(v).parameters)\n",
    "\n",
    "        if params[0] not in first_param:\n",
    "            continue\n",
    "\n",
    "        result.append(k)\n",
    "\n",
    "    return result\n",
    "\n",
    "\n",
    "print(core_functions())"
   ],
   "metadata": {
    "collapsed": false,
    "pycharm": {
     "name": "#%%\n"
    },
    "ExecuteTime": {
     "end_time": "2023-09-10T02:15:18.797009Z",
     "start_time": "2023-09-10T02:15:18.779318Z"
    }
   }
  },
  {
   "cell_type": "code",
   "execution_count": 9,
   "outputs": [
    {
     "name": "stdout",
     "output_type": "stream",
     "text": [
      "def get_series(data, item=None, *, default_item='close'):\n",
      "    if hasattr(data, 'columns'):\n",
      "        if item is None:\n",
      "            item = default_item\n",
      "\n",
      "        return data[item]\n",
      "\n",
      "    if item is not None:\n",
      "        raise ValueError(\"Cannot specify item with %s input!\", type(data).__name__)\n",
      "\n",
      "    return data\n"
     ]
    }
   ],
   "source": [
    "\n",
    "def get_series(data, item=None, *, default_item='close'):\n",
    "    if hasattr(data, 'columns'):\n",
    "        if item is None:\n",
    "            item = default_item\n",
    "\n",
    "        return data[item]\n",
    "\n",
    "    if item is not None:\n",
    "        raise ValueError(\"Cannot specify item with %s input!\", type(data).__name__)\n",
    "\n",
    "    return data\n",
    "\n",
    "\n",
    "print(inspect.getsource(get_series))\n"
   ],
   "metadata": {
    "collapsed": false,
    "pycharm": {
     "name": "#%%\n"
    },
    "ExecuteTime": {
     "end_time": "2023-09-10T02:15:19.536052Z",
     "start_time": "2023-09-10T02:15:19.519482Z"
    }
   }
  },
  {
   "cell_type": "code",
   "execution_count": 10,
   "outputs": [
    {
     "name": "stdout",
     "output_type": "stream",
     "text": [
      "    # noinspection PyPep8Naming\n",
      "    @utils.wrap_accessor(core.calc_ema)\n",
      "    def EMA(self, period: int, *, adjust: bool = False):\n",
      "        series = self.series\n",
      "        return core.calc_ema(series, period, adjust=adjust, wrap=True)\n",
      "\n",
      "    # noinspection PyPep8Naming\n",
      "    @utils.wrap_accessor(core.calc_ema)\n",
      "    def EMA(self, period: int, *, adjust: bool = False, item: str = 'close'):\n",
      "        series = self.prices[item]\n",
      "        return core.calc_ema(series, period, adjust=adjust, wrap=True)\n",
      "\n",
      "    # noinspection PyPep8Naming\n",
      "    @utils.wrap_accessor(core.calc_trange)\n",
      "    def TRANGE(self, *, log_prices: bool = False, percent: bool = False):\n",
      "        prices = self.prices\n",
      "        return core.calc_trange(prices, log_prices=log_prices, percent=percent, wrap=True)\n"
     ]
    }
   ],
   "source": [
    "\n",
    "\n",
    "def make_wrapper(func, accessor=None, verbose=False):\n",
    "    fname = func.__qualname__\n",
    "    module = func.__module__.rpartition('.')[2]\n",
    "    qname = f\"{module}.{fname}\"\n",
    "    indent = \"    \" if accessor else \"\"\n",
    "\n",
    "\n",
    "    signature = inspect.signature(func)\n",
    "    parameters = list(signature.parameters.values())\n",
    "    Parameter = inspect.Parameter\n",
    "\n",
    "    if verbose:\n",
    "        print(\"signature\", signature)\n",
    "        print(\"parameters\", parameters)\n",
    "\n",
    "    newparams = []\n",
    "    extras = dict()\n",
    "    ftype = parameters[0].name\n",
    "\n",
    "    for i, p in enumerate(parameters):\n",
    "        if i == 0 and accessor:\n",
    "            if p.name in ('series', 'prices'):\n",
    "                p = p.replace(name='self')\n",
    "            else:\n",
    "                raise ValueError(\"Expected series or prices as first parameter\")\n",
    "\n",
    "        if p.name == 'wrap':\n",
    "            extras.update(wrap=True)\n",
    "            continue\n",
    "\n",
    "        if p.name in ['period']:\n",
    "            p = p.replace(annotation=int)\n",
    "\n",
    "        for typ in (int, float, bool):\n",
    "            if isinstance(p.default, typ):\n",
    "                p = p.replace(annotation=typ)\n",
    "\n",
    "        newparams.append(p)\n",
    "\n",
    "    if ftype == 'series' and accessor != 'series':\n",
    "        default = 'close' if accessor else None\n",
    "        p = Parameter('item', Parameter.KEYWORD_ONLY, default=default, annotation=str)\n",
    "        newparams.append(p)\n",
    "\n",
    "\n",
    "    if verbose:\n",
    "        print(\"newparams\", newparams)\n",
    "        print(\"extras\", extras)\n",
    "\n",
    "    newsig = inspect.Signature(newparams)\n",
    "\n",
    "    name = func.__name__.upper()\n",
    "    if name.startswith(\"CALC_\"):\n",
    "        name = name.partition('_')[2]\n",
    "\n",
    "    def argument(arg):\n",
    "        if arg == 'self':\n",
    "            return ftype\n",
    "        if arg in ('series', 'prices', 'period'):\n",
    "            return arg\n",
    "        return f\"{arg}={arg}\"\n",
    "\n",
    "    args = [argument(p.name) for p in newparams if p.name not in ['item']]\n",
    "    args += [f\"{k}={v!r}\" for k, v in extras.items()]\n",
    "\n",
    "    args = \", \".join(args)\n",
    "\n",
    "    code = \"\"\n",
    "\n",
    "\n",
    "    if name.isupper():\n",
    "        code += indent + \"# noinspection PyPep8Naming\\n\"\n",
    "\n",
    "    wrapper = \"utils.wrap_accessor\" if accessor else \"utils.wrap_function\"\n",
    "\n",
    "    code += indent + f\"@{wrapper}({qname})\\n\"\n",
    "    code += indent + f\"def {name}\" + str(newsig) + \":\\n\"\n",
    "\n",
    "    if ftype == 'series':\n",
    "        if accessor == 'prices':\n",
    "            code += indent + \"    series = self.prices[item]\\n\"\n",
    "        elif accessor == 'series':\n",
    "            code += indent + \"    series = self.series\\n\"\n",
    "        else:\n",
    "            code += indent + \"    series = get_series(series, item=item)\\n\"\n",
    "\n",
    "    if ftype == 'prices':\n",
    "        if accessor == 'prices':\n",
    "            code += indent + \"    prices = self.prices\\n\"\n",
    "\n",
    "\n",
    "    code += indent + f\"    return {qname}({args})\\n\"\n",
    "\n",
    "    return code\n",
    "\n",
    "\n",
    "\n",
    "print(make_wrapper(core.calc_ema, accessor='series'))\n",
    "print(make_wrapper(core.calc_ema, accessor='prices'))\n",
    "print(make_wrapper(core.calc_trange, accessor='prices'))\n",
    "\n",
    "\n"
   ],
   "metadata": {
    "collapsed": false,
    "pycharm": {
     "name": "#%%\n"
    },
    "ExecuteTime": {
     "end_time": "2023-09-10T02:15:20.308393Z",
     "start_time": "2023-09-10T02:15:20.290618Z"
    }
   }
  },
  {
   "cell_type": "code",
   "execution_count": null,
   "outputs": [],
   "source": [
    "\n",
    "\n",
    "REGISTER_ACCESSORS = '''\n",
    "def register_accessors(name='ta', *, force=False):\n",
    "    \"\"\" Register Pandas Accessors \"\"\"\n",
    "\n",
    "    if force or not hasattr(pd.Series, name):\n",
    "        pd.api.extensions.register_series_accessor(name)(SeriesAccessor)\n",
    "\n",
    "    if force or not hasattr(pd.DataFrame, name):\n",
    "        pd.api.extensions.register_dataframe_accessor(name)(PricesAccessor)\n",
    "'''\n",
    "\n",
    "\n",
    "SERIES_ACCESSOR = '''\n",
    "class SeriesAccessor:\n",
    "    \"\"\" Pandas Series Accessor \"\"\"\n",
    "\n",
    "    def __init__(self, series):\n",
    "        assert isinstance(series, pd.Series)\n",
    "        self.series = series\n",
    "'''\n",
    "\n",
    "\n",
    "PRICES_ACCESSOR = '''\n",
    "class PricesAccessor:\n",
    "    \"\"\" Pandas Prices Accessor \"\"\"\n",
    "\n",
    "    def __init__(self, prices):\n",
    "        assert isinstance(prices, pd.DataFrame)\n",
    "        self.prices = prices\n",
    "'''\n",
    "\n",
    "\n",
    "def make_accessors(relative=False):\n",
    "    buffer = \"# Do not edit! File generated automatically...\\n\\n\"\n",
    "\n",
    "    package = '.' if relative else 'mintalib'\n",
    "\n",
    "    buffer += f\"import pandas as pd\\n\\n\"\n",
    "    buffer += f\"from numpy import nan\\n\"\n",
    "    buffer += f\"from {package} import core\\n\"\n",
    "    buffer += f\"from {package} import utils\\n\"\n",
    "    buffer += \"\\n\"\n",
    "\n",
    "    buffer += REGISTER_ACCESSORS + \"\\n\"\n",
    "\n",
    "    buffer += SERIES_ACCESSOR + \"\\n\"\n",
    "\n",
    "    accessor = 'series'\n",
    "    names = core_functions(['series'])\n",
    "\n",
    "    for name in names:\n",
    "        func = getattr(core, name)\n",
    "        text = make_wrapper(func, accessor=accessor)\n",
    "        buffer += text + \"\\n\"\n",
    "\n",
    "    buffer += PRICES_ACCESSOR + \"\\n\"\n",
    "\n",
    "    accessor = 'prices'\n",
    "    names = core_functions(['series', 'prices'])\n",
    "\n",
    "    for name in names:\n",
    "        func = getattr(core, name)\n",
    "        text = make_wrapper(func, accessor=accessor)\n",
    "        buffer += text + \"\\n\"\n",
    "\n",
    "    return buffer\n",
    "\n",
    "code = make_accessors()\n",
    "print(code)\n",
    "exec(code, {})\n",
    "\n"
   ],
   "metadata": {
    "collapsed": false
   }
  },
  {
   "cell_type": "code",
   "execution_count": 27,
   "outputs": [],
   "source": [
    "\n",
    "code = make_accessors()\n",
    "exec(code, {})\n",
    "\n",
    "code = make_accessors(relative=True)\n",
    "\n",
    "#accessors = project.pkgdir / \"accessors.py\"\n",
    "#print(f\"Updating {accessors.name} ...\")\n",
    "#accessors.write_text(code)\n"
   ],
   "metadata": {
    "collapsed": false,
    "pycharm": {
     "name": "#%%\n"
    }
   }
  },
  {
   "cell_type": "code",
   "execution_count": null,
   "outputs": [],
   "source": [],
   "metadata": {
    "collapsed": false,
    "pycharm": {
     "name": "#%%\n"
    }
   }
  }
 ],
 "metadata": {
  "kernelspec": {
   "display_name": "Python 3",
   "language": "python",
   "name": "python3"
  },
  "language_info": {
   "codemirror_mode": {
    "name": "ipython",
    "version": 2
   },
   "file_extension": ".py",
   "mimetype": "text/x-python",
   "name": "python",
   "nbconvert_exporter": "python",
   "pygments_lexer": "ipython2",
   "version": "2.7.6"
  }
 },
 "nbformat": 4,
 "nbformat_minor": 0
}
