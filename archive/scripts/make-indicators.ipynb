{
 "cells": [
  {
   "cell_type": "markdown",
   "source": [
    "# Notebook to generate indicators module"
   ],
   "metadata": {
    "collapsed": false
   }
  },
  {
   "cell_type": "code",
   "execution_count": 33,
   "outputs": [],
   "source": [
    "import project\n",
    "import inspect\n",
    "\n",
    "from mintalib import core\n"
   ],
   "metadata": {
    "collapsed": false,
    "ExecuteTime": {
     "end_time": "2023-09-10T07:51:19.605098Z",
     "start_time": "2023-09-10T07:51:19.594254Z"
    }
   }
  },
  {
   "cell_type": "code",
   "execution_count": 34,
   "outputs": [
    {
     "name": "stdout",
     "output_type": "stream",
     "text": [
      "['calc_avgprice', 'calc_typprice', 'calc_wclprice', 'calc_midprice', 'calc_price', 'crossover', 'crossunder', 'flag_above', 'flag_below', 'invert_flag', 'updown_flag', 'calc_log', 'calc_exp', 'calc_roc', 'calc_diff', 'calc_min', 'calc_max', 'calc_sum', 'calc_mad', 'calc_stdev', 'calc_sma', 'calc_ema', 'calc_rma', 'calc_wma', 'calc_dema', 'calc_tema', 'calc_ma', 'calc_rsi', 'calc_plusdi', 'calc_minusdi', 'calc_adx', 'calc_trange', 'calc_atr', 'calc_natr', 'calc_latr', 'calc_psar', 'calc_cci', 'calc_cmf', 'calc_mfi', 'calc_bop', 'calc_bbands', 'calc_keltner', 'efficiency_ratio', 'calc_kama', 'calc_macd', 'calc_ppo', 'calc_slope', 'calc_curve', 'calc_stoch', 'streak_up', 'streak_down', 'calc_eval']\n"
     ]
    }
   ],
   "source": [
    "def core_functions(first_param=('series', 'prices')):\n",
    "    \"\"\" list of core functions \"\"\"\n",
    "\n",
    "    result = []\n",
    "    \n",
    "    for k, v in vars(core).items():\n",
    "        if k.startswith(\"_\") or not k.islower():\n",
    "            continue\n",
    "\n",
    "        if isinstance(v, type) or not callable(v):\n",
    "            continue\n",
    "\n",
    "        params = list(inspect.signature(v).parameters)\n",
    "\n",
    "        if params[0] not in first_param:\n",
    "            continue\n",
    "\n",
    "        result.append(k)\n",
    "\n",
    "    return result\n",
    "\n",
    "\n",
    "print(core_functions())"
   ],
   "metadata": {
    "collapsed": false,
    "pycharm": {
     "name": "#%%\n"
    },
    "ExecuteTime": {
     "end_time": "2023-09-10T07:51:19.974828Z",
     "start_time": "2023-09-10T07:51:19.961638Z"
    }
   }
  },
  {
   "cell_type": "code",
   "execution_count": 35,
   "outputs": [],
   "source": [
    "from mintalib.model import Indicator\n",
    "\n",
    "class EMA(Indicator):\n",
    "\n",
    "    same_scale = True\n",
    "\n",
    "    def __init__(self, period: int, *, item: str=None):\n",
    "        self.period = period\n",
    "        self.item = item\n",
    "\n",
    "    def calc(self, data):\n",
    "        series = self.get_series(data)\n",
    "        result = core.calc_ema(series, period=self.period, wrap=True)\n",
    "        return result\n"
   ],
   "metadata": {
    "collapsed": false,
    "ExecuteTime": {
     "end_time": "2023-09-10T07:51:20.437746Z",
     "start_time": "2023-09-10T07:51:20.424914Z"
    }
   }
  },
  {
   "cell_type": "code",
   "execution_count": 36,
   "outputs": [
    {
     "name": "stdout",
     "output_type": "stream",
     "text": [
      "@wrap_function(core.calc_trange)\n",
      "class TRANGE:\n",
      "    def __init__(self, *, log_prices: bool = False, percent: bool = False):\n",
      "        self.log_prices = log_prices\n",
      "        self.percent = percent\n",
      "\n",
      "    def __calc__(self, prices):\n",
      "        result = core.calc_trange(prices, log_prices=self.log_prices, percent=self.percent)\n",
      "        return wrap_result(result, prices)\n"
     ]
    }
   ],
   "source": [
    "def make_indicator(func, name:str = None, verbose=False):\n",
    "    if name is None:\n",
    "        name = func.__name__.upper()\n",
    "        if name.startswith(\"CALC_\"):\n",
    "            name = name.partition('_')[2]\n",
    "\n",
    "    fname = func.__qualname__\n",
    "    module = func.__module__.rpartition('.')[2]\n",
    "    qname = f\"{module}.{fname}\"\n",
    "\n",
    "    indent = \" \" * 4\n",
    "    indent2 = \" \" * 8\n",
    "\n",
    "    signature = inspect.signature(func)\n",
    "    parameters = list(signature.parameters.values())\n",
    "    Parameter = inspect.Parameter\n",
    "\n",
    "    if verbose:\n",
    "        print(\"signature\", signature)\n",
    "        print(\"parameters\", parameters)\n",
    "\n",
    "    newparams = []\n",
    "    extras = dict()\n",
    "    ftype = parameters[0].name\n",
    "\n",
    "    def annotate(param):\n",
    "        if param.name in ['period']:\n",
    "            return param.replace(annotation=int)\n",
    "\n",
    "        if param.annotation == 'str':\n",
    "            return param.replace(annotation=str)\n",
    "\n",
    "        if type(p.default) in (int, float, bool):\n",
    "            return param.replace(annotation=type(p.default))\n",
    "        \n",
    "        return param\n",
    "\n",
    "    for i, p in enumerate(parameters):\n",
    "        if i == 0:\n",
    "            p = Parameter('self', Parameter.POSITIONAL_OR_KEYWORD)\n",
    "\n",
    "        if p.name == 'wrap':\n",
    "            # extras.update(wrap=True)\n",
    "            continue\n",
    "\n",
    "        p = annotate(p)\n",
    "        newparams.append(p)\n",
    "\n",
    "    if ftype == 'series':\n",
    "        p = Parameter('item', Parameter.KEYWORD_ONLY, default=None, annotation=str)\n",
    "        newparams.append(p)\n",
    "\n",
    "    if verbose:\n",
    "        print(\"newparams\", newparams)\n",
    "        print(\"extras\", extras)\n",
    "\n",
    "    newsig = inspect.Signature(newparams)\n",
    "\n",
    "    def argument(arg):\n",
    "        return ftype if arg == 'self' else f\"{arg}=self.{arg}\"\n",
    "\n",
    "    args = [argument(p.name) for p in newparams if p.name not in ['item']]\n",
    "    args += [f\"{k}={v!r}\" for k, v in extras.items()]\n",
    "    args = \", \".join(args)\n",
    "\n",
    "    code = \"\"\n",
    "    #code = \"# noinspection PyPep8Naming\\n\"\n",
    "\n",
    "    code += f\"@wrap_function({qname})\\n\"\n",
    "    code += f\"class {name}:\\n\"\n",
    "    \n",
    "    if len(newparams) > 1:\n",
    "        code += indent + f\"def __init__\" + str(newsig) + \":\\n\"\n",
    "        for p in newparams[1:]:\n",
    "            name = p.name\n",
    "            code += indent2 + f\"self.{name} = {name}\\n\"\n",
    "        code += \"\\n\"\n",
    "\n",
    "    if ftype == 'prices':\n",
    "        code += indent + f\"def __calc__(self, prices):\\n\"\n",
    "    elif ftype == 'series':\n",
    "        code += indent + f\"def __calc__(self, data):\\n\"\n",
    "        code += indent2 + \"series = self.get_series(data)\\n\"\n",
    "\n",
    "    code += indent2 + f\"result = {qname}({args})\\n\"\n",
    "    code += indent2 + f\"return wrap_result(result, {ftype})\\n\"\n",
    "\n",
    "    return code\n",
    "\n",
    "\n",
    "print(make_indicator(core.calc_trange))"
   ],
   "metadata": {
    "collapsed": false,
    "ExecuteTime": {
     "end_time": "2023-09-10T07:51:20.884507Z",
     "start_time": "2023-09-10T07:51:20.872678Z"
    }
   }
  },
  {
   "cell_type": "code",
   "execution_count": 37,
   "outputs": [
    {
     "name": "stdout",
     "output_type": "stream",
     "text": [
      "# Do not edit. File was generated by make-indicators!\n",
      "\n",
      "from . import core\n",
      "from .utils import get_series, wrap_function, wrap_result\n",
      "\n",
      "nan: float = float('NAN')\n",
      "\n",
      "\n",
      "@wrap_function(core.calc_avgprice)\n",
      "class AVGPRICE:\n",
      "    def __calc__(self, prices):\n",
      "        resu ...\n"
     ]
    }
   ],
   "source": [
    "def make_indicators():\n",
    "    buffer = \"# Do not edit. File was generated by make-indicators!\\n\\n\"\n",
    "\n",
    "    buffer += \"from . import core\\n\"\n",
    "    buffer += \"from .utils import get_series, wrap_function, wrap_result\\n\\n\"\n",
    "    \n",
    "    buffer += \"nan: float = float('NAN')\\n\"\n",
    "    buffer += \"\\n\\n\"\n",
    "\n",
    "    names = core_functions()\n",
    "\n",
    "    for name in names:\n",
    "        func = getattr(core, name)\n",
    "        text = make_indicator(func)\n",
    "        buffer += text + \"\\n\\n\"\n",
    "\n",
    "    buffer += \"__all__ = [n for n in dir() if n.isupper()]\\n\"\n",
    "\n",
    "    return buffer\n",
    "\n",
    "code = make_indicators()\n",
    "print(code[:256], \"...\")\n",
    "\n"
   ],
   "metadata": {
    "collapsed": false,
    "ExecuteTime": {
     "end_time": "2023-09-10T07:51:21.371943Z",
     "start_time": "2023-09-10T07:51:21.359944Z"
    }
   }
  },
  {
   "cell_type": "code",
   "execution_count": 38,
   "outputs": [
    {
     "data": {
      "text/plain": "['ADX',\n 'ATR',\n 'AVGPRICE',\n 'BBANDS',\n 'BOP',\n 'CCI',\n 'CMF',\n 'CROSSOVER',\n 'CROSSUNDER',\n 'CURVE',\n 'DEMA',\n 'DIFF',\n 'EFFICIENCY_RATIO',\n 'EMA',\n 'EVAL',\n 'EXP',\n 'FLAG_ABOVE',\n 'FLAG_BELOW',\n 'INVERT_FLAG',\n 'KAMA',\n 'KELTNER',\n 'LATR',\n 'LOG',\n 'MA',\n 'MACD',\n 'MAD',\n 'MAX',\n 'MFI',\n 'MIDPRICE',\n 'MIN',\n 'MINUSDI',\n 'NATR',\n 'PLUSDI',\n 'PPO',\n 'PRICE',\n 'PSAR',\n 'RMA',\n 'ROC',\n 'RSI',\n 'SLOPE',\n 'SMA',\n 'STDEV',\n 'STOCH',\n 'STREAK_DOWN',\n 'STREAK_UP',\n 'SUM',\n 'TEMA',\n 'TRANGE',\n 'TYPPRICE',\n 'UPDOWN_FLAG',\n 'WCLPRICE',\n 'WMA',\n '__all__',\n '__annotations__',\n '__builtins__',\n '__doc__',\n '__loader__',\n '__name__',\n '__package__',\n '__spec__',\n 'core',\n 'get_series',\n 'nan',\n 'wrap_function',\n 'wrap_result']"
     },
     "execution_count": 38,
     "metadata": {},
     "output_type": "execute_result"
    }
   ],
   "source": [
    "import importlib.util\n",
    "\n",
    "def new_module(name):\n",
    "    spec = importlib.util.spec_from_loader(name, None)\n",
    "    return importlib.util.module_from_spec(spec)\n",
    "\n",
    "code = make_indicators()\n",
    "\n",
    "indicators = new_module(\"mintalib.indicators\")\n",
    "\n",
    "exec(code, indicators.__dict__)\n",
    "\n",
    "dir(indicators)"
   ],
   "metadata": {
    "collapsed": false,
    "ExecuteTime": {
     "end_time": "2023-09-10T07:51:21.870647Z",
     "start_time": "2023-09-10T07:51:21.855317Z"
    }
   }
  },
  {
   "cell_type": "code",
   "execution_count": 39,
   "outputs": [
    {
     "name": "stdout",
     "output_type": "stream",
     "text": [
      "Updating indicators.py ...\n"
     ]
    },
    {
     "data": {
      "text/plain": "16899"
     },
     "execution_count": 39,
     "metadata": {},
     "output_type": "execute_result"
    }
   ],
   "source": [
    "outfile = project.pkgdir / \"indicators.py\"\n",
    "\n",
    "print(f\"Updating {outfile.name} ...\")\n",
    "\n",
    "outfile.write_text(code)\n"
   ],
   "metadata": {
    "collapsed": false,
    "ExecuteTime": {
     "end_time": "2023-09-10T07:51:22.529445Z",
     "start_time": "2023-09-10T07:51:22.509999Z"
    }
   }
  },
  {
   "cell_type": "code",
   "execution_count": null,
   "outputs": [],
   "source": [],
   "metadata": {
    "collapsed": false
   }
  }
 ],
 "metadata": {
  "kernelspec": {
   "display_name": "Python 3",
   "language": "python",
   "name": "python3"
  },
  "language_info": {
   "codemirror_mode": {
    "name": "ipython",
    "version": 2
   },
   "file_extension": ".py",
   "mimetype": "text/x-python",
   "name": "python",
   "nbconvert_exporter": "python",
   "pygments_lexer": "ipython2",
   "version": "2.7.6"
  }
 },
 "nbformat": 4,
 "nbformat_minor": 0
}
