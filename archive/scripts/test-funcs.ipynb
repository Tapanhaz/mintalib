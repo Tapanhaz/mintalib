{
 "cells": [
  {
   "cell_type": "markdown",
   "source": [
    "# Notebook to generate test_funcs.json"
   ],
   "metadata": {
    "collapsed": false
   },
   "id": "22c07712456e2cb6"
  },
  {
   "cell_type": "code",
   "execution_count": 1,
   "outputs": [],
   "source": [
    "import json\n",
    "import inspect\n",
    "\n",
    "import project\n",
    "\n",
    "from mintalib import funcs\n",
    "\n"
   ],
   "metadata": {
    "collapsed": false,
    "ExecuteTime": {
     "end_time": "2023-09-20T11:39:00.728025Z",
     "start_time": "2023-09-20T11:39:00.681831Z"
    }
   },
   "id": "initial_id"
  },
  {
   "cell_type": "code",
   "execution_count": 2,
   "outputs": [
    {
     "name": "stdout",
     "output_type": "stream",
     "text": [
      "Help on cython_function_or_method in module mintalib.core:\n",
      "\n",
      "EMA(series, period: 'int', *, adjust: 'bool' = False, item: 'str' = None)\n",
      "    Exponential Moving Average\n",
      "    \n",
      "    Args:\n",
      "        series (series) : data series, required\n",
      "        period (int) : time period, required\n",
      "        adjust (bool) : whether to adjust weights, default False\n",
      "            when true update ratio increases gradually (see formula)\n",
      "    \n",
      "    Formula:\n",
      "        EMA is calculated as a recursive formula\n",
      "        The standard formula is ema += alpha * (value - ema)\n",
      "            with alpha = 2.0 / (period + 1.0)\n",
      "        The adjusted formula is ema = num/div\n",
      "            where num = value + rho * num, div = 1.0 + rho * div\n",
      "            with rho = 1.0 - alpha\n"
     ]
    }
   ],
   "source": [
    "help(funcs.EMA)\n"
   ],
   "metadata": {
    "collapsed": false,
    "ExecuteTime": {
     "end_time": "2023-09-20T11:39:27.109176Z",
     "start_time": "2023-09-20T11:39:27.093468Z"
    }
   },
   "id": "cb1d57f3648dc79a"
  },
  {
   "cell_type": "code",
   "execution_count": 4,
   "outputs": [
    {
     "data": {
      "text/plain": "[<cyfunction AVGPRICE at 0x120daa450>,\n <cyfunction TYPPRICE at 0x120daa520>,\n <cyfunction WCLPRICE at 0x120daa5f0>,\n <cyfunction MIDPRICE at 0x120daa6c0>,\n <cyfunction PRICE at 0x120daa790>,\n <cyfunction CROSSOVER at 0x120daaa00>,\n <cyfunction CROSSUNDER at 0x120daaad0>,\n <cyfunction FLAG_ABOVE at 0x120dac040>,\n <cyfunction FLAG_BELOW at 0x120dac110>,\n <cyfunction INVERT_FLAG at 0x120dac1e0>,\n <cyfunction UPDOWN_FLAG at 0x120dac2b0>,\n <cyfunction LOG at 0x120dac450>,\n <cyfunction EXP at 0x120dac5f0>,\n <cyfunction ROC at 0x120dac790>,\n <cyfunction DIFF at 0x120dac930>,\n <cyfunction MIN at 0x120dacad0>,\n <cyfunction MAX at 0x120dacc70>,\n <cyfunction SUM at 0x120dace10>,\n <cyfunction MAD at 0x120daf040>,\n <cyfunction STDEV at 0x120daf1e0>,\n <cyfunction SMA at 0x120daf380>,\n <cyfunction EMA at 0x120daf520>,\n <cyfunction RMA at 0x120daf6c0>,\n <cyfunction WMA at 0x120daf860>,\n <cyfunction DEMA at 0x120dafa00>,\n <cyfunction TEMA at 0x120dafba0>,\n <cyfunction MA at 0x120dafd40>,\n <cyfunction RSI at 0x120dafee0>,\n <cyfunction PLUSDI at 0x120db32b0>,\n <cyfunction MINUSDI at 0x120db3380>,\n <cyfunction ADX at 0x120db3450>,\n <cyfunction TRANGE at 0x120db3860>,\n <cyfunction ATR at 0x120db3930>,\n <cyfunction NATR at 0x120db3a00>,\n <cyfunction LATR at 0x120db3ad0>,\n <cyfunction PSAR at 0x120db3c70>,\n <cyfunction CCI at 0x120db3e10>,\n <cyfunction CMF at 0x120db5040>,\n <cyfunction MFI at 0x120db51e0>,\n <cyfunction BOP at 0x120db5380>,\n <cyfunction BBANDS at 0x120db5520>,\n <cyfunction KELTNER at 0x120db56c0>,\n <cyfunction EFFICIENCY_RATIO at 0x120db5930>,\n <cyfunction KAMA at 0x120db5a00>,\n <cyfunction MACD at 0x120db5ba0>,\n <cyfunction PPO at 0x120db5d40>,\n <cyfunction SLOPE at 0x120db9040>,\n <cyfunction CURVE at 0x120db92b0>,\n <cyfunction STOCH at 0x120db9450>,\n <cyfunction STREAK_UP at 0x120db96c0>,\n <cyfunction STREAK_DOWN at 0x120db9790>,\n <cyfunction EVAL at 0x120db9930>]"
     },
     "execution_count": 4,
     "metadata": {},
     "output_type": "execute_result"
    }
   ],
   "source": [
    "\n",
    "[v for k, v in vars(funcs).items() if callable(v) and k.isupper()]\n"
   ],
   "metadata": {
    "collapsed": false,
    "ExecuteTime": {
     "start_time": "2023-09-16T16:10:52.223654Z"
    }
   },
   "id": "d2a56658299c17e5"
  },
  {
   "cell_type": "code",
   "execution_count": 5,
   "outputs": [
    {
     "data": {
      "text/plain": "[<cyfunction AVGPRICE at 0x120daa450>,\n <cyfunction TYPPRICE at 0x120daa520>,\n <cyfunction WCLPRICE at 0x120daa5f0>,\n <cyfunction MIDPRICE at 0x120daa6c0>,\n <cyfunction PRICE at 0x120daa790>,\n <cyfunction CROSSOVER at 0x120daaa00>,\n <cyfunction CROSSUNDER at 0x120daaad0>,\n <cyfunction FLAG_ABOVE at 0x120dac040>,\n <cyfunction FLAG_BELOW at 0x120dac110>,\n <cyfunction INVERT_FLAG at 0x120dac1e0>,\n <cyfunction UPDOWN_FLAG at 0x120dac2b0>,\n <cyfunction LOG at 0x120dac450>,\n <cyfunction EXP at 0x120dac5f0>,\n <cyfunction ROC at 0x120dac790>,\n <cyfunction DIFF at 0x120dac930>,\n <cyfunction MIN at 0x120dacad0>,\n <cyfunction MAX at 0x120dacc70>,\n <cyfunction SUM at 0x120dace10>,\n <cyfunction MAD at 0x120daf040>,\n <cyfunction STDEV at 0x120daf1e0>,\n <cyfunction SMA at 0x120daf380>,\n <cyfunction EMA at 0x120daf520>,\n <cyfunction RMA at 0x120daf6c0>,\n <cyfunction WMA at 0x120daf860>,\n <cyfunction DEMA at 0x120dafa00>,\n <cyfunction TEMA at 0x120dafba0>,\n <cyfunction MA at 0x120dafd40>,\n <cyfunction RSI at 0x120dafee0>,\n <cyfunction PLUSDI at 0x120db32b0>,\n <cyfunction MINUSDI at 0x120db3380>,\n <cyfunction ADX at 0x120db3450>,\n <cyfunction TRANGE at 0x120db3860>,\n <cyfunction ATR at 0x120db3930>,\n <cyfunction NATR at 0x120db3a00>,\n <cyfunction LATR at 0x120db3ad0>,\n <cyfunction PSAR at 0x120db3c70>,\n <cyfunction CCI at 0x120db3e10>,\n <cyfunction CMF at 0x120db5040>,\n <cyfunction MFI at 0x120db51e0>,\n <cyfunction BOP at 0x120db5380>,\n <cyfunction BBANDS at 0x120db5520>,\n <cyfunction KELTNER at 0x120db56c0>,\n <cyfunction EFFICIENCY_RATIO at 0x120db5930>,\n <cyfunction KAMA at 0x120db5a00>,\n <cyfunction MACD at 0x120db5ba0>,\n <cyfunction PPO at 0x120db5d40>,\n <cyfunction SLOPE at 0x120db9040>,\n <cyfunction CURVE at 0x120db92b0>,\n <cyfunction STOCH at 0x120db9450>,\n <cyfunction STREAK_UP at 0x120db96c0>,\n <cyfunction STREAK_DOWN at 0x120db9790>,\n <cyfunction EVAL at 0x120db9930>]"
     },
     "execution_count": 5,
     "metadata": {},
     "output_type": "execute_result"
    }
   ],
   "source": [
    "\n",
    "def list_funcs():\n",
    "    return [v for k, v in vars(funcs).items() if k.isupper() ]\n",
    "\n",
    "list_funcs()\n"
   ],
   "metadata": {
    "collapsed": false,
    "ExecuteTime": {
     "end_time": "2023-09-16T16:10:52.764222Z",
     "start_time": "2023-09-16T16:10:52.747464Z"
    }
   },
   "id": "c36fdd12c55f1731"
  },
  {
   "cell_type": "code",
   "execution_count": 9,
   "outputs": [
    {
     "name": "stdout",
     "output_type": "stream",
     "text": [
      "{'name': 'AVGPRICE'}\n",
      "{'name': 'TYPPRICE'}\n",
      "{'name': 'WCLPRICE'}\n",
      "{'name': 'MIDPRICE'}\n",
      "{'name': 'PRICE'}\n",
      "{'name': 'CROSSOVER'}\n",
      "{'name': 'CROSSUNDER'}\n",
      "{'name': 'FLAG_ABOVE'}\n",
      "{'name': 'FLAG_BELOW'}\n",
      "{'name': 'INVERT_FLAG'}\n",
      "{'name': 'UPDOWN_FLAG'}\n",
      "{'name': 'LOG'}\n",
      "{'name': 'EXP'}\n",
      "{'name': 'ROC'}\n",
      "{'name': 'DIFF'}\n",
      "{'name': 'MIN', 'period': 20}\n",
      "{'name': 'MAX', 'period': 20}\n",
      "{'name': 'SUM', 'period': 20}\n",
      "{'name': 'MAD'}\n",
      "{'name': 'STDEV'}\n",
      "{'name': 'SMA', 'period': 20}\n",
      "{'name': 'EMA', 'period': 20}\n",
      "{'name': 'RMA', 'period': 20}\n",
      "{'name': 'WMA', 'period': 20}\n",
      "{'name': 'DEMA', 'period': 20}\n",
      "{'name': 'TEMA'}\n",
      "{'name': 'MA'}\n",
      "{'name': 'RSI'}\n",
      "{'name': 'PLUSDI'}\n",
      "{'name': 'MINUSDI'}\n",
      "{'name': 'ADX'}\n",
      "{'name': 'TRANGE'}\n",
      "{'name': 'ATR'}\n",
      "{'name': 'NATR'}\n",
      "{'name': 'LATR'}\n",
      "{'name': 'PSAR'}\n",
      "{'name': 'CCI'}\n",
      "{'name': 'CMF'}\n",
      "{'name': 'MFI'}\n",
      "{'name': 'BOP'}\n",
      "{'name': 'BBANDS'}\n",
      "{'name': 'KELTNER'}\n",
      "{'name': 'EFFICIENCY_RATIO'}\n",
      "{'name': 'KAMA'}\n",
      "{'name': 'MACD'}\n",
      "{'name': 'PPO'}\n",
      "{'name': 'SLOPE'}\n",
      "{'name': 'CURVE'}\n",
      "{'name': 'STOCH'}\n",
      "{'name': 'STREAK_UP'}\n",
      "{'name': 'STREAK_DOWN'}\n",
      "{'name': 'EVAL', 'expr': 'close'}\n"
     ]
    }
   ],
   "source": [
    "TEST_DATA = []\n",
    "\n",
    "def default_value(param):\n",
    "    if param.name == 'expr':\n",
    "        return 'close'\n",
    "    if param.name == 'period':\n",
    "        return 20\n",
    "    raise ValueError(f\"No default value for {param.name} unknow!\")\n",
    "\n",
    "def process_func(func, verbose=False):\n",
    "    name = func.__qualname__\n",
    "\n",
    "    if verbose:\n",
    "            print(f\"processing {func.__name__} ...\")\n",
    "\n",
    "    kwds = dict(name=name)\n",
    "\n",
    "    signature = inspect.signature(func)\n",
    "    parameters = list(signature.parameters.values())\n",
    "\n",
    "    if verbose:\n",
    "        print(parameters)\n",
    "        \n",
    "    for param in parameters[1:]:\n",
    "        if param.default == param.empty:\n",
    "            dv = default_value(param)\n",
    "            kwds[param.name] = dv\n",
    "\n",
    "    print(kwds)\n",
    "\n",
    "    TEST_DATA.append(kwds)\n",
    "\n",
    "\n",
    "# functions = [core.calc_ema, core.calc_sma]\n",
    "\n",
    "for func in list_funcs():\n",
    "    process_func(func)\n"
   ],
   "metadata": {
    "collapsed": false,
    "ExecuteTime": {
     "end_time": "2023-09-16T16:12:00.980195Z",
     "start_time": "2023-09-16T16:12:00.959590Z"
    }
   },
   "id": "f6cfc5aad6cfcd61"
  },
  {
   "cell_type": "code",
   "execution_count": 10,
   "outputs": [
    {
     "data": {
      "text/plain": "[{'name': 'AVGPRICE'},\n {'name': 'TYPPRICE'},\n {'name': 'WCLPRICE'},\n {'name': 'MIDPRICE'},\n {'name': 'PRICE'},\n {'name': 'CROSSOVER'},\n {'name': 'CROSSUNDER'},\n {'name': 'FLAG_ABOVE'},\n {'name': 'FLAG_BELOW'},\n {'name': 'INVERT_FLAG'},\n {'name': 'UPDOWN_FLAG'},\n {'name': 'LOG'},\n {'name': 'EXP'},\n {'name': 'ROC'},\n {'name': 'DIFF'},\n {'name': 'MIN', 'period': 20},\n {'name': 'MAX', 'period': 20},\n {'name': 'SUM', 'period': 20},\n {'name': 'MAD'},\n {'name': 'STDEV'},\n {'name': 'SMA', 'period': 20},\n {'name': 'EMA', 'period': 20},\n {'name': 'RMA', 'period': 20},\n {'name': 'WMA', 'period': 20},\n {'name': 'DEMA', 'period': 20},\n {'name': 'TEMA'},\n {'name': 'MA'},\n {'name': 'RSI'},\n {'name': 'PLUSDI'},\n {'name': 'MINUSDI'},\n {'name': 'ADX'},\n {'name': 'TRANGE'},\n {'name': 'ATR'},\n {'name': 'NATR'},\n {'name': 'LATR'},\n {'name': 'PSAR'},\n {'name': 'CCI'},\n {'name': 'CMF'},\n {'name': 'MFI'},\n {'name': 'BOP'},\n {'name': 'BBANDS'},\n {'name': 'KELTNER'},\n {'name': 'EFFICIENCY_RATIO'},\n {'name': 'KAMA'},\n {'name': 'MACD'},\n {'name': 'PPO'},\n {'name': 'SLOPE'},\n {'name': 'CURVE'},\n {'name': 'STOCH'},\n {'name': 'STREAK_UP'},\n {'name': 'STREAK_DOWN'},\n {'name': 'EVAL', 'expr': 'close'}]"
     },
     "execution_count": 10,
     "metadata": {},
     "output_type": "execute_result"
    }
   ],
   "source": [
    "TEST_DATA"
   ],
   "metadata": {
    "collapsed": false,
    "ExecuteTime": {
     "end_time": "2023-09-16T16:12:01.704726Z",
     "start_time": "2023-09-16T16:12:01.673475Z"
    }
   },
   "id": "dfaab6dbc5770d3f"
  },
  {
   "cell_type": "code",
   "execution_count": 33,
   "outputs": [
    {
     "ename": "AssertionError",
     "evalue": "",
     "output_type": "error",
     "traceback": [
      "\u001B[0;31m---------------------------------------------------------------------------\u001B[0m",
      "\u001B[0;31mAssertionError\u001B[0m                            Traceback (most recent call last)",
      "Cell \u001B[0;32mIn[33], line 1\u001B[0m\n\u001B[0;32m----> 1\u001B[0m \u001B[38;5;28;01massert\u001B[39;00m \u001B[38;5;28;01mFalse\u001B[39;00m\n\u001B[1;32m      3\u001B[0m TEST_DATA \u001B[38;5;241m=\u001B[39m [\n\u001B[1;32m      4\u001B[0m    { \u001B[38;5;124m\"\u001B[39m\u001B[38;5;124mname\u001B[39m\u001B[38;5;124m\"\u001B[39m: \u001B[38;5;124m\"\u001B[39m\u001B[38;5;124mEMA\u001B[39m\u001B[38;5;124m\"\u001B[39m, \u001B[38;5;124m\"\u001B[39m\u001B[38;5;124mitem\u001B[39m\u001B[38;5;124m\"\u001B[39m: \u001B[38;5;124m\"\u001B[39m\u001B[38;5;124mclose\u001B[39m\u001B[38;5;124m\"\u001B[39m, \u001B[38;5;124m\"\u001B[39m\u001B[38;5;124mperiod\u001B[39m\u001B[38;5;124m\"\u001B[39m: \u001B[38;5;241m20\u001B[39m },\n\u001B[1;32m      5\u001B[0m    { \u001B[38;5;124m\"\u001B[39m\u001B[38;5;124mname\u001B[39m\u001B[38;5;124m\"\u001B[39m: \u001B[38;5;124m\"\u001B[39m\u001B[38;5;124mSMA\u001B[39m\u001B[38;5;124m\"\u001B[39m, \u001B[38;5;124m\"\u001B[39m\u001B[38;5;124mitem\u001B[39m\u001B[38;5;124m\"\u001B[39m: \u001B[38;5;124m\"\u001B[39m\u001B[38;5;124mclose\u001B[39m\u001B[38;5;124m\"\u001B[39m, \u001B[38;5;124m\"\u001B[39m\u001B[38;5;124mperiod\u001B[39m\u001B[38;5;124m\"\u001B[39m: \u001B[38;5;241m20\u001B[39m },\n\u001B[1;32m      6\u001B[0m ]\n\u001B[1;32m      8\u001B[0m TEST_DATA\n",
      "\u001B[0;31mAssertionError\u001B[0m: "
     ]
    }
   ],
   "source": [
    "assert False\n",
    "\n",
    "TEST_DATA = [\n",
    "   { \"name\": \"EMA\", \"item\": \"close\", \"period\": 20 },\n",
    "   { \"name\": \"SMA\", \"item\": \"close\", \"period\": 20 },\n",
    "]\n",
    "\n",
    "TEST_DATA"
   ],
   "metadata": {
    "collapsed": false,
    "ExecuteTime": {
     "end_time": "2023-09-15T12:32:41.231083Z",
     "start_time": "2023-09-15T12:32:41.203803Z"
    }
   },
   "id": "1175cedd65774482"
  },
  {
   "cell_type": "code",
   "execution_count": 11,
   "outputs": [
    {
     "name": "stdout",
     "output_type": "stream",
     "text": [
      "Updating test_funcs.json ...\n"
     ]
    },
    {
     "data": {
      "text/plain": "2148"
     },
     "execution_count": 11,
     "metadata": {},
     "output_type": "execute_result"
    }
   ],
   "source": [
    "OUTFILE = \"data/test_funcs.json\"\n",
    "\n",
    "output = json.dumps(TEST_DATA, indent=4)\n",
    "\n",
    "outfile = project.testdir.joinpath(OUTFILE)\n",
    "\n",
    "print(f\"Updating {outfile.name} ...\")\n",
    "\n",
    "outfile.write_text(output)"
   ],
   "metadata": {
    "collapsed": false,
    "ExecuteTime": {
     "end_time": "2023-09-16T16:12:06.663903Z",
     "start_time": "2023-09-16T16:12:06.640479Z"
    }
   },
   "id": "44f0063a76f846bc"
  },
  {
   "cell_type": "code",
   "execution_count": null,
   "outputs": [],
   "source": [],
   "metadata": {
    "collapsed": false
   },
   "id": "e336f017be516760"
  }
 ],
 "metadata": {
  "kernelspec": {
   "display_name": "Python 3",
   "language": "python",
   "name": "python3"
  },
  "language_info": {
   "codemirror_mode": {
    "name": "ipython",
    "version": 2
   },
   "file_extension": ".py",
   "mimetype": "text/x-python",
   "name": "python",
   "nbconvert_exporter": "python",
   "pygments_lexer": "ipython2",
   "version": "2.7.6"
  }
 },
 "nbformat": 4,
 "nbformat_minor": 5
}
