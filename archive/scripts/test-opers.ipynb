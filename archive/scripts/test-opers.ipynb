{
 "cells": [
  {
   "cell_type": "markdown",
   "source": [
    "# Notebook to generate test_opers.json"
   ],
   "metadata": {
    "collapsed": false
   },
   "id": "c6d09d8a28d23dce"
  },
  {
   "cell_type": "code",
   "execution_count": 23,
   "outputs": [],
   "source": [
    "import json\n",
    "import inspect\n",
    "\n",
    "import project\n",
    "\n",
    "from mintalib import opers\n"
   ],
   "metadata": {
    "collapsed": false,
    "ExecuteTime": {
     "start_time": "2023-09-16T16:01:03.748829Z"
    }
   },
   "id": "initial_id"
  },
  {
   "cell_type": "code",
   "execution_count": 24,
   "outputs": [
    {
     "data": {
      "text/plain": "[mintalib.opers.AVGPRICE,\n mintalib.opers.TYPPRICE,\n mintalib.opers.WCLPRICE,\n mintalib.opers.MIDPRICE,\n mintalib.opers.PRICE,\n mintalib.opers.CROSSOVER,\n mintalib.opers.CROSSUNDER,\n mintalib.opers.FLAG_ABOVE,\n mintalib.opers.FLAG_BELOW,\n mintalib.opers.INVERT_FLAG,\n mintalib.opers.UPDOWN_FLAG,\n mintalib.opers.LOG,\n mintalib.opers.EXP,\n mintalib.opers.ROC,\n mintalib.opers.DIFF,\n mintalib.opers.MIN,\n mintalib.opers.MAX,\n mintalib.opers.SUM,\n mintalib.opers.MAD,\n mintalib.opers.STDEV,\n mintalib.opers.SMA,\n mintalib.opers.EMA,\n mintalib.opers.RMA,\n mintalib.opers.WMA,\n mintalib.opers.DEMA,\n mintalib.opers.TEMA,\n mintalib.opers.MA,\n mintalib.opers.RSI,\n mintalib.opers.PLUSDI,\n mintalib.opers.MINUSDI,\n mintalib.opers.ADX,\n mintalib.opers.TRANGE,\n mintalib.opers.ATR,\n mintalib.opers.NATR,\n mintalib.opers.LATR,\n mintalib.opers.PSAR,\n mintalib.opers.CCI,\n mintalib.opers.CMF,\n mintalib.opers.MFI,\n mintalib.opers.BOP,\n mintalib.opers.BBANDS,\n mintalib.opers.KELTNER,\n mintalib.opers.EFFICIENCY_RATIO,\n mintalib.opers.KAMA,\n mintalib.opers.MACD,\n mintalib.opers.PPO,\n mintalib.opers.SLOPE,\n mintalib.opers.CURVE,\n mintalib.opers.STOCH,\n mintalib.opers.STREAK_UP,\n mintalib.opers.STREAK_DOWN,\n mintalib.opers.EVAL]"
     },
     "execution_count": 24,
     "metadata": {},
     "output_type": "execute_result"
    }
   ],
   "source": [
    "[v for k, v in vars(opers).items() if callable(v) and k.isupper()]\n"
   ],
   "metadata": {
    "collapsed": false,
    "ExecuteTime": {
     "end_time": "2023-09-16T16:01:04.613671Z",
     "start_time": "2023-09-16T16:01:04.591851Z"
    }
   },
   "id": "d2a56658299c17e5"
  },
  {
   "cell_type": "code",
   "execution_count": 25,
   "outputs": [
    {
     "data": {
      "text/plain": "[mintalib.opers.AVGPRICE,\n mintalib.opers.TYPPRICE,\n mintalib.opers.WCLPRICE,\n mintalib.opers.MIDPRICE,\n mintalib.opers.PRICE,\n mintalib.opers.CROSSOVER,\n mintalib.opers.CROSSUNDER,\n mintalib.opers.FLAG_ABOVE,\n mintalib.opers.FLAG_BELOW,\n mintalib.opers.INVERT_FLAG,\n mintalib.opers.UPDOWN_FLAG,\n mintalib.opers.LOG,\n mintalib.opers.EXP,\n mintalib.opers.ROC,\n mintalib.opers.DIFF,\n mintalib.opers.MIN,\n mintalib.opers.MAX,\n mintalib.opers.SUM,\n mintalib.opers.MAD,\n mintalib.opers.STDEV,\n mintalib.opers.SMA,\n mintalib.opers.EMA,\n mintalib.opers.RMA,\n mintalib.opers.WMA,\n mintalib.opers.DEMA,\n mintalib.opers.TEMA,\n mintalib.opers.MA,\n mintalib.opers.RSI,\n mintalib.opers.PLUSDI,\n mintalib.opers.MINUSDI,\n mintalib.opers.ADX,\n mintalib.opers.TRANGE,\n mintalib.opers.ATR,\n mintalib.opers.NATR,\n mintalib.opers.LATR,\n mintalib.opers.PSAR,\n mintalib.opers.CCI,\n mintalib.opers.CMF,\n mintalib.opers.MFI,\n mintalib.opers.BOP,\n mintalib.opers.BBANDS,\n mintalib.opers.KELTNER,\n mintalib.opers.EFFICIENCY_RATIO,\n mintalib.opers.KAMA,\n mintalib.opers.MACD,\n mintalib.opers.PPO,\n mintalib.opers.SLOPE,\n mintalib.opers.CURVE,\n mintalib.opers.STOCH,\n mintalib.opers.STREAK_UP,\n mintalib.opers.STREAK_DOWN,\n mintalib.opers.EVAL]"
     },
     "execution_count": 25,
     "metadata": {},
     "output_type": "execute_result"
    }
   ],
   "source": [
    "def list_opers():\n",
    "    return [v for k, v in vars(opers).items() if k.isupper() ]\n",
    "\n",
    "list_opers()\n"
   ],
   "metadata": {
    "collapsed": false,
    "ExecuteTime": {
     "end_time": "2023-09-16T16:01:05.725921Z",
     "start_time": "2023-09-16T16:01:05.703153Z"
    }
   },
   "id": "c36fdd12c55f1731"
  },
  {
   "cell_type": "code",
   "execution_count": 26,
   "outputs": [
    {
     "name": "stdout",
     "output_type": "stream",
     "text": [
      "{'name': 'AVGPRICE'}\n",
      "{'name': 'TYPPRICE'}\n",
      "{'name': 'WCLPRICE'}\n",
      "{'name': 'MIDPRICE'}\n",
      "{'name': 'PRICE'}\n",
      "{'name': 'CROSSOVER'}\n",
      "{'name': 'CROSSUNDER'}\n",
      "{'name': 'FLAG_ABOVE'}\n",
      "{'name': 'FLAG_BELOW'}\n",
      "{'name': 'INVERT_FLAG'}\n",
      "{'name': 'UPDOWN_FLAG'}\n",
      "{'name': 'LOG'}\n",
      "{'name': 'EXP'}\n",
      "{'name': 'ROC'}\n",
      "{'name': 'DIFF'}\n",
      "{'name': 'MIN', 'period': 20}\n",
      "{'name': 'MAX', 'period': 20}\n",
      "{'name': 'SUM', 'period': 20}\n",
      "{'name': 'MAD'}\n",
      "{'name': 'STDEV'}\n",
      "{'name': 'SMA', 'period': 20}\n",
      "{'name': 'EMA', 'period': 20}\n",
      "{'name': 'RMA', 'period': 20}\n",
      "{'name': 'WMA', 'period': 20}\n",
      "{'name': 'DEMA', 'period': 20}\n",
      "{'name': 'TEMA'}\n",
      "{'name': 'MA'}\n",
      "{'name': 'RSI'}\n",
      "{'name': 'PLUSDI'}\n",
      "{'name': 'MINUSDI'}\n",
      "{'name': 'ADX'}\n",
      "{'name': 'TRANGE'}\n",
      "{'name': 'ATR'}\n",
      "{'name': 'NATR'}\n",
      "{'name': 'LATR'}\n",
      "{'name': 'PSAR'}\n",
      "{'name': 'CCI'}\n",
      "{'name': 'CMF'}\n",
      "{'name': 'MFI'}\n",
      "{'name': 'BOP'}\n",
      "{'name': 'BBANDS'}\n",
      "{'name': 'KELTNER'}\n",
      "{'name': 'EFFICIENCY_RATIO'}\n",
      "{'name': 'KAMA'}\n",
      "{'name': 'MACD'}\n",
      "{'name': 'PPO'}\n",
      "{'name': 'SLOPE'}\n",
      "{'name': 'CURVE'}\n",
      "{'name': 'STOCH'}\n",
      "{'name': 'STREAK_UP'}\n",
      "{'name': 'STREAK_DOWN'}\n",
      "{'name': 'EVAL', 'expr': 'close'}\n"
     ]
    }
   ],
   "source": [
    "TEST_DATA = []\n",
    "\n",
    "def default_value(param):\n",
    "    if param.name == 'expr':\n",
    "        return 'close'\n",
    "    if param.name == 'period':\n",
    "        return 20\n",
    "    raise ValueError(f\"No default value for {param.name} unknow!\")\n",
    "\n",
    "def process_oper(oper, verbose=False):\n",
    "    name = oper.__qualname__\n",
    "\n",
    "    if verbose:\n",
    "            print(f\"processing {oper.__name__} ...\")\n",
    "\n",
    "    kwds = dict(name=name)\n",
    "\n",
    "    signature = inspect.signature(oper)\n",
    "    parameters = list(signature.parameters.values())\n",
    "\n",
    "    if verbose:\n",
    "        print(parameters)\n",
    "    \n",
    "    for param in parameters:\n",
    "        if param.default == param.empty:\n",
    "            dv = default_value(param)\n",
    "            kwds[param.name] = dv\n",
    "\n",
    "    print(kwds)\n",
    "\n",
    "    TEST_DATA.append(kwds)\n",
    "\n",
    "\n",
    "# functions = [core.calc_ema, core.calc_sma]\n",
    "\n",
    "for oper in list_opers():\n",
    "    process_oper(oper)\n"
   ],
   "metadata": {
    "collapsed": false,
    "ExecuteTime": {
     "end_time": "2023-09-16T16:01:07.311157Z",
     "start_time": "2023-09-16T16:01:07.290541Z"
    }
   },
   "id": "f6cfc5aad6cfcd61"
  },
  {
   "cell_type": "code",
   "execution_count": 27,
   "outputs": [
    {
     "data": {
      "text/plain": "[{'name': 'AVGPRICE'},\n {'name': 'TYPPRICE'},\n {'name': 'WCLPRICE'},\n {'name': 'MIDPRICE'},\n {'name': 'PRICE'},\n {'name': 'CROSSOVER'},\n {'name': 'CROSSUNDER'},\n {'name': 'FLAG_ABOVE'},\n {'name': 'FLAG_BELOW'},\n {'name': 'INVERT_FLAG'},\n {'name': 'UPDOWN_FLAG'},\n {'name': 'LOG'},\n {'name': 'EXP'},\n {'name': 'ROC'},\n {'name': 'DIFF'},\n {'name': 'MIN', 'period': 20},\n {'name': 'MAX', 'period': 20},\n {'name': 'SUM', 'period': 20},\n {'name': 'MAD'},\n {'name': 'STDEV'},\n {'name': 'SMA', 'period': 20},\n {'name': 'EMA', 'period': 20},\n {'name': 'RMA', 'period': 20},\n {'name': 'WMA', 'period': 20},\n {'name': 'DEMA', 'period': 20},\n {'name': 'TEMA'},\n {'name': 'MA'},\n {'name': 'RSI'},\n {'name': 'PLUSDI'},\n {'name': 'MINUSDI'},\n {'name': 'ADX'},\n {'name': 'TRANGE'},\n {'name': 'ATR'},\n {'name': 'NATR'},\n {'name': 'LATR'},\n {'name': 'PSAR'},\n {'name': 'CCI'},\n {'name': 'CMF'},\n {'name': 'MFI'},\n {'name': 'BOP'},\n {'name': 'BBANDS'},\n {'name': 'KELTNER'},\n {'name': 'EFFICIENCY_RATIO'},\n {'name': 'KAMA'},\n {'name': 'MACD'},\n {'name': 'PPO'},\n {'name': 'SLOPE'},\n {'name': 'CURVE'},\n {'name': 'STOCH'},\n {'name': 'STREAK_UP'},\n {'name': 'STREAK_DOWN'},\n {'name': 'EVAL', 'expr': 'close'}]"
     },
     "execution_count": 27,
     "metadata": {},
     "output_type": "execute_result"
    }
   ],
   "source": [
    "TEST_DATA"
   ],
   "metadata": {
    "collapsed": false,
    "ExecuteTime": {
     "end_time": "2023-09-16T16:01:14.689613Z",
     "start_time": "2023-09-16T16:01:14.669962Z"
    }
   },
   "id": "dfaab6dbc5770d3f"
  },
  {
   "cell_type": "code",
   "execution_count": 33,
   "outputs": [
    {
     "ename": "AssertionError",
     "evalue": "",
     "output_type": "error",
     "traceback": [
      "\u001B[0;31m---------------------------------------------------------------------------\u001B[0m",
      "\u001B[0;31mAssertionError\u001B[0m                            Traceback (most recent call last)",
      "Cell \u001B[0;32mIn[33], line 1\u001B[0m\n\u001B[0;32m----> 1\u001B[0m \u001B[38;5;28;01massert\u001B[39;00m \u001B[38;5;28;01mFalse\u001B[39;00m\n\u001B[1;32m      3\u001B[0m TEST_DATA \u001B[38;5;241m=\u001B[39m [\n\u001B[1;32m      4\u001B[0m    { \u001B[38;5;124m\"\u001B[39m\u001B[38;5;124mname\u001B[39m\u001B[38;5;124m\"\u001B[39m: \u001B[38;5;124m\"\u001B[39m\u001B[38;5;124mEMA\u001B[39m\u001B[38;5;124m\"\u001B[39m, \u001B[38;5;124m\"\u001B[39m\u001B[38;5;124mitem\u001B[39m\u001B[38;5;124m\"\u001B[39m: \u001B[38;5;124m\"\u001B[39m\u001B[38;5;124mclose\u001B[39m\u001B[38;5;124m\"\u001B[39m, \u001B[38;5;124m\"\u001B[39m\u001B[38;5;124mperiod\u001B[39m\u001B[38;5;124m\"\u001B[39m: \u001B[38;5;241m20\u001B[39m },\n\u001B[1;32m      5\u001B[0m    { \u001B[38;5;124m\"\u001B[39m\u001B[38;5;124mname\u001B[39m\u001B[38;5;124m\"\u001B[39m: \u001B[38;5;124m\"\u001B[39m\u001B[38;5;124mSMA\u001B[39m\u001B[38;5;124m\"\u001B[39m, \u001B[38;5;124m\"\u001B[39m\u001B[38;5;124mitem\u001B[39m\u001B[38;5;124m\"\u001B[39m: \u001B[38;5;124m\"\u001B[39m\u001B[38;5;124mclose\u001B[39m\u001B[38;5;124m\"\u001B[39m, \u001B[38;5;124m\"\u001B[39m\u001B[38;5;124mperiod\u001B[39m\u001B[38;5;124m\"\u001B[39m: \u001B[38;5;241m20\u001B[39m },\n\u001B[1;32m      6\u001B[0m ]\n\u001B[1;32m      8\u001B[0m TEST_DATA\n",
      "\u001B[0;31mAssertionError\u001B[0m: "
     ]
    }
   ],
   "source": [
    "assert False\n",
    "\n",
    "TEST_DATA = [\n",
    "   { \"name\": \"EMA\", \"item\": \"close\", \"period\": 20 },\n",
    "   { \"name\": \"SMA\", \"item\": \"close\", \"period\": 20 },\n",
    "]\n",
    "\n",
    "TEST_DATA"
   ],
   "metadata": {
    "collapsed": false,
    "ExecuteTime": {
     "end_time": "2023-09-15T12:32:41.231083Z",
     "start_time": "2023-09-15T12:32:41.203803Z"
    }
   },
   "id": "1175cedd65774482"
  },
  {
   "cell_type": "code",
   "execution_count": 28,
   "outputs": [
    {
     "name": "stdout",
     "output_type": "stream",
     "text": [
      "Updating test_opers.json ...\n"
     ]
    },
    {
     "data": {
      "text/plain": "2148"
     },
     "execution_count": 28,
     "metadata": {},
     "output_type": "execute_result"
    }
   ],
   "source": [
    "OUTFILE = \"data/test_opers.json\"\n",
    "\n",
    "output = json.dumps(TEST_DATA, indent=4)\n",
    "\n",
    "outfile = project.testdir.joinpath(OUTFILE)\n",
    "\n",
    "print(f\"Updating {outfile.name} ...\")\n",
    "\n",
    "outfile.write_text(output)"
   ],
   "metadata": {
    "collapsed": false,
    "ExecuteTime": {
     "end_time": "2023-09-16T16:01:50.575188Z",
     "start_time": "2023-09-16T16:01:50.557426Z"
    }
   },
   "id": "44f0063a76f846bc"
  },
  {
   "cell_type": "code",
   "execution_count": null,
   "outputs": [],
   "source": [],
   "metadata": {
    "collapsed": false
   },
   "id": "e336f017be516760"
  }
 ],
 "metadata": {
  "kernelspec": {
   "display_name": "Python 3",
   "language": "python",
   "name": "python3"
  },
  "language_info": {
   "codemirror_mode": {
    "name": "ipython",
    "version": 2
   },
   "file_extension": ".py",
   "mimetype": "text/x-python",
   "name": "python",
   "nbconvert_exporter": "python",
   "pygments_lexer": "ipython2",
   "version": "2.7.6"
  }
 },
 "nbformat": 4,
 "nbformat_minor": 5
}
