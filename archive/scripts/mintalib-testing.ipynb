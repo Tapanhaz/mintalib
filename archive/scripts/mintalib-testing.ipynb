{
 "cells": [
  {
   "cell_type": "markdown",
   "source": [
    "# Notebook to setup/prepare tests\n"
   ],
   "metadata": {
    "collapsed": false,
    "pycharm": {
     "name": "#%% md\n"
    }
   }
  },
  {
   "cell_type": "code",
   "execution_count": 6,
   "outputs": [],
   "source": [
    "import inspect\n",
    "import project\n",
    "\n",
    "import numpy as np\n",
    "import pandas as pd\n",
    "\n",
    "import talib\n",
    "from talib import abstract\n",
    "\n",
    "from mintalib import core\n",
    "from mintalib import functions\n",
    "from mintalib import indicators\n",
    "\n",
    "from mintalib.utils import sample_prices\n",
    "from mintalib.testing import test_core, test_function\n"
   ],
   "metadata": {
    "collapsed": false,
    "pycharm": {
     "name": "#%%\n"
    }
   }
  },
  {
   "cell_type": "code",
   "execution_count": 7,
   "outputs": [
    {
     "data": {
      "text/plain": "              open    high     low   close  volume    change\ndate                                                        \n2021-09-02  101.54  101.54  100.30  100.30  125493       NaN\n2021-09-03  100.56  100.56   98.82   98.82  138116 -0.014756\n2021-09-06   98.89   99.15   98.74   98.74  115159 -0.000810\n2021-09-07   98.10   98.86   98.10   98.86  112630  0.001215\n2021-09-08   98.67  100.71   98.67  100.71  164574  0.018713\n...            ...     ...     ...     ...     ...       ...\n2022-08-25   91.37   91.37   89.70   90.59  209910 -0.011350\n2022-08-26   90.79   91.63   90.79   91.14  126281  0.006071\n2022-08-29   90.29   90.44   89.53   89.53  153372 -0.017665\n2022-08-30   90.53   92.07   90.53   92.07  124937  0.028370\n2022-08-31   92.21   92.35   91.37   91.37  175110 -0.007603\n\n[260 rows x 6 columns]",
      "text/html": "<div>\n<style scoped>\n    .dataframe tbody tr th:only-of-type {\n        vertical-align: middle;\n    }\n\n    .dataframe tbody tr th {\n        vertical-align: top;\n    }\n\n    .dataframe thead th {\n        text-align: right;\n    }\n</style>\n<table border=\"1\" class=\"dataframe\">\n  <thead>\n    <tr style=\"text-align: right;\">\n      <th></th>\n      <th>open</th>\n      <th>high</th>\n      <th>low</th>\n      <th>close</th>\n      <th>volume</th>\n      <th>change</th>\n    </tr>\n    <tr>\n      <th>date</th>\n      <th></th>\n      <th></th>\n      <th></th>\n      <th></th>\n      <th></th>\n      <th></th>\n    </tr>\n  </thead>\n  <tbody>\n    <tr>\n      <th>2021-09-02</th>\n      <td>101.54</td>\n      <td>101.54</td>\n      <td>100.30</td>\n      <td>100.30</td>\n      <td>125493</td>\n      <td>NaN</td>\n    </tr>\n    <tr>\n      <th>2021-09-03</th>\n      <td>100.56</td>\n      <td>100.56</td>\n      <td>98.82</td>\n      <td>98.82</td>\n      <td>138116</td>\n      <td>-0.014756</td>\n    </tr>\n    <tr>\n      <th>2021-09-06</th>\n      <td>98.89</td>\n      <td>99.15</td>\n      <td>98.74</td>\n      <td>98.74</td>\n      <td>115159</td>\n      <td>-0.000810</td>\n    </tr>\n    <tr>\n      <th>2021-09-07</th>\n      <td>98.10</td>\n      <td>98.86</td>\n      <td>98.10</td>\n      <td>98.86</td>\n      <td>112630</td>\n      <td>0.001215</td>\n    </tr>\n    <tr>\n      <th>2021-09-08</th>\n      <td>98.67</td>\n      <td>100.71</td>\n      <td>98.67</td>\n      <td>100.71</td>\n      <td>164574</td>\n      <td>0.018713</td>\n    </tr>\n    <tr>\n      <th>...</th>\n      <td>...</td>\n      <td>...</td>\n      <td>...</td>\n      <td>...</td>\n      <td>...</td>\n      <td>...</td>\n    </tr>\n    <tr>\n      <th>2022-08-25</th>\n      <td>91.37</td>\n      <td>91.37</td>\n      <td>89.70</td>\n      <td>90.59</td>\n      <td>209910</td>\n      <td>-0.011350</td>\n    </tr>\n    <tr>\n      <th>2022-08-26</th>\n      <td>90.79</td>\n      <td>91.63</td>\n      <td>90.79</td>\n      <td>91.14</td>\n      <td>126281</td>\n      <td>0.006071</td>\n    </tr>\n    <tr>\n      <th>2022-08-29</th>\n      <td>90.29</td>\n      <td>90.44</td>\n      <td>89.53</td>\n      <td>89.53</td>\n      <td>153372</td>\n      <td>-0.017665</td>\n    </tr>\n    <tr>\n      <th>2022-08-30</th>\n      <td>90.53</td>\n      <td>92.07</td>\n      <td>90.53</td>\n      <td>92.07</td>\n      <td>124937</td>\n      <td>0.028370</td>\n    </tr>\n    <tr>\n      <th>2022-08-31</th>\n      <td>92.21</td>\n      <td>92.35</td>\n      <td>91.37</td>\n      <td>91.37</td>\n      <td>175110</td>\n      <td>-0.007603</td>\n    </tr>\n  </tbody>\n</table>\n<p>260 rows × 6 columns</p>\n</div>"
     },
     "execution_count": 7,
     "metadata": {},
     "output_type": "execute_result"
    }
   ],
   "source": [
    "prices = sample_prices()\n",
    "prices"
   ],
   "metadata": {
    "collapsed": false,
    "pycharm": {
     "name": "#%%\n"
    }
   }
  },
  {
   "cell_type": "code",
   "execution_count": 8,
   "outputs": [
    {
     "data": {
      "text/plain": "True"
     },
     "execution_count": 8,
     "metadata": {},
     "output_type": "execute_result"
    }
   ],
   "source": [
    "folder = project.srcdir.joinpath(\"mintalib/testing/data\")\n",
    "folder.is_dir()\n"
   ],
   "metadata": {
    "collapsed": false,
    "pycharm": {
     "name": "#%%\n"
    }
   }
  },
  {
   "cell_type": "code",
   "execution_count": 9,
   "outputs": [],
   "source": [
    "file = folder.joinpath(\"sample-prices.csv\")\n",
    "prices.to_csv(file, line_terminator=\"\\n\")\n"
   ],
   "metadata": {
    "collapsed": false,
    "pycharm": {
     "name": "#%%\n"
    }
   }
  },
  {
   "cell_type": "code",
   "execution_count": null,
   "outputs": [],
   "source": [
    "\n",
    "\n",
    "\n",
    "pd.set_option(\"display.max_rows\", 1000)\n"
   ],
   "metadata": {
    "collapsed": false,
    "pycharm": {
     "name": "#%%\n"
    }
   }
  },
  {
   "cell_type": "code",
   "execution_count": 11,
   "outputs": [
    {
     "data": {
      "text/plain": "True"
     },
     "execution_count": 11,
     "metadata": {},
     "output_type": "execute_result"
    }
   ],
   "source": [
    "test_function(\"roc\", 12, item='close')\n"
   ],
   "metadata": {
    "collapsed": false,
    "pycharm": {
     "name": "#%%\n"
    }
   }
  },
  {
   "cell_type": "code",
   "execution_count": 12,
   "outputs": [
    {
     "data": {
      "text/plain": "True"
     },
     "execution_count": 12,
     "metadata": {},
     "output_type": "execute_result"
    }
   ],
   "source": [
    "test_function(\"sma\", 20, item='close')\n"
   ],
   "metadata": {
    "collapsed": false,
    "pycharm": {
     "name": "#%%\n"
    }
   }
  },
  {
   "cell_type": "code",
   "execution_count": 13,
   "outputs": [
    {
     "data": {
      "text/plain": "True"
     },
     "execution_count": 13,
     "metadata": {},
     "output_type": "execute_result"
    }
   ],
   "source": [
    "\n",
    "test_function(\"sma\", 20, item='close')\n"
   ],
   "metadata": {
    "collapsed": false,
    "pycharm": {
     "name": "#%%\n"
    }
   }
  },
  {
   "cell_type": "markdown",
   "source": [],
   "metadata": {
    "collapsed": false,
    "pycharm": {
     "name": "#%% md\n"
    }
   }
  },
  {
   "cell_type": "code",
   "execution_count": 14,
   "outputs": [
    {
     "data": {
      "text/plain": "True"
     },
     "execution_count": 14,
     "metadata": {},
     "output_type": "execute_result"
    }
   ],
   "source": [
    "test_function(\"wma\", 20, item='close')\n"
   ],
   "metadata": {
    "collapsed": false,
    "pycharm": {
     "name": "#%%\n"
    }
   }
  },
  {
   "cell_type": "code",
   "execution_count": 15,
   "outputs": [
    {
     "data": {
      "text/plain": "True"
     },
     "execution_count": 15,
     "metadata": {},
     "output_type": "execute_result"
    }
   ],
   "source": [
    "test_function(\"dema\", 20, item='close')\n"
   ],
   "metadata": {
    "collapsed": false,
    "pycharm": {
     "name": "#%%\n"
    }
   }
  },
  {
   "cell_type": "code",
   "execution_count": 16,
   "outputs": [
    {
     "data": {
      "text/plain": "True"
     },
     "execution_count": 16,
     "metadata": {},
     "output_type": "execute_result"
    }
   ],
   "source": [
    "test_function(\"tema\", 20, item='close')\n"
   ],
   "metadata": {
    "collapsed": false,
    "pycharm": {
     "name": "#%%\n"
    }
   }
  },
  {
   "cell_type": "code",
   "execution_count": 17,
   "outputs": [
    {
     "data": {
      "text/plain": "True"
     },
     "execution_count": 17,
     "metadata": {},
     "output_type": "execute_result"
    }
   ],
   "source": [
    "test_function(\"rsi\", 14, item='close')\n"
   ],
   "metadata": {
    "collapsed": false,
    "pycharm": {
     "name": "#%%\n"
    }
   }
  },
  {
   "cell_type": "code",
   "execution_count": 18,
   "outputs": [
    {
     "data": {
      "text/plain": "True"
     },
     "execution_count": 18,
     "metadata": {},
     "output_type": "execute_result"
    }
   ],
   "source": [
    "test_function(\"atr\", 14)\n"
   ],
   "metadata": {
    "collapsed": false,
    "pycharm": {
     "name": "#%%\n"
    }
   }
  },
  {
   "cell_type": "code",
   "execution_count": 19,
   "outputs": [
    {
     "data": {
      "text/plain": "True"
     },
     "execution_count": 19,
     "metadata": {},
     "output_type": "execute_result"
    }
   ],
   "source": [
    "test_function(\"macd\", 12, 26, 9)"
   ],
   "metadata": {
    "collapsed": false,
    "pycharm": {
     "name": "#%%\n"
    }
   }
  },
  {
   "cell_type": "code",
   "execution_count": 20,
   "outputs": [
    {
     "data": {
      "text/plain": "True"
     },
     "execution_count": 20,
     "metadata": {},
     "output_type": "execute_result"
    }
   ],
   "source": [
    "test_function(\"adx\", 14)"
   ],
   "metadata": {
    "collapsed": false,
    "pycharm": {
     "name": "#%%\n"
    }
   }
  },
  {
   "cell_type": "code",
   "execution_count": 21,
   "outputs": [
    {
     "data": {
      "text/plain": "True"
     },
     "execution_count": 21,
     "metadata": {},
     "output_type": "execute_result"
    }
   ],
   "source": [
    "test_function(\"atr\", 14)"
   ],
   "metadata": {
    "collapsed": false,
    "pycharm": {
     "name": "#%%\n"
    }
   }
  },
  {
   "cell_type": "code",
   "execution_count": 21,
   "outputs": [],
   "source": [],
   "metadata": {
    "collapsed": false,
    "pycharm": {
     "name": "#%%\n"
    }
   }
  },
  {
   "cell_type": "code",
   "execution_count": 22,
   "outputs": [
    {
     "data": {
      "text/plain": "False"
     },
     "execution_count": 22,
     "metadata": {},
     "output_type": "execute_result"
    }
   ],
   "source": [
    "test_function(\"psar\")"
   ],
   "metadata": {
    "collapsed": false,
    "pycharm": {
     "name": "#%%\n"
    }
   }
  },
  {
   "cell_type": "code",
   "execution_count": 23,
   "outputs": [
    {
     "data": {
      "text/plain": "True"
     },
     "execution_count": 23,
     "metadata": {},
     "output_type": "execute_result"
    }
   ],
   "source": [
    "test_function(\"slope\", 20)"
   ],
   "metadata": {
    "collapsed": false,
    "pycharm": {
     "name": "#%%\n"
    }
   }
  },
  {
   "cell_type": "code",
   "execution_count": 24,
   "outputs": [
    {
     "data": {
      "text/plain": "False"
     },
     "execution_count": 24,
     "metadata": {},
     "output_type": "execute_result"
    }
   ],
   "source": [
    "test_core(\"stoch\", 14, 3, 3)"
   ],
   "metadata": {
    "collapsed": false,
    "pycharm": {
     "name": "#%%\n"
    }
   }
  },
  {
   "cell_type": "code",
   "execution_count": 25,
   "outputs": [
    {
     "data": {
      "text/plain": "                   slowk      slowd\ndate                               \n2021-08-23           NaN        NaN\n2021-08-24           NaN        NaN\n2021-08-25           NaN        NaN\n2021-08-26           NaN        NaN\n2021-08-27           NaN        NaN\n2021-08-30           NaN        NaN\n2021-08-31           NaN        NaN\n2021-09-01           NaN        NaN\n2021-09-02           NaN        NaN\n2021-09-03           NaN        NaN\n2021-09-06           NaN        NaN\n2021-09-07           NaN        NaN\n2021-09-08           NaN        NaN\n2021-09-09           NaN        NaN\n2021-09-10           NaN        NaN\n2021-09-13  1.005027e+01        NaN\n2021-09-14  1.857969e+01        NaN\n2021-09-15  2.968770e+01  19.439219\n2021-09-16  2.857371e+01  25.613697\n2021-09-17  2.658024e+01  28.280550\n2021-09-20  4.411057e+01  33.088176\n2021-09-21  6.092027e+01  43.870363\n2021-09-22  7.462601e+01  59.885619\n2021-09-23  6.878147e+01  68.109251\n2021-09-24  6.666667e+01  70.024717\n2021-09-27  6.706949e+01  67.505874\n2021-09-28  7.542800e+01  69.721383\n2021-09-29  7.553473e+01  72.677405\n2021-09-30  6.571643e+01  72.226386\n2021-10-01  5.357068e+01  64.940614\n2021-10-04  5.482081e+01  58.035975\n2021-10-05  7.584345e+01  61.411650\n2021-10-06  8.191633e+01  70.860199\n2021-10-07  7.395412e+01  77.237967\n2021-10-08  4.520918e+01  67.026541\n2021-10-11  1.821050e+01  45.791264\n2021-10-12  4.063774e+00  22.494483\n2021-10-13  1.378709e+01  12.020453\n2021-10-14  4.685864e+01  21.569833\n2021-10-15  7.949389e+01  46.713205\n2021-10-18  9.744870e+01  74.600409\n2021-10-19  9.423184e+01  90.391475\n2021-10-20  8.964788e+01  93.776137\n2021-10-21  9.160128e+01  91.826997\n2021-10-22  8.350772e+01  88.252293\n2021-10-25  8.505232e+01  86.720439\n2021-10-26  7.964333e+01  82.734457\n2021-10-27  8.667800e+01  83.791217\n2021-10-28  8.971737e+01  85.346233\n2021-10-29  9.572426e+01  90.706542\n2021-11-01  9.660436e+01  94.015328\n2021-11-02  9.244697e+01  94.925198\n2021-11-03  8.630040e+01  91.783913\n2021-11-04  8.870313e+01  89.150170\n2021-11-05  9.286052e+01  89.288019\n2021-11-08  8.854150e+01  90.035050\n2021-11-09  7.412443e+01  85.175483\n2021-11-10  5.030902e+01  70.991651\n2021-11-11  4.029666e+01  54.910040\n2021-11-12  2.611909e+01  38.908259\n2021-11-15  2.392440e+01  30.113385\n2021-11-16  1.342593e+01  21.156473\n2021-11-17  1.551927e+01  17.623198\n2021-11-18  8.196036e+00  12.380410\n2021-11-19  5.839134e+00   9.851479\n2021-11-22  2.059925e+00   5.365032\n2021-11-23  4.151061e+00   4.016707\n2021-11-24  4.980691e+00   3.730559\n2021-11-25  1.173860e+01   6.956782\n2021-11-26  2.799644e+01  14.905243\n2021-11-29  5.348260e+01  31.072546\n2021-11-30  7.799811e+01  53.159050\n2021-12-01  9.076023e+01  74.080314\n2021-12-02  9.777778e+01  88.845372\n2021-12-03  9.536275e+01  94.633588\n2021-12-06  8.619559e+01  93.112039\n2021-12-07  7.543232e+01  85.663553\n2021-12-08  6.338700e+01  75.004969\n2021-12-09  5.763268e+01  65.483999\n2021-12-10  5.283244e+01  57.950706\n2021-12-13  5.262373e+01  54.362950\n2021-12-14  5.386268e+01  53.106284\n2021-12-15  4.931664e+01  51.934351\n2021-12-16  3.293199e+01  45.370438\n2021-12-17  2.831157e+01  36.853401\n2021-12-20  1.508778e+01  25.443781\n2021-12-21  1.568584e+01  19.695064\n2021-12-22  5.544365e+00  12.105996\n2021-12-23  1.051791e+01  10.582706\n2021-12-24  1.529979e+01  10.454020\n2021-12-27  1.703028e+01  14.282659\n2021-12-28  1.205674e+01  14.795602\n2021-12-29  4.397163e+00  11.161394\n2021-12-30  1.044601e+01   8.966637\n2021-12-31  1.670752e+01  10.516897\n2022-01-03  2.032057e+01  15.824701\n2022-01-04  1.051559e+01  15.847894\n2022-01-05  9.673660e+00  13.503274\n2022-01-06  6.060606e+00   8.749952\n2022-01-07  2.858109e+01  14.771786\n2022-01-10  3.587629e+01  23.505996\n2022-01-11  4.158076e+01  35.346046\n2022-01-12  3.031838e+01  35.925141\n2022-01-13  2.382897e+01  31.909369\n2022-01-14  2.335327e+01  25.833539\n2022-01-17  1.980645e+01  22.329563\n2022-01-18  3.127280e+01  24.810837\n2022-01-19  4.388762e+01  31.655623\n2022-01-20  6.560691e+01  46.922443\n2022-01-21  8.124852e+01  63.581015\n2022-01-24  9.635131e+01  81.068911\n2022-01-25  9.143173e+01  89.677186\n2022-01-26  7.191819e+01  86.567076\n2022-01-27  5.312327e+01  72.157730\n2022-01-28  3.432836e+01  53.123273\n2022-01-31  2.050857e+01  35.986733\n2022-02-01  1.648022e+01  23.772383\n2022-02-02  2.047424e+01  19.154342\n2022-02-03  3.242134e+01  23.125266\n2022-02-04  3.301414e+01  28.636571\n2022-02-07  3.100775e+01  32.147743\n2022-02-08  2.872777e+01  30.916553\n2022-02-09  1.801186e+01  25.915793\n2022-02-10  1.465926e+01  20.466296\n2022-02-11  9.973912e+00  14.215010\n2022-02-14  1.622391e+01  13.619029\n2022-02-15  2.749194e+01  17.896587\n2022-02-16  3.786964e+01  27.195163\n2022-02-17  3.874365e+01  34.701742\n2022-02-18  3.787487e+01  38.162720\n2022-02-21  5.584872e+01  44.155748\n2022-02-22  6.419018e+01  52.637924\n2022-02-23  6.291291e+01  60.983939\n2022-02-24  4.234234e+01  56.481812\n2022-02-25  4.609610e+01  50.450450\n2022-02-28  5.480480e+01  47.747748\n2022-03-01  6.916365e+01  56.688184\n2022-03-02  7.510513e+01  66.357862\n2022-03-03  7.083144e+01  71.700073\n2022-03-04  7.704316e+01  74.326575\n2022-03-07  8.172436e+01  76.532984\n2022-03-08  9.650856e+01  85.092027\n2022-03-09  7.846575e+01  85.566224\n2022-03-10  7.981651e+01  84.930276\n2022-03-11  7.981651e+01  79.366259\n2022-03-14  9.573025e+01  85.121093\n2022-03-15  9.787092e+01  91.139230\n2022-03-16  9.746878e+01  97.023319\n2022-03-17  8.919860e+01  94.846101\n2022-03-18  7.508532e+01  87.250899\n2022-03-21  6.318477e+01  75.822897\n2022-03-22  6.049211e+01  66.254067\n2022-03-23  6.445310e+01  62.709994\n2022-03-24  6.059598e+01  61.847064\n2022-03-25  6.188111e+01  62.310065\n2022-03-28  5.163983e+01  58.038975\n2022-03-29  5.700656e+01  56.842500\n2022-03-30  5.120652e+01  53.284304\n2022-03-31  3.826675e+01  48.826608\n2022-04-01  1.572650e+01  35.066587\n2022-04-04  1.297989e+01  22.324377\n2022-04-05  2.861481e+01  19.107066\n2022-04-06  6.179867e+01  34.464456\n2022-04-07  7.490248e+01  55.105321\n2022-04-08  7.698057e+01  71.227240\n2022-04-11  7.144993e+01  74.444326\n2022-04-12  7.869955e+01  75.710015\n2022-04-13  9.431988e+01  81.489786\n2022-04-14  8.601253e+01  86.343986\n2022-04-15  7.731385e+01  85.882085\n2022-04-18  6.388309e+01  75.736488\n2022-04-19  6.360473e+01  68.267223\n2022-04-20  6.235212e+01  63.279981\n2022-04-21  7.195485e+01  65.970568\n2022-04-22  7.409947e+01  69.468813\n2022-04-25  5.071742e+01  65.590579\n2022-04-26  2.809709e+01  50.971327\n2022-04-27  1.595298e+01  31.589165\n2022-04-28  3.904282e+01  27.697631\n2022-04-29  5.012594e+01  35.040582\n2022-05-02  7.346767e+01  54.212147\n2022-05-03  8.371117e+01  69.101595\n2022-05-04  9.907641e+01  85.418416\n2022-05-05  9.379977e+01  92.195782\n2022-05-06  9.379977e+01  95.558650\n2022-05-09  8.288772e+01  90.162422\n2022-05-10  8.289902e+01  86.528839\n2022-05-11  7.750462e+01  81.097121\n2022-05-12  8.189707e+01  80.766903\n2022-05-13  8.808599e+01  82.495892\n2022-05-16  9.005834e+01  86.680465\n2022-05-17  9.596684e+01  91.370388\n2022-05-18  9.419323e+01  93.406135\n2022-05-19  9.761528e+01  95.925117\n2022-05-20  9.603240e+01  95.946972\n2022-05-23  8.918399e+01  94.277224\n2022-05-24  8.106236e+01  88.759581\n2022-05-25  6.747498e+01  79.240441\n2022-05-26  6.112394e+01  69.887093\n2022-05-27  6.060958e+01  63.069500\n2022-05-30  6.468785e+01  62.140456\n2022-05-31  6.035307e+01  61.883501\n2022-06-01  4.404767e+01  56.362866\n2022-06-02  2.439149e+01  42.930747\n2022-06-03  1.036599e+01  26.268386\n2022-06-06  1.974055e+00  12.243846\n2022-06-07 -9.592327e-14   4.113349\n2022-06-08  1.285956e+00   1.086670\n2022-06-09  1.285956e+00   0.857304\n2022-06-10  3.066900e+00   1.879604\n2022-06-13  7.502577e+00   3.951811\n2022-06-14  7.946598e+00   6.172025\n2022-06-15  8.237562e+00   7.895579\n2022-06-16  2.766556e+00   6.316905\n2022-06-17  2.322534e+00   4.442217\n2022-06-20  2.506266e-01   1.779905\n2022-06-21  3.468208e+00   2.013790\n2022-06-22  6.082011e+00   3.266949\n2022-06-23  8.286148e+00   5.945456\n2022-06-24  4.817940e+00   6.395367\n2022-06-27  4.390606e+00   5.831565\n2022-06-28  4.372937e+00   4.527161\n2022-06-29  5.194714e+00   4.652752\n2022-06-30  4.849042e+00   4.805564\n2022-07-01  4.602872e+00   4.882209\n2022-07-04  4.143413e+00   4.531776\n2022-07-05  3.766357e+00   4.170881\n2022-07-06  1.826058e+00   3.245276\n2022-07-07  1.463739e+00   2.352051\n2022-07-08  3.107345e+00   2.132381\n2022-07-11  1.000807e+01   4.859718\n2022-07-12  1.718314e+01  10.099519\n2022-07-13  2.143064e+01  16.207284\n2022-07-14  1.529230e+01  17.968693\n2022-07-15  1.118740e+01  15.970113\n2022-07-18  4.053559e+00  10.177754\n2022-07-19  4.506640e+00   6.582534\n2022-07-20  4.269430e+00   4.276543\n2022-07-21  4.505578e+00   4.427216\n2022-07-22  3.454514e+00   4.076507\n2022-07-25  8.641599e+00   5.533897\n2022-07-26  8.184456e+00   6.760190\n2022-07-27  9.101663e+00   8.642573\n2022-07-28  1.081613e+00   6.122577\n2022-07-29  5.266317e+00   5.149864\n2022-08-01  1.673882e+01   7.695582\n2022-08-02  3.204558e+01  18.016906\n2022-08-03  6.119421e+01  36.659538\n2022-08-04  8.197343e+01  58.404411\n2022-08-05  1.000000e+02  81.055883\n2022-08-08  9.852858e+01  93.500671\n2022-08-09  9.547255e+01  98.000377\n2022-08-10  9.547255e+01  96.491228\n2022-08-11  8.974266e+01  93.562589\n2022-08-12  8.439716e+01  89.870793\n2022-08-15  7.719585e+01  83.778560\n2022-08-16  6.961266e+01  77.068558\n2022-08-17  6.287813e+01  69.895547\n2022-08-18  5.733905e+01  63.276614\n2022-08-19  4.995861e+01  56.725266",
      "text/html": "<div>\n<style scoped>\n    .dataframe tbody tr th:only-of-type {\n        vertical-align: middle;\n    }\n\n    .dataframe tbody tr th {\n        vertical-align: top;\n    }\n\n    .dataframe thead th {\n        text-align: right;\n    }\n</style>\n<table border=\"1\" class=\"dataframe\">\n  <thead>\n    <tr style=\"text-align: right;\">\n      <th></th>\n      <th>slowk</th>\n      <th>slowd</th>\n    </tr>\n    <tr>\n      <th>date</th>\n      <th></th>\n      <th></th>\n    </tr>\n  </thead>\n  <tbody>\n    <tr>\n      <th>2021-08-23</th>\n      <td>NaN</td>\n      <td>NaN</td>\n    </tr>\n    <tr>\n      <th>2021-08-24</th>\n      <td>NaN</td>\n      <td>NaN</td>\n    </tr>\n    <tr>\n      <th>2021-08-25</th>\n      <td>NaN</td>\n      <td>NaN</td>\n    </tr>\n    <tr>\n      <th>2021-08-26</th>\n      <td>NaN</td>\n      <td>NaN</td>\n    </tr>\n    <tr>\n      <th>2021-08-27</th>\n      <td>NaN</td>\n      <td>NaN</td>\n    </tr>\n    <tr>\n      <th>2021-08-30</th>\n      <td>NaN</td>\n      <td>NaN</td>\n    </tr>\n    <tr>\n      <th>2021-08-31</th>\n      <td>NaN</td>\n      <td>NaN</td>\n    </tr>\n    <tr>\n      <th>2021-09-01</th>\n      <td>NaN</td>\n      <td>NaN</td>\n    </tr>\n    <tr>\n      <th>2021-09-02</th>\n      <td>NaN</td>\n      <td>NaN</td>\n    </tr>\n    <tr>\n      <th>2021-09-03</th>\n      <td>NaN</td>\n      <td>NaN</td>\n    </tr>\n    <tr>\n      <th>2021-09-06</th>\n      <td>NaN</td>\n      <td>NaN</td>\n    </tr>\n    <tr>\n      <th>2021-09-07</th>\n      <td>NaN</td>\n      <td>NaN</td>\n    </tr>\n    <tr>\n      <th>2021-09-08</th>\n      <td>NaN</td>\n      <td>NaN</td>\n    </tr>\n    <tr>\n      <th>2021-09-09</th>\n      <td>NaN</td>\n      <td>NaN</td>\n    </tr>\n    <tr>\n      <th>2021-09-10</th>\n      <td>NaN</td>\n      <td>NaN</td>\n    </tr>\n    <tr>\n      <th>2021-09-13</th>\n      <td>1.005027e+01</td>\n      <td>NaN</td>\n    </tr>\n    <tr>\n      <th>2021-09-14</th>\n      <td>1.857969e+01</td>\n      <td>NaN</td>\n    </tr>\n    <tr>\n      <th>2021-09-15</th>\n      <td>2.968770e+01</td>\n      <td>19.439219</td>\n    </tr>\n    <tr>\n      <th>2021-09-16</th>\n      <td>2.857371e+01</td>\n      <td>25.613697</td>\n    </tr>\n    <tr>\n      <th>2021-09-17</th>\n      <td>2.658024e+01</td>\n      <td>28.280550</td>\n    </tr>\n    <tr>\n      <th>2021-09-20</th>\n      <td>4.411057e+01</td>\n      <td>33.088176</td>\n    </tr>\n    <tr>\n      <th>2021-09-21</th>\n      <td>6.092027e+01</td>\n      <td>43.870363</td>\n    </tr>\n    <tr>\n      <th>2021-09-22</th>\n      <td>7.462601e+01</td>\n      <td>59.885619</td>\n    </tr>\n    <tr>\n      <th>2021-09-23</th>\n      <td>6.878147e+01</td>\n      <td>68.109251</td>\n    </tr>\n    <tr>\n      <th>2021-09-24</th>\n      <td>6.666667e+01</td>\n      <td>70.024717</td>\n    </tr>\n    <tr>\n      <th>2021-09-27</th>\n      <td>6.706949e+01</td>\n      <td>67.505874</td>\n    </tr>\n    <tr>\n      <th>2021-09-28</th>\n      <td>7.542800e+01</td>\n      <td>69.721383</td>\n    </tr>\n    <tr>\n      <th>2021-09-29</th>\n      <td>7.553473e+01</td>\n      <td>72.677405</td>\n    </tr>\n    <tr>\n      <th>2021-09-30</th>\n      <td>6.571643e+01</td>\n      <td>72.226386</td>\n    </tr>\n    <tr>\n      <th>2021-10-01</th>\n      <td>5.357068e+01</td>\n      <td>64.940614</td>\n    </tr>\n    <tr>\n      <th>2021-10-04</th>\n      <td>5.482081e+01</td>\n      <td>58.035975</td>\n    </tr>\n    <tr>\n      <th>2021-10-05</th>\n      <td>7.584345e+01</td>\n      <td>61.411650</td>\n    </tr>\n    <tr>\n      <th>2021-10-06</th>\n      <td>8.191633e+01</td>\n      <td>70.860199</td>\n    </tr>\n    <tr>\n      <th>2021-10-07</th>\n      <td>7.395412e+01</td>\n      <td>77.237967</td>\n    </tr>\n    <tr>\n      <th>2021-10-08</th>\n      <td>4.520918e+01</td>\n      <td>67.026541</td>\n    </tr>\n    <tr>\n      <th>2021-10-11</th>\n      <td>1.821050e+01</td>\n      <td>45.791264</td>\n    </tr>\n    <tr>\n      <th>2021-10-12</th>\n      <td>4.063774e+00</td>\n      <td>22.494483</td>\n    </tr>\n    <tr>\n      <th>2021-10-13</th>\n      <td>1.378709e+01</td>\n      <td>12.020453</td>\n    </tr>\n    <tr>\n      <th>2021-10-14</th>\n      <td>4.685864e+01</td>\n      <td>21.569833</td>\n    </tr>\n    <tr>\n      <th>2021-10-15</th>\n      <td>7.949389e+01</td>\n      <td>46.713205</td>\n    </tr>\n    <tr>\n      <th>2021-10-18</th>\n      <td>9.744870e+01</td>\n      <td>74.600409</td>\n    </tr>\n    <tr>\n      <th>2021-10-19</th>\n      <td>9.423184e+01</td>\n      <td>90.391475</td>\n    </tr>\n    <tr>\n      <th>2021-10-20</th>\n      <td>8.964788e+01</td>\n      <td>93.776137</td>\n    </tr>\n    <tr>\n      <th>2021-10-21</th>\n      <td>9.160128e+01</td>\n      <td>91.826997</td>\n    </tr>\n    <tr>\n      <th>2021-10-22</th>\n      <td>8.350772e+01</td>\n      <td>88.252293</td>\n    </tr>\n    <tr>\n      <th>2021-10-25</th>\n      <td>8.505232e+01</td>\n      <td>86.720439</td>\n    </tr>\n    <tr>\n      <th>2021-10-26</th>\n      <td>7.964333e+01</td>\n      <td>82.734457</td>\n    </tr>\n    <tr>\n      <th>2021-10-27</th>\n      <td>8.667800e+01</td>\n      <td>83.791217</td>\n    </tr>\n    <tr>\n      <th>2021-10-28</th>\n      <td>8.971737e+01</td>\n      <td>85.346233</td>\n    </tr>\n    <tr>\n      <th>2021-10-29</th>\n      <td>9.572426e+01</td>\n      <td>90.706542</td>\n    </tr>\n    <tr>\n      <th>2021-11-01</th>\n      <td>9.660436e+01</td>\n      <td>94.015328</td>\n    </tr>\n    <tr>\n      <th>2021-11-02</th>\n      <td>9.244697e+01</td>\n      <td>94.925198</td>\n    </tr>\n    <tr>\n      <th>2021-11-03</th>\n      <td>8.630040e+01</td>\n      <td>91.783913</td>\n    </tr>\n    <tr>\n      <th>2021-11-04</th>\n      <td>8.870313e+01</td>\n      <td>89.150170</td>\n    </tr>\n    <tr>\n      <th>2021-11-05</th>\n      <td>9.286052e+01</td>\n      <td>89.288019</td>\n    </tr>\n    <tr>\n      <th>2021-11-08</th>\n      <td>8.854150e+01</td>\n      <td>90.035050</td>\n    </tr>\n    <tr>\n      <th>2021-11-09</th>\n      <td>7.412443e+01</td>\n      <td>85.175483</td>\n    </tr>\n    <tr>\n      <th>2021-11-10</th>\n      <td>5.030902e+01</td>\n      <td>70.991651</td>\n    </tr>\n    <tr>\n      <th>2021-11-11</th>\n      <td>4.029666e+01</td>\n      <td>54.910040</td>\n    </tr>\n    <tr>\n      <th>2021-11-12</th>\n      <td>2.611909e+01</td>\n      <td>38.908259</td>\n    </tr>\n    <tr>\n      <th>2021-11-15</th>\n      <td>2.392440e+01</td>\n      <td>30.113385</td>\n    </tr>\n    <tr>\n      <th>2021-11-16</th>\n      <td>1.342593e+01</td>\n      <td>21.156473</td>\n    </tr>\n    <tr>\n      <th>2021-11-17</th>\n      <td>1.551927e+01</td>\n      <td>17.623198</td>\n    </tr>\n    <tr>\n      <th>2021-11-18</th>\n      <td>8.196036e+00</td>\n      <td>12.380410</td>\n    </tr>\n    <tr>\n      <th>2021-11-19</th>\n      <td>5.839134e+00</td>\n      <td>9.851479</td>\n    </tr>\n    <tr>\n      <th>2021-11-22</th>\n      <td>2.059925e+00</td>\n      <td>5.365032</td>\n    </tr>\n    <tr>\n      <th>2021-11-23</th>\n      <td>4.151061e+00</td>\n      <td>4.016707</td>\n    </tr>\n    <tr>\n      <th>2021-11-24</th>\n      <td>4.980691e+00</td>\n      <td>3.730559</td>\n    </tr>\n    <tr>\n      <th>2021-11-25</th>\n      <td>1.173860e+01</td>\n      <td>6.956782</td>\n    </tr>\n    <tr>\n      <th>2021-11-26</th>\n      <td>2.799644e+01</td>\n      <td>14.905243</td>\n    </tr>\n    <tr>\n      <th>2021-11-29</th>\n      <td>5.348260e+01</td>\n      <td>31.072546</td>\n    </tr>\n    <tr>\n      <th>2021-11-30</th>\n      <td>7.799811e+01</td>\n      <td>53.159050</td>\n    </tr>\n    <tr>\n      <th>2021-12-01</th>\n      <td>9.076023e+01</td>\n      <td>74.080314</td>\n    </tr>\n    <tr>\n      <th>2021-12-02</th>\n      <td>9.777778e+01</td>\n      <td>88.845372</td>\n    </tr>\n    <tr>\n      <th>2021-12-03</th>\n      <td>9.536275e+01</td>\n      <td>94.633588</td>\n    </tr>\n    <tr>\n      <th>2021-12-06</th>\n      <td>8.619559e+01</td>\n      <td>93.112039</td>\n    </tr>\n    <tr>\n      <th>2021-12-07</th>\n      <td>7.543232e+01</td>\n      <td>85.663553</td>\n    </tr>\n    <tr>\n      <th>2021-12-08</th>\n      <td>6.338700e+01</td>\n      <td>75.004969</td>\n    </tr>\n    <tr>\n      <th>2021-12-09</th>\n      <td>5.763268e+01</td>\n      <td>65.483999</td>\n    </tr>\n    <tr>\n      <th>2021-12-10</th>\n      <td>5.283244e+01</td>\n      <td>57.950706</td>\n    </tr>\n    <tr>\n      <th>2021-12-13</th>\n      <td>5.262373e+01</td>\n      <td>54.362950</td>\n    </tr>\n    <tr>\n      <th>2021-12-14</th>\n      <td>5.386268e+01</td>\n      <td>53.106284</td>\n    </tr>\n    <tr>\n      <th>2021-12-15</th>\n      <td>4.931664e+01</td>\n      <td>51.934351</td>\n    </tr>\n    <tr>\n      <th>2021-12-16</th>\n      <td>3.293199e+01</td>\n      <td>45.370438</td>\n    </tr>\n    <tr>\n      <th>2021-12-17</th>\n      <td>2.831157e+01</td>\n      <td>36.853401</td>\n    </tr>\n    <tr>\n      <th>2021-12-20</th>\n      <td>1.508778e+01</td>\n      <td>25.443781</td>\n    </tr>\n    <tr>\n      <th>2021-12-21</th>\n      <td>1.568584e+01</td>\n      <td>19.695064</td>\n    </tr>\n    <tr>\n      <th>2021-12-22</th>\n      <td>5.544365e+00</td>\n      <td>12.105996</td>\n    </tr>\n    <tr>\n      <th>2021-12-23</th>\n      <td>1.051791e+01</td>\n      <td>10.582706</td>\n    </tr>\n    <tr>\n      <th>2021-12-24</th>\n      <td>1.529979e+01</td>\n      <td>10.454020</td>\n    </tr>\n    <tr>\n      <th>2021-12-27</th>\n      <td>1.703028e+01</td>\n      <td>14.282659</td>\n    </tr>\n    <tr>\n      <th>2021-12-28</th>\n      <td>1.205674e+01</td>\n      <td>14.795602</td>\n    </tr>\n    <tr>\n      <th>2021-12-29</th>\n      <td>4.397163e+00</td>\n      <td>11.161394</td>\n    </tr>\n    <tr>\n      <th>2021-12-30</th>\n      <td>1.044601e+01</td>\n      <td>8.966637</td>\n    </tr>\n    <tr>\n      <th>2021-12-31</th>\n      <td>1.670752e+01</td>\n      <td>10.516897</td>\n    </tr>\n    <tr>\n      <th>2022-01-03</th>\n      <td>2.032057e+01</td>\n      <td>15.824701</td>\n    </tr>\n    <tr>\n      <th>2022-01-04</th>\n      <td>1.051559e+01</td>\n      <td>15.847894</td>\n    </tr>\n    <tr>\n      <th>2022-01-05</th>\n      <td>9.673660e+00</td>\n      <td>13.503274</td>\n    </tr>\n    <tr>\n      <th>2022-01-06</th>\n      <td>6.060606e+00</td>\n      <td>8.749952</td>\n    </tr>\n    <tr>\n      <th>2022-01-07</th>\n      <td>2.858109e+01</td>\n      <td>14.771786</td>\n    </tr>\n    <tr>\n      <th>2022-01-10</th>\n      <td>3.587629e+01</td>\n      <td>23.505996</td>\n    </tr>\n    <tr>\n      <th>2022-01-11</th>\n      <td>4.158076e+01</td>\n      <td>35.346046</td>\n    </tr>\n    <tr>\n      <th>2022-01-12</th>\n      <td>3.031838e+01</td>\n      <td>35.925141</td>\n    </tr>\n    <tr>\n      <th>2022-01-13</th>\n      <td>2.382897e+01</td>\n      <td>31.909369</td>\n    </tr>\n    <tr>\n      <th>2022-01-14</th>\n      <td>2.335327e+01</td>\n      <td>25.833539</td>\n    </tr>\n    <tr>\n      <th>2022-01-17</th>\n      <td>1.980645e+01</td>\n      <td>22.329563</td>\n    </tr>\n    <tr>\n      <th>2022-01-18</th>\n      <td>3.127280e+01</td>\n      <td>24.810837</td>\n    </tr>\n    <tr>\n      <th>2022-01-19</th>\n      <td>4.388762e+01</td>\n      <td>31.655623</td>\n    </tr>\n    <tr>\n      <th>2022-01-20</th>\n      <td>6.560691e+01</td>\n      <td>46.922443</td>\n    </tr>\n    <tr>\n      <th>2022-01-21</th>\n      <td>8.124852e+01</td>\n      <td>63.581015</td>\n    </tr>\n    <tr>\n      <th>2022-01-24</th>\n      <td>9.635131e+01</td>\n      <td>81.068911</td>\n    </tr>\n    <tr>\n      <th>2022-01-25</th>\n      <td>9.143173e+01</td>\n      <td>89.677186</td>\n    </tr>\n    <tr>\n      <th>2022-01-26</th>\n      <td>7.191819e+01</td>\n      <td>86.567076</td>\n    </tr>\n    <tr>\n      <th>2022-01-27</th>\n      <td>5.312327e+01</td>\n      <td>72.157730</td>\n    </tr>\n    <tr>\n      <th>2022-01-28</th>\n      <td>3.432836e+01</td>\n      <td>53.123273</td>\n    </tr>\n    <tr>\n      <th>2022-01-31</th>\n      <td>2.050857e+01</td>\n      <td>35.986733</td>\n    </tr>\n    <tr>\n      <th>2022-02-01</th>\n      <td>1.648022e+01</td>\n      <td>23.772383</td>\n    </tr>\n    <tr>\n      <th>2022-02-02</th>\n      <td>2.047424e+01</td>\n      <td>19.154342</td>\n    </tr>\n    <tr>\n      <th>2022-02-03</th>\n      <td>3.242134e+01</td>\n      <td>23.125266</td>\n    </tr>\n    <tr>\n      <th>2022-02-04</th>\n      <td>3.301414e+01</td>\n      <td>28.636571</td>\n    </tr>\n    <tr>\n      <th>2022-02-07</th>\n      <td>3.100775e+01</td>\n      <td>32.147743</td>\n    </tr>\n    <tr>\n      <th>2022-02-08</th>\n      <td>2.872777e+01</td>\n      <td>30.916553</td>\n    </tr>\n    <tr>\n      <th>2022-02-09</th>\n      <td>1.801186e+01</td>\n      <td>25.915793</td>\n    </tr>\n    <tr>\n      <th>2022-02-10</th>\n      <td>1.465926e+01</td>\n      <td>20.466296</td>\n    </tr>\n    <tr>\n      <th>2022-02-11</th>\n      <td>9.973912e+00</td>\n      <td>14.215010</td>\n    </tr>\n    <tr>\n      <th>2022-02-14</th>\n      <td>1.622391e+01</td>\n      <td>13.619029</td>\n    </tr>\n    <tr>\n      <th>2022-02-15</th>\n      <td>2.749194e+01</td>\n      <td>17.896587</td>\n    </tr>\n    <tr>\n      <th>2022-02-16</th>\n      <td>3.786964e+01</td>\n      <td>27.195163</td>\n    </tr>\n    <tr>\n      <th>2022-02-17</th>\n      <td>3.874365e+01</td>\n      <td>34.701742</td>\n    </tr>\n    <tr>\n      <th>2022-02-18</th>\n      <td>3.787487e+01</td>\n      <td>38.162720</td>\n    </tr>\n    <tr>\n      <th>2022-02-21</th>\n      <td>5.584872e+01</td>\n      <td>44.155748</td>\n    </tr>\n    <tr>\n      <th>2022-02-22</th>\n      <td>6.419018e+01</td>\n      <td>52.637924</td>\n    </tr>\n    <tr>\n      <th>2022-02-23</th>\n      <td>6.291291e+01</td>\n      <td>60.983939</td>\n    </tr>\n    <tr>\n      <th>2022-02-24</th>\n      <td>4.234234e+01</td>\n      <td>56.481812</td>\n    </tr>\n    <tr>\n      <th>2022-02-25</th>\n      <td>4.609610e+01</td>\n      <td>50.450450</td>\n    </tr>\n    <tr>\n      <th>2022-02-28</th>\n      <td>5.480480e+01</td>\n      <td>47.747748</td>\n    </tr>\n    <tr>\n      <th>2022-03-01</th>\n      <td>6.916365e+01</td>\n      <td>56.688184</td>\n    </tr>\n    <tr>\n      <th>2022-03-02</th>\n      <td>7.510513e+01</td>\n      <td>66.357862</td>\n    </tr>\n    <tr>\n      <th>2022-03-03</th>\n      <td>7.083144e+01</td>\n      <td>71.700073</td>\n    </tr>\n    <tr>\n      <th>2022-03-04</th>\n      <td>7.704316e+01</td>\n      <td>74.326575</td>\n    </tr>\n    <tr>\n      <th>2022-03-07</th>\n      <td>8.172436e+01</td>\n      <td>76.532984</td>\n    </tr>\n    <tr>\n      <th>2022-03-08</th>\n      <td>9.650856e+01</td>\n      <td>85.092027</td>\n    </tr>\n    <tr>\n      <th>2022-03-09</th>\n      <td>7.846575e+01</td>\n      <td>85.566224</td>\n    </tr>\n    <tr>\n      <th>2022-03-10</th>\n      <td>7.981651e+01</td>\n      <td>84.930276</td>\n    </tr>\n    <tr>\n      <th>2022-03-11</th>\n      <td>7.981651e+01</td>\n      <td>79.366259</td>\n    </tr>\n    <tr>\n      <th>2022-03-14</th>\n      <td>9.573025e+01</td>\n      <td>85.121093</td>\n    </tr>\n    <tr>\n      <th>2022-03-15</th>\n      <td>9.787092e+01</td>\n      <td>91.139230</td>\n    </tr>\n    <tr>\n      <th>2022-03-16</th>\n      <td>9.746878e+01</td>\n      <td>97.023319</td>\n    </tr>\n    <tr>\n      <th>2022-03-17</th>\n      <td>8.919860e+01</td>\n      <td>94.846101</td>\n    </tr>\n    <tr>\n      <th>2022-03-18</th>\n      <td>7.508532e+01</td>\n      <td>87.250899</td>\n    </tr>\n    <tr>\n      <th>2022-03-21</th>\n      <td>6.318477e+01</td>\n      <td>75.822897</td>\n    </tr>\n    <tr>\n      <th>2022-03-22</th>\n      <td>6.049211e+01</td>\n      <td>66.254067</td>\n    </tr>\n    <tr>\n      <th>2022-03-23</th>\n      <td>6.445310e+01</td>\n      <td>62.709994</td>\n    </tr>\n    <tr>\n      <th>2022-03-24</th>\n      <td>6.059598e+01</td>\n      <td>61.847064</td>\n    </tr>\n    <tr>\n      <th>2022-03-25</th>\n      <td>6.188111e+01</td>\n      <td>62.310065</td>\n    </tr>\n    <tr>\n      <th>2022-03-28</th>\n      <td>5.163983e+01</td>\n      <td>58.038975</td>\n    </tr>\n    <tr>\n      <th>2022-03-29</th>\n      <td>5.700656e+01</td>\n      <td>56.842500</td>\n    </tr>\n    <tr>\n      <th>2022-03-30</th>\n      <td>5.120652e+01</td>\n      <td>53.284304</td>\n    </tr>\n    <tr>\n      <th>2022-03-31</th>\n      <td>3.826675e+01</td>\n      <td>48.826608</td>\n    </tr>\n    <tr>\n      <th>2022-04-01</th>\n      <td>1.572650e+01</td>\n      <td>35.066587</td>\n    </tr>\n    <tr>\n      <th>2022-04-04</th>\n      <td>1.297989e+01</td>\n      <td>22.324377</td>\n    </tr>\n    <tr>\n      <th>2022-04-05</th>\n      <td>2.861481e+01</td>\n      <td>19.107066</td>\n    </tr>\n    <tr>\n      <th>2022-04-06</th>\n      <td>6.179867e+01</td>\n      <td>34.464456</td>\n    </tr>\n    <tr>\n      <th>2022-04-07</th>\n      <td>7.490248e+01</td>\n      <td>55.105321</td>\n    </tr>\n    <tr>\n      <th>2022-04-08</th>\n      <td>7.698057e+01</td>\n      <td>71.227240</td>\n    </tr>\n    <tr>\n      <th>2022-04-11</th>\n      <td>7.144993e+01</td>\n      <td>74.444326</td>\n    </tr>\n    <tr>\n      <th>2022-04-12</th>\n      <td>7.869955e+01</td>\n      <td>75.710015</td>\n    </tr>\n    <tr>\n      <th>2022-04-13</th>\n      <td>9.431988e+01</td>\n      <td>81.489786</td>\n    </tr>\n    <tr>\n      <th>2022-04-14</th>\n      <td>8.601253e+01</td>\n      <td>86.343986</td>\n    </tr>\n    <tr>\n      <th>2022-04-15</th>\n      <td>7.731385e+01</td>\n      <td>85.882085</td>\n    </tr>\n    <tr>\n      <th>2022-04-18</th>\n      <td>6.388309e+01</td>\n      <td>75.736488</td>\n    </tr>\n    <tr>\n      <th>2022-04-19</th>\n      <td>6.360473e+01</td>\n      <td>68.267223</td>\n    </tr>\n    <tr>\n      <th>2022-04-20</th>\n      <td>6.235212e+01</td>\n      <td>63.279981</td>\n    </tr>\n    <tr>\n      <th>2022-04-21</th>\n      <td>7.195485e+01</td>\n      <td>65.970568</td>\n    </tr>\n    <tr>\n      <th>2022-04-22</th>\n      <td>7.409947e+01</td>\n      <td>69.468813</td>\n    </tr>\n    <tr>\n      <th>2022-04-25</th>\n      <td>5.071742e+01</td>\n      <td>65.590579</td>\n    </tr>\n    <tr>\n      <th>2022-04-26</th>\n      <td>2.809709e+01</td>\n      <td>50.971327</td>\n    </tr>\n    <tr>\n      <th>2022-04-27</th>\n      <td>1.595298e+01</td>\n      <td>31.589165</td>\n    </tr>\n    <tr>\n      <th>2022-04-28</th>\n      <td>3.904282e+01</td>\n      <td>27.697631</td>\n    </tr>\n    <tr>\n      <th>2022-04-29</th>\n      <td>5.012594e+01</td>\n      <td>35.040582</td>\n    </tr>\n    <tr>\n      <th>2022-05-02</th>\n      <td>7.346767e+01</td>\n      <td>54.212147</td>\n    </tr>\n    <tr>\n      <th>2022-05-03</th>\n      <td>8.371117e+01</td>\n      <td>69.101595</td>\n    </tr>\n    <tr>\n      <th>2022-05-04</th>\n      <td>9.907641e+01</td>\n      <td>85.418416</td>\n    </tr>\n    <tr>\n      <th>2022-05-05</th>\n      <td>9.379977e+01</td>\n      <td>92.195782</td>\n    </tr>\n    <tr>\n      <th>2022-05-06</th>\n      <td>9.379977e+01</td>\n      <td>95.558650</td>\n    </tr>\n    <tr>\n      <th>2022-05-09</th>\n      <td>8.288772e+01</td>\n      <td>90.162422</td>\n    </tr>\n    <tr>\n      <th>2022-05-10</th>\n      <td>8.289902e+01</td>\n      <td>86.528839</td>\n    </tr>\n    <tr>\n      <th>2022-05-11</th>\n      <td>7.750462e+01</td>\n      <td>81.097121</td>\n    </tr>\n    <tr>\n      <th>2022-05-12</th>\n      <td>8.189707e+01</td>\n      <td>80.766903</td>\n    </tr>\n    <tr>\n      <th>2022-05-13</th>\n      <td>8.808599e+01</td>\n      <td>82.495892</td>\n    </tr>\n    <tr>\n      <th>2022-05-16</th>\n      <td>9.005834e+01</td>\n      <td>86.680465</td>\n    </tr>\n    <tr>\n      <th>2022-05-17</th>\n      <td>9.596684e+01</td>\n      <td>91.370388</td>\n    </tr>\n    <tr>\n      <th>2022-05-18</th>\n      <td>9.419323e+01</td>\n      <td>93.406135</td>\n    </tr>\n    <tr>\n      <th>2022-05-19</th>\n      <td>9.761528e+01</td>\n      <td>95.925117</td>\n    </tr>\n    <tr>\n      <th>2022-05-20</th>\n      <td>9.603240e+01</td>\n      <td>95.946972</td>\n    </tr>\n    <tr>\n      <th>2022-05-23</th>\n      <td>8.918399e+01</td>\n      <td>94.277224</td>\n    </tr>\n    <tr>\n      <th>2022-05-24</th>\n      <td>8.106236e+01</td>\n      <td>88.759581</td>\n    </tr>\n    <tr>\n      <th>2022-05-25</th>\n      <td>6.747498e+01</td>\n      <td>79.240441</td>\n    </tr>\n    <tr>\n      <th>2022-05-26</th>\n      <td>6.112394e+01</td>\n      <td>69.887093</td>\n    </tr>\n    <tr>\n      <th>2022-05-27</th>\n      <td>6.060958e+01</td>\n      <td>63.069500</td>\n    </tr>\n    <tr>\n      <th>2022-05-30</th>\n      <td>6.468785e+01</td>\n      <td>62.140456</td>\n    </tr>\n    <tr>\n      <th>2022-05-31</th>\n      <td>6.035307e+01</td>\n      <td>61.883501</td>\n    </tr>\n    <tr>\n      <th>2022-06-01</th>\n      <td>4.404767e+01</td>\n      <td>56.362866</td>\n    </tr>\n    <tr>\n      <th>2022-06-02</th>\n      <td>2.439149e+01</td>\n      <td>42.930747</td>\n    </tr>\n    <tr>\n      <th>2022-06-03</th>\n      <td>1.036599e+01</td>\n      <td>26.268386</td>\n    </tr>\n    <tr>\n      <th>2022-06-06</th>\n      <td>1.974055e+00</td>\n      <td>12.243846</td>\n    </tr>\n    <tr>\n      <th>2022-06-07</th>\n      <td>-9.592327e-14</td>\n      <td>4.113349</td>\n    </tr>\n    <tr>\n      <th>2022-06-08</th>\n      <td>1.285956e+00</td>\n      <td>1.086670</td>\n    </tr>\n    <tr>\n      <th>2022-06-09</th>\n      <td>1.285956e+00</td>\n      <td>0.857304</td>\n    </tr>\n    <tr>\n      <th>2022-06-10</th>\n      <td>3.066900e+00</td>\n      <td>1.879604</td>\n    </tr>\n    <tr>\n      <th>2022-06-13</th>\n      <td>7.502577e+00</td>\n      <td>3.951811</td>\n    </tr>\n    <tr>\n      <th>2022-06-14</th>\n      <td>7.946598e+00</td>\n      <td>6.172025</td>\n    </tr>\n    <tr>\n      <th>2022-06-15</th>\n      <td>8.237562e+00</td>\n      <td>7.895579</td>\n    </tr>\n    <tr>\n      <th>2022-06-16</th>\n      <td>2.766556e+00</td>\n      <td>6.316905</td>\n    </tr>\n    <tr>\n      <th>2022-06-17</th>\n      <td>2.322534e+00</td>\n      <td>4.442217</td>\n    </tr>\n    <tr>\n      <th>2022-06-20</th>\n      <td>2.506266e-01</td>\n      <td>1.779905</td>\n    </tr>\n    <tr>\n      <th>2022-06-21</th>\n      <td>3.468208e+00</td>\n      <td>2.013790</td>\n    </tr>\n    <tr>\n      <th>2022-06-22</th>\n      <td>6.082011e+00</td>\n      <td>3.266949</td>\n    </tr>\n    <tr>\n      <th>2022-06-23</th>\n      <td>8.286148e+00</td>\n      <td>5.945456</td>\n    </tr>\n    <tr>\n      <th>2022-06-24</th>\n      <td>4.817940e+00</td>\n      <td>6.395367</td>\n    </tr>\n    <tr>\n      <th>2022-06-27</th>\n      <td>4.390606e+00</td>\n      <td>5.831565</td>\n    </tr>\n    <tr>\n      <th>2022-06-28</th>\n      <td>4.372937e+00</td>\n      <td>4.527161</td>\n    </tr>\n    <tr>\n      <th>2022-06-29</th>\n      <td>5.194714e+00</td>\n      <td>4.652752</td>\n    </tr>\n    <tr>\n      <th>2022-06-30</th>\n      <td>4.849042e+00</td>\n      <td>4.805564</td>\n    </tr>\n    <tr>\n      <th>2022-07-01</th>\n      <td>4.602872e+00</td>\n      <td>4.882209</td>\n    </tr>\n    <tr>\n      <th>2022-07-04</th>\n      <td>4.143413e+00</td>\n      <td>4.531776</td>\n    </tr>\n    <tr>\n      <th>2022-07-05</th>\n      <td>3.766357e+00</td>\n      <td>4.170881</td>\n    </tr>\n    <tr>\n      <th>2022-07-06</th>\n      <td>1.826058e+00</td>\n      <td>3.245276</td>\n    </tr>\n    <tr>\n      <th>2022-07-07</th>\n      <td>1.463739e+00</td>\n      <td>2.352051</td>\n    </tr>\n    <tr>\n      <th>2022-07-08</th>\n      <td>3.107345e+00</td>\n      <td>2.132381</td>\n    </tr>\n    <tr>\n      <th>2022-07-11</th>\n      <td>1.000807e+01</td>\n      <td>4.859718</td>\n    </tr>\n    <tr>\n      <th>2022-07-12</th>\n      <td>1.718314e+01</td>\n      <td>10.099519</td>\n    </tr>\n    <tr>\n      <th>2022-07-13</th>\n      <td>2.143064e+01</td>\n      <td>16.207284</td>\n    </tr>\n    <tr>\n      <th>2022-07-14</th>\n      <td>1.529230e+01</td>\n      <td>17.968693</td>\n    </tr>\n    <tr>\n      <th>2022-07-15</th>\n      <td>1.118740e+01</td>\n      <td>15.970113</td>\n    </tr>\n    <tr>\n      <th>2022-07-18</th>\n      <td>4.053559e+00</td>\n      <td>10.177754</td>\n    </tr>\n    <tr>\n      <th>2022-07-19</th>\n      <td>4.506640e+00</td>\n      <td>6.582534</td>\n    </tr>\n    <tr>\n      <th>2022-07-20</th>\n      <td>4.269430e+00</td>\n      <td>4.276543</td>\n    </tr>\n    <tr>\n      <th>2022-07-21</th>\n      <td>4.505578e+00</td>\n      <td>4.427216</td>\n    </tr>\n    <tr>\n      <th>2022-07-22</th>\n      <td>3.454514e+00</td>\n      <td>4.076507</td>\n    </tr>\n    <tr>\n      <th>2022-07-25</th>\n      <td>8.641599e+00</td>\n      <td>5.533897</td>\n    </tr>\n    <tr>\n      <th>2022-07-26</th>\n      <td>8.184456e+00</td>\n      <td>6.760190</td>\n    </tr>\n    <tr>\n      <th>2022-07-27</th>\n      <td>9.101663e+00</td>\n      <td>8.642573</td>\n    </tr>\n    <tr>\n      <th>2022-07-28</th>\n      <td>1.081613e+00</td>\n      <td>6.122577</td>\n    </tr>\n    <tr>\n      <th>2022-07-29</th>\n      <td>5.266317e+00</td>\n      <td>5.149864</td>\n    </tr>\n    <tr>\n      <th>2022-08-01</th>\n      <td>1.673882e+01</td>\n      <td>7.695582</td>\n    </tr>\n    <tr>\n      <th>2022-08-02</th>\n      <td>3.204558e+01</td>\n      <td>18.016906</td>\n    </tr>\n    <tr>\n      <th>2022-08-03</th>\n      <td>6.119421e+01</td>\n      <td>36.659538</td>\n    </tr>\n    <tr>\n      <th>2022-08-04</th>\n      <td>8.197343e+01</td>\n      <td>58.404411</td>\n    </tr>\n    <tr>\n      <th>2022-08-05</th>\n      <td>1.000000e+02</td>\n      <td>81.055883</td>\n    </tr>\n    <tr>\n      <th>2022-08-08</th>\n      <td>9.852858e+01</td>\n      <td>93.500671</td>\n    </tr>\n    <tr>\n      <th>2022-08-09</th>\n      <td>9.547255e+01</td>\n      <td>98.000377</td>\n    </tr>\n    <tr>\n      <th>2022-08-10</th>\n      <td>9.547255e+01</td>\n      <td>96.491228</td>\n    </tr>\n    <tr>\n      <th>2022-08-11</th>\n      <td>8.974266e+01</td>\n      <td>93.562589</td>\n    </tr>\n    <tr>\n      <th>2022-08-12</th>\n      <td>8.439716e+01</td>\n      <td>89.870793</td>\n    </tr>\n    <tr>\n      <th>2022-08-15</th>\n      <td>7.719585e+01</td>\n      <td>83.778560</td>\n    </tr>\n    <tr>\n      <th>2022-08-16</th>\n      <td>6.961266e+01</td>\n      <td>77.068558</td>\n    </tr>\n    <tr>\n      <th>2022-08-17</th>\n      <td>6.287813e+01</td>\n      <td>69.895547</td>\n    </tr>\n    <tr>\n      <th>2022-08-18</th>\n      <td>5.733905e+01</td>\n      <td>63.276614</td>\n    </tr>\n    <tr>\n      <th>2022-08-19</th>\n      <td>4.995861e+01</td>\n      <td>56.725266</td>\n    </tr>\n  </tbody>\n</table>\n</div>"
     },
     "execution_count": 25,
     "metadata": {},
     "output_type": "execute_result"
    }
   ],
   "source": [
    "core.calc_stoch(prices, wrap=True)"
   ],
   "metadata": {
    "collapsed": false,
    "pycharm": {
     "name": "#%%\n"
    }
   }
  },
  {
   "cell_type": "code",
   "execution_count": 26,
   "outputs": [
    {
     "name": "stdout",
     "output_type": "stream",
     "text": [
      "Help on function STOCH in module talib._ta_lib:\n",
      "\n",
      "STOCH(...)\n",
      "    STOCH(high, low, close[, fastk_period=?, slowk_period=?, slowk_matype=?, slowd_period=?, slowd_matype=?])\n",
      "    \n",
      "    Stochastic (Momentum Indicators)\n",
      "    \n",
      "    Inputs:\n",
      "        prices: ['high', 'low', 'close']\n",
      "    Parameters:\n",
      "        fastk_period: 5\n",
      "        slowk_period: 3\n",
      "        slowk_matype: 0\n",
      "        slowd_period: 3\n",
      "        slowd_matype: 0\n",
      "    Outputs:\n",
      "        slowk\n",
      "        slowd\n"
     ]
    }
   ],
   "source": [
    "help(talib.STOCH)"
   ],
   "metadata": {
    "collapsed": false,
    "pycharm": {
     "name": "#%%\n"
    }
   }
  },
  {
   "cell_type": "code",
   "execution_count": 27,
   "outputs": [
    {
     "data": {
      "text/plain": "True"
     },
     "execution_count": 27,
     "metadata": {},
     "output_type": "execute_result"
    }
   ],
   "source": [
    "test_core(\"cci\", 20)"
   ],
   "metadata": {
    "collapsed": false,
    "pycharm": {
     "name": "#%%\n"
    }
   }
  },
  {
   "cell_type": "code",
   "execution_count": 28,
   "outputs": [
    {
     "name": "stdout",
     "output_type": "stream",
     "text": [
      "              result    target\n",
      "date                          \n",
      "2021-08-23       NaN  1.000000\n",
      "2021-08-24       NaN  0.913043\n",
      "2021-08-25       NaN -0.886792\n",
      "2021-08-26       NaN -1.000000\n",
      "2021-08-27       NaN  0.346154\n",
      "2021-08-30       NaN  1.000000\n",
      "2021-08-31       NaN -1.000000\n",
      "2021-09-01       NaN -0.484375\n",
      "2021-09-02       NaN -0.800000\n",
      "2021-09-03       NaN -0.852459\n",
      "2021-09-06       NaN  0.991071\n",
      "2021-09-07       NaN -1.000000\n",
      "2021-09-08       NaN -1.000000\n",
      "2021-09-09 -0.269526 -1.000000\n",
      "2021-09-10 -0.312383  0.400000\n",
      "2021-09-13 -0.330365  0.661290\n",
      "2021-09-14 -0.319221 -0.730769\n",
      "2021-09-15 -0.230445  0.242857\n",
      "2021-09-16 -0.302560 -0.663462\n",
      "2021-09-17 -0.445418 -1.000000\n",
      "2021-09-20 -0.302560  1.000000\n",
      "2021-09-21 -0.339391 -1.000000\n",
      "2021-09-22 -0.222724  0.833333\n",
      "2021-09-23 -0.151252  0.148148\n",
      "2021-09-24 -0.222043  0.000000\n",
      "2021-09-27 -0.084078  0.931507\n",
      "2021-09-28  0.057575  0.983146\n",
      "2021-09-29  0.076806 -0.730769\n",
      "2021-09-30 -0.023194 -1.000000\n",
      "2021-10-01 -0.020808  0.694690\n",
      "2021-10-04  0.047014  0.218750\n",
      "2021-10-05  0.054512  0.347826\n",
      "2021-10-06  0.084481 -0.243902\n",
      "2021-10-07  0.143154 -0.178571\n",
      "2021-10-08  0.023751 -0.671642\n",
      "2021-10-11  0.025375 -0.977273\n",
      "2021-10-12 -0.105578 -1.000000\n",
      "2021-10-13 -0.053442  0.878049\n",
      "2021-10-14  0.017986  1.000000\n",
      "2021-10-15 -0.048550  0.000000\n",
      "2021-10-18 -0.115798  0.041667\n",
      "2021-10-19 -0.125770 -0.870370\n",
      "2021-10-20 -0.125770 -1.000000\n",
      "2021-10-21 -0.103962  1.000000\n",
      "2021-10-22 -0.174595 -0.770115\n",
      "2021-10-25 -0.128011  1.000000\n",
      "2021-10-26 -0.147857 -0.521739\n",
      "2021-10-27 -0.206530 -1.000000\n",
      "2021-10-28 -0.102777  0.780899\n",
      "2021-10-29  0.028582  0.861751\n",
      "2021-11-01  0.028582 -1.000000\n",
      "2021-11-02 -0.105565 -1.000000\n",
      "2021-11-03 -0.190430 -0.188119\n",
      "2021-11-04 -0.119002  1.000000\n",
      "2021-11-05 -0.050550  1.000000\n",
      "2021-11-08 -0.059809 -1.000000\n",
      "2021-11-09 -0.021994 -0.470588\n",
      "2021-11-10 -0.164851 -1.000000\n",
      "2021-11-11 -0.120588 -0.150442\n",
      "2021-11-12 -0.234938 -0.600897\n",
      "2021-11-15 -0.178738  0.265060\n",
      "2021-11-16 -0.068700  0.540541\n",
      "2021-11-17 -0.109814  0.205298\n",
      "2021-11-18 -0.242796 -1.000000\n",
      "2021-11-19 -0.242796 -1.000000\n",
      "2021-11-22 -0.170285  0.015152\n",
      "2021-11-23 -0.228277 -1.000000\n",
      "2021-11-24 -0.336015 -0.508333\n",
      "2021-11-25 -0.336015  1.000000\n",
      "2021-11-26 -0.193158  1.000000\n",
      "2021-11-29 -0.109830  0.696000\n",
      "2021-11-30  0.033027  1.000000\n",
      "2021-12-01  0.079773  0.504000\n",
      "2021-12-02  0.194123  1.000000\n",
      "2021-12-03  0.103761 -1.000000\n",
      "2021-12-06 -0.006277 -1.000000\n",
      "2021-12-07  0.026016  0.657407\n",
      "2021-12-08  0.040794 -0.793103\n",
      "2021-12-09  0.040794 -1.000000\n",
      "2021-12-10  0.111141  1.000000\n",
      "2021-12-13  0.139892 -0.597484\n",
      "2021-12-14  0.118428 -0.808824\n",
      "2021-12-15  0.003632 -0.607143\n",
      "2021-12-16 -0.135514 -0.948052\n",
      "2021-12-17 -0.113800  1.000000\n",
      "2021-12-20 -0.256657 -1.000000\n",
      "2021-12-21 -0.315384 -0.318182\n",
      "2021-12-22 -0.403003 -0.226667\n",
      "2021-12-23 -0.395614 -0.896552\n",
      "2021-12-24 -0.333904 -0.136054\n",
      "2021-12-27 -0.452290 -1.000000\n",
      "2021-12-28 -0.465907 -0.983740\n",
      "2021-12-29 -0.432668 -0.534653\n",
      "2021-12-30 -0.432668  1.000000\n",
      "2021-12-31 -0.378302  0.163636\n",
      "2022-01-03 -0.360325 -0.557143\n",
      "2022-01-04 -0.357381 -0.565934\n",
      "2022-01-05 -0.275535  0.197802\n",
      "2022-01-06 -0.418392 -1.000000\n",
      "2022-01-07 -0.275535  1.000000\n",
      "2022-01-10 -0.324236 -1.000000\n",
      "2022-01-11 -0.369270 -0.857143\n",
      "2022-01-12 -0.290193  0.210526\n",
      "2022-01-13 -0.327012 -0.651515\n",
      "2022-01-14 -0.274491 -0.264706\n",
      "2022-01-17 -0.189288  0.209091\n",
      "2022-01-18 -0.126579  0.343284\n",
      "2022-01-19 -0.191514  0.090909\n",
      "2022-01-20 -0.193916  0.130000\n",
      "2022-01-21 -0.082692  1.000000\n",
      "2022-01-24 -0.055426 -0.184211\n",
      "2022-01-25 -0.103817 -0.479675\n",
      "2022-01-26 -0.101049 -0.961240\n",
      "2022-01-27 -0.161381  0.155340\n",
      "2022-01-28 -0.161381 -1.000000\n",
      "2022-01-31 -0.171585 -1.000000\n",
      "2022-02-01 -0.115195  1.000000\n",
      "2022-02-02 -0.020537  0.673684\n",
      "2022-02-03  0.028748  0.425287\n",
      "2022-02-04  0.051313  0.525000\n",
      "2022-02-07 -0.044636 -1.000000\n",
      "2022-02-08  0.015800  0.937008\n",
      "2022-02-09 -0.064915 -1.000000\n",
      "2022-02-10 -0.072851  0.888889\n",
      "2022-02-11 -0.063265 -0.050000\n",
      "2022-02-14 -0.039455 -0.146341\n",
      "2022-02-15  0.082580  0.747253\n",
      "2022-02-16  0.000056 -1.000000\n",
      "2022-02-17  0.000056 -1.000000\n",
      "2022-02-18  0.065532 -0.083333\n",
      "2022-02-21  0.065532  1.000000\n",
      "2022-02-22 -0.054017 -1.000000\n",
      "2022-02-23 -0.047920  0.510638\n",
      "2022-02-24 -0.156849 -1.000000\n",
      "2022-02-25 -0.017599  0.949495\n",
      "2022-02-28 -0.130747 -0.647059\n",
      "2022-03-01  0.012110  1.000000\n",
      "2022-03-02 -0.028525  0.320000\n",
      "2022-03-03  0.012709  0.527273\n",
      "2022-03-04  0.094590  1.000000\n",
      "2022-03-07  0.049549  0.116667\n",
      "2022-03-08  0.192406  1.000000\n",
      "2022-03-09  0.192406 -1.000000\n",
      "2022-03-10  0.269787  1.000000\n",
      "2022-03-11  0.269787  1.000000\n",
      "2022-03-14  0.355267  0.196721\n",
      "2022-03-15  0.390221  1.000000\n",
      "2022-03-16  0.467861  0.086957\n",
      "2022-03-17  0.328611 -1.000000\n",
      "2022-03-18  0.312618 -0.870968\n",
      "2022-03-21  0.225661 -0.217391\n",
      "2022-03-22  0.274233  1.000000\n",
      "2022-03-23  0.299428  0.880000\n",
      "2022-03-24  0.156570 -1.000000\n",
      "2022-03-25  0.215232  0.937931\n",
      "2022-03-28  0.072375 -1.000000\n",
      "2022-03-29  0.203633  0.837607\n",
      "2022-03-30  0.077582 -0.764706\n",
      "2022-03-31 -0.065275 -1.000000\n",
      "2022-04-01 -0.104243 -0.348837\n",
      "2022-04-04 -0.104243  1.000000\n",
      "2022-04-05 -0.094775  0.219512\n",
      "2022-04-06  0.047136  0.986755\n",
      "2022-04-07  0.071593 -0.528571\n",
      "2022-04-08  0.055253 -0.446154\n",
      "2022-04-11 -0.002124  0.196721\n",
      "2022-04-12 -0.009044  0.783133\n",
      "2022-04-13  0.082028  0.275000\n",
      "2022-04-14 -0.056396 -1.000000\n",
      "2022-04-15  0.057013  0.587719\n",
      "2022-04-18 -0.074245 -1.000000\n",
      "2022-04-19  0.022394  0.588235\n",
      "2022-04-20  0.165251  1.000000\n",
      "2022-04-21  0.240396  0.703196\n",
      "2022-04-22  0.180872  0.166667\n",
      "2022-04-25  0.093764 -1.000000\n",
      "2022-04-26  0.021729 -0.021739\n",
      "2022-04-27  0.084441  0.349398\n",
      "2022-04-28  0.165692  0.691358\n",
      "2022-04-29  0.090179 -0.860465\n",
      "2022-05-02  0.095008  0.850746\n",
      "2022-05-03  0.146794  1.000000\n",
      "2022-05-04  0.259206  0.573770\n",
      "2022-05-05  0.145798 -1.000000\n",
      "2022-05-06  0.288655  1.000000\n",
      "2022-05-09  0.202573 -0.616915\n",
      "2022-05-10  0.202573  1.000000\n",
      "2022-05-11  0.134150 -0.254717\n",
      "2022-05-12  0.057799 -0.902256\n",
      "2022-05-13  0.200656  1.000000\n",
      "2022-05-16  0.151944 -0.703704\n",
      "2022-05-17  0.166739  0.556522\n",
      "2022-05-18  0.062734 -0.764706\n",
      "2022-05-19  0.195624  1.000000\n",
      "2022-05-20  0.181759  0.656627\n",
      "2022-05-23  0.056639 -0.751678\n",
      "2022-05-24 -0.039965 -0.778689\n",
      "2022-05-25 -0.035592 -0.938776\n",
      "2022-05-26 -0.138533 -0.441176\n",
      "2022-05-27 -0.023039  1.000000\n",
      "2022-05-30 -0.142588 -0.673684\n",
      "2022-05-31 -0.189896 -0.917031\n",
      "2022-06-01 -0.153380 -0.391026\n",
      "2022-06-02 -0.296237 -1.000000\n",
      "2022-06-03 -0.308645 -0.877419\n",
      "2022-06-06 -0.403095 -0.765766\n",
      "2022-06-07 -0.419901 -1.000000\n",
      "2022-06-08 -0.505616 -0.200000\n",
      "2022-06-09 -0.623946 -1.000000\n",
      "2022-06-10 -0.528588  0.583333\n",
      "2022-06-13 -0.429915  0.602740\n",
      "2022-06-14 -0.429160 -0.928205\n",
      "2022-06-15 -0.351428  0.647059\n",
      "2022-06-16 -0.481923 -0.826923\n",
      "2022-06-17 -0.450998 -0.240741\n",
      "2022-06-20 -0.456925 -1.000000\n",
      "2022-06-21 -0.357566  1.000000\n",
      "2022-06-22 -0.299743 -0.190476\n",
      "2022-06-23 -0.280506 -0.608108\n",
      "2022-06-24 -0.297237 -1.000000\n",
      "2022-06-27 -0.236211 -0.145631\n",
      "2022-06-28 -0.190540  0.439394\n",
      "2022-06-29 -0.190540 -1.000000\n",
      "2022-06-30 -0.188881  0.606557\n",
      "2022-07-01 -0.303362 -1.000000\n",
      "2022-07-04 -0.303066 -0.924051\n",
      "2022-07-05 -0.346702  0.036145\n",
      "2022-07-06 -0.339422 -0.725000\n",
      "2022-07-07 -0.393655 -1.000000\n",
      "2022-07-08 -0.311095  0.155844\n",
      "2022-07-11 -0.311095  1.000000\n",
      "2022-07-12 -0.368918 -1.000000\n",
      "2022-07-13 -0.389311 -0.893617\n",
      "2022-07-14 -0.380320 -0.874126\n",
      "2022-07-15 -0.399680 -0.416667\n",
      "2022-07-18 -0.502494 -1.000000\n",
      "2022-07-19 -0.383446  0.666667\n",
      "2022-07-20 -0.446314 -0.273585\n",
      "2022-07-21 -0.421103 -0.647059\n",
      "2022-07-22 -0.409549 -0.762295\n",
      "2022-07-25 -0.340703  1.000000\n",
      "2022-07-26 -0.360346 -1.000000\n",
      "2022-07-27 -0.321966 -0.462687\n",
      "2022-07-28 -0.366669 -0.470000\n",
      "2022-07-29 -0.366669  1.000000\n",
      "2022-08-01 -0.239118  0.785714\n",
      "2022-08-02 -0.246717 -1.000000\n",
      "2022-08-03 -0.112851  1.000000\n",
      "2022-08-04 -0.052477  0.428571\n",
      "2022-08-05  0.090381  1.000000\n",
      "2022-08-08 -0.001195 -0.615385\n",
      "2022-08-09  0.005847 -0.175000\n",
      "2022-08-10  0.123494  1.000000\n",
      "2022-08-11  0.117054 -0.852459\n",
      "2022-08-12  0.023567 -0.308824\n",
      "2022-08-15  0.075089 -0.278689\n",
      "2022-08-16  0.043852 -0.900000\n",
      "2022-08-17  0.131270  0.753846\n",
      "2022-08-18  0.131270  1.000000\n",
      "2022-08-19  0.009671 -0.916667\n"
     ]
    },
    {
     "data": {
      "text/plain": "False"
     },
     "execution_count": 28,
     "metadata": {},
     "output_type": "execute_result"
    }
   ],
   "source": [
    "test_core(\"bop\", 14, verbose=True)"
   ],
   "metadata": {
    "collapsed": false,
    "pycharm": {
     "name": "#%%\n"
    }
   }
  },
  {
   "cell_type": "code",
   "execution_count": null,
   "outputs": [],
   "source": [],
   "metadata": {
    "collapsed": false,
    "pycharm": {
     "name": "#%%\n"
    }
   }
  }
 ],
 "metadata": {
  "kernelspec": {
   "display_name": "Python 3",
   "language": "python",
   "name": "python3"
  },
  "language_info": {
   "codemirror_mode": {
    "name": "ipython",
    "version": 2
   },
   "file_extension": ".py",
   "mimetype": "text/x-python",
   "name": "python",
   "nbconvert_exporter": "python",
   "pygments_lexer": "ipython2",
   "version": "2.7.6"
  }
 },
 "nbformat": 4,
 "nbformat_minor": 0
}
