{
 "cells": [
  {
   "cell_type": "markdown",
   "source": [
    "# Notebook to generate test_core.json"
   ],
   "metadata": {
    "collapsed": false
   },
   "id": "97e915e7e1ecc901"
  },
  {
   "cell_type": "code",
   "execution_count": 1,
   "outputs": [],
   "source": [
    "\n",
    "\n",
    "import json\n",
    "import inspect\n",
    "\n",
    "import project\n",
    "\n",
    "from mintalib import core\n",
    "\n"
   ],
   "metadata": {
    "collapsed": false,
    "ExecuteTime": {
     "start_time": "2023-09-16T15:49:00.903802Z"
    }
   },
   "id": "initial_id"
  },
  {
   "cell_type": "code",
   "execution_count": 10,
   "outputs": [
    {
     "data": {
      "text/plain": "[<function collections.namedtuple(typename, field_names, *, rename=False, defaults=None, module=None)>,\n <cyfunction check_size at 0x106227520>,\n <cyfunction get_series at 0x127b03e10>,\n <cyfunction wrap_function at 0x127b03ee0>,\n <cyfunction wrap_result at 0x127b87040>,\n <cyfunction calc_avgprice at 0x127b87110>,\n <cyfunction calc_typprice at 0x127b871e0>,\n <cyfunction calc_wclprice at 0x127b872b0>,\n <cyfunction calc_midprice at 0x127b87380>,\n <cyfunction calc_price at 0x127b87450>,\n <cyfunction crossover at 0x127b87520>,\n <cyfunction crossunder at 0x127b87a00>,\n <cyfunction flag_above at 0x127b87ad0>,\n <cyfunction flag_below at 0x127b87d40>,\n <cyfunction invert_flag at 0x127b87e10>,\n <cyfunction updown_flag at 0x127b87ee0>,\n <cyfunction where_flag at 0x127b8b040>,\n <cyfunction calc_log at 0x127b8b110>,\n <cyfunction calc_exp at 0x127b8b520>,\n <cyfunction calc_roc at 0x127b8b6c0>,\n <cyfunction calc_diff at 0x127b8b860>,\n <cyfunction calc_min at 0x127b8ba00>,\n <cyfunction calc_max at 0x127b8bba0>,\n <cyfunction calc_sum at 0x127b8bd40>,\n <cyfunction calc_mad at 0x127b8bee0>,\n <cyfunction calc_stdev at 0x127b8d110>,\n <cyfunction calc_sma at 0x127b8d2b0>,\n <cyfunction calc_ema at 0x127b8d450>,\n <cyfunction calc_rma at 0x127b8d5f0>,\n <cyfunction calc_wma at 0x127b8d790>,\n <cyfunction calc_dema at 0x127b8d930>,\n <cyfunction calc_tema at 0x127b8dad0>,\n <cyfunction calc_ma at 0x127b8dc70>,\n <cyfunction calc_rsi at 0x127b8de10>,\n <cyfunction calc_plusdi at 0x127b90040>,\n <cyfunction calc_minusdi at 0x127b901e0>,\n <cyfunction calc_adx at 0x127b902b0>,\n <cyfunction calc_trange at 0x127b90380>,\n <cyfunction calc_atr at 0x127b906c0>,\n <cyfunction calc_natr at 0x127b90790>,\n <cyfunction calc_latr at 0x127b90860>,\n <cyfunction calc_psar at 0x127b90930>,\n <cyfunction calc_cci at 0x127b90d40>,\n <cyfunction calc_cmf at 0x127b90ee0>,\n <cyfunction calc_mfi at 0x127b94110>,\n <cyfunction calc_bop at 0x127b942b0>,\n importlib._bootstrap.bbands_result,\n <cyfunction calc_bbands at 0x127b94450>,\n importlib._bootstrap.keltner_result,\n <cyfunction calc_keltner at 0x127b945f0>,\n <cyfunction efficiency_ratio at 0x127b94790>,\n <cyfunction calc_kama at 0x127b94930>,\n importlib._bootstrap.macd_result,\n <cyfunction calc_macd at 0x127b94a00>,\n importlib._bootstrap.ppo_result,\n <cyfunction calc_ppo at 0x127b94c70>,\n <cyfunction calc_slope at 0x127b99040>,\n <cyfunction calc_curve at 0x127b992b0>,\n importlib._bootstrap.stoch_result,\n <cyfunction calc_stoch at 0x127b99380>,\n <cyfunction streak_up at 0x127b99520>,\n <cyfunction streak_down at 0x127b996c0>,\n <cyfunction calc_eval at 0x127b99790>]"
     },
     "execution_count": 10,
     "metadata": {},
     "output_type": "execute_result"
    }
   ],
   "source": [
    "[v for k, v in vars(core).items() if callable(v) and k.islower() and not k.startswith(\"_\")]\n"
   ],
   "metadata": {
    "collapsed": false
   },
   "id": "d2a56658299c17e5"
  },
  {
   "cell_type": "code",
   "execution_count": 2,
   "outputs": [
    {
     "data": {
      "text/plain": "[<cyfunction calc_avgprice at 0x1235a4ee0>,\n <cyfunction calc_typprice at 0x1236d6040>,\n <cyfunction calc_wclprice at 0x1236d6110>,\n <cyfunction calc_midprice at 0x1236d61e0>,\n <cyfunction calc_price at 0x1236d62b0>,\n <cyfunction crossover at 0x1236d6380>,\n <cyfunction crossunder at 0x1236d6860>,\n <cyfunction flag_above at 0x1236d6930>,\n <cyfunction flag_below at 0x1236d6ba0>,\n <cyfunction invert_flag at 0x1236d6c70>,\n <cyfunction updown_flag at 0x1236d6d40>,\n <cyfunction calc_log at 0x1236d6ee0>,\n <cyfunction calc_exp at 0x1236d8380>,\n <cyfunction calc_roc at 0x1236d8520>,\n <cyfunction calc_diff at 0x1236d86c0>,\n <cyfunction calc_min at 0x1236d8860>,\n <cyfunction calc_max at 0x1236d8a00>,\n <cyfunction calc_sum at 0x1236d8ba0>,\n <cyfunction calc_mad at 0x1236d8d40>,\n <cyfunction calc_stdev at 0x1236d8ee0>,\n <cyfunction calc_sma at 0x1236db110>,\n <cyfunction calc_ema at 0x1236db2b0>,\n <cyfunction calc_rma at 0x1236db450>,\n <cyfunction calc_wma at 0x1236db5f0>,\n <cyfunction calc_dema at 0x1236db790>,\n <cyfunction calc_tema at 0x1236db930>,\n <cyfunction calc_ma at 0x1236dbad0>,\n <cyfunction calc_rsi at 0x1236dbc70>,\n <cyfunction calc_plusdi at 0x1236dbe10>,\n <cyfunction calc_minusdi at 0x1236de040>,\n <cyfunction calc_adx at 0x1236de110>,\n <cyfunction calc_trange at 0x1236de1e0>,\n <cyfunction calc_atr at 0x1236de520>,\n <cyfunction calc_natr at 0x1236de5f0>,\n <cyfunction calc_latr at 0x1236de6c0>,\n <cyfunction calc_psar at 0x1236de790>,\n <cyfunction calc_cci at 0x1236deba0>,\n <cyfunction calc_cmf at 0x1236ded40>,\n <cyfunction calc_mfi at 0x1236deee0>,\n <cyfunction calc_bop at 0x1236e1110>,\n <cyfunction calc_bbands at 0x1236e12b0>,\n <cyfunction calc_keltner at 0x1236e1450>,\n <cyfunction efficiency_ratio at 0x1236e15f0>,\n <cyfunction calc_kama at 0x1236e1790>,\n <cyfunction calc_macd at 0x1236e1860>,\n <cyfunction calc_ppo at 0x1236e1ad0>,\n <cyfunction calc_slope at 0x1236e1e10>,\n <cyfunction calc_curve at 0x1236e7110>,\n <cyfunction calc_stoch at 0x1236e71e0>,\n <cyfunction streak_up at 0x1236e7380>,\n <cyfunction streak_down at 0x1236e7520>,\n <cyfunction calc_eval at 0x1236e75f0>]"
     },
     "execution_count": 2,
     "metadata": {},
     "output_type": "execute_result"
    }
   ],
   "source": [
    "\n",
    "def core_functions(first_param=('series', 'prices')):\n",
    "    \"\"\" list of core functions \"\"\"\n",
    "\n",
    "    result = []\n",
    "    \n",
    "    for k, v in vars(core).items():\n",
    "        if k.startswith(\"_\") or not k.islower():\n",
    "            continue\n",
    "\n",
    "        if isinstance(v, type) or not callable(v):\n",
    "            continue\n",
    "\n",
    "        params = list(inspect.signature(v).parameters)\n",
    "\n",
    "        if not params or params[0] not in first_param:\n",
    "            continue\n",
    "\n",
    "        result.append(v)\n",
    "\n",
    "    return result\n",
    "\n",
    "functions = core_functions()\n",
    "functions"
   ],
   "metadata": {
    "collapsed": false,
    "ExecuteTime": {
     "end_time": "2023-09-16T15:49:01.197139Z",
     "start_time": "2023-09-16T15:49:01.184693Z"
    }
   },
   "id": "c36fdd12c55f1731"
  },
  {
   "cell_type": "code",
   "execution_count": 12,
   "outputs": [
    {
     "name": "stdout",
     "output_type": "stream",
     "text": [
      "{'name': 'calc_avgprice'}\n",
      "{'name': 'calc_typprice'}\n",
      "{'name': 'calc_wclprice'}\n",
      "{'name': 'calc_midprice'}\n",
      "{'name': 'calc_price'}\n",
      "{'name': 'crossover', 'item': 'close'}\n",
      "{'name': 'crossunder', 'item': 'close'}\n",
      "{'name': 'flag_above', 'item': 'close'}\n",
      "{'name': 'flag_below', 'item': 'close'}\n",
      "{'name': 'invert_flag', 'item': 'close'}\n",
      "{'name': 'updown_flag', 'item': 'close'}\n",
      "{'name': 'calc_log', 'item': 'close'}\n",
      "{'name': 'calc_exp', 'item': 'close'}\n",
      "{'name': 'calc_roc', 'item': 'close'}\n",
      "{'name': 'calc_diff', 'item': 'close'}\n",
      "{'name': 'calc_min', 'item': 'close', 'period': 20}\n",
      "{'name': 'calc_max', 'item': 'close', 'period': 20}\n",
      "{'name': 'calc_sum', 'item': 'close', 'period': 20}\n",
      "{'name': 'calc_mad', 'item': 'close'}\n",
      "{'name': 'calc_stdev', 'item': 'close'}\n",
      "{'name': 'calc_sma', 'item': 'close', 'period': 20}\n",
      "{'name': 'calc_ema', 'item': 'close', 'period': 20}\n",
      "{'name': 'calc_rma', 'item': 'close', 'period': 20}\n",
      "{'name': 'calc_wma', 'item': 'close', 'period': 20}\n",
      "{'name': 'calc_dema', 'item': 'close', 'period': 20}\n",
      "{'name': 'calc_tema', 'item': 'close'}\n",
      "{'name': 'calc_ma', 'item': 'close'}\n",
      "{'name': 'calc_rsi', 'item': 'close'}\n",
      "{'name': 'calc_plusdi'}\n",
      "{'name': 'calc_minusdi'}\n",
      "{'name': 'calc_adx'}\n",
      "{'name': 'calc_trange'}\n",
      "{'name': 'calc_atr'}\n",
      "{'name': 'calc_natr'}\n",
      "{'name': 'calc_latr'}\n",
      "{'name': 'calc_psar'}\n",
      "{'name': 'calc_cci'}\n",
      "{'name': 'calc_cmf'}\n",
      "{'name': 'calc_mfi'}\n",
      "{'name': 'calc_bop'}\n",
      "{'name': 'calc_bbands'}\n",
      "{'name': 'calc_keltner'}\n",
      "{'name': 'efficiency_ratio', 'item': 'close'}\n",
      "{'name': 'calc_kama', 'item': 'close'}\n",
      "{'name': 'calc_macd', 'item': 'close'}\n",
      "{'name': 'calc_ppo', 'item': 'close'}\n",
      "{'name': 'calc_slope', 'item': 'close'}\n",
      "{'name': 'calc_curve', 'item': 'close'}\n",
      "{'name': 'calc_stoch'}\n",
      "{'name': 'streak_up', 'item': 'close'}\n",
      "{'name': 'streak_down', 'item': 'close'}\n",
      "{'name': 'calc_eval', 'expr': 'close'}\n"
     ]
    }
   ],
   "source": [
    "TEST_DATA = []\n",
    "\n",
    "def default_value(param):\n",
    "    if param.name == 'expr':\n",
    "        return 'close'\n",
    "    if param.name == 'period':\n",
    "        return 20\n",
    "    raise ValueError(f\"No default value for {param.name} unknow!\")\n",
    "\n",
    "def process_func(func, verbose=False):\n",
    "    name = func.__qualname__\n",
    "\n",
    "    if verbose:\n",
    "            print(f\"processing {func.__name__} ...\")\n",
    "\n",
    "    kwds = dict(name=name)\n",
    "\n",
    "    signature = inspect.signature(func)\n",
    "    parameters = list(signature.parameters.values())\n",
    "\n",
    "    if verbose:\n",
    "        print(parameters)\n",
    "    \n",
    "    ftype = parameters[0].name\n",
    "\n",
    "    item = 'close' if ftype =='series' else None\n",
    "    if item is not None:\n",
    "        kwds.update(item=item)\n",
    "    \n",
    "    for param in parameters[1:]:\n",
    "        if param.default == param.empty:\n",
    "            dv = default_value(param)\n",
    "            kwds[param.name] = dv\n",
    "\n",
    "    print(kwds)\n",
    "\n",
    "    TEST_DATA.append(kwds)\n",
    "\n",
    "\n",
    "# functions = [core.calc_ema, core.calc_sma]\n",
    "\n",
    "for func in functions:\n",
    "    process_func(func)\n"
   ],
   "metadata": {
    "collapsed": false,
    "ExecuteTime": {
     "end_time": "2023-09-15T12:46:06.002862Z",
     "start_time": "2023-09-15T12:46:05.986661Z"
    }
   },
   "id": "f6cfc5aad6cfcd61"
  },
  {
   "cell_type": "code",
   "execution_count": 13,
   "outputs": [
    {
     "data": {
      "text/plain": "[{'name': 'calc_avgprice'},\n {'name': 'calc_typprice'},\n {'name': 'calc_wclprice'},\n {'name': 'calc_midprice'},\n {'name': 'calc_price'},\n {'name': 'crossover', 'item': 'close'},\n {'name': 'crossunder', 'item': 'close'},\n {'name': 'flag_above', 'item': 'close'},\n {'name': 'flag_below', 'item': 'close'},\n {'name': 'invert_flag', 'item': 'close'},\n {'name': 'updown_flag', 'item': 'close'},\n {'name': 'calc_log', 'item': 'close'},\n {'name': 'calc_exp', 'item': 'close'},\n {'name': 'calc_roc', 'item': 'close'},\n {'name': 'calc_diff', 'item': 'close'},\n {'name': 'calc_min', 'item': 'close', 'period': 20},\n {'name': 'calc_max', 'item': 'close', 'period': 20},\n {'name': 'calc_sum', 'item': 'close', 'period': 20},\n {'name': 'calc_mad', 'item': 'close'},\n {'name': 'calc_stdev', 'item': 'close'},\n {'name': 'calc_sma', 'item': 'close', 'period': 20},\n {'name': 'calc_ema', 'item': 'close', 'period': 20},\n {'name': 'calc_rma', 'item': 'close', 'period': 20},\n {'name': 'calc_wma', 'item': 'close', 'period': 20},\n {'name': 'calc_dema', 'item': 'close', 'period': 20},\n {'name': 'calc_tema', 'item': 'close'},\n {'name': 'calc_ma', 'item': 'close'},\n {'name': 'calc_rsi', 'item': 'close'},\n {'name': 'calc_plusdi'},\n {'name': 'calc_minusdi'},\n {'name': 'calc_adx'},\n {'name': 'calc_trange'},\n {'name': 'calc_atr'},\n {'name': 'calc_natr'},\n {'name': 'calc_latr'},\n {'name': 'calc_psar'},\n {'name': 'calc_cci'},\n {'name': 'calc_cmf'},\n {'name': 'calc_mfi'},\n {'name': 'calc_bop'},\n {'name': 'calc_bbands'},\n {'name': 'calc_keltner'},\n {'name': 'efficiency_ratio', 'item': 'close'},\n {'name': 'calc_kama', 'item': 'close'},\n {'name': 'calc_macd', 'item': 'close'},\n {'name': 'calc_ppo', 'item': 'close'},\n {'name': 'calc_slope', 'item': 'close'},\n {'name': 'calc_curve', 'item': 'close'},\n {'name': 'calc_stoch'},\n {'name': 'streak_up', 'item': 'close'},\n {'name': 'streak_down', 'item': 'close'},\n {'name': 'calc_eval', 'expr': 'close'}]"
     },
     "execution_count": 13,
     "metadata": {},
     "output_type": "execute_result"
    }
   ],
   "source": [
    "TEST_DATA"
   ],
   "metadata": {
    "collapsed": false,
    "ExecuteTime": {
     "end_time": "2023-09-15T12:46:07.575307Z",
     "start_time": "2023-09-15T12:46:07.551698Z"
    }
   },
   "id": "dfaab6dbc5770d3f"
  },
  {
   "cell_type": "code",
   "execution_count": 14,
   "outputs": [
    {
     "ename": "AssertionError",
     "evalue": "",
     "output_type": "error",
     "traceback": [
      "\u001B[0;31m---------------------------------------------------------------------------\u001B[0m",
      "\u001B[0;31mAssertionError\u001B[0m                            Traceback (most recent call last)",
      "Cell \u001B[0;32mIn[14], line 1\u001B[0m\n\u001B[0;32m----> 1\u001B[0m \u001B[38;5;28;01massert\u001B[39;00m \u001B[38;5;28;01mFalse\u001B[39;00m\n\u001B[1;32m      3\u001B[0m TEST_DATA \u001B[38;5;241m=\u001B[39m [\n\u001B[1;32m      4\u001B[0m    { \u001B[38;5;124m\"\u001B[39m\u001B[38;5;124mname\u001B[39m\u001B[38;5;124m\"\u001B[39m: \u001B[38;5;124m\"\u001B[39m\u001B[38;5;124mcalc_ema\u001B[39m\u001B[38;5;124m\"\u001B[39m, \u001B[38;5;124m\"\u001B[39m\u001B[38;5;124mitem\u001B[39m\u001B[38;5;124m\"\u001B[39m: \u001B[38;5;124m\"\u001B[39m\u001B[38;5;124mclose\u001B[39m\u001B[38;5;124m\"\u001B[39m, \u001B[38;5;124m\"\u001B[39m\u001B[38;5;124mperiod\u001B[39m\u001B[38;5;124m\"\u001B[39m: \u001B[38;5;241m20\u001B[39m },\n\u001B[1;32m      5\u001B[0m    { \u001B[38;5;124m\"\u001B[39m\u001B[38;5;124mname\u001B[39m\u001B[38;5;124m\"\u001B[39m: \u001B[38;5;124m\"\u001B[39m\u001B[38;5;124mcalc_sma\u001B[39m\u001B[38;5;124m\"\u001B[39m, \u001B[38;5;124m\"\u001B[39m\u001B[38;5;124mitem\u001B[39m\u001B[38;5;124m\"\u001B[39m: \u001B[38;5;124m\"\u001B[39m\u001B[38;5;124mclose\u001B[39m\u001B[38;5;124m\"\u001B[39m, \u001B[38;5;124m\"\u001B[39m\u001B[38;5;124mperiod\u001B[39m\u001B[38;5;124m\"\u001B[39m: \u001B[38;5;241m20\u001B[39m },\n\u001B[1;32m      6\u001B[0m ]\n\u001B[1;32m      8\u001B[0m TEST_DATA\n",
      "\u001B[0;31mAssertionError\u001B[0m: "
     ]
    }
   ],
   "source": [
    "assert False\n",
    "\n",
    "TEST_DATA = [\n",
    "   { \"name\": \"calc_ema\", \"item\": \"close\", \"period\": 20 },\n",
    "   { \"name\": \"calc_sma\", \"item\": \"close\", \"period\": 20 },\n",
    "]\n",
    "\n",
    "TEST_DATA"
   ],
   "metadata": {
    "collapsed": false,
    "ExecuteTime": {
     "end_time": "2023-09-15T12:46:08.886087Z",
     "start_time": "2023-09-15T12:46:08.746904Z"
    }
   },
   "id": "1175cedd65774482"
  },
  {
   "cell_type": "code",
   "execution_count": 34,
   "outputs": [
    {
     "name": "stdout",
     "output_type": "stream",
     "text": [
      "Updating funcs-tests.json ...\n"
     ]
    },
    {
     "data": {
      "text/plain": "2923"
     },
     "execution_count": 34,
     "metadata": {},
     "output_type": "execute_result"
    }
   ],
   "source": [
    "OUTFILE = \"data/test_core.json\"\n",
    "\n",
    "output = json.dumps(TEST_DATA, indent=4)\n",
    "\n",
    "outfile = project.testdir.joinpath(OUTFILE)\n",
    "\n",
    "print(f\"Updating {outfile.name} ...\")\n",
    "\n",
    "outfile.write_text(output)"
   ],
   "metadata": {
    "collapsed": false,
    "ExecuteTime": {
     "end_time": "2023-09-15T12:32:41.939655Z",
     "start_time": "2023-09-15T12:32:41.921617Z"
    }
   },
   "id": "44f0063a76f846bc"
  },
  {
   "cell_type": "code",
   "execution_count": null,
   "outputs": [],
   "source": [],
   "metadata": {
    "collapsed": false
   },
   "id": "e336f017be516760"
  }
 ],
 "metadata": {
  "kernelspec": {
   "display_name": "Python 3",
   "language": "python",
   "name": "python3"
  },
  "language_info": {
   "codemirror_mode": {
    "name": "ipython",
    "version": 2
   },
   "file_extension": ".py",
   "mimetype": "text/x-python",
   "name": "python",
   "nbconvert_exporter": "python",
   "pygments_lexer": "ipython2",
   "version": "2.7.6"
  }
 },
 "nbformat": 4,
 "nbformat_minor": 5
}
