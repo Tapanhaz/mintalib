{
 "cells": [
  {
   "cell_type": "markdown",
   "source": [
    "# Notebook to generate functions module"
   ],
   "metadata": {
    "collapsed": false
   }
  },
  {
   "cell_type": "code",
   "execution_count": 35,
   "outputs": [],
   "source": [
    "import inspect\n",
    "import project\n",
    "\n",
    "from mintalib import core\n"
   ],
   "metadata": {
    "collapsed": false,
    "ExecuteTime": {
     "end_time": "2023-09-10T07:50:48.516422Z",
     "start_time": "2023-09-10T07:50:48.484290Z"
    }
   }
  },
  {
   "cell_type": "code",
   "execution_count": 36,
   "outputs": [
    {
     "data": {
      "text/plain": "<cyfunction calc_eval at 0x10ee43c70>"
     },
     "execution_count": 36,
     "metadata": {},
     "output_type": "execute_result"
    }
   ],
   "source": [
    "core.calc_eval"
   ],
   "metadata": {
    "collapsed": false,
    "ExecuteTime": {
     "end_time": "2023-09-10T07:50:48.837070Z",
     "start_time": "2023-09-10T07:50:48.819301Z"
    }
   }
  },
  {
   "cell_type": "code",
   "execution_count": 37,
   "outputs": [
    {
     "name": "stdout",
     "output_type": "stream",
     "text": [
      "['calc_avgprice', 'calc_typprice', 'calc_wclprice', 'calc_midprice', 'calc_price', 'crossover', 'crossunder', 'flag_above', 'flag_below', 'invert_flag', 'updown_flag', 'calc_log', 'calc_exp', 'calc_roc', 'calc_diff', 'calc_min', 'calc_max', 'calc_sum', 'calc_mad', 'calc_stdev', 'calc_sma', 'calc_ema', 'calc_rma', 'calc_wma', 'calc_dema', 'calc_tema', 'calc_ma', 'calc_rsi', 'calc_plusdi', 'calc_minusdi', 'calc_adx', 'calc_trange', 'calc_atr', 'calc_natr', 'calc_latr', 'calc_psar', 'calc_cci', 'calc_cmf', 'calc_mfi', 'calc_bop', 'calc_bbands', 'calc_keltner', 'efficiency_ratio', 'calc_kama', 'calc_macd', 'calc_ppo', 'calc_slope', 'calc_curve', 'calc_stoch', 'streak_up', 'streak_down', 'calc_eval']\n"
     ]
    }
   ],
   "source": [
    "\n",
    "\n",
    "def core_functions(first_param=('series', 'prices')):\n",
    "    \"\"\" list of core functions \"\"\"\n",
    "\n",
    "    result = []\n",
    "    \n",
    "    for k, v in vars(core).items():\n",
    "        if k.startswith(\"_\") or not k.islower():\n",
    "            continue\n",
    "\n",
    "        if isinstance(v, type) or not callable(v):\n",
    "            continue\n",
    "\n",
    "        params = list(inspect.signature(v).parameters)\n",
    "\n",
    "        if params[0] not in first_param:\n",
    "            continue\n",
    "\n",
    "        result.append(k)\n",
    "\n",
    "    return result\n",
    "\n",
    "\n",
    "print(core_functions())"
   ],
   "metadata": {
    "collapsed": false,
    "ExecuteTime": {
     "end_time": "2023-09-10T07:50:49.205751Z",
     "start_time": "2023-09-10T07:50:49.193112Z"
    }
   }
  },
  {
   "cell_type": "code",
   "execution_count": 38,
   "outputs": [
    {
     "name": "stdout",
     "output_type": "stream",
     "text": [
      "@wrap_function(core.calc_ema)\n",
      "def EMA(series, period: int, *, adjust: bool = False, item: str = None):\n",
      "    series = get_series(series, item=item)\n",
      "    result = core.calc_ema(series, period=period, adjust=adjust)\n",
      "    return wrap_result(result, series)\n"
     ]
    }
   ],
   "source": [
    "def make_function(func, verbose=False):\n",
    "    fname = func.__qualname__\n",
    "    module = func.__module__.rpartition('.')[2]\n",
    "    qname = f\"{module}.{fname}\"\n",
    "    indent  = \" \" * 4\n",
    "\n",
    "    signature = inspect.signature(func)\n",
    "    parameters = list(signature.parameters.values())\n",
    "    Parameter = inspect.Parameter\n",
    "\n",
    "    if verbose:\n",
    "        print(\"signature\", signature)\n",
    "        print(\"parameters\", parameters)\n",
    "\n",
    "    newparams = []\n",
    "    extras = dict()\n",
    "    ftype = parameters[0].name\n",
    "    \n",
    "    def annotate(p):\n",
    "        if p.name in ['period']:\n",
    "            return p.replace(annotation=int)\n",
    "\n",
    "        if p.annotation == 'str':\n",
    "            return p.replace(annotation=str)\n",
    "\n",
    "        if type(p.default) in (int, float, bool):\n",
    "            return p.replace(annotation=type(p.default))\n",
    "        \n",
    "        return p\n",
    "\n",
    "    for i, p in enumerate(parameters):\n",
    "        if p.name == 'wrap':\n",
    "            # extras.update(wrap=True)\n",
    "            continue\n",
    "\n",
    "        p = annotate(p)\n",
    "        newparams.append(p)\n",
    "\n",
    "    if ftype == 'series':\n",
    "        default = None\n",
    "        p = Parameter('item', Parameter.KEYWORD_ONLY, default=default, annotation=str)\n",
    "        newparams.append(p)\n",
    "\n",
    "    if verbose:\n",
    "        print(\"newparams\", newparams)\n",
    "        print(\"extras\", extras)\n",
    "\n",
    "    newsig = inspect.Signature(newparams)\n",
    "\n",
    "    name = func.__name__.upper()\n",
    "    if name.startswith(\"CALC_\"):\n",
    "        name = name.partition('_')[2]\n",
    "\n",
    "    def argument(arg):\n",
    "        return ftype if arg == ftype else f\"{arg}={arg}\"\n",
    "\n",
    "    args = [argument(p.name) for p in newparams if p.name not in ['item']]\n",
    "    args += [f\"{k}={v!r}\" for k, v in extras.items()]\n",
    "    args = \", \".join(args)\n",
    "\n",
    "    code = \"\"\n",
    "    # code = \"# noinspection PyPep8Naming\\n\"\n",
    "\n",
    "    code += f\"@wrap_function({qname})\\n\"\n",
    "    code += f\"def {name}\" + str(newsig) + \":\\n\"\n",
    "\n",
    "    if ftype == 'series':\n",
    "        code += indent + \"series = get_series(series, item=item)\\n\"\n",
    "\n",
    "    code += indent + f\"result = {qname}({args})\\n\"\n",
    "    code += indent + f\"return wrap_result(result, {ftype})\\n\"\n",
    "\n",
    "    return code\n",
    "\n",
    "\n",
    "print(make_function(core.calc_ema))\n",
    "#print(make_function(core.calc_slope))\n",
    "#print(make_function(core.calc_price))\n",
    "\n"
   ],
   "metadata": {
    "collapsed": false,
    "ExecuteTime": {
     "end_time": "2023-09-10T07:50:49.572281Z",
     "start_time": "2023-09-10T07:50:49.559790Z"
    }
   }
  },
  {
   "cell_type": "code",
   "execution_count": 39,
   "outputs": [
    {
     "name": "stdout",
     "output_type": "stream",
     "text": [
      "# Do not edit. File was generated by make-functions!\n",
      "\n",
      "from . import core\n",
      "from .utils import get_series, wrap_function, wrap_result\n",
      "\n",
      "nan: float = float('NAN')\n",
      "\n",
      "\n",
      "@wrap_function(core.calc_avgprice)\n",
      "def AVGPRICE(prices):\n",
      "    result = core.calc_avgprice(prices) ...\n"
     ]
    }
   ],
   "source": [
    "def make_functions():\n",
    "    buffer = \"# Do not edit. File was generated by make-functions!\\n\\n\"\n",
    "\n",
    "    buffer += \"from . import core\\n\"\n",
    "    buffer += \"from .utils import get_series, wrap_function, wrap_result\\n\\n\"\n",
    "    buffer += \"nan: float = float('NAN')\\n\"\n",
    "    buffer += \"\\n\\n\"\n",
    "\n",
    "    names = core_functions()\n",
    "\n",
    "    for name in names:\n",
    "        func = getattr(core, name)\n",
    "        text = make_function(func)\n",
    "        buffer += text + \"\\n\\n\"\n",
    "\n",
    "    buffer += \"__all__ = [n for n in dir() if n.isupper()]\\n\"\n",
    "\n",
    "    return buffer\n",
    "\n",
    "code = make_functions()\n",
    "print(code[:256], \"...\")\n",
    "\n",
    "\n",
    "\n"
   ],
   "metadata": {
    "collapsed": false,
    "pycharm": {
     "name": "#%%\n"
    },
    "ExecuteTime": {
     "end_time": "2023-09-10T07:50:49.882009Z",
     "start_time": "2023-09-10T07:50:49.863546Z"
    }
   }
  },
  {
   "cell_type": "code",
   "execution_count": 40,
   "outputs": [
    {
     "data": {
      "text/plain": "{'__name__': 'mintalib.indicators',\n '__doc__': None,\n '__package__': 'mintalib',\n '__loader__': None,\n '__spec__': ModuleSpec(name='mintalib.indicators', loader=None),\n '__builtins__': {'__name__': 'builtins',\n  '__doc__': \"Built-in functions, exceptions, and other objects.\\n\\nNoteworthy: None is the `nil' object; Ellipsis represents `...' in slices.\",\n  '__package__': '',\n  '__loader__': _frozen_importlib.BuiltinImporter,\n  '__spec__': ModuleSpec(name='builtins', loader=<class '_frozen_importlib.BuiltinImporter'>),\n  '__build_class__': <function __build_class__>,\n  '__import__': <function __import__>,\n  'abs': <function abs(x, /)>,\n  'all': <function all(iterable, /)>,\n  'any': <function any(iterable, /)>,\n  'ascii': <function ascii(obj, /)>,\n  'bin': <function bin(number, /)>,\n  'breakpoint': <function breakpoint>,\n  'callable': <function callable(obj, /)>,\n  'chr': <function chr(i, /)>,\n  'compile': <function compile(source, filename, mode, flags=0, dont_inherit=False, optimize=-1, *, _feature_version=-1)>,\n  'delattr': <function delattr(obj, name, /)>,\n  'dir': <function dir>,\n  'divmod': <function divmod(x, y, /)>,\n  'eval': <function eval(source, globals=None, locals=None, /)>,\n  'exec': <function exec(source, globals=None, locals=None, /)>,\n  'format': <function format(value, format_spec='', /)>,\n  'getattr': <function getattr>,\n  'globals': <function globals()>,\n  'hasattr': <function hasattr(obj, name, /)>,\n  'hash': <function hash(obj, /)>,\n  'hex': <function hex(number, /)>,\n  'id': <function id(obj, /)>,\n  'input': <bound method Kernel.raw_input of <ipykernel.ipkernel.IPythonKernel object at 0x107d2c460>>,\n  'isinstance': <function isinstance(obj, class_or_tuple, /)>,\n  'issubclass': <function issubclass(cls, class_or_tuple, /)>,\n  'iter': <function iter>,\n  'len': <function len(obj, /)>,\n  'locals': <function locals()>,\n  'max': <function max>,\n  'min': <function min>,\n  'next': <function next>,\n  'oct': <function oct(number, /)>,\n  'ord': <function ord(c, /)>,\n  'pow': <function pow(base, exp, mod=None)>,\n  'print': <function print>,\n  'repr': <function repr(obj, /)>,\n  'round': <function round(number, ndigits=None)>,\n  'setattr': <function setattr(obj, name, value, /)>,\n  'sorted': <function sorted(iterable, /, *, key=None, reverse=False)>,\n  'sum': <function sum(iterable, /, start=0)>,\n  'vars': <function vars>,\n  'None': None,\n  'Ellipsis': Ellipsis,\n  'NotImplemented': NotImplemented,\n  'False': False,\n  'True': True,\n  'bool': bool,\n  'memoryview': memoryview,\n  'bytearray': bytearray,\n  'bytes': bytes,\n  'classmethod': classmethod,\n  'complex': complex,\n  'dict': dict,\n  'enumerate': enumerate,\n  'filter': filter,\n  'float': float,\n  'frozenset': frozenset,\n  'property': property,\n  'int': int,\n  'list': list,\n  'map': map,\n  'object': object,\n  'range': range,\n  'reversed': reversed,\n  'set': set,\n  'slice': slice,\n  'staticmethod': staticmethod,\n  'str': str,\n  'super': super,\n  'tuple': tuple,\n  'type': type,\n  'zip': zip,\n  '__debug__': True,\n  'BaseException': BaseException,\n  'Exception': Exception,\n  'TypeError': TypeError,\n  'StopAsyncIteration': StopAsyncIteration,\n  'StopIteration': StopIteration,\n  'GeneratorExit': GeneratorExit,\n  'SystemExit': SystemExit,\n  'KeyboardInterrupt': KeyboardInterrupt,\n  'ImportError': ImportError,\n  'ModuleNotFoundError': ModuleNotFoundError,\n  'OSError': OSError,\n  'EnvironmentError': OSError,\n  'IOError': OSError,\n  'EOFError': EOFError,\n  'RuntimeError': RuntimeError,\n  'RecursionError': RecursionError,\n  'NotImplementedError': NotImplementedError,\n  'NameError': NameError,\n  'UnboundLocalError': UnboundLocalError,\n  'AttributeError': AttributeError,\n  'SyntaxError': SyntaxError,\n  'IndentationError': IndentationError,\n  'TabError': TabError,\n  'LookupError': LookupError,\n  'IndexError': IndexError,\n  'KeyError': KeyError,\n  'ValueError': ValueError,\n  'UnicodeError': UnicodeError,\n  'UnicodeEncodeError': UnicodeEncodeError,\n  'UnicodeDecodeError': UnicodeDecodeError,\n  'UnicodeTranslateError': UnicodeTranslateError,\n  'AssertionError': AssertionError,\n  'ArithmeticError': ArithmeticError,\n  'FloatingPointError': FloatingPointError,\n  'OverflowError': OverflowError,\n  'ZeroDivisionError': ZeroDivisionError,\n  'SystemError': SystemError,\n  'ReferenceError': ReferenceError,\n  'MemoryError': MemoryError,\n  'BufferError': BufferError,\n  'Warning': Warning,\n  'UserWarning': UserWarning,\n  'DeprecationWarning': DeprecationWarning,\n  'PendingDeprecationWarning': PendingDeprecationWarning,\n  'SyntaxWarning': SyntaxWarning,\n  'RuntimeWarning': RuntimeWarning,\n  'FutureWarning': FutureWarning,\n  'ImportWarning': ImportWarning,\n  'UnicodeWarning': UnicodeWarning,\n  'BytesWarning': BytesWarning,\n  'ResourceWarning': ResourceWarning,\n  'ConnectionError': ConnectionError,\n  'BlockingIOError': BlockingIOError,\n  'BrokenPipeError': BrokenPipeError,\n  'ChildProcessError': ChildProcessError,\n  'ConnectionAbortedError': ConnectionAbortedError,\n  'ConnectionRefusedError': ConnectionRefusedError,\n  'ConnectionResetError': ConnectionResetError,\n  'FileExistsError': FileExistsError,\n  'FileNotFoundError': FileNotFoundError,\n  'IsADirectoryError': IsADirectoryError,\n  'NotADirectoryError': NotADirectoryError,\n  'InterruptedError': InterruptedError,\n  'PermissionError': PermissionError,\n  'ProcessLookupError': ProcessLookupError,\n  'TimeoutError': TimeoutError,\n  'open': <function io.open(file, mode='r', buffering=-1, encoding=None, errors=None, newline=None, closefd=True, opener=None)>,\n  'copyright': Copyright (c) 2001-2023 Python Software Foundation.\n  All Rights Reserved.\n  \n  Copyright (c) 2000 BeOpen.com.\n  All Rights Reserved.\n  \n  Copyright (c) 1995-2001 Corporation for National Research Initiatives.\n  All Rights Reserved.\n  \n  Copyright (c) 1991-1995 Stichting Mathematisch Centrum, Amsterdam.\n  All Rights Reserved.,\n  'credits':     Thanks to CWI, CNRI, BeOpen.com, Zope Corporation and a cast of thousands\n      for supporting Python development.  See www.python.org for more information.,\n  'license': Type license() to see the full license text,\n  'help': Type help() for interactive help, or help(object) for help about object.,\n  'execfile': <function _pydev_bundle._pydev_execfile.execfile(file, glob=None, loc=None)>,\n  'runfile': <function _pydev_bundle.pydev_umd.runfile(filename, args=None, wdir=None, namespace=None)>,\n  '__IPYTHON__': True,\n  'display': <function IPython.core.display_functions.display(*objs, include=None, exclude=None, metadata=None, transient=None, display_id=None, raw=False, clear=False, **kwargs)>,\n  'get_ipython': <bound method InteractiveShell.get_ipython of <ipykernel.zmqshell.ZMQInteractiveShell object at 0x107d2c9a0>>},\n '__annotations__': {'nan': float},\n 'core': <module 'mintalib.core' from '/Users/frederic/Documents/Projects/mintalib/src/mintalib/core.cpython-38-darwin.so'>,\n 'get_series': <function mintalib.utils.get_series(data, item=None, *, default_item='close')>,\n 'wrap_function': <function mintalib.utils.wrap_function(source)>,\n 'wrap_result': <function mintalib.utils.wrap_result(result, source)>,\n 'nan': nan,\n 'AVGPRICE': <function mintalib.indicators.AVGPRICE(prices)>,\n 'TYPPRICE': <function mintalib.indicators.TYPPRICE(prices)>,\n 'WCLPRICE': <function mintalib.indicators.WCLPRICE(prices)>,\n 'MIDPRICE': <function mintalib.indicators.MIDPRICE(prices)>,\n 'PRICE': <function mintalib.indicators.PRICE(prices, item: str = None)>,\n 'CROSSOVER': <function mintalib.indicators.CROSSOVER(series, level: float = 0.0, *, item: str = None)>,\n 'CROSSUNDER': <function mintalib.indicators.CROSSUNDER(series, level: float = 0.0, *, item: str = None)>,\n 'FLAG_ABOVE': <function mintalib.indicators.FLAG_ABOVE(series, level: float = 0.0, *, na_value: float = nan, item: str = None)>,\n 'FLAG_BELOW': <function mintalib.indicators.FLAG_BELOW(series, level: float = 0.0, *, na_value: float = nan, item: str = None)>,\n 'INVERT_FLAG': <function mintalib.indicators.INVERT_FLAG(series, *, na_value: float = nan, item: str = None)>,\n 'UPDOWN_FLAG': <function mintalib.indicators.UPDOWN_FLAG(series, up_level: float = 0.0, down_level: float = 0.0, *, up_flag: float = 1.0, down_flag: float = 0.0, start_flag: float = nan, item: str = None)>,\n 'LOG': <function mintalib.indicators.LOG(series, *, item: str = None)>,\n 'EXP': <function mintalib.indicators.EXP(series, *, item: str = None)>,\n 'ROC': <function mintalib.indicators.ROC(series, period: int = 1, *, item: str = None)>,\n 'DIFF': <function mintalib.indicators.DIFF(series, period: int = 1, *, item: str = None)>,\n 'MIN': <function mintalib.indicators.MIN(series, period: int, *, item: str = None)>,\n 'MAX': <function mintalib.indicators.MAX(series, period: int, *, item: str = None)>,\n 'SUM': <function mintalib.indicators.SUM(series, period: int, *, item: str = None)>,\n 'MAD': <function mintalib.indicators.MAD(series, period: int = 20, *, item: str = None)>,\n 'STDEV': <function mintalib.indicators.STDEV(series, period: int = 20, *, item: str = None)>,\n 'SMA': <function mintalib.indicators.SMA(series, period: int, *, item: str = None)>,\n 'EMA': <function mintalib.indicators.EMA(series, period: int, *, adjust: bool = False, item: str = None)>,\n 'RMA': <function mintalib.indicators.RMA(series, period: int, *, item: str = None)>,\n 'WMA': <function mintalib.indicators.WMA(series, period: int, *, item: str = None)>,\n 'DEMA': <function mintalib.indicators.DEMA(series, period: int, *, item: str = None)>,\n 'TEMA': <function mintalib.indicators.TEMA(series, period: int = 20, *, item: str = None)>,\n 'MA': <function mintalib.indicators.MA(series, period: int = 20, *, ma_type: str = None, item: str = None)>,\n 'RSI': <function mintalib.indicators.RSI(series, period: int = 14, *, item: str = None)>,\n 'PLUSDI': <function mintalib.indicators.PLUSDI(prices, period: int = 14)>,\n 'MINUSDI': <function mintalib.indicators.MINUSDI(prices, period: int = 14)>,\n 'ADX': <function mintalib.indicators.ADX(prices, period: int = 14)>,\n 'TRANGE': <function mintalib.indicators.TRANGE(prices, *, log_prices: bool = False, percent: bool = False)>,\n 'ATR': <function mintalib.indicators.ATR(prices, period: int = 14)>,\n 'NATR': <function mintalib.indicators.NATR(prices, period: int = 14)>,\n 'LATR': <function mintalib.indicators.LATR(prices, period: int = 14)>,\n 'PSAR': <function mintalib.indicators.PSAR(prices, afs: float = 0.02, maxaf: float = 0.2)>,\n 'CCI': <function mintalib.indicators.CCI(prices, period: int = 20)>,\n 'CMF': <function mintalib.indicators.CMF(prices, period: int = 20)>,\n 'MFI': <function mintalib.indicators.MFI(prices, period: int = 14)>,\n 'BOP': <function mintalib.indicators.BOP(prices, period: int = 20)>,\n 'BBANDS': <function mintalib.indicators.BBANDS(prices, period: int = 20, nbdev: float = 2.0)>,\n 'KELTNER': <function mintalib.indicators.KELTNER(prices, period: int = 20, nbatr: float = 2.0)>,\n 'EFFICIENCY_RATIO': <function mintalib.indicators.EFFICIENCY_RATIO(series, period: int = 10, *, item: str = None)>,\n 'KAMA': <function mintalib.indicators.KAMA(series, period: int = 10, fastn: int = 2, slown: int = 30, *, item: str = None)>,\n 'MACD': <function mintalib.indicators.MACD(series, n1: int = 12, n2: int = 26, n3: int = 9, *, item: str = None)>,\n 'PPO': <function mintalib.indicators.PPO(series, n1: int = 12, n2: int = 26, n3: int = 9, *, item: str = None)>,\n 'SLOPE': <function mintalib.indicators.SLOPE(series, period: int = 20, *, option: int = 0, offset: int = 0, item: str = None)>,\n 'CURVE': <function mintalib.indicators.CURVE(series, period: int = 20, *, option: int = 0, offset: int = 0, item: str = None)>,\n 'STOCH': <function mintalib.indicators.STOCH(prices, period: int = 14, fastn: int = 3, slown: int = 3)>,\n 'STREAK_UP': <function mintalib.indicators.STREAK_UP(series, *, item: str = None)>,\n 'STREAK_DOWN': <function mintalib.indicators.STREAK_DOWN(series, *, item: str = None)>,\n 'EVAL': <function mintalib.indicators.EVAL(prices, expr: str)>,\n '__all__': ['ADX',\n  'ATR',\n  'AVGPRICE',\n  'BBANDS',\n  'BOP',\n  'CCI',\n  'CMF',\n  'CROSSOVER',\n  'CROSSUNDER',\n  'CURVE',\n  'DEMA',\n  'DIFF',\n  'EFFICIENCY_RATIO',\n  'EMA',\n  'EVAL',\n  'EXP',\n  'FLAG_ABOVE',\n  'FLAG_BELOW',\n  'INVERT_FLAG',\n  'KAMA',\n  'KELTNER',\n  'LATR',\n  'LOG',\n  'MA',\n  'MACD',\n  'MAD',\n  'MAX',\n  'MFI',\n  'MIDPRICE',\n  'MIN',\n  'MINUSDI',\n  'NATR',\n  'PLUSDI',\n  'PPO',\n  'PRICE',\n  'PSAR',\n  'RMA',\n  'ROC',\n  'RSI',\n  'SLOPE',\n  'SMA',\n  'STDEV',\n  'STOCH',\n  'STREAK_DOWN',\n  'STREAK_UP',\n  'SUM',\n  'TEMA',\n  'TRANGE',\n  'TYPPRICE',\n  'UPDOWN_FLAG',\n  'WCLPRICE',\n  'WMA']}"
     },
     "execution_count": 40,
     "metadata": {},
     "output_type": "execute_result"
    }
   ],
   "source": [
    "import importlib.util\n",
    "\n",
    "def new_module(name):\n",
    "    spec = importlib.util.spec_from_loader(name, None)\n",
    "    return importlib.util.module_from_spec(spec)\n",
    "\n",
    "functions = new_module(\"mintalib.indicators\")\n",
    "\n",
    "exec(code, functions.__dict__)\n",
    "\n",
    "vars(functions)\n"
   ],
   "metadata": {
    "collapsed": false,
    "ExecuteTime": {
     "end_time": "2023-09-10T07:50:50.353766Z",
     "start_time": "2023-09-10T07:50:50.335388Z"
    }
   }
  },
  {
   "cell_type": "code",
   "execution_count": 41,
   "outputs": [
    {
     "name": "stdout",
     "output_type": "stream",
     "text": [
      "Updating functions.py ...\n"
     ]
    },
    {
     "data": {
      "text/plain": "11066"
     },
     "execution_count": 41,
     "metadata": {},
     "output_type": "execute_result"
    }
   ],
   "source": [
    "outfile = project.pkgdir / \"functions.py\"\n",
    "\n",
    "print(f\"Updating {outfile.name} ...\")\n",
    "\n",
    "outfile.write_text(code)\n"
   ],
   "metadata": {
    "collapsed": false,
    "ExecuteTime": {
     "end_time": "2023-09-10T07:50:50.718992Z",
     "start_time": "2023-09-10T07:50:50.704565Z"
    }
   }
  },
  {
   "cell_type": "code",
   "execution_count": null,
   "outputs": [],
   "source": [],
   "metadata": {
    "collapsed": false,
    "pycharm": {
     "name": "#%%\n"
    }
   }
  }
 ],
 "metadata": {
  "kernelspec": {
   "display_name": "Python 3",
   "language": "python",
   "name": "python3"
  },
  "language_info": {
   "codemirror_mode": {
    "name": "ipython",
    "version": 2
   },
   "file_extension": ".py",
   "mimetype": "text/x-python",
   "name": "python",
   "nbconvert_exporter": "python",
   "pygments_lexer": "ipython2",
   "version": "2.7.6"
  }
 },
 "nbformat": 4,
 "nbformat_minor": 0
}
