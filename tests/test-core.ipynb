{
 "cells": [
  {
   "cell_type": "code",
   "execution_count": 1,
   "outputs": [],
   "source": [
    "import logging\n",
    "\n",
    "from numpy.testing import assert_allclose\n",
    "\n",
    "from mintalib import core\n",
    "from mintalib import reflib\n",
    "\n",
    "from mintalib.utils import random_walk\n",
    "from mintalib.samples import sample_prices\n",
    "from mintalib.helper import func_type\n",
    "\n",
    "logger = logging.getLogger(__name__)"
   ],
   "metadata": {
    "collapsed": false,
    "pycharm": {
     "name": "#%%\n"
    },
    "ExecuteTime": {
     "end_time": "2023-10-28T15:07:13.027726Z",
     "start_time": "2023-10-28T15:07:12.746827Z"
    }
   }
  },
  {
   "cell_type": "code",
   "execution_count": 2,
   "outputs": [
    {
     "data": {
      "text/plain": "                                 open        high         low       close  \\\ndate                                                                        \n2018-09-24 00:00:00-04:00   51.913947   52.977028   51.868454   52.864494   \n2018-09-25 00:00:00-04:00   52.615489   53.350551   52.603517   53.199707   \n2018-09-26 00:00:00-04:00   52.914789   53.573231   52.617890   52.775917   \n2018-09-27 00:00:00-04:00   53.589985   54.217299   53.522940   53.860542   \n2018-09-28 00:00:00-04:00   53.822241   54.073647   53.637880   54.049706   \n...                               ...         ...         ...         ...   \n2023-09-18 00:00:00-04:00  176.479996  179.380005  176.169998  177.970001   \n2023-09-19 00:00:00-04:00  177.520004  179.630005  177.130005  179.070007   \n2023-09-20 00:00:00-04:00  179.259995  179.699997  175.399994  175.490005   \n2023-09-21 00:00:00-04:00  174.550003  176.300003  173.860001  173.929993   \n2023-09-22 00:00:00-04:00  174.669998  175.389999  174.054993  175.179993   \n\n                              volume    change  \ndate                                            \n2018-09-24 00:00:00-04:00  110773600       NaN  \n2018-09-25 00:00:00-04:00   98217600  0.006341  \n2018-09-26 00:00:00-04:00   95938800 -0.007966  \n2018-09-27 00:00:00-04:00  120724800  0.020552  \n2018-09-28 00:00:00-04:00   91717600  0.003512  \n...                              ...       ...  \n2023-09-18 00:00:00-04:00   67257600  0.016913  \n2023-09-19 00:00:00-04:00   51826900  0.006181  \n2023-09-20 00:00:00-04:00   58436200 -0.019992  \n2023-09-21 00:00:00-04:00   63047900 -0.008889  \n2023-09-22 00:00:00-04:00   10333432  0.007187  \n\n[1258 rows x 6 columns]",
      "text/html": "<div>\n<style scoped>\n    .dataframe tbody tr th:only-of-type {\n        vertical-align: middle;\n    }\n\n    .dataframe tbody tr th {\n        vertical-align: top;\n    }\n\n    .dataframe thead th {\n        text-align: right;\n    }\n</style>\n<table border=\"1\" class=\"dataframe\">\n  <thead>\n    <tr style=\"text-align: right;\">\n      <th></th>\n      <th>open</th>\n      <th>high</th>\n      <th>low</th>\n      <th>close</th>\n      <th>volume</th>\n      <th>change</th>\n    </tr>\n    <tr>\n      <th>date</th>\n      <th></th>\n      <th></th>\n      <th></th>\n      <th></th>\n      <th></th>\n      <th></th>\n    </tr>\n  </thead>\n  <tbody>\n    <tr>\n      <th>2018-09-24 00:00:00-04:00</th>\n      <td>51.913947</td>\n      <td>52.977028</td>\n      <td>51.868454</td>\n      <td>52.864494</td>\n      <td>110773600</td>\n      <td>NaN</td>\n    </tr>\n    <tr>\n      <th>2018-09-25 00:00:00-04:00</th>\n      <td>52.615489</td>\n      <td>53.350551</td>\n      <td>52.603517</td>\n      <td>53.199707</td>\n      <td>98217600</td>\n      <td>0.006341</td>\n    </tr>\n    <tr>\n      <th>2018-09-26 00:00:00-04:00</th>\n      <td>52.914789</td>\n      <td>53.573231</td>\n      <td>52.617890</td>\n      <td>52.775917</td>\n      <td>95938800</td>\n      <td>-0.007966</td>\n    </tr>\n    <tr>\n      <th>2018-09-27 00:00:00-04:00</th>\n      <td>53.589985</td>\n      <td>54.217299</td>\n      <td>53.522940</td>\n      <td>53.860542</td>\n      <td>120724800</td>\n      <td>0.020552</td>\n    </tr>\n    <tr>\n      <th>2018-09-28 00:00:00-04:00</th>\n      <td>53.822241</td>\n      <td>54.073647</td>\n      <td>53.637880</td>\n      <td>54.049706</td>\n      <td>91717600</td>\n      <td>0.003512</td>\n    </tr>\n    <tr>\n      <th>...</th>\n      <td>...</td>\n      <td>...</td>\n      <td>...</td>\n      <td>...</td>\n      <td>...</td>\n      <td>...</td>\n    </tr>\n    <tr>\n      <th>2023-09-18 00:00:00-04:00</th>\n      <td>176.479996</td>\n      <td>179.380005</td>\n      <td>176.169998</td>\n      <td>177.970001</td>\n      <td>67257600</td>\n      <td>0.016913</td>\n    </tr>\n    <tr>\n      <th>2023-09-19 00:00:00-04:00</th>\n      <td>177.520004</td>\n      <td>179.630005</td>\n      <td>177.130005</td>\n      <td>179.070007</td>\n      <td>51826900</td>\n      <td>0.006181</td>\n    </tr>\n    <tr>\n      <th>2023-09-20 00:00:00-04:00</th>\n      <td>179.259995</td>\n      <td>179.699997</td>\n      <td>175.399994</td>\n      <td>175.490005</td>\n      <td>58436200</td>\n      <td>-0.019992</td>\n    </tr>\n    <tr>\n      <th>2023-09-21 00:00:00-04:00</th>\n      <td>174.550003</td>\n      <td>176.300003</td>\n      <td>173.860001</td>\n      <td>173.929993</td>\n      <td>63047900</td>\n      <td>-0.008889</td>\n    </tr>\n    <tr>\n      <th>2023-09-22 00:00:00-04:00</th>\n      <td>174.669998</td>\n      <td>175.389999</td>\n      <td>174.054993</td>\n      <td>175.179993</td>\n      <td>10333432</td>\n      <td>0.007187</td>\n    </tr>\n  </tbody>\n</table>\n<p>1258 rows × 6 columns</p>\n</div>"
     },
     "execution_count": 2,
     "metadata": {},
     "output_type": "execute_result"
    }
   ],
   "source": [
    "PRICES = sample_prices()\n",
    "PRICES"
   ],
   "metadata": {
    "collapsed": false,
    "ExecuteTime": {
     "end_time": "2023-10-28T15:07:21.387756Z",
     "start_time": "2023-10-28T15:07:21.354651Z"
    }
   }
  },
  {
   "cell_type": "code",
   "execution_count": 3,
   "outputs": [],
   "source": [
    "def test_func(name, prices=None, *, verbose=True, **kwargs):\n",
    "    if verbose:\n",
    "        print(\"test_func\", name, kwargs)\n",
    "\n",
    "    func = getattr(core, name)\n",
    "    refc = getattr(reflib, \"calc_\" + name.lower())\n",
    "    ftype = func_type(func)\n",
    "\n",
    "    if prices is None:\n",
    "        item = \"close\" if ftype == \"series\" else None\n",
    "        prices = sample_prices(item)\n",
    "\n",
    "    res1 = func(prices, **kwargs)\n",
    "    res2 = refc(prices, **kwargs)\n",
    "\n",
    "    assert_allclose(res1, res2)"
   ],
   "metadata": {
    "collapsed": false,
    "ExecuteTime": {
     "end_time": "2023-10-28T15:07:22.048508Z",
     "start_time": "2023-10-28T15:07:22.031874Z"
    }
   }
  },
  {
   "cell_type": "code",
   "execution_count": 4,
   "outputs": [
    {
     "name": "stdout",
     "output_type": "stream",
     "text": [
      "test_func ROC {}\n",
      "test_func EMA {'period': 20}\n",
      "test_func SMA {'period': 20}\n",
      "test_func SUM {'period': 20}\n",
      "test_func MIN {'period': 20}\n",
      "test_func MAX {'period': 20}\n"
     ]
    }
   ],
   "source": [
    "test_func(\"ROC\")\n",
    "test_func(\"EMA\", period=20)\n",
    "test_func(\"SMA\", period=20)\n",
    "test_func(\"SUM\", period=20)\n",
    "test_func(\"MIN\", period=20)\n",
    "test_func(\"MAX\", period=20)"
   ],
   "metadata": {
    "collapsed": false,
    "ExecuteTime": {
     "end_time": "2023-10-28T15:07:22.717382Z",
     "start_time": "2023-10-28T15:07:22.664326Z"
    }
   }
  },
  {
   "cell_type": "code",
   "execution_count": null,
   "outputs": [],
   "source": [],
   "metadata": {
    "collapsed": false
   }
  }
 ],
 "metadata": {
  "kernelspec": {
   "display_name": "Python 3",
   "language": "python",
   "name": "python3"
  },
  "language_info": {
   "codemirror_mode": {
    "name": "ipython",
    "version": 2
   },
   "file_extension": ".py",
   "mimetype": "text/x-python",
   "name": "python",
   "nbconvert_exporter": "python",
   "pygments_lexer": "ipython2",
   "version": "2.7.6"
  }
 },
 "nbformat": 4,
 "nbformat_minor": 0
}
