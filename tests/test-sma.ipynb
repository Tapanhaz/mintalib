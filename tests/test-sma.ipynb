{
 "cells": [
  {
   "cell_type": "code",
   "execution_count": 1,
   "outputs": [],
   "source": [
    "import numpy as np\n",
    "\n",
    "from mintalib import core\n",
    "from mintalib import reflib\n",
    "\n",
    "from mintalib.utils import random_walk"
   ],
   "metadata": {
    "collapsed": false,
    "pycharm": {
     "name": "#%%\n"
    },
    "ExecuteTime": {
     "end_time": "2023-10-28T15:07:35.843952Z",
     "start_time": "2023-10-28T15:07:35.579719Z"
    }
   }
  },
  {
   "cell_type": "code",
   "execution_count": 2,
   "outputs": [
    {
     "data": {
      "text/plain": "date\n1985-07-01            NaN\n1985-07-02            NaN\n1985-07-03            NaN\n1985-07-04            NaN\n1985-07-05            NaN\n                 ...     \n2023-10-23    9672.899205\n2023-10-24    9777.628561\n2023-10-25    9756.516615\n2023-10-26    9846.132900\n2023-10-27    9670.234373\nLength: 10000, dtype: float64"
     },
     "execution_count": 2,
     "metadata": {},
     "output_type": "execute_result"
    }
   ],
   "source": [
    "period = 20\n",
    "series = random_walk(10000, skip=5)\n",
    "series"
   ],
   "metadata": {
    "collapsed": false,
    "pycharm": {
     "name": "#%%\n"
    },
    "ExecuteTime": {
     "end_time": "2023-10-28T15:07:37.023611Z",
     "start_time": "2023-10-28T15:07:36.961710Z"
    }
   }
  },
  {
   "cell_type": "code",
   "execution_count": 3,
   "outputs": [
    {
     "data": {
      "text/plain": "array([          nan,           nan,           nan, ..., 9513.05592175,\n       9529.88655148, 9539.98455181])"
     },
     "execution_count": 3,
     "metadata": {},
     "output_type": "execute_result"
    }
   ],
   "source": [
    "res = core.calc_sma(series, period)\n",
    "res"
   ],
   "metadata": {
    "collapsed": false,
    "pycharm": {
     "name": "#%%\n"
    },
    "ExecuteTime": {
     "end_time": "2023-10-28T15:07:37.635338Z",
     "start_time": "2023-10-28T15:07:37.621384Z"
    }
   }
  },
  {
   "cell_type": "code",
   "execution_count": 4,
   "outputs": [
    {
     "data": {
      "text/plain": "date\n1985-07-01            NaN\n1985-07-02            NaN\n1985-07-03            NaN\n1985-07-04            NaN\n1985-07-05            NaN\n                 ...     \n2023-10-23    9511.008704\n2023-10-24    9512.999761\n2023-10-25    9513.055922\n2023-10-26    9529.886551\n2023-10-27    9539.984552\nLength: 10000, dtype: float64"
     },
     "execution_count": 4,
     "metadata": {},
     "output_type": "execute_result"
    }
   ],
   "source": [
    "exp = reflib.calc_sma(series, period)\n",
    "exp"
   ],
   "metadata": {
    "collapsed": false,
    "pycharm": {
     "name": "#%%\n"
    },
    "ExecuteTime": {
     "end_time": "2023-10-28T15:07:38.167198Z",
     "start_time": "2023-10-28T15:07:38.154391Z"
    }
   }
  },
  {
   "cell_type": "code",
   "execution_count": 5,
   "outputs": [],
   "source": [
    "assert np.allclose(res, exp, equal_nan=True)"
   ],
   "metadata": {
    "collapsed": false,
    "pycharm": {
     "name": "#%%\n"
    },
    "ExecuteTime": {
     "end_time": "2023-10-28T15:07:38.833099Z",
     "start_time": "2023-10-28T15:07:38.819763Z"
    }
   }
  },
  {
   "cell_type": "code",
   "execution_count": 6,
   "outputs": [
    {
     "name": "stdout",
     "output_type": "stream",
     "text": [
      "218 µs ± 17.1 µs per loop (mean ± std. dev. of 7 runs, 10 loops each)\n",
      "149 µs ± 26.5 µs per loop (mean ± std. dev. of 7 runs, 10 loops each)\n"
     ]
    }
   ],
   "source": [
    "%timeit -n10 core.calc_sma(series, period)\n",
    "%timeit -n10 reflib.calc_sma(series, period)"
   ],
   "metadata": {
    "collapsed": false,
    "pycharm": {
     "name": "#%%\n"
    },
    "ExecuteTime": {
     "end_time": "2023-10-28T15:07:39.423975Z",
     "start_time": "2023-10-28T15:07:39.385803Z"
    }
   }
  },
  {
   "cell_type": "code",
   "execution_count": null,
   "outputs": [],
   "source": [],
   "metadata": {
    "collapsed": false,
    "ExecuteTime": {
     "end_time": "2023-10-25T18:43:15.944187Z",
     "start_time": "2023-10-25T18:43:15.942471Z"
    }
   }
  },
  {
   "cell_type": "code",
   "execution_count": null,
   "outputs": [],
   "source": [],
   "metadata": {
    "collapsed": false
   }
  }
 ],
 "metadata": {
  "kernelspec": {
   "display_name": "Python 3",
   "language": "python",
   "name": "python3"
  },
  "language_info": {
   "codemirror_mode": {
    "name": "ipython",
    "version": 2
   },
   "file_extension": ".py",
   "mimetype": "text/x-python",
   "name": "python",
   "nbconvert_exporter": "python",
   "pygments_lexer": "ipython2",
   "version": "2.7.6"
  }
 },
 "nbformat": 4,
 "nbformat_minor": 0
}
