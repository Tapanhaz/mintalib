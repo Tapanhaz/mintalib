{
 "cells": [
  {
   "cell_type": "code",
   "execution_count": 1,
   "outputs": [],
   "source": [
    "import numpy as np\n",
    "\n",
    "from mintalib import core\n",
    "from mintalib import reflib\n",
    "\n",
    "from mintalib.utils import random_walk\n",
    "from mintalib.samples import sample_prices"
   ],
   "metadata": {
    "collapsed": false,
    "pycharm": {
     "name": "#%%\n"
    },
    "ExecuteTime": {
     "end_time": "2023-10-28T15:07:27.891198Z",
     "start_time": "2023-10-28T15:07:27.661232Z"
    }
   }
  },
  {
   "cell_type": "code",
   "execution_count": 2,
   "outputs": [
    {
     "data": {
      "text/plain": "date\n1985-07-01            NaN\n1985-07-02            NaN\n1985-07-03            NaN\n1985-07-04            NaN\n1985-07-05            NaN\n                 ...     \n2023-10-23    2549.742130\n2023-10-24    2586.686709\n2023-10-25    2600.115059\n2023-10-26    2572.806318\n2023-10-27    2598.129577\nLength: 10000, dtype: float64"
     },
     "execution_count": 2,
     "metadata": {},
     "output_type": "execute_result"
    }
   ],
   "source": [
    "period = 20\n",
    "series = random_walk(10000, skip=5)\n",
    "series"
   ],
   "metadata": {
    "collapsed": false,
    "pycharm": {
     "name": "#%%\n"
    },
    "ExecuteTime": {
     "end_time": "2023-10-28T15:07:28.506360Z",
     "start_time": "2023-10-28T15:07:28.442572Z"
    }
   }
  },
  {
   "cell_type": "code",
   "execution_count": 3,
   "outputs": [
    {
     "data": {
      "text/plain": "array([          nan,           nan,           nan, ..., 2582.12835254,\n       2581.24053971, 2582.84901947])"
     },
     "execution_count": 3,
     "metadata": {},
     "output_type": "execute_result"
    }
   ],
   "source": [
    "res = core.calc_ema(series, period)\n",
    "res"
   ],
   "metadata": {
    "collapsed": false,
    "pycharm": {
     "name": "#%%\n"
    },
    "ExecuteTime": {
     "end_time": "2023-10-28T15:07:29.068775Z",
     "start_time": "2023-10-28T15:07:29.055170Z"
    }
   }
  },
  {
   "cell_type": "code",
   "execution_count": 4,
   "outputs": [
    {
     "data": {
      "text/plain": "date\n1985-07-01            NaN\n1985-07-02            NaN\n1985-07-03            NaN\n1985-07-04            NaN\n1985-07-05            NaN\n                 ...     \n2023-10-23    2579.555889\n2023-10-24    2580.235015\n2023-10-25    2582.128353\n2023-10-26    2581.240540\n2023-10-27    2582.849019\nLength: 10000, dtype: float64"
     },
     "execution_count": 4,
     "metadata": {},
     "output_type": "execute_result"
    }
   ],
   "source": [
    "cmp = reflib.calc_ema(series, period)\n",
    "# cmp = talib.EMA(series, timeperiod=3)\n",
    "cmp"
   ],
   "metadata": {
    "collapsed": false,
    "pycharm": {
     "name": "#%%\n"
    },
    "ExecuteTime": {
     "end_time": "2023-10-28T15:07:29.594619Z",
     "start_time": "2023-10-28T15:07:29.582999Z"
    }
   }
  },
  {
   "cell_type": "code",
   "execution_count": 5,
   "outputs": [],
   "source": [
    "assert np.allclose(res, cmp, equal_nan=True)"
   ],
   "metadata": {
    "collapsed": false,
    "ExecuteTime": {
     "end_time": "2023-10-28T15:07:30.108131Z",
     "start_time": "2023-10-28T15:07:30.099232Z"
    }
   }
  },
  {
   "cell_type": "code",
   "execution_count": 6,
   "outputs": [
    {
     "name": "stdout",
     "output_type": "stream",
     "text": [
      "48.5 µs ± 4.35 µs per loop (mean ± std. dev. of 7 runs, 10 loops each)\n",
      "149 µs ± 33.3 µs per loop (mean ± std. dev. of 7 runs, 10 loops each)\n"
     ]
    }
   ],
   "source": [
    "%timeit -n10 core.calc_ema(series, period)\n",
    "%timeit -n10 reflib.calc_ema(series, period)"
   ],
   "metadata": {
    "collapsed": false,
    "ExecuteTime": {
     "end_time": "2023-10-28T15:07:30.636466Z",
     "start_time": "2023-10-28T15:07:30.609293Z"
    }
   }
  },
  {
   "cell_type": "code",
   "execution_count": null,
   "outputs": [],
   "source": [],
   "metadata": {
    "collapsed": false
   }
  }
 ],
 "metadata": {
  "kernelspec": {
   "display_name": "Python 3",
   "language": "python",
   "name": "python3"
  },
  "language_info": {
   "codemirror_mode": {
    "name": "ipython",
    "version": 2
   },
   "file_extension": ".py",
   "mimetype": "text/x-python",
   "name": "python",
   "nbconvert_exporter": "python",
   "pygments_lexer": "ipython2",
   "version": "2.7.6"
  }
 },
 "nbformat": 4,
 "nbformat_minor": 0
}
