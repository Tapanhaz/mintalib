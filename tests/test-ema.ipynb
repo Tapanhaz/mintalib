{
 "cells": [
  {
   "cell_type": "code",
   "execution_count": 93,
   "outputs": [],
   "source": [
    "import numpy as np\n",
    "\n",
    "from mintalib import core\n",
    "from mintalib import reflib\n",
    "\n",
    "from mintalib.utils import random_walk\n"
   ],
   "metadata": {
    "collapsed": false,
    "pycharm": {
     "name": "#%%\n"
    },
    "ExecuteTime": {
     "end_time": "2023-09-17T09:27:22.479290Z",
     "start_time": "2023-09-17T09:27:22.457850Z"
    }
   }
  },
  {
   "cell_type": "code",
   "execution_count": 94,
   "outputs": [
    {
     "data": {
      "text/plain": "date\n1985-05-20            NaN\n1985-05-21            NaN\n1985-05-22            NaN\n1985-05-23            NaN\n1985-05-24            NaN\n                 ...     \n2023-09-11    2207.641970\n2023-09-12    2251.613845\n2023-09-13    2293.914977\n2023-09-14    2311.189908\n2023-09-15    2307.592269\nLength: 10000, dtype: float64"
     },
     "execution_count": 94,
     "metadata": {},
     "output_type": "execute_result"
    }
   ],
   "source": [
    "period = 20\n",
    "series = random_walk(10000, skip=5)\n",
    "series"
   ],
   "metadata": {
    "collapsed": false,
    "pycharm": {
     "name": "#%%\n"
    },
    "ExecuteTime": {
     "end_time": "2023-09-17T09:27:22.751418Z",
     "start_time": "2023-09-17T09:27:22.683056Z"
    }
   }
  },
  {
   "cell_type": "code",
   "execution_count": 95,
   "outputs": [
    {
     "data": {
      "text/plain": "array([          nan,           nan,           nan, ..., 2216.60728705,\n       2225.61515574, 2233.42249983])"
     },
     "execution_count": 95,
     "metadata": {},
     "output_type": "execute_result"
    }
   ],
   "source": [
    "res = core.calc_ema(series, period)\n",
    "res"
   ],
   "metadata": {
    "collapsed": false,
    "pycharm": {
     "name": "#%%\n"
    },
    "ExecuteTime": {
     "end_time": "2023-09-17T09:27:23.001107Z",
     "start_time": "2023-09-17T09:27:22.984260Z"
    }
   }
  },
  {
   "cell_type": "code",
   "execution_count": 96,
   "outputs": [
    {
     "data": {
      "text/plain": "date\n1985-05-20            NaN\n1985-05-21            NaN\n1985-05-22            NaN\n1985-05-23            NaN\n1985-05-24            NaN\n                 ...     \n2023-09-11    2203.928140\n2023-09-12    2208.469635\n2023-09-13    2216.607287\n2023-09-14    2225.615156\n2023-09-15    2233.422500\nLength: 10000, dtype: float64"
     },
     "execution_count": 96,
     "metadata": {},
     "output_type": "execute_result"
    }
   ],
   "source": [
    "cmp = reflib.calc_ema(series, period)\n",
    "# cmp = talib.EMA(series, timeperiod=3)\n",
    "cmp"
   ],
   "metadata": {
    "collapsed": false,
    "pycharm": {
     "name": "#%%\n"
    },
    "ExecuteTime": {
     "end_time": "2023-09-17T09:27:23.374783Z",
     "start_time": "2023-09-17T09:27:23.357124Z"
    }
   }
  },
  {
   "cell_type": "code",
   "execution_count": 1,
   "outputs": [
    {
     "ename": "NameError",
     "evalue": "name 'np' is not defined",
     "output_type": "error",
     "traceback": [
      "\u001B[0;31m---------------------------------------------------------------------------\u001B[0m",
      "\u001B[0;31mNameError\u001B[0m                                 Traceback (most recent call last)",
      "Cell \u001B[0;32mIn[1], line 1\u001B[0m\n\u001B[0;32m----> 1\u001B[0m \u001B[38;5;28;01massert\u001B[39;00m \u001B[43mnp\u001B[49m\u001B[38;5;241m.\u001B[39mallclose(res, cmp, equal_nan\u001B[38;5;241m=\u001B[39m\u001B[38;5;28;01mTrue\u001B[39;00m)\n",
      "\u001B[0;31mNameError\u001B[0m: name 'np' is not defined"
     ]
    }
   ],
   "source": [
    "assert np.allclose(res, cmp, equal_nan=True)"
   ],
   "metadata": {
    "collapsed": false,
    "ExecuteTime": {
     "end_time": "2023-09-21T16:02:01.815731Z",
     "start_time": "2023-09-21T16:02:01.703594Z"
    }
   }
  },
  {
   "cell_type": "code",
   "execution_count": 99,
   "outputs": [
    {
     "name": "stdout",
     "output_type": "stream",
     "text": [
      "44.5 µs ± 2.77 µs per loop (mean ± std. dev. of 7 runs, 10 loops each)\n",
      "150 µs ± 41.9 µs per loop (mean ± std. dev. of 7 runs, 10 loops each)\n"
     ]
    }
   ],
   "source": [
    "%timeit -n10 core.calc_ema(series, period)\n",
    "%timeit -n10 reflib.calc_ema(series, period)"
   ],
   "metadata": {
    "collapsed": false,
    "ExecuteTime": {
     "end_time": "2023-09-17T09:33:04.220907Z",
     "start_time": "2023-09-17T09:33:04.190420Z"
    }
   }
  },
  {
   "cell_type": "code",
   "execution_count": null,
   "outputs": [],
   "source": [],
   "metadata": {
    "collapsed": false
   }
  }
 ],
 "metadata": {
  "kernelspec": {
   "display_name": "Python 3",
   "language": "python",
   "name": "python3"
  },
  "language_info": {
   "codemirror_mode": {
    "name": "ipython",
    "version": 2
   },
   "file_extension": ".py",
   "mimetype": "text/x-python",
   "name": "python",
   "nbconvert_exporter": "python",
   "pygments_lexer": "ipython2",
   "version": "2.7.6"
  }
 },
 "nbformat": 4,
 "nbformat_minor": 0
}
