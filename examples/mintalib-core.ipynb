{
 "cells": [
  {
   "cell_type": "code",
   "execution_count": 1,
   "outputs": [],
   "source": [
    "from mintalib import core"
   ],
   "metadata": {
    "collapsed": false,
    "pycharm": {
     "name": "#%%\n"
    }
   }
  },
  {
   "cell_type": "code",
   "execution_count": 2,
   "outputs": [
    {
     "data": {
      "text/plain": "['ADX',\n 'ATR',\n 'AVGPRICE',\n 'BBANDS',\n 'DEMA',\n 'DIFF',\n 'DataFrame',\n 'EMA',\n 'EVAL',\n 'Enum',\n 'Index',\n 'Indicator',\n 'IntEnum',\n 'KELTNER',\n 'LATR',\n 'MACD',\n 'MAX',\n 'MA_Type',\n 'MEDPRICE',\n 'MIN',\n 'MINUSDI',\n 'NATR',\n 'PLUSDI',\n 'PPO',\n 'PRICE',\n 'PSAR',\n 'Pandas',\n 'Polars',\n 'RMA',\n 'ROC',\n 'RSI',\n 'SLOPE',\n 'SMA',\n 'STDEV',\n 'SUM',\n 'Series',\n 'SlopeOption',\n 'TEMA',\n 'TRADE',\n 'TRANGE',\n 'TYPPRICE',\n 'VOLUME',\n 'WCLPRICE',\n 'WMA',\n '__all__',\n '__builtins__',\n '__doc__',\n '__file__',\n '__loader__',\n '__name__',\n '__package__',\n '__pyx_unpickle_Enum',\n '__spec__',\n '__test__',\n 'asarray',\n 'calc_adx',\n 'calc_atr',\n 'calc_avgprice',\n 'calc_bbands',\n 'calc_dema',\n 'calc_diff',\n 'calc_ema',\n 'calc_keltner',\n 'calc_latr',\n 'calc_ma',\n 'calc_macd',\n 'calc_max',\n 'calc_medprice',\n 'calc_min',\n 'calc_minusdi',\n 'calc_natr',\n 'calc_plusdi',\n 'calc_ppo',\n 'calc_psar',\n 'calc_rma',\n 'calc_roc',\n 'calc_rsi',\n 'calc_slope',\n 'calc_sma',\n 'calc_stdev',\n 'calc_streak',\n 'calc_sum',\n 'calc_tema',\n 'calc_trange',\n 'calc_typprice',\n 'calc_wclprice',\n 'calc_wma',\n 'check_size',\n 'compare_sizes',\n 'export',\n 'extract_items',\n 'make_dataframe',\n 'make_series',\n 'np',\n 'pdDataFrame',\n 'pdSeries',\n 'plDataFrame',\n 'plSeries',\n 'wrap_result']"
     },
     "execution_count": 2,
     "metadata": {},
     "output_type": "execute_result"
    }
   ],
   "source": [
    "dir(core)"
   ],
   "metadata": {
    "collapsed": false,
    "pycharm": {
     "name": "#%%\n"
    }
   }
  },
  {
   "cell_type": "code",
   "execution_count": 3,
   "outputs": [
    {
     "data": {
      "text/plain": "'EMA'"
     },
     "execution_count": 3,
     "metadata": {},
     "output_type": "execute_result"
    }
   ],
   "source": [
    "repr(core.MA_Type.EMA)"
   ],
   "metadata": {
    "collapsed": false,
    "pycharm": {
     "name": "#%%\n"
    }
   }
  },
  {
   "cell_type": "code",
   "execution_count": 4,
   "outputs": [
    {
     "data": {
      "text/plain": "'MA_Type.EMA'"
     },
     "execution_count": 4,
     "metadata": {},
     "output_type": "execute_result"
    }
   ],
   "source": [
    "str(core.MA_Type.EMA)"
   ],
   "metadata": {
    "collapsed": false,
    "pycharm": {
     "name": "#%%\n"
    }
   }
  },
  {
   "cell_type": "code",
   "execution_count": 5,
   "outputs": [
    {
     "data": {
      "text/plain": "'1'"
     },
     "execution_count": 5,
     "metadata": {},
     "output_type": "execute_result"
    }
   ],
   "source": [
    "format(core.MA_Type.EMA)"
   ],
   "metadata": {
    "collapsed": false,
    "pycharm": {
     "name": "#%%\n"
    }
   }
  },
  {
   "cell_type": "code",
   "execution_count": 6,
   "outputs": [
    {
     "name": "stdout",
     "output_type": "stream",
     "text": [
      "Help on cython_function_or_method in module mintalib.core:\n",
      "\n",
      "calc_ema(series, period=20, mixed=True)\n",
      "    Exponential Moving Average\n",
      "    \n",
      "    Args:\n",
      "        series (series) : The input series. Required\n",
      "        period (int) : The indicator period. Default 20\n",
      "        mixed (bool) : Whether to start as a simple average until period is reached. Default True\n",
      "    \n",
      "    Returns:\n",
      "        A series\n",
      "\n"
     ]
    }
   ],
   "source": [
    "help(core.calc_ema)"
   ],
   "metadata": {
    "collapsed": false,
    "pycharm": {
     "name": "#%%\n"
    }
   }
  },
  {
   "cell_type": "code",
   "execution_count": 7,
   "outputs": [
    {
     "name": "stdout",
     "output_type": "stream",
     "text": [
      "Help on class EMA in module mintalib.core:\n",
      "\n",
      "class EMA(mintalib.model.Indicator)\n",
      " |  EMA(period: 'int' = 20, *, item=None)\n",
      " |  \n",
      " |  Exponential Moving Average Indicator\n",
      " |  \n",
      " |  Args:\n",
      " |      period (int) : The indicator period. Default 20\n",
      " |  \n",
      " |  Returns:\n",
      " |      A callable\n",
      " |  \n",
      " |  Method resolution order:\n",
      " |      EMA\n",
      " |      mintalib.model.Indicator\n",
      " |      abc.ABC\n",
      " |      mintalib.model.ReprMixin\n",
      " |      builtins.object\n",
      " |  \n",
      " |  Methods defined here:\n",
      " |  \n",
      " |  __init__(self, period: 'int' = 20, *, item=None)\n",
      " |  \n",
      " |  calc(self, data)\n",
      " |  \n",
      " |  ----------------------------------------------------------------------\n",
      " |  Data and other attributes defined here:\n",
      " |  \n",
      " |  __abstractmethods__ = frozenset()\n",
      " |  \n",
      " |  same_scale = True\n",
      " |  \n",
      " |  ----------------------------------------------------------------------\n",
      " |  Methods inherited from mintalib.model.Indicator:\n",
      " |  \n",
      " |  __call__(self, data)\n",
      " |      Call self as a function.\n",
      " |  \n",
      " |  __matmul__(self, other)\n",
      " |  \n",
      " |  __or__(self, other)\n",
      " |  \n",
      " |  calc_cached(self, data)\n",
      " |      calc with builtin caching\n",
      " |  \n",
      " |  clone(self, **kwargs)\n",
      " |  \n",
      " |  get_series(self, data)\n",
      " |  \n",
      " |  ----------------------------------------------------------------------\n",
      " |  Data descriptors inherited from mintalib.model.Indicator:\n",
      " |  \n",
      " |  __dict__\n",
      " |      dictionary for instance variables (if defined)\n",
      " |  \n",
      " |  __weakref__\n",
      " |      list of weak references to the object (if defined)\n",
      " |  \n",
      " |  ----------------------------------------------------------------------\n",
      " |  Data and other attributes inherited from mintalib.model.Indicator:\n",
      " |  \n",
      " |  default_item = 'close'\n",
      " |  \n",
      " |  item = None\n",
      " |  \n",
      " |  ----------------------------------------------------------------------\n",
      " |  Methods inherited from mintalib.model.ReprMixin:\n",
      " |  \n",
      " |  __repr__(self)\n",
      " |      Return repr(self).\n",
      "\n"
     ]
    }
   ],
   "source": [
    "help(core.EMA)"
   ],
   "metadata": {
    "collapsed": false,
    "pycharm": {
     "name": "#%%\n"
    }
   }
  },
  {
   "cell_type": "code",
   "execution_count": null,
   "outputs": [],
   "source": [],
   "metadata": {
    "collapsed": false,
    "pycharm": {
     "name": "#%%\n"
    }
   }
  }
 ],
 "metadata": {
  "kernelspec": {
   "display_name": "Python 3",
   "language": "python",
   "name": "python3"
  },
  "language_info": {
   "codemirror_mode": {
    "name": "ipython",
    "version": 2
   },
   "file_extension": ".py",
   "mimetype": "text/x-python",
   "name": "python",
   "nbconvert_exporter": "python",
   "pygments_lexer": "ipython2",
   "version": "2.7.6"
  }
 },
 "nbformat": 4,
 "nbformat_minor": 0
}