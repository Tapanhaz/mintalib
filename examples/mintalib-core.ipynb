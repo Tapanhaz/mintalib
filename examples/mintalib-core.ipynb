{
 "cells": [
  {
   "cell_type": "code",
   "execution_count": 1,
   "outputs": [],
   "source": [
    "from mintalib import core"
   ],
   "metadata": {
    "collapsed": false,
    "pycharm": {
     "name": "#%%\n"
    }
   }
  },
  {
   "cell_type": "code",
   "execution_count": 2,
   "outputs": [
    {
     "data": {
      "text/plain": "['ADX',\n 'ATR',\n 'DEMA',\n 'DataFrame',\n 'EMA',\n 'EVAL',\n 'Enum',\n 'Index',\n 'Indicator',\n 'MACD',\n 'MAX',\n 'MA_Type',\n 'MIN',\n 'NATR',\n 'PPO',\n 'PRICE',\n 'PSAR',\n 'RMA',\n 'ROC',\n 'RSI',\n 'SLOPE',\n 'SLOPE_BADOPTION',\n 'SLOPE_CORRELATION',\n 'SLOPE_DEFAULT',\n 'SLOPE_FORECAST',\n 'SLOPE_INTERCEPT',\n 'SLOPE_RMSERROR',\n 'SLOPE_VALUE',\n 'SMA',\n 'STDEV',\n 'Series',\n 'SlopeOption',\n 'TEMA',\n 'TRADE',\n 'VOLUME',\n 'WMA',\n '__all__',\n '__builtins__',\n '__doc__',\n '__file__',\n '__loader__',\n '__name__',\n '__package__',\n '__pyx_unpickle_Enum',\n '__pyx_unpickle___Pyx_EnumMeta',\n '__spec__',\n '__test__',\n 'calc_adx',\n 'calc_atr',\n 'calc_dema',\n 'calc_ema',\n 'calc_log',\n 'calc_ma',\n 'calc_macd',\n 'calc_max',\n 'calc_mid',\n 'calc_min',\n 'calc_natr',\n 'calc_ppo',\n 'calc_price',\n 'calc_psar',\n 'calc_rma',\n 'calc_roc',\n 'calc_rsi',\n 'calc_slope',\n 'calc_sma',\n 'calc_stdev',\n 'calc_streak',\n 'calc_tema',\n 'calc_trange',\n 'calc_wma',\n 'export',\n 'make_dataframe',\n 'make_series',\n 'np']"
     },
     "execution_count": 2,
     "metadata": {},
     "output_type": "execute_result"
    }
   ],
   "source": [
    "dir(core)"
   ],
   "metadata": {
    "collapsed": false,
    "pycharm": {
     "name": "#%%\n"
    }
   }
  },
  {
   "cell_type": "code",
   "execution_count": 3,
   "outputs": [
    {
     "data": {
      "text/plain": "'EMA'"
     },
     "execution_count": 3,
     "metadata": {},
     "output_type": "execute_result"
    }
   ],
   "source": [
    "repr(core.MA_Type.EMA)"
   ],
   "metadata": {
    "collapsed": false,
    "pycharm": {
     "name": "#%%\n"
    }
   }
  },
  {
   "cell_type": "code",
   "execution_count": 4,
   "outputs": [
    {
     "data": {
      "text/plain": "'MA_Type.EMA'"
     },
     "execution_count": 4,
     "metadata": {},
     "output_type": "execute_result"
    }
   ],
   "source": [
    "str(core.MA_Type.EMA)"
   ],
   "metadata": {
    "collapsed": false,
    "pycharm": {
     "name": "#%%\n"
    }
   }
  },
  {
   "cell_type": "code",
   "execution_count": 5,
   "outputs": [
    {
     "data": {
      "text/plain": "'MA_Type.EMA'"
     },
     "execution_count": 5,
     "metadata": {},
     "output_type": "execute_result"
    }
   ],
   "source": [
    "format(core.MA_Type.EMA)"
   ],
   "metadata": {
    "collapsed": false,
    "pycharm": {
     "name": "#%%\n"
    }
   }
  },
  {
   "cell_type": "code",
   "execution_count": null,
   "outputs": [],
   "source": [],
   "metadata": {
    "collapsed": false,
    "pycharm": {
     "name": "#%%\n"
    }
   }
  }
 ],
 "metadata": {
  "kernelspec": {
   "display_name": "Python 3",
   "language": "python",
   "name": "python3"
  },
  "language_info": {
   "codemirror_mode": {
    "name": "ipython",
    "version": 2
   },
   "file_extension": ".py",
   "mimetype": "text/x-python",
   "name": "python",
   "nbconvert_exporter": "python",
   "pygments_lexer": "ipython2",
   "version": "2.7.6"
  }
 },
 "nbformat": 4,
 "nbformat_minor": 0
}