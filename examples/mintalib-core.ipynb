{
 "cells": [
  {
   "cell_type": "code",
   "execution_count": 6,
   "outputs": [],
   "source": [
    "from mintalib import core\n",
    "from mintalib.utils import random_walk, sample_prices"
   ],
   "metadata": {
    "collapsed": false,
    "pycharm": {
     "name": "#%%\n"
    }
   }
  },
  {
   "cell_type": "code",
   "execution_count": 7,
   "outputs": [
    {
     "name": "stdout",
     "output_type": "stream",
     "text": [
      "['ADX', 'ATR', 'AVGPRICE', 'BBANDS', 'BOP', 'CCI', 'CMF', 'CURVE', 'CurveOption', 'DEMA', 'DIFF', 'EMA', 'EVAL', 'EXP', 'Indicator', 'IntEnum', 'KAMA', 'KELTNER', 'LATR', 'LOG', 'MACD', 'MAD', 'MAX', 'MA_Type', 'MFI', 'MIDPRICE', 'MIN', 'MINUSDI', 'NATR', 'PLUSDI', 'PPO', 'PRICE', 'PSAR', 'Pandas', 'Polars', 'RMA', 'ROC', 'RSI', 'SLOPE', 'SMA', 'STDEV', 'STOCH', 'SUM', 'SlopeOption', 'TEMA', 'TRANGE', 'TYPPRICE', 'VOLUME', 'WCLPRICE', 'WMA', '__all__', '__builtins__', '__doc__', '__file__', '__loader__', '__name__', '__package__', '__pyx_unpickle_Enum', '__spec__', '__test__', 'calc_adx', 'calc_atr', 'calc_avgprice', 'calc_bbands', 'calc_bop', 'calc_cci', 'calc_cmf', 'calc_curve', 'calc_dema', 'calc_diff', 'calc_ema', 'calc_exp', 'calc_kama', 'calc_keltner', 'calc_latr', 'calc_log', 'calc_ma', 'calc_macd', 'calc_mad', 'calc_max', 'calc_mfi', 'calc_midprice', 'calc_min', 'calc_minusdi', 'calc_natr', 'calc_plusdi', 'calc_ppo', 'calc_psar', 'calc_rma', 'calc_roc', 'calc_rsi', 'calc_slope', 'calc_sma', 'calc_stdev', 'calc_stoch', 'calc_streak', 'calc_sum', 'calc_tema', 'calc_trange', 'calc_typprice', 'calc_wclprice', 'calc_wma', 'check_size', 'efficiency_ratio', 'export', 'macd_result', 'namedtuple', 'np', 'pdDataFrame', 'pdSeries', 'plDataFrame', 'plSeries', 'ppo_result', 're', 'stoch_result', 'wrap_indicator', 'wrap_result']\n"
     ]
    }
   ],
   "source": [
    "print(dir(core))"
   ],
   "metadata": {
    "collapsed": false,
    "pycharm": {
     "name": "#%%\n"
    }
   }
  },
  {
   "cell_type": "code",
   "execution_count": 8,
   "outputs": [
    {
     "data": {
      "text/plain": "              open    high     low   close  volume\ndate                                              \n2022-09-02  115.99  116.96  115.99  116.96  149323\n2022-09-05  116.34  116.34  114.99  114.99  145968\n2022-09-06  115.09  116.66  115.09  116.66  146432\n2022-09-07  115.75  115.75  114.57  115.00  196891\n2022-09-08  115.65  117.68  115.65  117.68  131534",
      "text/html": "<div>\n<style scoped>\n    .dataframe tbody tr th:only-of-type {\n        vertical-align: middle;\n    }\n\n    .dataframe tbody tr th {\n        vertical-align: top;\n    }\n\n    .dataframe thead th {\n        text-align: right;\n    }\n</style>\n<table border=\"1\" class=\"dataframe\">\n  <thead>\n    <tr style=\"text-align: right;\">\n      <th></th>\n      <th>open</th>\n      <th>high</th>\n      <th>low</th>\n      <th>close</th>\n      <th>volume</th>\n    </tr>\n    <tr>\n      <th>date</th>\n      <th></th>\n      <th></th>\n      <th></th>\n      <th></th>\n      <th></th>\n    </tr>\n  </thead>\n  <tbody>\n    <tr>\n      <th>2022-09-02</th>\n      <td>115.99</td>\n      <td>116.96</td>\n      <td>115.99</td>\n      <td>116.96</td>\n      <td>149323</td>\n    </tr>\n    <tr>\n      <th>2022-09-05</th>\n      <td>116.34</td>\n      <td>116.34</td>\n      <td>114.99</td>\n      <td>114.99</td>\n      <td>145968</td>\n    </tr>\n    <tr>\n      <th>2022-09-06</th>\n      <td>115.09</td>\n      <td>116.66</td>\n      <td>115.09</td>\n      <td>116.66</td>\n      <td>146432</td>\n    </tr>\n    <tr>\n      <th>2022-09-07</th>\n      <td>115.75</td>\n      <td>115.75</td>\n      <td>114.57</td>\n      <td>115.00</td>\n      <td>196891</td>\n    </tr>\n    <tr>\n      <th>2022-09-08</th>\n      <td>115.65</td>\n      <td>117.68</td>\n      <td>115.65</td>\n      <td>117.68</td>\n      <td>131534</td>\n    </tr>\n  </tbody>\n</table>\n</div>"
     },
     "execution_count": 8,
     "metadata": {},
     "output_type": "execute_result"
    }
   ],
   "source": [
    "prices = sample_prices()\n",
    "prices.tail()"
   ],
   "metadata": {
    "collapsed": false,
    "pycharm": {
     "name": "#%%\n"
    }
   }
  },
  {
   "cell_type": "code",
   "execution_count": 9,
   "outputs": [
    {
     "data": {
      "text/plain": "date\n2022-09-02    109.7298\n2022-09-05    109.9428\n2022-09-06    110.2122\n2022-09-07    110.4592\n2022-09-08    110.7950\ndtype: float64"
     },
     "execution_count": 9,
     "metadata": {},
     "output_type": "execute_result"
    }
   ],
   "source": [
    "res = core.calc_sma(prices.close, 50)\n",
    "res.tail()"
   ],
   "metadata": {
    "collapsed": false,
    "pycharm": {
     "name": "#%%\n"
    }
   }
  },
  {
   "cell_type": "code",
   "execution_count": 10,
   "outputs": [
    {
     "data": {
      "text/plain": "                macd  macdsignal  macdhist\ndate                                      \n2022-09-02  1.363236    1.328055  0.035181\n2022-09-05  1.343874    1.331219  0.012655\n2022-09-06  1.446610    1.354297  0.092313\n2022-09-07  1.378193    1.359076  0.019117\n2022-09-08  1.522674    1.391796  0.130878",
      "text/html": "<div>\n<style scoped>\n    .dataframe tbody tr th:only-of-type {\n        vertical-align: middle;\n    }\n\n    .dataframe tbody tr th {\n        vertical-align: top;\n    }\n\n    .dataframe thead th {\n        text-align: right;\n    }\n</style>\n<table border=\"1\" class=\"dataframe\">\n  <thead>\n    <tr style=\"text-align: right;\">\n      <th></th>\n      <th>macd</th>\n      <th>macdsignal</th>\n      <th>macdhist</th>\n    </tr>\n    <tr>\n      <th>date</th>\n      <th></th>\n      <th></th>\n      <th></th>\n    </tr>\n  </thead>\n  <tbody>\n    <tr>\n      <th>2022-09-02</th>\n      <td>1.363236</td>\n      <td>1.328055</td>\n      <td>0.035181</td>\n    </tr>\n    <tr>\n      <th>2022-09-05</th>\n      <td>1.343874</td>\n      <td>1.331219</td>\n      <td>0.012655</td>\n    </tr>\n    <tr>\n      <th>2022-09-06</th>\n      <td>1.446610</td>\n      <td>1.354297</td>\n      <td>0.092313</td>\n    </tr>\n    <tr>\n      <th>2022-09-07</th>\n      <td>1.378193</td>\n      <td>1.359076</td>\n      <td>0.019117</td>\n    </tr>\n    <tr>\n      <th>2022-09-08</th>\n      <td>1.522674</td>\n      <td>1.391796</td>\n      <td>0.130878</td>\n    </tr>\n  </tbody>\n</table>\n</div>"
     },
     "execution_count": 10,
     "metadata": {},
     "output_type": "execute_result"
    }
   ],
   "source": [
    "res = core.calc_macd(prices.close)\n",
    "res.tail()"
   ],
   "metadata": {
    "collapsed": false,
    "pycharm": {
     "name": "#%%\n"
    }
   }
  },
  {
   "cell_type": "code",
   "execution_count": 31,
   "outputs": [],
   "source": [],
   "metadata": {
    "collapsed": false,
    "pycharm": {
     "name": "#%%\n"
    }
   }
  },
  {
   "cell_type": "code",
   "execution_count": null,
   "outputs": [],
   "source": [],
   "metadata": {
    "collapsed": false,
    "pycharm": {
     "name": "#%%\n"
    }
   }
  }
 ],
 "metadata": {
  "kernelspec": {
   "display_name": "Python 3",
   "language": "python",
   "name": "python3"
  },
  "language_info": {
   "codemirror_mode": {
    "name": "ipython",
    "version": 2
   },
   "file_extension": ".py",
   "mimetype": "text/x-python",
   "name": "python",
   "nbconvert_exporter": "python",
   "pygments_lexer": "ipython2",
   "version": "2.7.6"
  }
 },
 "nbformat": 4,
 "nbformat_minor": 0
}