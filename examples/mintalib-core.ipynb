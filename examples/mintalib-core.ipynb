{
 "cells": [
  {
   "cell_type": "markdown",
   "source": [
    "# Core module contains low levels functions"
   ],
   "metadata": {
    "collapsed": false
   }
  },
  {
   "cell_type": "code",
   "execution_count": 1,
   "outputs": [],
   "source": [
    "from mintalib import core\n",
    "from mintalib.utils import random_prices\n"
   ],
   "metadata": {
    "collapsed": false,
    "ExecuteTime": {
     "end_time": "2023-10-27T21:45:20.192289Z",
     "start_time": "2023-10-27T21:45:19.838783Z"
    }
   }
  },
  {
   "cell_type": "code",
   "execution_count": 2,
   "outputs": [
    {
     "name": "stdout",
     "output_type": "stream",
     "text": [
      "Help on module mintalib.core in mintalib:\n",
      "\n",
      "NAME\n",
      "    mintalib.core\n",
      "\n",
      "FUNCTIONS\n",
      "    calc_adx(prices, period=14, *, wrap: 'bool' = False)\n",
      "        Average Directional Index\n",
      "    \n",
      "    calc_atr(prices, period=14, *, wrap: 'bool' = False)\n",
      "        Average True Range\n",
      "    \n",
      "    calc_avgprice(prices, *, wrap: 'bool' = False)\n",
      "        Average Price\n",
      "    \n",
      "    calc_bbands(prices, period=20, nbdev=2.0, *, wrap: 'bool' = False)\n",
      "        Bollinger Bands\n",
      "    \n",
      "    calc_bop(prices, period=20, *, wrap: 'bool' = False)\n",
      "        Balance of Power\n",
      "    \n",
      "    calc_cci(prices, period=20, *, wrap: 'bool' = False)\n",
      "        Commodity Channel Index\n",
      "    \n",
      "    calc_cmf(prices, period=20, *, wrap: 'bool' = False)\n",
      "        Chaikin Money Flow\n",
      "    \n",
      "    calc_curve(series, period=20, *, option=0, offset=0, wrap: 'bool' = False)\n",
      "        Curve (time curvilinear regression)\n",
      "    \n",
      "    calc_dema(series, period, wrap: 'bool' = False)\n",
      "        Double Exponential Moving Average\n",
      "    \n",
      "    calc_diff(series, period=1, *, wrap: 'bool' = False)\n",
      "        Difference\n",
      "    \n",
      "    calc_ema(series, period, *, adjust=False, wrap: 'bool' = False)\n",
      "        Exponential Moving Average\n",
      "        \n",
      "        Args:\n",
      "            series (series) : data series, required\n",
      "            period (int) : time period, required\n",
      "            adjust (bool) : whether to adjust weights, default False\n",
      "                when true update ratio increases gradually (see formula)\n",
      "        \n",
      "        Formula:\n",
      "            EMA is calculated as a recursive formula\n",
      "            The standard formula is ema += alpha * (value - ema)\n",
      "                with alpha = 2.0 / (period + 1.0)\n",
      "            The adjusted formula is ema = num/div\n",
      "                where num = value + rho * num, div = 1.0 + rho * div\n",
      "                with rho = 1.0 - alpha\n",
      "    \n",
      "    calc_eval(prices, expr: 'str')\n",
      "        Expression Eval (pandas only)\n",
      "        \n",
      "        Args:\n",
      "            expr (str) : expression to evaluate on the prices dataframe\n",
      "    \n",
      "    calc_exp(series, *, wrap: 'bool' = False)\n",
      "        Exponential\n",
      "    \n",
      "    calc_kama(series, period=10, fastn=2, slown=30, *, wrap: 'bool' = False)\n",
      "        Kaufman Adaptive Moving Average (Kaufman)\n",
      "    \n",
      "    calc_keltner(prices, period=20, nbatr=2.0, *, wrap: 'bool' = False)\n",
      "        Keltner Channel\n",
      "    \n",
      "    calc_latr(prices, period=14, *, wrap: 'bool' = False)\n",
      "        Average True Range (logarithmic)\n",
      "    \n",
      "    calc_log(series, *, wrap: 'bool' = False)\n",
      "        Logarithm\n",
      "    \n",
      "    calc_ma(series, period=20, *, ma_type: 'str' = None, wrap: 'bool' = False)\n",
      "        Generic Moving Average\n",
      "        \n",
      "        Args:\n",
      "            series : data series, required\n",
      "            period (int) : time period, required\n",
      "            ma_type (str) : type of moving average, default 'SMA'\n",
      "                one of 'SMA', 'EMA', 'WMA', 'RMA', 'DEMA', 'TEMA'\n",
      "    \n",
      "    calc_macd(series, n1=12, n2=26, n3=9, wrap: 'bool' = False)\n",
      "        Moving Average Convergenge Divergence\n",
      "    \n",
      "    calc_mad(series, period=20, *, wrap: 'bool' = False)\n",
      "        Mean Absolute Deviation\n",
      "    \n",
      "    calc_max(series, period, *, wrap: 'bool' = False)\n",
      "        Rolling Maximum\n",
      "    \n",
      "    calc_mfi(prices, period=14, *, wrap: 'bool' = False)\n",
      "        Money Flow Index\n",
      "    \n",
      "    calc_midprice(prices, *, wrap: 'bool' = False)\n",
      "        Mid Price\n",
      "    \n",
      "    calc_min(series, period, *, wrap: 'bool' = False)\n",
      "        Rolling Minimum\n",
      "    \n",
      "    calc_minusdi(prices, period=14, *, wrap: 'bool' = False)\n",
      "        Minus Directional Index\n",
      "    \n",
      "    calc_natr(prices, period=14, *, wrap: 'bool' = False)\n",
      "        Average True Range (normalized)\n",
      "    \n",
      "    calc_plusdi(prices, period=14, *, wrap: 'bool' = False)\n",
      "        Plus Directional Index\n",
      "    \n",
      "    calc_ppo(series, n1=12, n2=26, n3=9, *, wrap: 'bool' = False)\n",
      "        Price Percentage Oscillator\n",
      "    \n",
      "    calc_price(prices, item: 'str' = None, *, wrap: 'bool' = False)\n",
      "        Generic Price\n",
      "    \n",
      "    calc_rma(series, period, *, wrap: 'bool' = False)\n",
      "        Rolling Moving Average (RSI Style)\n",
      "        \n",
      "        Exponential moving average with alpha = 2 / period,\n",
      "        but strats as a simple moving average till period bars.\n",
      "        \n",
      "        Args:\n",
      "            series (series) : data series. required\n",
      "            period (int) : time period. rerquired\n",
      "    \n",
      "    calc_roc(series, period=1, *, wrap: 'bool' = False)\n",
      "        Rate of Change\n",
      "    \n",
      "    calc_rsi(series, period=14, *, wrap: 'bool' = False)\n",
      "        Relative Strength Index\n",
      "    \n",
      "    calc_sar(prices, afs=0.02, maxaf=0.2, *, wrap: 'bool' = False)\n",
      "        Parabolic Stop and Reverse\n",
      "    \n",
      "    calc_slope(series, period=20, *, option=0, offset=0, wrap: 'bool' = False)\n",
      "        Slope (time linear regression)\n",
      "    \n",
      "    calc_sma(series, period, *, wrap: 'bool' = False)\n",
      "        Simple Moving Average\n",
      "        \n",
      "        Args:\n",
      "            period (int) : time period, required\n",
      "    \n",
      "    calc_stdev(series, period=20, *, wrap: 'bool' = False)\n",
      "        Standard Deviation\n",
      "    \n",
      "    calc_stoch(prices, period=14, fastn=3, slown=3, *, wrap: 'bool' = False)\n",
      "        Stochastik Oscillator\n",
      "    \n",
      "    calc_sum(series, period, *, wrap: 'bool' = False)\n",
      "        Rolling Sum\n",
      "    \n",
      "    calc_tema(series, period=20, *, wrap: 'bool' = False)\n",
      "        Triple Exponential Moving Average\n",
      "        \n",
      "        Args:\n",
      "            period (int) : time period. default 20\n",
      "    \n",
      "    calc_trange(prices, *, log_prices: 'bool' = False, percent: 'bool' = False, wrap: 'bool' = False)\n",
      "        True Range\n",
      "    \n",
      "    calc_typprice(prices, *, wrap: 'bool' = False)\n",
      "        Typical Price\n",
      "    \n",
      "    calc_wclprice(prices, *, wrap: 'bool' = False)\n",
      "        Weighted Close Price\n",
      "    \n",
      "    calc_wma(series, period, *, wrap: 'bool' = False)\n",
      "        Weighted Moving Average\n",
      "    \n",
      "    check_size(xs, *others)\n",
      "        check all series have the same size and return the size\n",
      "    \n",
      "    crossover(series, level=0.0, *, wrap: 'bool' = False)\n",
      "        Cross Over\n",
      "    \n",
      "    crossunder(series, level=0.0, *, wrap: 'bool' = False)\n",
      "        Cross Under\n",
      "    \n",
      "    dataframe_like(data)\n",
      "        check if data is dataframe like\n",
      "    \n",
      "    efficiency_ratio(series, period=10, *, wrap: 'bool' = False)\n",
      "        Efficiency Ratio (Kaufman)\n",
      "    \n",
      "    flag_above(series, level=0.0, *, na_value=nan, wrap: 'bool' = False)\n",
      "        Flag for value above level\n",
      "    \n",
      "    flag_below(series, level=0.0, *, na_value=nan, wrap: 'bool' = False)\n",
      "        Flag for value below level\n",
      "    \n",
      "    get_series(data, item: 'str' = None, *, default_item: 'str' = 'close')\n",
      "        get series from either series/prices data\n",
      "    \n",
      "    invert_flag(series, *, na_value=nan, wrap: 'bool' = False)\n",
      "        Invert flag\n",
      "    \n",
      "    streak_down(series, *, wrap: 'bool' = False)\n",
      "        Consecutive streak of downs\n",
      "    \n",
      "    streak_up(series, *, wrap: 'bool' = False)\n",
      "        Consecutive streak of ups\n",
      "    \n",
      "    updown_flag(series, up_level=0.0, down_level=0.0, *, up_flag=1.0, down_flag=0.0, start_flag=nan, wrap: 'bool' = False)\n",
      "        Flag for value crossing levels up & down\n",
      "    \n",
      "    where_flag(flag, x, y, z=nan, *, wrap: 'bool' = False)\n",
      "        Value according to flag\n",
      "    \n",
      "    wrap_function(source, same_scale: 'bool' = None)\n",
      "        update function with documentation from source\n",
      "    \n",
      "    wrap_indicator(source)\n",
      "        update indicagtor with documentation from source\n",
      "    \n",
      "    wrap_result(result, source)\n",
      "        wrap result to match source data form (pandas, polars)\n",
      "\n",
      "DATA\n",
      "    __all__ = ('check_size', 'dataframe_like', 'get_series', 'wrap_functio...\n",
      "    __test__ = {}\n",
      "\n",
      "FILE\n",
      "    /Users/frederic/Documents/Projects/mintalib/src/mintalib/core.cpython-38-darwin.so\n",
      "\n"
     ]
    }
   ],
   "source": [
    "help(core)"
   ],
   "metadata": {
    "collapsed": false,
    "pycharm": {
     "name": "#%%\n"
    },
    "ExecuteTime": {
     "end_time": "2023-10-27T21:45:21.342952Z",
     "start_time": "2023-10-27T21:45:21.323437Z"
    }
   }
  },
  {
   "cell_type": "code",
   "execution_count": 3,
   "outputs": [
    {
     "data": {
      "text/plain": "'mintalib.core'"
     },
     "execution_count": 3,
     "metadata": {},
     "output_type": "execute_result"
    }
   ],
   "source": [
    "core.calc_ema.__module__"
   ],
   "metadata": {
    "collapsed": false,
    "ExecuteTime": {
     "end_time": "2023-10-27T21:42:08.421105Z",
     "start_time": "2023-10-27T21:42:08.389350Z"
    }
   }
  },
  {
   "cell_type": "code",
   "execution_count": 2,
   "outputs": [
    {
     "name": "stdout",
     "output_type": "stream",
     "text": [
      "['ADX', 'ATR', 'AVGPRICE', 'BBANDS', 'BOP', 'CCI', 'CMF', 'CROSSOVER', 'CROSSUNDER', 'CURVE', 'CurveOption', 'DEMA', 'DIFF', 'EFFICIENCY_RATIO', 'EMA', 'EVAL', 'EXP', 'FLAG_ABOVE', 'FLAG_BELOW', 'FORECAST', 'INVERT_FLAG', 'IntEnum', 'KAMA', 'KELTNER', 'LATR', 'LOG', 'MA', 'MACD', 'MAD', 'MAX', 'MFI', 'MIDPRICE', 'MIN', 'MINUSDI', 'NATR', 'PLUSDI', 'PPO', 'PRICE', 'PRICE_FUNCTIONS', 'RMA', 'ROC', 'RSI', 'RVALUE', 'SAR', 'SLOPE', 'SMA', 'STDEV', 'STOCH', 'STREAK_DOWN', 'STREAK_UP', 'SUM', 'SlopeOption', 'TEMA', 'TRANGE', 'TYPPRICE', 'UPDOWN_FLAG', 'WCLPRICE', 'WMA', '__all__', '__builtins__', '__doc__', '__file__', '__loader__', '__name__', '__package__', '__pyx_unpickle_Enum', '__spec__', '__test__', 'bbands_result', 'calc_adx', 'calc_atr', 'calc_avgprice', 'calc_bbands', 'calc_bop', 'calc_cci', 'calc_cmf', 'calc_curve', 'calc_dema', 'calc_diff', 'calc_ema', 'calc_eval', 'calc_exp', 'calc_kama', 'calc_keltner', 'calc_latr', 'calc_log', 'calc_ma', 'calc_macd', 'calc_mad', 'calc_max', 'calc_mfi', 'calc_midprice', 'calc_min', 'calc_minusdi', 'calc_natr', 'calc_plusdi', 'calc_ppo', 'calc_price', 'calc_rma', 'calc_roc', 'calc_rsi', 'calc_sar', 'calc_slope', 'calc_sma', 'calc_stdev', 'calc_stoch', 'calc_sum', 'calc_tema', 'calc_trange', 'calc_typprice', 'calc_wclprice', 'calc_wma', 'check_size', 'crossover', 'crossunder', 'dataframe_like', 'efficiency_ratio', 'flag_above', 'flag_below', 'get_series', 'invert_flag', 'keltner_result', 'macd_result', 'namedtuple', 'np', 'ppo_result', 'stoch_result', 'streak_down', 'streak_up', 'sys', 'updown_flag', 'where_flag', 'wrap_function', 'wrap_indicator', 'wrap_result']\n"
     ]
    }
   ],
   "source": [
    "\n",
    "\n",
    "print(dir(core))"
   ],
   "metadata": {
    "collapsed": false,
    "ExecuteTime": {
     "start_time": "2023-10-27T21:31:25.852013Z"
    }
   }
  },
  {
   "cell_type": "code",
   "execution_count": 3,
   "outputs": [
    {
     "data": {
      "text/plain": "              open    high     low   close  volume\ndate                                              \n2023-10-23  139.29  139.38  138.34  138.34  183214\n2023-10-24  138.78  140.97  138.78  140.97  168335\n2023-10-25  141.11  141.60  140.56  140.76  142275\n2023-10-26  141.02  141.02  139.01  139.01  159756\n2023-10-27  138.66  139.57  138.59  139.57  175588",
      "text/html": "<div>\n<style scoped>\n    .dataframe tbody tr th:only-of-type {\n        vertical-align: middle;\n    }\n\n    .dataframe tbody tr th {\n        vertical-align: top;\n    }\n\n    .dataframe thead th {\n        text-align: right;\n    }\n</style>\n<table border=\"1\" class=\"dataframe\">\n  <thead>\n    <tr style=\"text-align: right;\">\n      <th></th>\n      <th>open</th>\n      <th>high</th>\n      <th>low</th>\n      <th>close</th>\n      <th>volume</th>\n    </tr>\n    <tr>\n      <th>date</th>\n      <th></th>\n      <th></th>\n      <th></th>\n      <th></th>\n      <th></th>\n    </tr>\n  </thead>\n  <tbody>\n    <tr>\n      <th>2023-10-23</th>\n      <td>139.29</td>\n      <td>139.38</td>\n      <td>138.34</td>\n      <td>138.34</td>\n      <td>183214</td>\n    </tr>\n    <tr>\n      <th>2023-10-24</th>\n      <td>138.78</td>\n      <td>140.97</td>\n      <td>138.78</td>\n      <td>140.97</td>\n      <td>168335</td>\n    </tr>\n    <tr>\n      <th>2023-10-25</th>\n      <td>141.11</td>\n      <td>141.60</td>\n      <td>140.56</td>\n      <td>140.76</td>\n      <td>142275</td>\n    </tr>\n    <tr>\n      <th>2023-10-26</th>\n      <td>141.02</td>\n      <td>141.02</td>\n      <td>139.01</td>\n      <td>139.01</td>\n      <td>159756</td>\n    </tr>\n    <tr>\n      <th>2023-10-27</th>\n      <td>138.66</td>\n      <td>139.57</td>\n      <td>138.59</td>\n      <td>139.57</td>\n      <td>175588</td>\n    </tr>\n  </tbody>\n</table>\n</div>"
     },
     "execution_count": 3,
     "metadata": {},
     "output_type": "execute_result"
    }
   ],
   "source": [
    "prices = random_prices()\n",
    "prices.tail()"
   ],
   "metadata": {
    "collapsed": false,
    "pycharm": {
     "name": "#%%\n"
    },
    "ExecuteTime": {
     "end_time": "2023-10-27T21:31:26.837039Z",
     "start_time": "2023-10-27T21:31:26.811983Z"
    }
   }
  },
  {
   "cell_type": "code",
   "execution_count": 4,
   "outputs": [
    {
     "data": {
      "text/plain": "array([     nan,      nan,      nan,      nan,      nan,      nan,\n            nan,      nan,      nan,      nan,      nan,      nan,\n            nan,      nan,      nan,      nan,      nan,      nan,\n            nan,      nan,      nan,      nan,      nan,      nan,\n            nan,      nan,      nan,      nan,      nan,      nan,\n            nan,      nan,      nan,      nan,      nan,      nan,\n            nan,      nan,      nan,      nan,      nan,      nan,\n            nan,      nan,      nan,      nan,      nan,      nan,\n            nan, 101.5494, 101.8026, 102.0518, 102.2708, 102.455 ,\n       102.5948, 102.709 , 102.8302, 102.9718, 103.169 , 103.4002,\n       103.5882, 103.7562, 103.9476, 104.218 , 104.5144, 104.8306,\n       105.1398, 105.392 , 105.5876, 105.7886, 105.976 , 106.174 ,\n       106.3362, 106.4818, 106.5926, 106.7244, 106.821 , 106.9566,\n       107.0902, 107.2172, 107.324 , 107.4222, 107.5604, 107.6804,\n       107.8384, 108.002 , 108.0844, 108.1918, 108.2768, 108.334 ,\n       108.3978, 108.5134, 108.6232, 108.7308, 108.8592, 108.9232,\n       108.9718, 109.0604, 109.1968, 109.3088, 109.4564, 109.6086,\n       109.7648, 109.9504, 110.2264, 110.5352, 110.9146, 111.2928,\n       111.6916, 112.0378, 112.4432, 112.8512, 113.251 , 113.6494,\n       113.9782, 114.2822, 114.569 , 114.982 , 115.361 , 115.7492,\n       116.2204, 116.7074, 117.2624, 117.8014, 118.3244, 118.7736,\n       119.222 , 119.6414, 120.058 , 120.4828, 120.8416, 121.1918,\n       121.5054, 121.8244, 122.1348, 122.4676, 122.8202, 123.09  ,\n       123.3708, 123.6616, 123.9914, 124.2742, 124.5678, 124.8212,\n       125.0904, 125.4538, 125.8128, 126.101 , 126.402 , 126.7406,\n       127.0148, 127.2808, 127.5556, 127.7792, 127.9974, 128.1862,\n       128.2648, 128.3012, 128.2546, 128.2136, 128.167 , 128.0778,\n       128.0312, 128.0212, 128.0768, 128.1022, 128.1288, 128.0988,\n       128.1518, 128.1176, 128.0324, 127.8782, 127.6068, 127.3038,\n       127.0658, 126.8998, 126.7426, 126.5772, 126.4178, 126.297 ,\n       126.184 , 126.1142, 126.0258, 125.924 , 125.835 , 125.705 ,\n       125.6476, 125.5988, 125.5188, 125.4438, 125.342 , 125.2652,\n       125.1976, 125.1506, 125.091 , 124.978 , 124.821 , 124.6566,\n       124.4728, 124.2228, 123.9846, 123.7548, 123.5674, 123.5156,\n       123.402 , 123.3216, 123.2944, 123.2994, 123.3308, 123.2892,\n       123.2704, 123.319 , 123.31  , 123.3196, 123.4434, 123.6046,\n       123.7902, 123.9956, 124.1914, 124.4862, 124.6982, 124.9716,\n       125.3188, 125.6742, 126.0276, 126.3636, 126.7494, 127.1596,\n       127.5828, 127.971 , 128.3662, 128.7182, 129.108 , 129.5704,\n       130.0622, 130.512 , 130.9536, 131.42  , 131.91  , 132.3452,\n       132.7826, 133.2776, 133.7246, 134.1666, 134.5616, 134.9274,\n       135.3256, 135.73  , 136.1216, 136.5028, 136.878 , 137.241 ,\n       137.5812, 137.8426, 138.118 , 138.3652, 138.6598, 138.948 ,\n       139.203 , 139.5464])"
     },
     "execution_count": 4,
     "metadata": {},
     "output_type": "execute_result"
    }
   ],
   "source": [
    "res = core.calc_sma(prices.close, 50)\n",
    "res"
   ],
   "metadata": {
    "collapsed": false,
    "pycharm": {
     "name": "#%%\n"
    },
    "ExecuteTime": {
     "end_time": "2023-10-27T21:31:28.058790Z",
     "start_time": "2023-10-27T21:31:28.042094Z"
    }
   }
  },
  {
   "cell_type": "code",
   "execution_count": 5,
   "outputs": [
    {
     "data": {
      "text/plain": "macd_result(macd=array([        nan,         nan,         nan,         nan,         nan,\n               nan,         nan,         nan,         nan,         nan,\n               nan,         nan,         nan,         nan,         nan,\n               nan,         nan,         nan,         nan,         nan,\n               nan,         nan,         nan,         nan,         nan,\n        0.20067101,  0.39260016,  0.59992242,  0.77865157,  0.87311285,\n        1.05443594,  1.30254449,  1.46772875,  1.66258561,  1.69658929,\n        1.67198717,  1.78841586,  1.96455325,  2.13281413,  2.36159045,\n        2.45010077,  2.39898948,  2.33080839,  2.36889092,  2.42039271,\n        2.56558195,  2.79448427,  2.94437088,  2.89343451,  2.88835975,\n        2.94320592,  2.85132521,  2.59208733,  2.27408514,  1.84027619,\n        1.38688997,  0.98236355,  0.70767916,  0.62081614,  0.71639848,\n        0.59246558,  0.41841598,  0.31078833,  0.31864942,  0.27889786,\n        0.39055806,  0.50549915,  0.38477779,  0.15418666,  0.04037098,\n       -0.03410423, -0.01947251, -0.06841378, -0.07087872, -0.1102928 ,\n       -0.06971646, -0.18311429, -0.05289191,  0.06489362,  0.09341625,\n        0.15139363,  0.27885291,  0.52072154,  0.71385825,  0.9088929 ,\n        1.04176743,  0.9648826 ,  1.09866363,  1.15426228,  1.19503887,\n        1.17587478,  1.26153398,  1.2903378 ,  1.40748795,  1.61485643,\n        1.63447725,  1.71418613,  1.91903854,  2.11350651,  2.21226625,\n        2.49816329,  2.61072464,  2.53035847,  2.47046635,  2.59721223,\n        2.7052073 ,  3.00708141,  3.2579847 ,  3.63600882,  3.85165725,\n        4.02218912,  4.05013075,  4.02666472,  4.05253418,  3.70673352,\n        3.44063062,  3.15624082,  3.19580732,  2.92315079,  2.78151789,\n        2.98506456,  3.24613315,  3.62427939,  3.85052753,  3.88179856,\n        3.63790208,  3.25618374,  3.02131969,  2.80686701,  2.57654805,\n        2.14018364,  1.82337183,  1.55358056,  1.35561212,  1.20260993,\n        1.14880355,  1.00341332,  0.75282652,  0.5550981 ,  0.44411317,\n        0.47016073,  0.41182009,  0.38056381,  0.30068422,  0.42931778,\n        0.7764886 ,  1.10505276,  1.22942578,  1.41975308,  1.67314622,\n        1.82947251,  1.81543217,  1.68003952,  1.38250921,  1.31393123,\n        1.16625411,  0.84580902,  0.46545109,  0.04966694, -0.29340801,\n       -0.53572135, -0.94920648, -1.09163265, -0.95465449, -0.89468978,\n       -0.91090331, -0.94513438, -0.88859024, -0.77034522, -0.91143138,\n       -0.86879026, -0.96508237, -1.28639292, -1.67823003, -1.8089488 ,\n       -1.82772904, -1.93568816, -1.92960841, -1.874935  , -1.6870862 ,\n       -1.71612676, -1.49755595, -1.38423061, -1.30200442, -1.15414055,\n       -1.10890087, -0.86138943, -0.74859398, -0.76895544, -0.7059457 ,\n       -0.63736604, -0.55004732, -0.41952642, -0.28137441, -0.02554165,\n        0.2134788 ,  0.28822725,  0.1935347 ,  0.14665553, -0.0353342 ,\n       -0.15358445, -0.32664565, -0.39309935, -0.07213744,  0.1139397 ,\n        0.31187547,  0.48413995,  0.62236267,  0.71638488,  0.47396485,\n        0.39270739,  0.36365716,  0.27772142,  0.51754133,  1.09680147,\n        1.61392208,  2.06609438,  2.54838215,  2.92272861,  3.33507722,\n        3.4326714 ,  3.57531446,  3.6838204 ,  3.60480004,  3.65098294,\n        3.63917772,  3.6730149 ,  3.82359373,  3.97776695,  4.03727285,\n        3.8703641 ,  3.74494711,  3.67979196,  3.85404598,  4.13251799,\n        4.05231779,  4.11002626,  4.11637876,  4.05131158,  3.80578816,\n        3.58999872,  3.63608963,  3.49515129,  3.35606681,  3.1657748 ,\n        2.90243177,  2.68217804,  2.35380628,  2.04817249,  1.6003036 ,\n        1.23117209,  0.79710982,  0.42242162,  0.17829357, -0.02537705,\n       -0.24369018, -0.20215558, -0.18406258, -0.30739072, -0.35583994]), macdsignal=array([            nan,             nan,             nan,             nan,\n                   nan,             nan,             nan,             nan,\n                   nan,             nan,             nan,             nan,\n                   nan,             nan,             nan,             nan,\n                   nan,             nan,             nan,             nan,\n                   nan,             nan,             nan,             nan,\n                   nan,             nan,             nan,             nan,\n                   nan,             nan,             nan,             nan,\n                   nan,  1.04619584e+00,  1.17627453e+00,  1.27541706e+00,\n        1.37801682e+00,  1.49532410e+00,  1.62282211e+00,  1.77057578e+00,\n        1.90648078e+00,  2.00498252e+00,  2.07014769e+00,  2.12989634e+00,\n        2.18799561e+00,  2.26351288e+00,  2.36970716e+00,  2.48463990e+00,\n        2.56639882e+00,  2.63079101e+00,  2.69327399e+00,  2.72488423e+00,\n        2.69832485e+00,  2.61347691e+00,  2.45883677e+00,  2.24444741e+00,\n        1.99203064e+00,  1.73516034e+00,  1.51229150e+00,  1.35311290e+00,\n        1.20098343e+00,  1.04446994e+00,  8.97733620e-01,  7.81916780e-01,\n        6.81312996e-01,  6.23162009e-01,  5.99629437e-01,  5.56659107e-01,\n        4.76164619e-01,  3.89005890e-01,  3.04383866e-01,  2.39612592e-01,\n        1.78007318e-01,  1.28230111e-01,  8.05255278e-02,  5.04771309e-02,\n        3.75884705e-03, -7.57130504e-03,  6.92167911e-03,  2.42205941e-02,\n        4.96552021e-02,  9.54947433e-02,  1.80540102e-01,  2.87203732e-01,\n        4.11541566e-01,  5.37586739e-01,  6.23045911e-01,  7.18169454e-01,\n        8.05388020e-01,  8.83318190e-01,  9.41829509e-01,  1.00577040e+00,\n        1.06268388e+00,  1.13164469e+00,  1.22828704e+00,  1.30952508e+00,\n        1.39045729e+00,  1.49617354e+00,  1.61964014e+00,  1.73816536e+00,\n        1.89016494e+00,  2.03427688e+00,  2.13349320e+00,  2.20088783e+00,\n        2.28015271e+00,  2.36516363e+00,  2.49354718e+00,  2.64643469e+00,\n        2.84434951e+00,  3.04581106e+00,  3.24108667e+00,  3.40289549e+00,\n        3.52764933e+00,  3.63262630e+00,  3.64744775e+00,  3.60608432e+00,\n        3.51611562e+00,  3.45205396e+00,  3.34627333e+00,  3.23332224e+00,\n        3.18367070e+00,  3.19616319e+00,  3.28178643e+00,  3.39553465e+00,\n        3.49278743e+00,  3.52181036e+00,  3.46868504e+00,  3.37921197e+00,\n        3.26474298e+00,  3.12710399e+00,  2.92971992e+00,  2.70845030e+00,\n        2.47747636e+00,  2.25310351e+00,  2.04300479e+00,  1.86416455e+00,\n        1.69201430e+00,  1.50417674e+00,  1.31436101e+00,  1.14031145e+00,\n        1.00628130e+00,  8.87389060e-01,  7.86024010e-01,  6.88956053e-01,\n        6.37028398e-01,  6.64920438e-01,  7.52946901e-01,  8.48242678e-01,\n        9.62544758e-01,  1.10466505e+00,  1.24962654e+00,  1.36278767e+00,\n        1.42623804e+00,  1.41749227e+00,  1.39678006e+00,  1.35067487e+00,\n        1.24970170e+00,  1.09285158e+00,  8.84214652e-01,  6.48690119e-01,\n        4.11807825e-01,  1.39604965e-01, -1.06642558e-01, -2.76244944e-01,\n       -3.99933912e-01, -5.02127791e-01, -5.90729108e-01, -6.50301333e-01,\n       -6.74310111e-01, -7.21734365e-01, -7.51145544e-01, -7.93932909e-01,\n       -8.92424911e-01, -1.04958594e+00, -1.20145851e+00, -1.32671262e+00,\n       -1.44850773e+00, -1.54472786e+00, -1.61076929e+00, -1.62603267e+00,\n       -1.64405149e+00, -1.61475238e+00, -1.56864803e+00, -1.51531930e+00,\n       -1.44308355e+00, -1.37624702e+00, -1.27327550e+00, -1.16833919e+00,\n       -1.08846244e+00, -1.01195910e+00, -9.37040485e-01, -8.59641852e-01,\n       -7.71618765e-01, -6.73569894e-01, -5.43964245e-01, -3.92475637e-01,\n       -2.56335060e-01, -1.66361107e-01, -1.03757780e-01, -9.00730635e-02,\n       -1.02775341e-01, -1.47549403e-01, -1.96659392e-01, -1.71755001e-01,\n       -1.14616060e-01, -2.93177547e-02,  7.33737866e-02,  1.83171563e-01,\n        2.89814226e-01,  3.26644350e-01,  3.39856958e-01,  3.44616997e-01,\n        3.31237883e-01,  3.68498573e-01,  5.14159153e-01,  7.34111739e-01,\n        1.00050827e+00,  1.31008304e+00,  1.63261216e+00,  1.97310517e+00,\n        2.26501842e+00,  2.52707763e+00,  2.75842618e+00,  2.92770095e+00,\n        3.07235735e+00,  3.18572142e+00,  3.28318012e+00,  3.39126284e+00,\n        3.50856366e+00,  3.61430550e+00,  3.66551722e+00,  3.68140320e+00,\n        3.68108095e+00,  3.71567396e+00,  3.79904276e+00,  3.84969777e+00,\n        3.90176347e+00,  3.94468653e+00,  3.96601154e+00,  3.93396686e+00,\n        3.86517323e+00,  3.81935651e+00,  3.75451547e+00,  3.67482574e+00,\n        3.57301555e+00,  3.43889879e+00,  3.28755464e+00,  3.10080497e+00,\n        2.89027847e+00,  2.63228350e+00,  2.35206122e+00,  2.04107094e+00,\n        1.71734107e+00,  1.40953157e+00,  1.12254985e+00,  8.49301843e-01,\n        6.39010359e-01,  4.74395770e-01,  3.18038471e-01,  1.83262788e-01]), macdhist=array([            nan,             nan,             nan,             nan,\n                   nan,             nan,             nan,             nan,\n                   nan,             nan,             nan,             nan,\n                   nan,             nan,             nan,             nan,\n                   nan,             nan,             nan,             nan,\n                   nan,             nan,             nan,             nan,\n                   nan,             nan,             nan,             nan,\n                   nan,             nan,             nan,             nan,\n                   nan,  6.16389771e-01,  5.20314764e-01,  3.96570115e-01,\n        4.10399040e-01,  4.69229146e-01,  5.09992023e-01,  5.91014670e-01,\n        5.43619997e-01,  3.94006965e-01,  2.60660699e-01,  2.38994579e-01,\n        2.32397101e-01,  3.02069073e-01,  4.24777112e-01,  4.59730977e-01,\n        3.27035686e-01,  2.57568743e-01,  2.49931924e-01,  1.26440971e-01,\n       -1.06237527e-01, -3.39391769e-01, -6.18560574e-01, -8.57557441e-01,\n       -1.00966709e+00, -1.02748118e+00, -8.91475362e-01, -6.36714414e-01,\n       -6.08517853e-01, -6.26053965e-01, -5.86945291e-01, -4.63267359e-01,\n       -4.02415135e-01, -2.32603949e-01, -9.41302881e-02, -1.71881318e-01,\n       -3.21977954e-01, -3.48634913e-01, -3.38488096e-01, -2.59085098e-01,\n       -2.46421095e-01, -1.99108829e-01, -1.90818332e-01, -1.20193588e-01,\n       -1.86873135e-01, -4.53206084e-02,  5.79719366e-02,  6.91956599e-02,\n        1.01738432e-01,  1.83358165e-01,  3.40181435e-01,  4.26654519e-01,\n        4.97351338e-01,  5.04180690e-01,  3.41836688e-01,  3.80494174e-01,\n        3.48874264e-01,  3.11720680e-01,  2.34045274e-01,  2.55763574e-01,\n        2.27653919e-01,  2.75843250e-01,  3.86569387e-01,  3.24952165e-01,\n        3.23728834e-01,  4.22864997e-01,  4.93866378e-01,  4.74100891e-01,\n        6.07998348e-01,  5.76447758e-01,  3.96865267e-01,  2.69578522e-01,\n        3.17059520e-01,  3.40043668e-01,  5.13534224e-01,  6.11550013e-01,\n        7.91659307e-01,  8.05846187e-01,  7.81102450e-01,  6.47235258e-01,\n        4.99015382e-01,  4.19907878e-01,  5.92857703e-02, -1.65453702e-01,\n       -3.59874800e-01, -2.56246639e-01, -4.23122533e-01, -4.51804348e-01,\n       -1.98606144e-01,  4.99699581e-02,  3.42492958e-01,  4.54992881e-01,\n        3.89011123e-01,  1.16091719e-01, -2.12501301e-01, -3.57892277e-01,\n       -4.57875966e-01, -5.50555942e-01, -7.89536279e-01, -8.85078473e-01,\n       -9.23895795e-01, -8.97491386e-01, -8.40394861e-01, -7.15360999e-01,\n       -6.88600983e-01, -7.51350226e-01, -7.59262918e-01, -6.96198273e-01,\n       -5.36120571e-01, -4.75568968e-01, -4.05460202e-01, -3.88271828e-01,\n       -2.07710618e-01,  1.11568158e-01,  3.52105855e-01,  3.81183106e-01,\n        4.57208319e-01,  5.68481169e-01,  5.79845971e-01,  4.52644506e-01,\n        2.53801480e-01, -3.49830625e-02, -8.28488356e-02, -1.84420766e-01,\n       -4.03892682e-01, -6.27400492e-01, -8.34547712e-01, -9.42098132e-01,\n       -9.47529173e-01, -1.08881144e+00, -9.84990090e-01, -6.78409544e-01,\n       -4.94755871e-01, -4.08775515e-01, -3.54405268e-01, -2.38288903e-01,\n       -9.60351118e-02, -1.89697014e-01, -1.17644716e-01, -1.71149462e-01,\n       -3.93968006e-01, -6.28644099e-01, -6.07490292e-01, -5.01016429e-01,\n       -4.87180439e-01, -3.84880545e-01, -2.64165708e-01, -6.10535291e-02,\n       -7.20752701e-02,  1.17196430e-01,  1.84417419e-01,  2.13314886e-01,\n        2.88943008e-01,  2.67346149e-01,  4.11886071e-01,  4.19745218e-01,\n        3.19507001e-01,  3.06013392e-01,  2.99674442e-01,  3.09594530e-01,\n        3.52092348e-01,  3.92195484e-01,  5.18422597e-01,  6.05954433e-01,\n        5.44562309e-01,  3.59895809e-01,  2.50413310e-01,  5.47388654e-02,\n       -5.08091091e-02, -1.79096248e-01, -1.96439956e-01,  9.96175642e-02,\n        2.28555761e-01,  3.41193222e-01,  4.10766165e-01,  4.39191105e-01,\n        4.26570653e-01,  1.47320496e-01,  5.28504296e-02,  1.90401592e-02,\n       -5.35164584e-02,  1.49042760e-01,  5.82642321e-01,  8.79810342e-01,\n        1.06558612e+00,  1.23829911e+00,  1.29011645e+00,  1.36197205e+00,\n        1.16765299e+00,  1.04823684e+00,  9.25394222e-01,  6.77099085e-01,\n        5.78625591e-01,  4.53456294e-01,  3.89834785e-01,  4.32330887e-01,\n        4.69203288e-01,  4.22967345e-01,  2.04846878e-01,  6.35439132e-02,\n       -1.28899400e-03,  1.38372028e-01,  3.33475228e-01,  2.02620022e-01,\n        2.08262796e-01,  1.71692230e-01,  8.53000416e-02, -1.28178703e-01,\n       -2.75174513e-01, -1.83266883e-01, -2.59364180e-01, -3.18758921e-01,\n       -4.07240748e-01, -5.36467021e-01, -6.05376602e-01, -7.46998691e-01,\n       -8.42105984e-01, -1.03197990e+00, -1.12088913e+00, -1.24396111e+00,\n       -1.29491946e+00, -1.23123800e+00, -1.14792690e+00, -1.09299203e+00,\n       -8.41165934e-01, -6.58458355e-01, -6.25429196e-01, -5.39102732e-01]))"
     },
     "execution_count": 5,
     "metadata": {},
     "output_type": "execute_result"
    }
   ],
   "source": [
    "res = core.calc_macd(prices.close)\n",
    "res"
   ],
   "metadata": {
    "collapsed": false,
    "pycharm": {
     "name": "#%%\n"
    },
    "ExecuteTime": {
     "end_time": "2023-10-27T21:31:29.148452Z",
     "start_time": "2023-10-27T21:31:29.130300Z"
    }
   }
  },
  {
   "cell_type": "code",
   "execution_count": 31,
   "outputs": [],
   "source": [],
   "metadata": {
    "collapsed": false,
    "pycharm": {
     "name": "#%%\n"
    }
   }
  },
  {
   "cell_type": "code",
   "execution_count": null,
   "outputs": [],
   "source": [],
   "metadata": {
    "collapsed": false,
    "pycharm": {
     "name": "#%%\n"
    }
   }
  }
 ],
 "metadata": {
  "kernelspec": {
   "display_name": "Python 3",
   "language": "python",
   "name": "python3"
  },
  "language_info": {
   "codemirror_mode": {
    "name": "ipython",
    "version": 2
   },
   "file_extension": ".py",
   "mimetype": "text/x-python",
   "name": "python",
   "nbconvert_exporter": "python",
   "pygments_lexer": "ipython2",
   "version": "2.7.6"
  }
 },
 "nbformat": 4,
 "nbformat_minor": 0
}
