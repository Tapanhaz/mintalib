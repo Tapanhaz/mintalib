{
 "cells": [
  {
   "cell_type": "code",
   "execution_count": 24,
   "outputs": [],
   "source": [
    "from mintalib import core\n",
    "from mintalib.utils import random_walk, sample_prices"
   ],
   "metadata": {
    "collapsed": false,
    "pycharm": {
     "name": "#%%\n"
    }
   }
  },
  {
   "cell_type": "code",
   "execution_count": 25,
   "outputs": [
    {
     "name": "stdout",
     "output_type": "stream",
     "text": [
      "['ADX', 'ATR', 'AVGPRICE', 'BBANDS', 'CURVE', 'CurveOption', 'DEMA', 'DIFF', 'EMA', 'EVAL', 'Indicator', 'IntEnum', 'KELTNER', 'LATR', 'MACD', 'MAX', 'MA_Type', 'MIDPRICE', 'MIN', 'MINUSDI', 'NATR', 'PLUSDI', 'PPO', 'PRICE', 'PSAR', 'Pandas', 'Polars', 'RMA', 'ROC', 'RSI', 'SLOPE', 'SMA', 'STDEV', 'STOCH', 'SUM', 'SlopeOption', 'TEMA', 'TRANGE', 'TYPPRICE', 'VOLUME', 'WCLPRICE', 'WMA', '__all__', '__builtins__', '__doc__', '__file__', '__loader__', '__name__', '__package__', '__pyx_unpickle_Enum', '__spec__', '__test__', 'asarray', 'calc_adx', 'calc_atr', 'calc_avgprice', 'calc_bbands', 'calc_curve', 'calc_dema', 'calc_diff', 'calc_ema', 'calc_keltner', 'calc_latr', 'calc_ma', 'calc_macd', 'calc_max', 'calc_midprice', 'calc_min', 'calc_minusdi', 'calc_natr', 'calc_plusdi', 'calc_ppo', 'calc_psar', 'calc_rma', 'calc_roc', 'calc_rsi', 'calc_slope', 'calc_sma', 'calc_stdev', 'calc_stoch', 'calc_streak', 'calc_sum', 'calc_tema', 'calc_trange', 'calc_typprice', 'calc_wclprice', 'calc_wma', 'check_size', 'export', 'namedtuple', 'np', 'pdDataFrame', 'pdSeries', 'plDataFrame', 'plSeries', 'stoch_result', 'wrap_result']\n"
     ]
    }
   ],
   "source": [
    "print(dir(core))"
   ],
   "metadata": {
    "collapsed": false,
    "pycharm": {
     "name": "#%%\n"
    }
   }
  },
  {
   "cell_type": "code",
   "execution_count": 26,
   "outputs": [
    {
     "name": "stdout",
     "output_type": "stream",
     "text": [
      "Help on class MA_Type in module mintalib.core:\n",
      "\n",
      "class MA_Type(enum.IntEnum)\n",
      " |  MA_Type(value, names=None, *, module=None, qualname=None, type=None, start=1)\n",
      " |  \n",
      " |  Moving Average Type Enumeration\n",
      " |  \n",
      " |  Method resolution order:\n",
      " |      MA_Type\n",
      " |      enum.IntEnum\n",
      " |      builtins.int\n",
      " |      enum.Enum\n",
      " |      builtins.object\n",
      " |  \n",
      " |  Data and other attributes defined here:\n",
      " |  \n",
      " |  DEMA = DEMA\n",
      " |  \n",
      " |  EMA = EMA\n",
      " |  \n",
      " |  RMA = RMA\n",
      " |  \n",
      " |  SMA = SMA\n",
      " |  \n",
      " |  TEMA = TEMA\n",
      " |  \n",
      " |  WMA = WMA\n",
      " |  \n",
      " |  ----------------------------------------------------------------------\n",
      " |  Data descriptors inherited from enum.Enum:\n",
      " |  \n",
      " |  name\n",
      " |      The name of the Enum member.\n",
      " |  \n",
      " |  value\n",
      " |      The value of the Enum member.\n",
      " |  \n",
      " |  ----------------------------------------------------------------------\n",
      " |  Readonly properties inherited from enum.EnumMeta:\n",
      " |  \n",
      " |  __members__\n",
      " |      Returns a mapping of member name->value.\n",
      " |      \n",
      " |      This mapping lists all enum members, including aliases. Note that this\n",
      " |      is a read-only view of the internal mapping.\n",
      "\n"
     ]
    }
   ],
   "source": [
    "help(core.MA_Type)"
   ],
   "metadata": {
    "collapsed": false,
    "pycharm": {
     "name": "#%%\n"
    }
   }
  },
  {
   "cell_type": "code",
   "execution_count": 27,
   "outputs": [
    {
     "name": "stdout",
     "output_type": "stream",
     "text": [
      "Help on cython_function_or_method in module mintalib.core:\n",
      "\n",
      "calc_ema(series, period, *, mixed: bool = True, wrap: bool = True)\n",
      "    Exponential Moving Average\n",
      "    \n",
      "    Args:\n",
      "        series (series) : data series, required\n",
      "        period (int) : time period, required\n",
      "        mixed (bool) : whether to start as a simple average until period is reached, default True\n",
      "\n"
     ]
    }
   ],
   "source": [
    "help(core.calc_ema)"
   ],
   "metadata": {
    "collapsed": false,
    "pycharm": {
     "name": "#%%\n"
    }
   }
  },
  {
   "cell_type": "code",
   "execution_count": 28,
   "outputs": [
    {
     "name": "stdout",
     "output_type": "stream",
     "text": [
      "Help on class EMA in module mintalib.core:\n",
      "\n",
      "class EMA(mintalib.model.Indicator)\n",
      " |  EMA(period: 'int', *, item=None)\n",
      " |  \n",
      " |  Exponential Moving Average\n",
      " |  \n",
      " |  Args:\n",
      " |      period (int) : time period, required\n",
      " |      item (str) : source item, optional\n",
      " |  \n",
      " |  Method resolution order:\n",
      " |      EMA\n",
      " |      mintalib.model.Indicator\n",
      " |      abc.ABC\n",
      " |      mintalib.model.ReprMixin\n",
      " |      builtins.object\n",
      " |  \n",
      " |  Methods defined here:\n",
      " |  \n",
      " |  __init__(self, period: 'int', *, item=None)\n",
      " |  \n",
      " |  calc(self, data)\n",
      " |  \n",
      " |  ----------------------------------------------------------------------\n",
      " |  Data and other attributes defined here:\n",
      " |  \n",
      " |  __abstractmethods__ = frozenset()\n",
      " |  \n",
      " |  same_scale = True\n",
      " |  \n",
      " |  ----------------------------------------------------------------------\n",
      " |  Methods inherited from mintalib.model.Indicator:\n",
      " |  \n",
      " |  __call__(self, data)\n",
      " |      Call self as a function.\n",
      " |  \n",
      " |  __matmul__(self, other)\n",
      " |  \n",
      " |  __or__(self, other)\n",
      " |  \n",
      " |  calc_cached(self, data)\n",
      " |      calc with builtin caching\n",
      " |  \n",
      " |  clone(self, **kwargs)\n",
      " |  \n",
      " |  get_series(self, data)\n",
      " |  \n",
      " |  ----------------------------------------------------------------------\n",
      " |  Data descriptors inherited from mintalib.model.Indicator:\n",
      " |  \n",
      " |  __dict__\n",
      " |      dictionary for instance variables (if defined)\n",
      " |  \n",
      " |  __weakref__\n",
      " |      list of weak references to the object (if defined)\n",
      " |  \n",
      " |  ----------------------------------------------------------------------\n",
      " |  Data and other attributes inherited from mintalib.model.Indicator:\n",
      " |  \n",
      " |  default_item = 'close'\n",
      " |  \n",
      " |  item = None\n",
      " |  \n",
      " |  ----------------------------------------------------------------------\n",
      " |  Methods inherited from mintalib.model.ReprMixin:\n",
      " |  \n",
      " |  __repr__(self)\n",
      " |      Return repr(self).\n",
      "\n"
     ]
    }
   ],
   "source": [
    "help(core.EMA)"
   ],
   "metadata": {
    "collapsed": false,
    "pycharm": {
     "name": "#%%\n"
    }
   }
  },
  {
   "cell_type": "code",
   "execution_count": 29,
   "outputs": [
    {
     "data": {
      "text/plain": "              open    high     low   close  volume\ndate                                              \n2022-08-11  131.52  134.02  131.52  134.02   89147\n2022-08-12  133.72  134.71  133.66  134.71  134907\n2022-08-15  136.11  136.68  135.74  136.68  164064\n2022-08-16  136.18  137.75  136.18  137.75  216083\n2022-08-17  138.46  139.71  138.46  139.71  129844",
      "text/html": "<div>\n<style scoped>\n    .dataframe tbody tr th:only-of-type {\n        vertical-align: middle;\n    }\n\n    .dataframe tbody tr th {\n        vertical-align: top;\n    }\n\n    .dataframe thead th {\n        text-align: right;\n    }\n</style>\n<table border=\"1\" class=\"dataframe\">\n  <thead>\n    <tr style=\"text-align: right;\">\n      <th></th>\n      <th>open</th>\n      <th>high</th>\n      <th>low</th>\n      <th>close</th>\n      <th>volume</th>\n    </tr>\n    <tr>\n      <th>date</th>\n      <th></th>\n      <th></th>\n      <th></th>\n      <th></th>\n      <th></th>\n    </tr>\n  </thead>\n  <tbody>\n    <tr>\n      <th>2022-08-11</th>\n      <td>131.52</td>\n      <td>134.02</td>\n      <td>131.52</td>\n      <td>134.02</td>\n      <td>89147</td>\n    </tr>\n    <tr>\n      <th>2022-08-12</th>\n      <td>133.72</td>\n      <td>134.71</td>\n      <td>133.66</td>\n      <td>134.71</td>\n      <td>134907</td>\n    </tr>\n    <tr>\n      <th>2022-08-15</th>\n      <td>136.11</td>\n      <td>136.68</td>\n      <td>135.74</td>\n      <td>136.68</td>\n      <td>164064</td>\n    </tr>\n    <tr>\n      <th>2022-08-16</th>\n      <td>136.18</td>\n      <td>137.75</td>\n      <td>136.18</td>\n      <td>137.75</td>\n      <td>216083</td>\n    </tr>\n    <tr>\n      <th>2022-08-17</th>\n      <td>138.46</td>\n      <td>139.71</td>\n      <td>138.46</td>\n      <td>139.71</td>\n      <td>129844</td>\n    </tr>\n  </tbody>\n</table>\n</div>"
     },
     "execution_count": 29,
     "metadata": {},
     "output_type": "execute_result"
    }
   ],
   "source": [
    "prices = sample_prices()\n",
    "prices.tail()"
   ],
   "metadata": {
    "collapsed": false,
    "pycharm": {
     "name": "#%%\n"
    }
   }
  },
  {
   "cell_type": "code",
   "execution_count": 30,
   "outputs": [
    {
     "data": {
      "text/plain": "date\n2021-08-19         NaN\n2021-08-20         NaN\n2021-08-23         NaN\n2021-08-24         NaN\n2021-08-25         NaN\n                ...   \n2022-08-11    126.7162\n2022-08-12    126.9274\n2022-08-15    127.2394\n2022-08-16    127.5850\n2022-08-17    127.9328\nLength: 260, dtype: float64"
     },
     "execution_count": 30,
     "metadata": {},
     "output_type": "execute_result"
    }
   ],
   "source": [
    "core.calc_sma(prices.close, 50)"
   ],
   "metadata": {
    "collapsed": false,
    "pycharm": {
     "name": "#%%\n"
    }
   }
  },
  {
   "cell_type": "code",
   "execution_count": 31,
   "outputs": [
    {
     "data": {
      "text/plain": "                macd  macdsignal  macdhist\ndate                                      \n2021-08-19       NaN         NaN       NaN\n2021-08-20       NaN         NaN       NaN\n2021-08-23       NaN         NaN       NaN\n2021-08-24       NaN         NaN       NaN\n2021-08-25       NaN         NaN       NaN\n...              ...         ...       ...\n2022-08-11  1.808785    1.946164 -0.137379\n2022-08-12  1.863677    1.929667 -0.065989\n2022-08-15  2.042597    1.952253  0.090344\n2022-08-16  2.244854    2.010773  0.234081\n2022-08-17  2.534089    2.115436  0.418653\n\n[260 rows x 3 columns]",
      "text/html": "<div>\n<style scoped>\n    .dataframe tbody tr th:only-of-type {\n        vertical-align: middle;\n    }\n\n    .dataframe tbody tr th {\n        vertical-align: top;\n    }\n\n    .dataframe thead th {\n        text-align: right;\n    }\n</style>\n<table border=\"1\" class=\"dataframe\">\n  <thead>\n    <tr style=\"text-align: right;\">\n      <th></th>\n      <th>macd</th>\n      <th>macdsignal</th>\n      <th>macdhist</th>\n    </tr>\n    <tr>\n      <th>date</th>\n      <th></th>\n      <th></th>\n      <th></th>\n    </tr>\n  </thead>\n  <tbody>\n    <tr>\n      <th>2021-08-19</th>\n      <td>NaN</td>\n      <td>NaN</td>\n      <td>NaN</td>\n    </tr>\n    <tr>\n      <th>2021-08-20</th>\n      <td>NaN</td>\n      <td>NaN</td>\n      <td>NaN</td>\n    </tr>\n    <tr>\n      <th>2021-08-23</th>\n      <td>NaN</td>\n      <td>NaN</td>\n      <td>NaN</td>\n    </tr>\n    <tr>\n      <th>2021-08-24</th>\n      <td>NaN</td>\n      <td>NaN</td>\n      <td>NaN</td>\n    </tr>\n    <tr>\n      <th>2021-08-25</th>\n      <td>NaN</td>\n      <td>NaN</td>\n      <td>NaN</td>\n    </tr>\n    <tr>\n      <th>...</th>\n      <td>...</td>\n      <td>...</td>\n      <td>...</td>\n    </tr>\n    <tr>\n      <th>2022-08-11</th>\n      <td>1.808785</td>\n      <td>1.946164</td>\n      <td>-0.137379</td>\n    </tr>\n    <tr>\n      <th>2022-08-12</th>\n      <td>1.863677</td>\n      <td>1.929667</td>\n      <td>-0.065989</td>\n    </tr>\n    <tr>\n      <th>2022-08-15</th>\n      <td>2.042597</td>\n      <td>1.952253</td>\n      <td>0.090344</td>\n    </tr>\n    <tr>\n      <th>2022-08-16</th>\n      <td>2.244854</td>\n      <td>2.010773</td>\n      <td>0.234081</td>\n    </tr>\n    <tr>\n      <th>2022-08-17</th>\n      <td>2.534089</td>\n      <td>2.115436</td>\n      <td>0.418653</td>\n    </tr>\n  </tbody>\n</table>\n<p>260 rows × 3 columns</p>\n</div>"
     },
     "execution_count": 31,
     "metadata": {},
     "output_type": "execute_result"
    }
   ],
   "source": [
    "core.calc_macd(prices.close)"
   ],
   "metadata": {
    "collapsed": false,
    "pycharm": {
     "name": "#%%\n"
    }
   }
  },
  {
   "cell_type": "code",
   "execution_count": 31,
   "outputs": [],
   "source": [],
   "metadata": {
    "collapsed": false,
    "pycharm": {
     "name": "#%%\n"
    }
   }
  },
  {
   "cell_type": "code",
   "execution_count": null,
   "outputs": [],
   "source": [],
   "metadata": {
    "collapsed": false,
    "pycharm": {
     "name": "#%%\n"
    }
   }
  }
 ],
 "metadata": {
  "kernelspec": {
   "display_name": "Python 3",
   "language": "python",
   "name": "python3"
  },
  "language_info": {
   "codemirror_mode": {
    "name": "ipython",
    "version": 2
   },
   "file_extension": ".py",
   "mimetype": "text/x-python",
   "name": "python",
   "nbconvert_exporter": "python",
   "pygments_lexer": "ipython2",
   "version": "2.7.6"
  }
 },
 "nbformat": 4,
 "nbformat_minor": 0
}