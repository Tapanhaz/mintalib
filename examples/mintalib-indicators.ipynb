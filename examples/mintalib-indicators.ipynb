{
 "cells": [
  {
   "cell_type": "markdown",
   "source": [
    "# Using mintalib indicators"
   ],
   "metadata": {
    "collapsed": false,
    "pycharm": {
     "name": "#%% md\n"
    }
   }
  },
  {
   "cell_type": "code",
   "execution_count": 1,
   "outputs": [],
   "source": [
    "from mintalib.utils import sample_prices\n",
    "\n",
    "from mintalib.indicators import ROC, SMA, EMA, RSI, MACD, TRANGE, ATR, SLOPE, EVAL\n"
   ],
   "metadata": {
    "collapsed": false,
    "pycharm": {
     "name": "#%%\n"
    }
   }
  },
  {
   "cell_type": "code",
   "execution_count": 2,
   "outputs": [
    {
     "data": {
      "text/plain": "              open    high     low   close  volume\ndate                                              \n2022-08-11  134.05  135.57  134.05  135.57  109453\n2022-08-12  136.12  136.12  135.24  135.42  126078\n2022-08-15  135.74  135.74  135.06  135.35  133082\n2022-08-16  136.61  139.53  136.61  139.53  137345\n2022-08-17  140.21  141.61  140.21  141.49  125686",
      "text/html": "<div>\n<style scoped>\n    .dataframe tbody tr th:only-of-type {\n        vertical-align: middle;\n    }\n\n    .dataframe tbody tr th {\n        vertical-align: top;\n    }\n\n    .dataframe thead th {\n        text-align: right;\n    }\n</style>\n<table border=\"1\" class=\"dataframe\">\n  <thead>\n    <tr style=\"text-align: right;\">\n      <th></th>\n      <th>open</th>\n      <th>high</th>\n      <th>low</th>\n      <th>close</th>\n      <th>volume</th>\n    </tr>\n    <tr>\n      <th>date</th>\n      <th></th>\n      <th></th>\n      <th></th>\n      <th></th>\n      <th></th>\n    </tr>\n  </thead>\n  <tbody>\n    <tr>\n      <th>2022-08-11</th>\n      <td>134.05</td>\n      <td>135.57</td>\n      <td>134.05</td>\n      <td>135.57</td>\n      <td>109453</td>\n    </tr>\n    <tr>\n      <th>2022-08-12</th>\n      <td>136.12</td>\n      <td>136.12</td>\n      <td>135.24</td>\n      <td>135.42</td>\n      <td>126078</td>\n    </tr>\n    <tr>\n      <th>2022-08-15</th>\n      <td>135.74</td>\n      <td>135.74</td>\n      <td>135.06</td>\n      <td>135.35</td>\n      <td>133082</td>\n    </tr>\n    <tr>\n      <th>2022-08-16</th>\n      <td>136.61</td>\n      <td>139.53</td>\n      <td>136.61</td>\n      <td>139.53</td>\n      <td>137345</td>\n    </tr>\n    <tr>\n      <th>2022-08-17</th>\n      <td>140.21</td>\n      <td>141.61</td>\n      <td>140.21</td>\n      <td>141.49</td>\n      <td>125686</td>\n    </tr>\n  </tbody>\n</table>\n</div>"
     },
     "execution_count": 2,
     "metadata": {},
     "output_type": "execute_result"
    }
   ],
   "source": [
    "prices = sample_prices()\n",
    "prices.tail()\n"
   ],
   "metadata": {
    "collapsed": false,
    "pycharm": {
     "name": "#%%\n"
    }
   }
  },
  {
   "cell_type": "code",
   "execution_count": 3,
   "outputs": [
    {
     "data": {
      "text/plain": "date\n2022-08-11   -0.045296\n2022-08-12   -0.045066\n2022-08-15   -0.044454\n2022-08-16   -0.041315\n2022-08-17   -0.036932\ndtype: float64"
     },
     "execution_count": 3,
     "metadata": {},
     "output_type": "execute_result"
    }
   ],
   "source": [
    "indicator = ROC(20) @ EMA(20)\n",
    "\n",
    "res = indicator(prices)\n",
    "res.tail()\n"
   ],
   "metadata": {
    "collapsed": false,
    "pycharm": {
     "name": "#%%\n"
    }
   }
  },
  {
   "cell_type": "code",
   "execution_count": 4,
   "outputs": [
    {
     "data": {
      "text/plain": "date\n2022-08-11    1.52\n2022-08-12    0.88\n2022-08-15    0.68\n2022-08-16    4.18\n2022-08-17    2.08\ndtype: float64"
     },
     "execution_count": 4,
     "metadata": {},
     "output_type": "execute_result"
    }
   ],
   "source": [
    "res = TRANGE() @ prices\n",
    "res.tail()"
   ],
   "metadata": {
    "collapsed": false,
    "pycharm": {
     "name": "#%%\n"
    }
   }
  },
  {
   "cell_type": "code",
   "execution_count": 5,
   "outputs": [
    {
     "data": {
      "text/plain": "date\n2022-08-11    142072.70\n2022-08-12    139684.25\n2022-08-15    136067.65\n2022-08-16    134788.55\n2022-08-17    136364.05\ndtype: float64"
     },
     "execution_count": 5,
     "metadata": {},
     "output_type": "execute_result"
    }
   ],
   "source": [
    "res = SMA(20, item='volume') @ prices\n",
    "res.tail()"
   ],
   "metadata": {
    "collapsed": false,
    "pycharm": {
     "name": "#%%\n"
    }
   }
  },
  {
   "cell_type": "code",
   "execution_count": 8,
   "outputs": [
    {
     "data": {
      "text/plain": "              open    high     low   close  volume        rsi     sma20  \\\ndate                                                                      \n2022-08-11  134.05  135.57  134.05  135.57  109453  40.224758  138.0515   \n2022-08-12  136.12  136.12  135.24  135.42  126078  39.830181  137.7485   \n2022-08-15  135.74  135.74  135.06  135.35  133082  39.634788  137.4775   \n2022-08-16  136.61  139.53  136.61  139.53  137345  54.111287  137.4005   \n2022-08-17  140.21  141.61  140.21  141.49  125686  59.068106  137.4395   \n\n               sma50     sma200   slope20  pos  \ndate                                            \n2022-08-11  141.1668  119.20885 -0.393647  0.0  \n2022-08-12  141.0636  119.40990 -0.377105  0.0  \n2022-08-15  140.9250  119.60540 -0.363662  0.0  \n2022-08-16  140.9214  119.81810 -0.277617  0.0  \n2022-08-17  140.9928  120.04300 -0.166940  0.0  ",
      "text/html": "<div>\n<style scoped>\n    .dataframe tbody tr th:only-of-type {\n        vertical-align: middle;\n    }\n\n    .dataframe tbody tr th {\n        vertical-align: top;\n    }\n\n    .dataframe thead th {\n        text-align: right;\n    }\n</style>\n<table border=\"1\" class=\"dataframe\">\n  <thead>\n    <tr style=\"text-align: right;\">\n      <th></th>\n      <th>open</th>\n      <th>high</th>\n      <th>low</th>\n      <th>close</th>\n      <th>volume</th>\n      <th>rsi</th>\n      <th>sma20</th>\n      <th>sma50</th>\n      <th>sma200</th>\n      <th>slope20</th>\n      <th>pos</th>\n    </tr>\n    <tr>\n      <th>date</th>\n      <th></th>\n      <th></th>\n      <th></th>\n      <th></th>\n      <th></th>\n      <th></th>\n      <th></th>\n      <th></th>\n      <th></th>\n      <th></th>\n      <th></th>\n    </tr>\n  </thead>\n  <tbody>\n    <tr>\n      <th>2022-08-11</th>\n      <td>134.05</td>\n      <td>135.57</td>\n      <td>134.05</td>\n      <td>135.57</td>\n      <td>109453</td>\n      <td>40.224758</td>\n      <td>138.0515</td>\n      <td>141.1668</td>\n      <td>119.20885</td>\n      <td>-0.393647</td>\n      <td>0.0</td>\n    </tr>\n    <tr>\n      <th>2022-08-12</th>\n      <td>136.12</td>\n      <td>136.12</td>\n      <td>135.24</td>\n      <td>135.42</td>\n      <td>126078</td>\n      <td>39.830181</td>\n      <td>137.7485</td>\n      <td>141.0636</td>\n      <td>119.40990</td>\n      <td>-0.377105</td>\n      <td>0.0</td>\n    </tr>\n    <tr>\n      <th>2022-08-15</th>\n      <td>135.74</td>\n      <td>135.74</td>\n      <td>135.06</td>\n      <td>135.35</td>\n      <td>133082</td>\n      <td>39.634788</td>\n      <td>137.4775</td>\n      <td>140.9250</td>\n      <td>119.60540</td>\n      <td>-0.363662</td>\n      <td>0.0</td>\n    </tr>\n    <tr>\n      <th>2022-08-16</th>\n      <td>136.61</td>\n      <td>139.53</td>\n      <td>136.61</td>\n      <td>139.53</td>\n      <td>137345</td>\n      <td>54.111287</td>\n      <td>137.4005</td>\n      <td>140.9214</td>\n      <td>119.81810</td>\n      <td>-0.277617</td>\n      <td>0.0</td>\n    </tr>\n    <tr>\n      <th>2022-08-17</th>\n      <td>140.21</td>\n      <td>141.61</td>\n      <td>140.21</td>\n      <td>141.49</td>\n      <td>125686</td>\n      <td>59.068106</td>\n      <td>137.4395</td>\n      <td>140.9928</td>\n      <td>120.04300</td>\n      <td>-0.166940</td>\n      <td>0.0</td>\n    </tr>\n  </tbody>\n</table>\n</div>"
     },
     "execution_count": 8,
     "metadata": {},
     "output_type": "execute_result"
    }
   ],
   "source": [
    "prices.assign(\n",
    "    rsi=RSI(),\n",
    "    sma20=SMA(20),\n",
    "    sma50=SMA(50),\n",
    "    sma200=SMA(200),\n",
    "    slope20=SLOPE(20),\n",
    "    pos=EVAL(\"sma50 > sma200 and slope20 > 0.0\")\n",
    ").tail()"
   ],
   "metadata": {
    "collapsed": false,
    "pycharm": {
     "name": "#%%\n"
    }
   }
  },
  {
   "cell_type": "code",
   "execution_count": 9,
   "outputs": [
    {
     "ename": "TypeError",
     "evalue": "unsupported operand type(s) for |: 'float' and 'float'",
     "output_type": "error",
     "traceback": [
      "\u001B[1;31m---------------------------------------------------------------------------\u001B[0m",
      "\u001B[1;31mTypeError\u001B[0m                                 Traceback (most recent call last)",
      "File \u001B[1;32m~\\miniconda3\\envs\\py38\\lib\\site-packages\\pandas\\core\\ops\\array_ops.py:301\u001B[0m, in \u001B[0;36mna_logical_op\u001B[1;34m(x, y, op)\u001B[0m\n\u001B[0;32m    292\u001B[0m \u001B[38;5;28;01mtry\u001B[39;00m:\n\u001B[0;32m    293\u001B[0m     \u001B[38;5;66;03m# For exposition, write:\u001B[39;00m\n\u001B[0;32m    294\u001B[0m     \u001B[38;5;66;03m#  yarr = isinstance(y, np.ndarray)\u001B[39;00m\n\u001B[1;32m   (...)\u001B[0m\n\u001B[0;32m    299\u001B[0m     \u001B[38;5;66;03m# Then Cases where this goes through without raising include:\u001B[39;00m\n\u001B[0;32m    300\u001B[0m     \u001B[38;5;66;03m#  (xint or xbool) and (yint or bool)\u001B[39;00m\n\u001B[1;32m--> 301\u001B[0m     result \u001B[38;5;241m=\u001B[39m \u001B[43mop\u001B[49m\u001B[43m(\u001B[49m\u001B[43mx\u001B[49m\u001B[43m,\u001B[49m\u001B[43m \u001B[49m\u001B[43my\u001B[49m\u001B[43m)\u001B[49m\n\u001B[0;32m    302\u001B[0m \u001B[38;5;28;01mexcept\u001B[39;00m \u001B[38;5;167;01mTypeError\u001B[39;00m:\n",
      "\u001B[1;31mTypeError\u001B[0m: ufunc 'bitwise_or' not supported for the input types, and the inputs could not be safely coerced to any supported types according to the casting rule ''safe''",
      "\nDuring handling of the above exception, another exception occurred:\n",
      "\u001B[1;31mTypeError\u001B[0m                                 Traceback (most recent call last)",
      "Input \u001B[1;32mIn [9]\u001B[0m, in \u001B[0;36m<cell line: 1>\u001B[1;34m()\u001B[0m\n\u001B[1;32m----> 1\u001B[0m \u001B[43mprices\u001B[49m\u001B[43m \u001B[49m\u001B[38;5;241;43m|\u001B[39;49m\u001B[43m \u001B[49m\u001B[43mprices\u001B[49m\n",
      "File \u001B[1;32m~\\miniconda3\\envs\\py38\\lib\\site-packages\\pandas\\core\\ops\\common.py:70\u001B[0m, in \u001B[0;36m_unpack_zerodim_and_defer.<locals>.new_method\u001B[1;34m(self, other)\u001B[0m\n\u001B[0;32m     66\u001B[0m             \u001B[38;5;28;01mreturn\u001B[39;00m \u001B[38;5;28mNotImplemented\u001B[39m\n\u001B[0;32m     68\u001B[0m other \u001B[38;5;241m=\u001B[39m item_from_zerodim(other)\n\u001B[1;32m---> 70\u001B[0m \u001B[38;5;28;01mreturn\u001B[39;00m \u001B[43mmethod\u001B[49m\u001B[43m(\u001B[49m\u001B[38;5;28;43mself\u001B[39;49m\u001B[43m,\u001B[49m\u001B[43m \u001B[49m\u001B[43mother\u001B[49m\u001B[43m)\u001B[49m\n",
      "File \u001B[1;32m~\\miniconda3\\envs\\py38\\lib\\site-packages\\pandas\\core\\arraylike.py:78\u001B[0m, in \u001B[0;36mOpsMixin.__or__\u001B[1;34m(self, other)\u001B[0m\n\u001B[0;32m     76\u001B[0m \u001B[38;5;129m@unpack_zerodim_and_defer\u001B[39m(\u001B[38;5;124m\"\u001B[39m\u001B[38;5;124m__or__\u001B[39m\u001B[38;5;124m\"\u001B[39m)\n\u001B[0;32m     77\u001B[0m \u001B[38;5;28;01mdef\u001B[39;00m \u001B[38;5;21m__or__\u001B[39m(\u001B[38;5;28mself\u001B[39m, other):\n\u001B[1;32m---> 78\u001B[0m     \u001B[38;5;28;01mreturn\u001B[39;00m \u001B[38;5;28;43mself\u001B[39;49m\u001B[38;5;241;43m.\u001B[39;49m\u001B[43m_logical_method\u001B[49m\u001B[43m(\u001B[49m\u001B[43mother\u001B[49m\u001B[43m,\u001B[49m\u001B[43m \u001B[49m\u001B[43moperator\u001B[49m\u001B[38;5;241;43m.\u001B[39;49m\u001B[43mor_\u001B[49m\u001B[43m)\u001B[49m\n",
      "File \u001B[1;32m~\\miniconda3\\envs\\py38\\lib\\site-packages\\pandas\\core\\frame.py:6946\u001B[0m, in \u001B[0;36mDataFrame._arith_method\u001B[1;34m(self, other, op)\u001B[0m\n\u001B[0;32m   6942\u001B[0m other \u001B[38;5;241m=\u001B[39m ops\u001B[38;5;241m.\u001B[39mmaybe_prepare_scalar_for_op(other, (\u001B[38;5;28mself\u001B[39m\u001B[38;5;241m.\u001B[39mshape[axis],))\n\u001B[0;32m   6944\u001B[0m \u001B[38;5;28mself\u001B[39m, other \u001B[38;5;241m=\u001B[39m ops\u001B[38;5;241m.\u001B[39malign_method_FRAME(\u001B[38;5;28mself\u001B[39m, other, axis, flex\u001B[38;5;241m=\u001B[39m\u001B[38;5;28;01mTrue\u001B[39;00m, level\u001B[38;5;241m=\u001B[39m\u001B[38;5;28;01mNone\u001B[39;00m)\n\u001B[1;32m-> 6946\u001B[0m new_data \u001B[38;5;241m=\u001B[39m \u001B[38;5;28;43mself\u001B[39;49m\u001B[38;5;241;43m.\u001B[39;49m\u001B[43m_dispatch_frame_op\u001B[49m\u001B[43m(\u001B[49m\u001B[43mother\u001B[49m\u001B[43m,\u001B[49m\u001B[43m \u001B[49m\u001B[43mop\u001B[49m\u001B[43m,\u001B[49m\u001B[43m \u001B[49m\u001B[43maxis\u001B[49m\u001B[38;5;241;43m=\u001B[39;49m\u001B[43maxis\u001B[49m\u001B[43m)\u001B[49m\n\u001B[0;32m   6947\u001B[0m \u001B[38;5;28;01mreturn\u001B[39;00m \u001B[38;5;28mself\u001B[39m\u001B[38;5;241m.\u001B[39m_construct_result(new_data)\n",
      "File \u001B[1;32m~\\miniconda3\\envs\\py38\\lib\\site-packages\\pandas\\core\\frame.py:6985\u001B[0m, in \u001B[0;36mDataFrame._dispatch_frame_op\u001B[1;34m(self, right, func, axis)\u001B[0m\n\u001B[0;32m   6979\u001B[0m     \u001B[38;5;66;03m# TODO: The previous assertion `assert right._indexed_same(self)`\u001B[39;00m\n\u001B[0;32m   6980\u001B[0m     \u001B[38;5;66;03m#  fails in cases with empty columns reached via\u001B[39;00m\n\u001B[0;32m   6981\u001B[0m     \u001B[38;5;66;03m#  _frame_arith_method_with_reindex\u001B[39;00m\n\u001B[0;32m   6982\u001B[0m \n\u001B[0;32m   6983\u001B[0m     \u001B[38;5;66;03m# TODO operate_blockwise expects a manager of the same type\u001B[39;00m\n\u001B[0;32m   6984\u001B[0m     \u001B[38;5;28;01mwith\u001B[39;00m np\u001B[38;5;241m.\u001B[39merrstate(\u001B[38;5;28mall\u001B[39m\u001B[38;5;241m=\u001B[39m\u001B[38;5;124m\"\u001B[39m\u001B[38;5;124mignore\u001B[39m\u001B[38;5;124m\"\u001B[39m):\n\u001B[1;32m-> 6985\u001B[0m         bm \u001B[38;5;241m=\u001B[39m \u001B[38;5;28;43mself\u001B[39;49m\u001B[38;5;241;43m.\u001B[39;49m\u001B[43m_mgr\u001B[49m\u001B[38;5;241;43m.\u001B[39;49m\u001B[43moperate_blockwise\u001B[49m\u001B[43m(\u001B[49m\n\u001B[0;32m   6986\u001B[0m \u001B[43m            \u001B[49m\u001B[38;5;66;43;03m# error: Argument 1 to \"operate_blockwise\" of \"ArrayManager\" has\u001B[39;49;00m\n\u001B[0;32m   6987\u001B[0m \u001B[43m            \u001B[49m\u001B[38;5;66;43;03m# incompatible type \"Union[ArrayManager, BlockManager]\"; expected\u001B[39;49;00m\n\u001B[0;32m   6988\u001B[0m \u001B[43m            \u001B[49m\u001B[38;5;66;43;03m# \"ArrayManager\"\u001B[39;49;00m\n\u001B[0;32m   6989\u001B[0m \u001B[43m            \u001B[49m\u001B[38;5;66;43;03m# error: Argument 1 to \"operate_blockwise\" of \"BlockManager\" has\u001B[39;49;00m\n\u001B[0;32m   6990\u001B[0m \u001B[43m            \u001B[49m\u001B[38;5;66;43;03m# incompatible type \"Union[ArrayManager, BlockManager]\"; expected\u001B[39;49;00m\n\u001B[0;32m   6991\u001B[0m \u001B[43m            \u001B[49m\u001B[38;5;66;43;03m# \"BlockManager\"\u001B[39;49;00m\n\u001B[0;32m   6992\u001B[0m \u001B[43m            \u001B[49m\u001B[43mright\u001B[49m\u001B[38;5;241;43m.\u001B[39;49m\u001B[43m_mgr\u001B[49m\u001B[43m,\u001B[49m\u001B[43m  \u001B[49m\u001B[38;5;66;43;03m# type: ignore[arg-type]\u001B[39;49;00m\n\u001B[0;32m   6993\u001B[0m \u001B[43m            \u001B[49m\u001B[43marray_op\u001B[49m\u001B[43m,\u001B[49m\n\u001B[0;32m   6994\u001B[0m \u001B[43m        \u001B[49m\u001B[43m)\u001B[49m\n\u001B[0;32m   6995\u001B[0m     \u001B[38;5;28;01mreturn\u001B[39;00m \u001B[38;5;28mself\u001B[39m\u001B[38;5;241m.\u001B[39m_constructor(bm)\n\u001B[0;32m   6997\u001B[0m \u001B[38;5;28;01melif\u001B[39;00m \u001B[38;5;28misinstance\u001B[39m(right, Series) \u001B[38;5;129;01mand\u001B[39;00m axis \u001B[38;5;241m==\u001B[39m \u001B[38;5;241m1\u001B[39m:\n\u001B[0;32m   6998\u001B[0m     \u001B[38;5;66;03m# axis=1 means we want to operate row-by-row\u001B[39;00m\n",
      "File \u001B[1;32m~\\miniconda3\\envs\\py38\\lib\\site-packages\\pandas\\core\\internals\\managers.py:1409\u001B[0m, in \u001B[0;36mBlockManager.operate_blockwise\u001B[1;34m(self, other, array_op)\u001B[0m\n\u001B[0;32m   1405\u001B[0m \u001B[38;5;28;01mdef\u001B[39;00m \u001B[38;5;21moperate_blockwise\u001B[39m(\u001B[38;5;28mself\u001B[39m, other: BlockManager, array_op) \u001B[38;5;241m-\u001B[39m\u001B[38;5;241m>\u001B[39m BlockManager:\n\u001B[0;32m   1406\u001B[0m     \u001B[38;5;124;03m\"\"\"\u001B[39;00m\n\u001B[0;32m   1407\u001B[0m \u001B[38;5;124;03m    Apply array_op blockwise with another (aligned) BlockManager.\u001B[39;00m\n\u001B[0;32m   1408\u001B[0m \u001B[38;5;124;03m    \"\"\"\u001B[39;00m\n\u001B[1;32m-> 1409\u001B[0m     \u001B[38;5;28;01mreturn\u001B[39;00m \u001B[43moperate_blockwise\u001B[49m\u001B[43m(\u001B[49m\u001B[38;5;28;43mself\u001B[39;49m\u001B[43m,\u001B[49m\u001B[43m \u001B[49m\u001B[43mother\u001B[49m\u001B[43m,\u001B[49m\u001B[43m \u001B[49m\u001B[43marray_op\u001B[49m\u001B[43m)\u001B[49m\n",
      "File \u001B[1;32m~\\miniconda3\\envs\\py38\\lib\\site-packages\\pandas\\core\\internals\\ops.py:63\u001B[0m, in \u001B[0;36moperate_blockwise\u001B[1;34m(left, right, array_op)\u001B[0m\n\u001B[0;32m     61\u001B[0m res_blks: \u001B[38;5;28mlist\u001B[39m[Block] \u001B[38;5;241m=\u001B[39m []\n\u001B[0;32m     62\u001B[0m \u001B[38;5;28;01mfor\u001B[39;00m lvals, rvals, locs, left_ea, right_ea, rblk \u001B[38;5;129;01min\u001B[39;00m _iter_block_pairs(left, right):\n\u001B[1;32m---> 63\u001B[0m     res_values \u001B[38;5;241m=\u001B[39m \u001B[43marray_op\u001B[49m\u001B[43m(\u001B[49m\u001B[43mlvals\u001B[49m\u001B[43m,\u001B[49m\u001B[43m \u001B[49m\u001B[43mrvals\u001B[49m\u001B[43m)\u001B[49m\n\u001B[0;32m     64\u001B[0m     \u001B[38;5;28;01mif\u001B[39;00m left_ea \u001B[38;5;129;01mand\u001B[39;00m \u001B[38;5;129;01mnot\u001B[39;00m right_ea \u001B[38;5;129;01mand\u001B[39;00m \u001B[38;5;28mhasattr\u001B[39m(res_values, \u001B[38;5;124m\"\u001B[39m\u001B[38;5;124mreshape\u001B[39m\u001B[38;5;124m\"\u001B[39m):\n\u001B[0;32m     65\u001B[0m         res_values \u001B[38;5;241m=\u001B[39m res_values\u001B[38;5;241m.\u001B[39mreshape(\u001B[38;5;241m1\u001B[39m, \u001B[38;5;241m-\u001B[39m\u001B[38;5;241m1\u001B[39m)\n",
      "File \u001B[1;32m~\\miniconda3\\envs\\py38\\lib\\site-packages\\pandas\\core\\ops\\array_ops.py:391\u001B[0m, in \u001B[0;36mlogical_op\u001B[1;34m(left, right, op)\u001B[0m\n\u001B[0;32m    387\u001B[0m \u001B[38;5;66;03m# For int vs int `^`, `|`, `&` are bitwise operators and return\u001B[39;00m\n\u001B[0;32m    388\u001B[0m \u001B[38;5;66;03m#   integer dtypes.  Otherwise these are boolean ops\u001B[39;00m\n\u001B[0;32m    389\u001B[0m filler \u001B[38;5;241m=\u001B[39m fill_int \u001B[38;5;28;01mif\u001B[39;00m is_self_int_dtype \u001B[38;5;129;01mand\u001B[39;00m is_other_int_dtype \u001B[38;5;28;01melse\u001B[39;00m fill_bool\n\u001B[1;32m--> 391\u001B[0m res_values \u001B[38;5;241m=\u001B[39m \u001B[43mna_logical_op\u001B[49m\u001B[43m(\u001B[49m\u001B[43mlvalues\u001B[49m\u001B[43m,\u001B[49m\u001B[43m \u001B[49m\u001B[43mrvalues\u001B[49m\u001B[43m,\u001B[49m\u001B[43m \u001B[49m\u001B[43mop\u001B[49m\u001B[43m)\u001B[49m\n\u001B[0;32m    392\u001B[0m \u001B[38;5;66;03m# error: Cannot call function of unknown type\u001B[39;00m\n\u001B[0;32m    393\u001B[0m res_values \u001B[38;5;241m=\u001B[39m filler(res_values)  \u001B[38;5;66;03m# type: ignore[operator]\u001B[39;00m\n",
      "File \u001B[1;32m~\\miniconda3\\envs\\py38\\lib\\site-packages\\pandas\\core\\ops\\array_ops.py:308\u001B[0m, in \u001B[0;36mna_logical_op\u001B[1;34m(x, y, op)\u001B[0m\n\u001B[0;32m    306\u001B[0m     x \u001B[38;5;241m=\u001B[39m ensure_object(x)\n\u001B[0;32m    307\u001B[0m     y \u001B[38;5;241m=\u001B[39m ensure_object(y)\n\u001B[1;32m--> 308\u001B[0m     result \u001B[38;5;241m=\u001B[39m \u001B[43mlibops\u001B[49m\u001B[38;5;241;43m.\u001B[39;49m\u001B[43mvec_binop\u001B[49m\u001B[43m(\u001B[49m\u001B[43mx\u001B[49m\u001B[38;5;241;43m.\u001B[39;49m\u001B[43mravel\u001B[49m\u001B[43m(\u001B[49m\u001B[43m)\u001B[49m\u001B[43m,\u001B[49m\u001B[43m \u001B[49m\u001B[43my\u001B[49m\u001B[38;5;241;43m.\u001B[39;49m\u001B[43mravel\u001B[49m\u001B[43m(\u001B[49m\u001B[43m)\u001B[49m\u001B[43m,\u001B[49m\u001B[43m \u001B[49m\u001B[43mop\u001B[49m\u001B[43m)\u001B[49m\n\u001B[0;32m    309\u001B[0m \u001B[38;5;28;01melse\u001B[39;00m:\n\u001B[0;32m    310\u001B[0m     \u001B[38;5;66;03m# let null fall thru\u001B[39;00m\n\u001B[0;32m    311\u001B[0m     \u001B[38;5;28;01massert\u001B[39;00m lib\u001B[38;5;241m.\u001B[39mis_scalar(y)\n",
      "File \u001B[1;32m~\\miniconda3\\envs\\py38\\lib\\site-packages\\pandas\\_libs\\ops.pyx:252\u001B[0m, in \u001B[0;36mpandas._libs.ops.vec_binop\u001B[1;34m()\u001B[0m\n",
      "File \u001B[1;32m~\\miniconda3\\envs\\py38\\lib\\site-packages\\pandas\\_libs\\ops.pyx:245\u001B[0m, in \u001B[0;36mpandas._libs.ops.vec_binop\u001B[1;34m()\u001B[0m\n",
      "\u001B[1;31mTypeError\u001B[0m: unsupported operand type(s) for |: 'float' and 'float'"
     ]
    }
   ],
   "source": [
    "prices | prices"
   ],
   "metadata": {
    "collapsed": false,
    "pycharm": {
     "name": "#%%\n"
    }
   }
  },
  {
   "cell_type": "code",
   "execution_count": 11,
   "outputs": [
    {
     "ename": "AssertionError",
     "evalue": "",
     "output_type": "error",
     "traceback": [
      "\u001B[1;31m---------------------------------------------------------------------------\u001B[0m",
      "\u001B[1;31mTypeError\u001B[0m                                 Traceback (most recent call last)",
      "File \u001B[1;32m~\\miniconda3\\envs\\py38\\lib\\site-packages\\pandas\\core\\ops\\array_ops.py:301\u001B[0m, in \u001B[0;36mna_logical_op\u001B[1;34m(x, y, op)\u001B[0m\n\u001B[0;32m    292\u001B[0m \u001B[38;5;28;01mtry\u001B[39;00m:\n\u001B[0;32m    293\u001B[0m     \u001B[38;5;66;03m# For exposition, write:\u001B[39;00m\n\u001B[0;32m    294\u001B[0m     \u001B[38;5;66;03m#  yarr = isinstance(y, np.ndarray)\u001B[39;00m\n\u001B[1;32m   (...)\u001B[0m\n\u001B[0;32m    299\u001B[0m     \u001B[38;5;66;03m# Then Cases where this goes through without raising include:\u001B[39;00m\n\u001B[0;32m    300\u001B[0m     \u001B[38;5;66;03m#  (xint or xbool) and (yint or bool)\u001B[39;00m\n\u001B[1;32m--> 301\u001B[0m     result \u001B[38;5;241m=\u001B[39m \u001B[43mop\u001B[49m\u001B[43m(\u001B[49m\u001B[43mx\u001B[49m\u001B[43m,\u001B[49m\u001B[43m \u001B[49m\u001B[43my\u001B[49m\u001B[43m)\u001B[49m\n\u001B[0;32m    302\u001B[0m \u001B[38;5;28;01mexcept\u001B[39;00m \u001B[38;5;167;01mTypeError\u001B[39;00m:\n",
      "\u001B[1;31mTypeError\u001B[0m: unsupported operand type(s) for |: 'float' and 'MACD'",
      "\nDuring handling of the above exception, another exception occurred:\n",
      "\u001B[1;31mAssertionError\u001B[0m                            Traceback (most recent call last)",
      "Input \u001B[1;32mIn [11]\u001B[0m, in \u001B[0;36m<cell line: 1>\u001B[1;34m()\u001B[0m\n\u001B[1;32m----> 1\u001B[0m \u001B[43mprices\u001B[49m\u001B[43m \u001B[49m\u001B[38;5;241;43m|\u001B[39;49m\u001B[43m \u001B[49m\u001B[43mMACD\u001B[49m\u001B[43m(\u001B[49m\u001B[43m)\u001B[49m\n",
      "File \u001B[1;32m~\\miniconda3\\envs\\py38\\lib\\site-packages\\pandas\\core\\ops\\common.py:70\u001B[0m, in \u001B[0;36m_unpack_zerodim_and_defer.<locals>.new_method\u001B[1;34m(self, other)\u001B[0m\n\u001B[0;32m     66\u001B[0m             \u001B[38;5;28;01mreturn\u001B[39;00m \u001B[38;5;28mNotImplemented\u001B[39m\n\u001B[0;32m     68\u001B[0m other \u001B[38;5;241m=\u001B[39m item_from_zerodim(other)\n\u001B[1;32m---> 70\u001B[0m \u001B[38;5;28;01mreturn\u001B[39;00m \u001B[43mmethod\u001B[49m\u001B[43m(\u001B[49m\u001B[38;5;28;43mself\u001B[39;49m\u001B[43m,\u001B[49m\u001B[43m \u001B[49m\u001B[43mother\u001B[49m\u001B[43m)\u001B[49m\n",
      "File \u001B[1;32m~\\miniconda3\\envs\\py38\\lib\\site-packages\\pandas\\core\\arraylike.py:78\u001B[0m, in \u001B[0;36mOpsMixin.__or__\u001B[1;34m(self, other)\u001B[0m\n\u001B[0;32m     76\u001B[0m \u001B[38;5;129m@unpack_zerodim_and_defer\u001B[39m(\u001B[38;5;124m\"\u001B[39m\u001B[38;5;124m__or__\u001B[39m\u001B[38;5;124m\"\u001B[39m)\n\u001B[0;32m     77\u001B[0m \u001B[38;5;28;01mdef\u001B[39;00m \u001B[38;5;21m__or__\u001B[39m(\u001B[38;5;28mself\u001B[39m, other):\n\u001B[1;32m---> 78\u001B[0m     \u001B[38;5;28;01mreturn\u001B[39;00m \u001B[38;5;28;43mself\u001B[39;49m\u001B[38;5;241;43m.\u001B[39;49m\u001B[43m_logical_method\u001B[49m\u001B[43m(\u001B[49m\u001B[43mother\u001B[49m\u001B[43m,\u001B[49m\u001B[43m \u001B[49m\u001B[43moperator\u001B[49m\u001B[38;5;241;43m.\u001B[39;49m\u001B[43mor_\u001B[49m\u001B[43m)\u001B[49m\n",
      "File \u001B[1;32m~\\miniconda3\\envs\\py38\\lib\\site-packages\\pandas\\core\\frame.py:6946\u001B[0m, in \u001B[0;36mDataFrame._arith_method\u001B[1;34m(self, other, op)\u001B[0m\n\u001B[0;32m   6942\u001B[0m other \u001B[38;5;241m=\u001B[39m ops\u001B[38;5;241m.\u001B[39mmaybe_prepare_scalar_for_op(other, (\u001B[38;5;28mself\u001B[39m\u001B[38;5;241m.\u001B[39mshape[axis],))\n\u001B[0;32m   6944\u001B[0m \u001B[38;5;28mself\u001B[39m, other \u001B[38;5;241m=\u001B[39m ops\u001B[38;5;241m.\u001B[39malign_method_FRAME(\u001B[38;5;28mself\u001B[39m, other, axis, flex\u001B[38;5;241m=\u001B[39m\u001B[38;5;28;01mTrue\u001B[39;00m, level\u001B[38;5;241m=\u001B[39m\u001B[38;5;28;01mNone\u001B[39;00m)\n\u001B[1;32m-> 6946\u001B[0m new_data \u001B[38;5;241m=\u001B[39m \u001B[38;5;28;43mself\u001B[39;49m\u001B[38;5;241;43m.\u001B[39;49m\u001B[43m_dispatch_frame_op\u001B[49m\u001B[43m(\u001B[49m\u001B[43mother\u001B[49m\u001B[43m,\u001B[49m\u001B[43m \u001B[49m\u001B[43mop\u001B[49m\u001B[43m,\u001B[49m\u001B[43m \u001B[49m\u001B[43maxis\u001B[49m\u001B[38;5;241;43m=\u001B[39;49m\u001B[43maxis\u001B[49m\u001B[43m)\u001B[49m\n\u001B[0;32m   6947\u001B[0m \u001B[38;5;28;01mreturn\u001B[39;00m \u001B[38;5;28mself\u001B[39m\u001B[38;5;241m.\u001B[39m_construct_result(new_data)\n",
      "File \u001B[1;32m~\\miniconda3\\envs\\py38\\lib\\site-packages\\pandas\\core\\frame.py:6973\u001B[0m, in \u001B[0;36mDataFrame._dispatch_frame_op\u001B[1;34m(self, right, func, axis)\u001B[0m\n\u001B[0;32m   6970\u001B[0m \u001B[38;5;28;01mif\u001B[39;00m \u001B[38;5;129;01mnot\u001B[39;00m is_list_like(right):\n\u001B[0;32m   6971\u001B[0m     \u001B[38;5;66;03m# i.e. scalar, faster than checking np.ndim(right) == 0\u001B[39;00m\n\u001B[0;32m   6972\u001B[0m     \u001B[38;5;28;01mwith\u001B[39;00m np\u001B[38;5;241m.\u001B[39merrstate(\u001B[38;5;28mall\u001B[39m\u001B[38;5;241m=\u001B[39m\u001B[38;5;124m\"\u001B[39m\u001B[38;5;124mignore\u001B[39m\u001B[38;5;124m\"\u001B[39m):\n\u001B[1;32m-> 6973\u001B[0m         bm \u001B[38;5;241m=\u001B[39m \u001B[38;5;28;43mself\u001B[39;49m\u001B[38;5;241;43m.\u001B[39;49m\u001B[43m_mgr\u001B[49m\u001B[38;5;241;43m.\u001B[39;49m\u001B[43mapply\u001B[49m\u001B[43m(\u001B[49m\u001B[43marray_op\u001B[49m\u001B[43m,\u001B[49m\u001B[43m \u001B[49m\u001B[43mright\u001B[49m\u001B[38;5;241;43m=\u001B[39;49m\u001B[43mright\u001B[49m\u001B[43m)\u001B[49m\n\u001B[0;32m   6974\u001B[0m     \u001B[38;5;28;01mreturn\u001B[39;00m \u001B[38;5;28mself\u001B[39m\u001B[38;5;241m.\u001B[39m_constructor(bm)\n\u001B[0;32m   6976\u001B[0m \u001B[38;5;28;01melif\u001B[39;00m \u001B[38;5;28misinstance\u001B[39m(right, DataFrame):\n",
      "File \u001B[1;32m~\\miniconda3\\envs\\py38\\lib\\site-packages\\pandas\\core\\internals\\managers.py:302\u001B[0m, in \u001B[0;36mBaseBlockManager.apply\u001B[1;34m(self, f, align_keys, ignore_failures, **kwargs)\u001B[0m\n\u001B[0;32m    300\u001B[0m \u001B[38;5;28;01mtry\u001B[39;00m:\n\u001B[0;32m    301\u001B[0m     \u001B[38;5;28;01mif\u001B[39;00m callable(f):\n\u001B[1;32m--> 302\u001B[0m         applied \u001B[38;5;241m=\u001B[39m \u001B[43mb\u001B[49m\u001B[38;5;241;43m.\u001B[39;49m\u001B[43mapply\u001B[49m\u001B[43m(\u001B[49m\u001B[43mf\u001B[49m\u001B[43m,\u001B[49m\u001B[43m \u001B[49m\u001B[38;5;241;43m*\u001B[39;49m\u001B[38;5;241;43m*\u001B[39;49m\u001B[43mkwargs\u001B[49m\u001B[43m)\u001B[49m\n\u001B[0;32m    303\u001B[0m     \u001B[38;5;28;01melse\u001B[39;00m:\n\u001B[0;32m    304\u001B[0m         applied \u001B[38;5;241m=\u001B[39m \u001B[38;5;28mgetattr\u001B[39m(b, f)(\u001B[38;5;241m*\u001B[39m\u001B[38;5;241m*\u001B[39mkwargs)\n",
      "File \u001B[1;32m~\\miniconda3\\envs\\py38\\lib\\site-packages\\pandas\\core\\internals\\blocks.py:402\u001B[0m, in \u001B[0;36mBlock.apply\u001B[1;34m(self, func, **kwargs)\u001B[0m\n\u001B[0;32m    396\u001B[0m \u001B[38;5;129m@final\u001B[39m\n\u001B[0;32m    397\u001B[0m \u001B[38;5;28;01mdef\u001B[39;00m \u001B[38;5;21mapply\u001B[39m(\u001B[38;5;28mself\u001B[39m, func, \u001B[38;5;241m*\u001B[39m\u001B[38;5;241m*\u001B[39mkwargs) \u001B[38;5;241m-\u001B[39m\u001B[38;5;241m>\u001B[39m \u001B[38;5;28mlist\u001B[39m[Block]:\n\u001B[0;32m    398\u001B[0m     \u001B[38;5;124;03m\"\"\"\u001B[39;00m\n\u001B[0;32m    399\u001B[0m \u001B[38;5;124;03m    apply the function to my values; return a block if we are not\u001B[39;00m\n\u001B[0;32m    400\u001B[0m \u001B[38;5;124;03m    one\u001B[39;00m\n\u001B[0;32m    401\u001B[0m \u001B[38;5;124;03m    \"\"\"\u001B[39;00m\n\u001B[1;32m--> 402\u001B[0m     result \u001B[38;5;241m=\u001B[39m \u001B[43mfunc\u001B[49m\u001B[43m(\u001B[49m\u001B[38;5;28;43mself\u001B[39;49m\u001B[38;5;241;43m.\u001B[39;49m\u001B[43mvalues\u001B[49m\u001B[43m,\u001B[49m\u001B[43m \u001B[49m\u001B[38;5;241;43m*\u001B[39;49m\u001B[38;5;241;43m*\u001B[39;49m\u001B[43mkwargs\u001B[49m\u001B[43m)\u001B[49m\n\u001B[0;32m    404\u001B[0m     \u001B[38;5;28;01mreturn\u001B[39;00m \u001B[38;5;28mself\u001B[39m\u001B[38;5;241m.\u001B[39m_split_op_result(result)\n",
      "File \u001B[1;32m~\\miniconda3\\envs\\py38\\lib\\site-packages\\pandas\\core\\ops\\array_ops.py:391\u001B[0m, in \u001B[0;36mlogical_op\u001B[1;34m(left, right, op)\u001B[0m\n\u001B[0;32m    387\u001B[0m \u001B[38;5;66;03m# For int vs int `^`, `|`, `&` are bitwise operators and return\u001B[39;00m\n\u001B[0;32m    388\u001B[0m \u001B[38;5;66;03m#   integer dtypes.  Otherwise these are boolean ops\u001B[39;00m\n\u001B[0;32m    389\u001B[0m filler \u001B[38;5;241m=\u001B[39m fill_int \u001B[38;5;28;01mif\u001B[39;00m is_self_int_dtype \u001B[38;5;129;01mand\u001B[39;00m is_other_int_dtype \u001B[38;5;28;01melse\u001B[39;00m fill_bool\n\u001B[1;32m--> 391\u001B[0m res_values \u001B[38;5;241m=\u001B[39m \u001B[43mna_logical_op\u001B[49m\u001B[43m(\u001B[49m\u001B[43mlvalues\u001B[49m\u001B[43m,\u001B[49m\u001B[43m \u001B[49m\u001B[43mrvalues\u001B[49m\u001B[43m,\u001B[49m\u001B[43m \u001B[49m\u001B[43mop\u001B[49m\u001B[43m)\u001B[49m\n\u001B[0;32m    392\u001B[0m \u001B[38;5;66;03m# error: Cannot call function of unknown type\u001B[39;00m\n\u001B[0;32m    393\u001B[0m res_values \u001B[38;5;241m=\u001B[39m filler(res_values)  \u001B[38;5;66;03m# type: ignore[operator]\u001B[39;00m\n",
      "File \u001B[1;32m~\\miniconda3\\envs\\py38\\lib\\site-packages\\pandas\\core\\ops\\array_ops.py:311\u001B[0m, in \u001B[0;36mna_logical_op\u001B[1;34m(x, y, op)\u001B[0m\n\u001B[0;32m    308\u001B[0m     result \u001B[38;5;241m=\u001B[39m libops\u001B[38;5;241m.\u001B[39mvec_binop(x\u001B[38;5;241m.\u001B[39mravel(), y\u001B[38;5;241m.\u001B[39mravel(), op)\n\u001B[0;32m    309\u001B[0m \u001B[38;5;28;01melse\u001B[39;00m:\n\u001B[0;32m    310\u001B[0m     \u001B[38;5;66;03m# let null fall thru\u001B[39;00m\n\u001B[1;32m--> 311\u001B[0m     \u001B[38;5;28;01massert\u001B[39;00m lib\u001B[38;5;241m.\u001B[39mis_scalar(y)\n\u001B[0;32m    312\u001B[0m     \u001B[38;5;28;01mif\u001B[39;00m \u001B[38;5;129;01mnot\u001B[39;00m isna(y):\n\u001B[0;32m    313\u001B[0m         y \u001B[38;5;241m=\u001B[39m \u001B[38;5;28mbool\u001B[39m(y)\n",
      "\u001B[1;31mAssertionError\u001B[0m: "
     ]
    }
   ],
   "source": [
    "prices | MACD()"
   ],
   "metadata": {
    "collapsed": false,
    "pycharm": {
     "name": "#%%\n"
    }
   }
  },
  {
   "cell_type": "code",
   "execution_count": null,
   "outputs": [],
   "source": [],
   "metadata": {
    "collapsed": false,
    "pycharm": {
     "name": "#%%\n"
    }
   }
  }
 ],
 "metadata": {
  "kernelspec": {
   "display_name": "Python 3",
   "language": "python",
   "name": "python3"
  },
  "language_info": {
   "codemirror_mode": {
    "name": "ipython",
    "version": 2
   },
   "file_extension": ".py",
   "mimetype": "text/x-python",
   "name": "python",
   "nbconvert_exporter": "python",
   "pygments_lexer": "ipython2",
   "version": "2.7.6"
  }
 },
 "nbformat": 4,
 "nbformat_minor": 0
}