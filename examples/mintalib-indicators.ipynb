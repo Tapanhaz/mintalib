{
 "cells": [
  {
   "cell_type": "markdown",
   "source": [
    "# Using mintalib indicators"
   ],
   "metadata": {
    "collapsed": false,
    "pycharm": {
     "name": "#%% md\n"
    }
   }
  },
  {
   "cell_type": "code",
   "execution_count": 1,
   "outputs": [],
   "source": [
    "from mintalib.utils import sample_prices\n",
    "\n",
    "from mintalib.indicators import ROC, SMA, EMA, RSI, MACD, TRANGE, ATR, SLOPE, EVAL\n"
   ],
   "metadata": {
    "collapsed": false,
    "pycharm": {
     "name": "#%%\n"
    }
   }
  },
  {
   "cell_type": "code",
   "execution_count": 2,
   "outputs": [
    {
     "data": {
      "text/plain": "              open    high     low   close  volume\ndate                                              \n2022-09-02  118.60  118.78  117.38  118.78  158351\n2022-09-05  118.20  119.40  118.20  118.57  106491\n2022-09-06  119.72  119.72  118.42  118.42  186534\n2022-09-07  119.58  120.52  119.58  120.34  152345\n2022-09-08  120.75  121.97  120.29  121.97  138942",
      "text/html": "<div>\n<style scoped>\n    .dataframe tbody tr th:only-of-type {\n        vertical-align: middle;\n    }\n\n    .dataframe tbody tr th {\n        vertical-align: top;\n    }\n\n    .dataframe thead th {\n        text-align: right;\n    }\n</style>\n<table border=\"1\" class=\"dataframe\">\n  <thead>\n    <tr style=\"text-align: right;\">\n      <th></th>\n      <th>open</th>\n      <th>high</th>\n      <th>low</th>\n      <th>close</th>\n      <th>volume</th>\n    </tr>\n    <tr>\n      <th>date</th>\n      <th></th>\n      <th></th>\n      <th></th>\n      <th></th>\n      <th></th>\n    </tr>\n  </thead>\n  <tbody>\n    <tr>\n      <th>2022-09-02</th>\n      <td>118.60</td>\n      <td>118.78</td>\n      <td>117.38</td>\n      <td>118.78</td>\n      <td>158351</td>\n    </tr>\n    <tr>\n      <th>2022-09-05</th>\n      <td>118.20</td>\n      <td>119.40</td>\n      <td>118.20</td>\n      <td>118.57</td>\n      <td>106491</td>\n    </tr>\n    <tr>\n      <th>2022-09-06</th>\n      <td>119.72</td>\n      <td>119.72</td>\n      <td>118.42</td>\n      <td>118.42</td>\n      <td>186534</td>\n    </tr>\n    <tr>\n      <th>2022-09-07</th>\n      <td>119.58</td>\n      <td>120.52</td>\n      <td>119.58</td>\n      <td>120.34</td>\n      <td>152345</td>\n    </tr>\n    <tr>\n      <th>2022-09-08</th>\n      <td>120.75</td>\n      <td>121.97</td>\n      <td>120.29</td>\n      <td>121.97</td>\n      <td>138942</td>\n    </tr>\n  </tbody>\n</table>\n</div>"
     },
     "execution_count": 2,
     "metadata": {},
     "output_type": "execute_result"
    }
   ],
   "source": [
    "prices = sample_prices()\n",
    "prices.tail()\n"
   ],
   "metadata": {
    "collapsed": false,
    "pycharm": {
     "name": "#%%\n"
    }
   }
  },
  {
   "cell_type": "code",
   "execution_count": 3,
   "outputs": [
    {
     "data": {
      "text/plain": "date\n2022-09-02   -0.042665\n2022-09-05   -0.042947\n2022-09-06   -0.042572\n2022-09-07   -0.043316\n2022-09-08   -0.042341\ndtype: float64"
     },
     "execution_count": 3,
     "metadata": {},
     "output_type": "execute_result"
    }
   ],
   "source": [
    "indicator = ROC(20) @ EMA(20)\n",
    "\n",
    "res = indicator(prices)\n",
    "res.tail()\n"
   ],
   "metadata": {
    "collapsed": false,
    "pycharm": {
     "name": "#%%\n"
    }
   }
  },
  {
   "cell_type": "code",
   "execution_count": 4,
   "outputs": [
    {
     "data": {
      "text/plain": "date\n2022-09-02    2.06\n2022-09-05    1.20\n2022-09-06    1.30\n2022-09-07    2.10\n2022-09-08    1.68\ndtype: float64"
     },
     "execution_count": 4,
     "metadata": {},
     "output_type": "execute_result"
    }
   ],
   "source": [
    "res = TRANGE() @ prices\n",
    "res.tail()"
   ],
   "metadata": {
    "collapsed": false,
    "pycharm": {
     "name": "#%%\n"
    }
   }
  },
  {
   "cell_type": "code",
   "execution_count": 5,
   "outputs": [
    {
     "data": {
      "text/plain": "date\n2022-09-02    134950.45\n2022-09-05    132369.90\n2022-09-06    134301.20\n2022-09-07    133920.65\n2022-09-08    133376.00\ndtype: float64"
     },
     "execution_count": 5,
     "metadata": {},
     "output_type": "execute_result"
    }
   ],
   "source": [
    "res = SMA(20, item='volume') @ prices\n",
    "res.tail()"
   ],
   "metadata": {
    "collapsed": false,
    "pycharm": {
     "name": "#%%\n"
    }
   }
  },
  {
   "cell_type": "code",
   "execution_count": 6,
   "outputs": [
    {
     "data": {
      "text/plain": "              open    high     low   close  volume        rsi     sma20  \\\ndate                                                                      \n2022-09-02  118.60  118.78  117.38  118.78  158351  35.485540  123.2205   \n2022-09-05  118.20  119.40  118.20  118.57  106491  35.057397  122.9365   \n2022-09-06  119.72  119.72  118.42  118.42  186534  34.735022  122.6970   \n2022-09-07  119.58  120.52  119.58  120.34  152345  42.077220  122.3775   \n2022-09-08  120.75  121.97  120.29  121.97  138942  47.479148  122.1695   \n\n               sma50     sma200   slope20  pos  \ndate                                            \n2022-09-02  126.2012  120.62165 -0.338083  0.0  \n2022-09-05  125.9602  120.65555 -0.388263  0.0  \n2022-09-06  125.7794  120.69520 -0.448466  0.0  \n2022-09-07  125.6278  120.75020 -0.418459  0.0  \n2022-09-08  125.4956  120.81585 -0.365030  0.0  ",
      "text/html": "<div>\n<style scoped>\n    .dataframe tbody tr th:only-of-type {\n        vertical-align: middle;\n    }\n\n    .dataframe tbody tr th {\n        vertical-align: top;\n    }\n\n    .dataframe thead th {\n        text-align: right;\n    }\n</style>\n<table border=\"1\" class=\"dataframe\">\n  <thead>\n    <tr style=\"text-align: right;\">\n      <th></th>\n      <th>open</th>\n      <th>high</th>\n      <th>low</th>\n      <th>close</th>\n      <th>volume</th>\n      <th>rsi</th>\n      <th>sma20</th>\n      <th>sma50</th>\n      <th>sma200</th>\n      <th>slope20</th>\n      <th>pos</th>\n    </tr>\n    <tr>\n      <th>date</th>\n      <th></th>\n      <th></th>\n      <th></th>\n      <th></th>\n      <th></th>\n      <th></th>\n      <th></th>\n      <th></th>\n      <th></th>\n      <th></th>\n      <th></th>\n    </tr>\n  </thead>\n  <tbody>\n    <tr>\n      <th>2022-09-02</th>\n      <td>118.60</td>\n      <td>118.78</td>\n      <td>117.38</td>\n      <td>118.78</td>\n      <td>158351</td>\n      <td>35.485540</td>\n      <td>123.2205</td>\n      <td>126.2012</td>\n      <td>120.62165</td>\n      <td>-0.338083</td>\n      <td>0.0</td>\n    </tr>\n    <tr>\n      <th>2022-09-05</th>\n      <td>118.20</td>\n      <td>119.40</td>\n      <td>118.20</td>\n      <td>118.57</td>\n      <td>106491</td>\n      <td>35.057397</td>\n      <td>122.9365</td>\n      <td>125.9602</td>\n      <td>120.65555</td>\n      <td>-0.388263</td>\n      <td>0.0</td>\n    </tr>\n    <tr>\n      <th>2022-09-06</th>\n      <td>119.72</td>\n      <td>119.72</td>\n      <td>118.42</td>\n      <td>118.42</td>\n      <td>186534</td>\n      <td>34.735022</td>\n      <td>122.6970</td>\n      <td>125.7794</td>\n      <td>120.69520</td>\n      <td>-0.448466</td>\n      <td>0.0</td>\n    </tr>\n    <tr>\n      <th>2022-09-07</th>\n      <td>119.58</td>\n      <td>120.52</td>\n      <td>119.58</td>\n      <td>120.34</td>\n      <td>152345</td>\n      <td>42.077220</td>\n      <td>122.3775</td>\n      <td>125.6278</td>\n      <td>120.75020</td>\n      <td>-0.418459</td>\n      <td>0.0</td>\n    </tr>\n    <tr>\n      <th>2022-09-08</th>\n      <td>120.75</td>\n      <td>121.97</td>\n      <td>120.29</td>\n      <td>121.97</td>\n      <td>138942</td>\n      <td>47.479148</td>\n      <td>122.1695</td>\n      <td>125.4956</td>\n      <td>120.81585</td>\n      <td>-0.365030</td>\n      <td>0.0</td>\n    </tr>\n  </tbody>\n</table>\n</div>"
     },
     "execution_count": 6,
     "metadata": {},
     "output_type": "execute_result"
    }
   ],
   "source": [
    "prices.assign(\n",
    "    rsi=RSI(),\n",
    "    sma20=SMA(20),\n",
    "    sma50=SMA(50),\n",
    "    sma200=SMA(200),\n",
    "    slope20=SLOPE(20),\n",
    "    pos=EVAL(\"sma50 > sma200 and slope20 > 0.0\")\n",
    ").tail()"
   ],
   "metadata": {
    "collapsed": false,
    "pycharm": {
     "name": "#%%\n"
    }
   }
  },
  {
   "cell_type": "code",
   "execution_count": null,
   "outputs": [],
   "source": [],
   "metadata": {
    "collapsed": false,
    "pycharm": {
     "name": "#%%\n"
    }
   }
  }
 ],
 "metadata": {
  "kernelspec": {
   "display_name": "Python 3",
   "language": "python",
   "name": "python3"
  },
  "language_info": {
   "codemirror_mode": {
    "name": "ipython",
    "version": 2
   },
   "file_extension": ".py",
   "mimetype": "text/x-python",
   "name": "python",
   "nbconvert_exporter": "python",
   "pygments_lexer": "ipython2",
   "version": "2.7.6"
  }
 },
 "nbformat": 4,
 "nbformat_minor": 0
}