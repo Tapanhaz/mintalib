{
 "cells": [
  {
   "cell_type": "markdown",
   "source": [
    "# Using mintalib indicators"
   ],
   "metadata": {
    "collapsed": false,
    "pycharm": {
     "name": "#%% md\n"
    }
   }
  },
  {
   "cell_type": "code",
   "execution_count": 1,
   "outputs": [],
   "source": [
    "from mintalib.utils import sample_prices\n",
    "\n",
    "from mintalib.indicators import ROC, SMA, EMA, RSI, MACD, TRANGE, ATR, SLOPE, EVAL\n"
   ],
   "metadata": {
    "collapsed": false,
    "pycharm": {
     "name": "#%%\n"
    }
   }
  },
  {
   "cell_type": "code",
   "execution_count": 2,
   "outputs": [
    {
     "data": {
      "text/plain": "              open    high     low   close  volume\ndate                                              \n2022-08-11  134.05  135.57  134.05  135.57  109453\n2022-08-12  136.12  136.12  135.24  135.42  126078\n2022-08-15  135.74  135.74  135.06  135.35  133082\n2022-08-16  136.61  139.53  136.61  139.53  137345\n2022-08-17  140.21  141.61  140.21  141.49  125686",
      "text/html": "<div>\n<style scoped>\n    .dataframe tbody tr th:only-of-type {\n        vertical-align: middle;\n    }\n\n    .dataframe tbody tr th {\n        vertical-align: top;\n    }\n\n    .dataframe thead th {\n        text-align: right;\n    }\n</style>\n<table border=\"1\" class=\"dataframe\">\n  <thead>\n    <tr style=\"text-align: right;\">\n      <th></th>\n      <th>open</th>\n      <th>high</th>\n      <th>low</th>\n      <th>close</th>\n      <th>volume</th>\n    </tr>\n    <tr>\n      <th>date</th>\n      <th></th>\n      <th></th>\n      <th></th>\n      <th></th>\n      <th></th>\n    </tr>\n  </thead>\n  <tbody>\n    <tr>\n      <th>2022-08-11</th>\n      <td>134.05</td>\n      <td>135.57</td>\n      <td>134.05</td>\n      <td>135.57</td>\n      <td>109453</td>\n    </tr>\n    <tr>\n      <th>2022-08-12</th>\n      <td>136.12</td>\n      <td>136.12</td>\n      <td>135.24</td>\n      <td>135.42</td>\n      <td>126078</td>\n    </tr>\n    <tr>\n      <th>2022-08-15</th>\n      <td>135.74</td>\n      <td>135.74</td>\n      <td>135.06</td>\n      <td>135.35</td>\n      <td>133082</td>\n    </tr>\n    <tr>\n      <th>2022-08-16</th>\n      <td>136.61</td>\n      <td>139.53</td>\n      <td>136.61</td>\n      <td>139.53</td>\n      <td>137345</td>\n    </tr>\n    <tr>\n      <th>2022-08-17</th>\n      <td>140.21</td>\n      <td>141.61</td>\n      <td>140.21</td>\n      <td>141.49</td>\n      <td>125686</td>\n    </tr>\n  </tbody>\n</table>\n</div>"
     },
     "execution_count": 2,
     "metadata": {},
     "output_type": "execute_result"
    }
   ],
   "source": [
    "prices = sample_prices()\n",
    "prices.tail()\n"
   ],
   "metadata": {
    "collapsed": false,
    "pycharm": {
     "name": "#%%\n"
    }
   }
  },
  {
   "cell_type": "code",
   "execution_count": 3,
   "outputs": [
    {
     "data": {
      "text/plain": "date\n2022-08-11   -0.045296\n2022-08-12   -0.045066\n2022-08-15   -0.044454\n2022-08-16   -0.041315\n2022-08-17   -0.036932\ndtype: float64"
     },
     "execution_count": 3,
     "metadata": {},
     "output_type": "execute_result"
    }
   ],
   "source": [
    "indicator = ROC(20) @ EMA(20)\n",
    "\n",
    "res = indicator(prices)\n",
    "res.tail()\n"
   ],
   "metadata": {
    "collapsed": false,
    "pycharm": {
     "name": "#%%\n"
    }
   }
  },
  {
   "cell_type": "code",
   "execution_count": 4,
   "outputs": [
    {
     "data": {
      "text/plain": "date\n2022-08-11    1.52\n2022-08-12    0.88\n2022-08-15    0.68\n2022-08-16    4.18\n2022-08-17    2.08\ndtype: float64"
     },
     "execution_count": 4,
     "metadata": {},
     "output_type": "execute_result"
    }
   ],
   "source": [
    "res = TRANGE() @ prices\n",
    "res.tail()"
   ],
   "metadata": {
    "collapsed": false,
    "pycharm": {
     "name": "#%%\n"
    }
   }
  },
  {
   "cell_type": "code",
   "execution_count": 5,
   "outputs": [
    {
     "data": {
      "text/plain": "date\n2022-08-11    142072.70\n2022-08-12    139684.25\n2022-08-15    136067.65\n2022-08-16    134788.55\n2022-08-17    136364.05\ndtype: float64"
     },
     "execution_count": 5,
     "metadata": {},
     "output_type": "execute_result"
    }
   ],
   "source": [
    "res = SMA(20, item='volume') @ prices\n",
    "res.tail()"
   ],
   "metadata": {
    "collapsed": false,
    "pycharm": {
     "name": "#%%\n"
    }
   }
  },
  {
   "cell_type": "code",
   "execution_count": 8,
   "outputs": [
    {
     "data": {
      "text/plain": "              open    high     low   close  volume        rsi     sma20  \\\ndate                                                                      \n2022-08-11  134.05  135.57  134.05  135.57  109453  40.224758  138.0515   \n2022-08-12  136.12  136.12  135.24  135.42  126078  39.830181  137.7485   \n2022-08-15  135.74  135.74  135.06  135.35  133082  39.634788  137.4775   \n2022-08-16  136.61  139.53  136.61  139.53  137345  54.111287  137.4005   \n2022-08-17  140.21  141.61  140.21  141.49  125686  59.068106  137.4395   \n\n               sma50     sma200   slope20  pos  \ndate                                            \n2022-08-11  141.1668  119.20885 -0.393647  0.0  \n2022-08-12  141.0636  119.40990 -0.377105  0.0  \n2022-08-15  140.9250  119.60540 -0.363662  0.0  \n2022-08-16  140.9214  119.81810 -0.277617  0.0  \n2022-08-17  140.9928  120.04300 -0.166940  0.0  ",
      "text/html": "<div>\n<style scoped>\n    .dataframe tbody tr th:only-of-type {\n        vertical-align: middle;\n    }\n\n    .dataframe tbody tr th {\n        vertical-align: top;\n    }\n\n    .dataframe thead th {\n        text-align: right;\n    }\n</style>\n<table border=\"1\" class=\"dataframe\">\n  <thead>\n    <tr style=\"text-align: right;\">\n      <th></th>\n      <th>open</th>\n      <th>high</th>\n      <th>low</th>\n      <th>close</th>\n      <th>volume</th>\n      <th>rsi</th>\n      <th>sma20</th>\n      <th>sma50</th>\n      <th>sma200</th>\n      <th>slope20</th>\n      <th>pos</th>\n    </tr>\n    <tr>\n      <th>date</th>\n      <th></th>\n      <th></th>\n      <th></th>\n      <th></th>\n      <th></th>\n      <th></th>\n      <th></th>\n      <th></th>\n      <th></th>\n      <th></th>\n      <th></th>\n    </tr>\n  </thead>\n  <tbody>\n    <tr>\n      <th>2022-08-11</th>\n      <td>134.05</td>\n      <td>135.57</td>\n      <td>134.05</td>\n      <td>135.57</td>\n      <td>109453</td>\n      <td>40.224758</td>\n      <td>138.0515</td>\n      <td>141.1668</td>\n      <td>119.20885</td>\n      <td>-0.393647</td>\n      <td>0.0</td>\n    </tr>\n    <tr>\n      <th>2022-08-12</th>\n      <td>136.12</td>\n      <td>136.12</td>\n      <td>135.24</td>\n      <td>135.42</td>\n      <td>126078</td>\n      <td>39.830181</td>\n      <td>137.7485</td>\n      <td>141.0636</td>\n      <td>119.40990</td>\n      <td>-0.377105</td>\n      <td>0.0</td>\n    </tr>\n    <tr>\n      <th>2022-08-15</th>\n      <td>135.74</td>\n      <td>135.74</td>\n      <td>135.06</td>\n      <td>135.35</td>\n      <td>133082</td>\n      <td>39.634788</td>\n      <td>137.4775</td>\n      <td>140.9250</td>\n      <td>119.60540</td>\n      <td>-0.363662</td>\n      <td>0.0</td>\n    </tr>\n    <tr>\n      <th>2022-08-16</th>\n      <td>136.61</td>\n      <td>139.53</td>\n      <td>136.61</td>\n      <td>139.53</td>\n      <td>137345</td>\n      <td>54.111287</td>\n      <td>137.4005</td>\n      <td>140.9214</td>\n      <td>119.81810</td>\n      <td>-0.277617</td>\n      <td>0.0</td>\n    </tr>\n    <tr>\n      <th>2022-08-17</th>\n      <td>140.21</td>\n      <td>141.61</td>\n      <td>140.21</td>\n      <td>141.49</td>\n      <td>125686</td>\n      <td>59.068106</td>\n      <td>137.4395</td>\n      <td>140.9928</td>\n      <td>120.04300</td>\n      <td>-0.166940</td>\n      <td>0.0</td>\n    </tr>\n  </tbody>\n</table>\n</div>"
     },
     "execution_count": 8,
     "metadata": {},
     "output_type": "execute_result"
    }
   ],
   "source": [
    "prices.assign(\n",
    "    rsi=RSI(),\n",
    "    sma20=SMA(20),\n",
    "    sma50=SMA(50),\n",
    "    sma200=SMA(200),\n",
    "    slope20=SLOPE(20),\n",
    "    pos=EVAL(\"sma50 > sma200 and slope20 > 0.0\")\n",
    ").tail()"
   ],
   "metadata": {
    "collapsed": false,
    "pycharm": {
     "name": "#%%\n"
    }
   }
  },
  {
   "cell_type": "code",
   "execution_count": null,
   "outputs": [],
   "source": [],
   "metadata": {
    "collapsed": false,
    "pycharm": {
     "name": "#%%\n"
    }
   }
  }
 ],
 "metadata": {
  "kernelspec": {
   "display_name": "Python 3",
   "language": "python",
   "name": "python3"
  },
  "language_info": {
   "codemirror_mode": {
    "name": "ipython",
    "version": 2
   },
   "file_extension": ".py",
   "mimetype": "text/x-python",
   "name": "python",
   "nbconvert_exporter": "python",
   "pygments_lexer": "ipython2",
   "version": "2.7.6"
  }
 },
 "nbformat": 4,
 "nbformat_minor": 0
}