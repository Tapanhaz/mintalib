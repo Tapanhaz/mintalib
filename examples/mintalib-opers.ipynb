{
 "cells": [
  {
   "cell_type": "markdown",
   "source": [
    "# Using mintalib operands"
   ],
   "metadata": {
    "collapsed": false,
    "pycharm": {
     "name": "#%% md\n"
    }
   }
  },
  {
   "cell_type": "code",
   "execution_count": 1,
   "outputs": [],
   "source": [
    "from mintalib.utils import sample_prices\n",
    "\n",
    "from mintalib.opers import ROC, SMA, EMA, RSI, MACD, TRANGE, ATR, SLOPE, EVAL\n"
   ],
   "metadata": {
    "collapsed": false,
    "pycharm": {
     "name": "#%%\n"
    },
    "ExecuteTime": {
     "end_time": "2023-09-17T11:30:30.443999Z",
     "start_time": "2023-09-17T11:30:30.242638Z"
    }
   }
  },
  {
   "cell_type": "code",
   "execution_count": 2,
   "outputs": [
    {
     "data": {
      "text/plain": "             open   high    low  close  volume    change\ndate                                                    \n2022-08-25  91.37  91.37  89.70  90.59  209910 -0.011350\n2022-08-26  90.79  91.63  90.79  91.14  126281  0.006071\n2022-08-29  90.29  90.44  89.53  89.53  153372 -0.017665\n2022-08-30  90.53  92.07  90.53  92.07  124937  0.028370\n2022-08-31  92.21  92.35  91.37  91.37  175110 -0.007603",
      "text/html": "<div>\n<style scoped>\n    .dataframe tbody tr th:only-of-type {\n        vertical-align: middle;\n    }\n\n    .dataframe tbody tr th {\n        vertical-align: top;\n    }\n\n    .dataframe thead th {\n        text-align: right;\n    }\n</style>\n<table border=\"1\" class=\"dataframe\">\n  <thead>\n    <tr style=\"text-align: right;\">\n      <th></th>\n      <th>open</th>\n      <th>high</th>\n      <th>low</th>\n      <th>close</th>\n      <th>volume</th>\n      <th>change</th>\n    </tr>\n    <tr>\n      <th>date</th>\n      <th></th>\n      <th></th>\n      <th></th>\n      <th></th>\n      <th></th>\n      <th></th>\n    </tr>\n  </thead>\n  <tbody>\n    <tr>\n      <th>2022-08-25</th>\n      <td>91.37</td>\n      <td>91.37</td>\n      <td>89.70</td>\n      <td>90.59</td>\n      <td>209910</td>\n      <td>-0.011350</td>\n    </tr>\n    <tr>\n      <th>2022-08-26</th>\n      <td>90.79</td>\n      <td>91.63</td>\n      <td>90.79</td>\n      <td>91.14</td>\n      <td>126281</td>\n      <td>0.006071</td>\n    </tr>\n    <tr>\n      <th>2022-08-29</th>\n      <td>90.29</td>\n      <td>90.44</td>\n      <td>89.53</td>\n      <td>89.53</td>\n      <td>153372</td>\n      <td>-0.017665</td>\n    </tr>\n    <tr>\n      <th>2022-08-30</th>\n      <td>90.53</td>\n      <td>92.07</td>\n      <td>90.53</td>\n      <td>92.07</td>\n      <td>124937</td>\n      <td>0.028370</td>\n    </tr>\n    <tr>\n      <th>2022-08-31</th>\n      <td>92.21</td>\n      <td>92.35</td>\n      <td>91.37</td>\n      <td>91.37</td>\n      <td>175110</td>\n      <td>-0.007603</td>\n    </tr>\n  </tbody>\n</table>\n</div>"
     },
     "execution_count": 2,
     "metadata": {},
     "output_type": "execute_result"
    }
   ],
   "source": [
    "prices = sample_prices()\n",
    "prices.tail()\n"
   ],
   "metadata": {
    "collapsed": false,
    "pycharm": {
     "name": "#%%\n"
    },
    "ExecuteTime": {
     "end_time": "2023-09-17T11:30:36.617239Z",
     "start_time": "2023-09-17T11:30:36.598517Z"
    }
   }
  },
  {
   "cell_type": "code",
   "execution_count": 3,
   "outputs": [
    {
     "data": {
      "text/plain": "date\n2022-08-25   -0.053043\n2022-08-26   -0.054441\n2022-08-29   -0.056408\n2022-08-30   -0.056044\n2022-08-31   -0.057421\ndtype: float64"
     },
     "execution_count": 3,
     "metadata": {},
     "output_type": "execute_result"
    }
   ],
   "source": [
    "indicator = ROC(20) @ EMA(20)\n",
    "\n",
    "res = indicator(prices)\n",
    "res.tail()\n"
   ],
   "metadata": {
    "collapsed": false,
    "pycharm": {
     "name": "#%%\n"
    },
    "ExecuteTime": {
     "end_time": "2023-09-17T11:30:38.225557Z",
     "start_time": "2023-09-17T11:30:38.201736Z"
    }
   }
  },
  {
   "cell_type": "code",
   "execution_count": 4,
   "outputs": [
    {
     "data": {
      "text/plain": "date\n2022-08-25    1.93\n2022-08-26    1.04\n2022-08-29    1.61\n2022-08-30    2.54\n2022-08-31    0.98\ndtype: float64"
     },
     "execution_count": 4,
     "metadata": {},
     "output_type": "execute_result"
    }
   ],
   "source": [
    "res = TRANGE() @ prices\n",
    "res.tail()"
   ],
   "metadata": {
    "collapsed": false,
    "pycharm": {
     "name": "#%%\n"
    },
    "ExecuteTime": {
     "end_time": "2023-09-17T11:30:39.102276Z",
     "start_time": "2023-09-17T11:30:39.081915Z"
    }
   }
  },
  {
   "cell_type": "code",
   "execution_count": 5,
   "outputs": [
    {
     "data": {
      "text/plain": "date\n2022-08-25    133034.60\n2022-08-26    132736.20\n2022-08-29    134439.90\n2022-08-30    133964.75\n2022-08-31    136544.00\ndtype: float64"
     },
     "execution_count": 5,
     "metadata": {},
     "output_type": "execute_result"
    }
   ],
   "source": [
    "res = SMA(20, item='volume') @ prices\n",
    "res.tail()"
   ],
   "metadata": {
    "collapsed": false,
    "pycharm": {
     "name": "#%%\n"
    },
    "ExecuteTime": {
     "end_time": "2023-09-17T11:30:39.888861Z",
     "start_time": "2023-09-17T11:30:39.867972Z"
    }
   }
  },
  {
   "cell_type": "code",
   "execution_count": 6,
   "outputs": [
    {
     "data": {
      "text/plain": "             open   high    low  close  volume    change        rsi    sma20  \\\ndate                                                                           \n2022-08-25  91.37  91.37  89.70  90.59  209910 -0.011350  27.912413  95.9045   \n2022-08-26  90.79  91.63  90.79  91.14  126281  0.006071  30.990964  95.5715   \n2022-08-29  90.29  90.44  89.53  89.53  153372 -0.017665  27.313779  95.2045   \n2022-08-30  90.53  92.07  90.53  92.07  124937  0.028370  39.508394  94.9495   \n2022-08-31  92.21  92.35  91.37  91.37  175110 -0.007603  37.634475  94.6020   \n\n              sma50    sma200   slope20  pos  \ndate                                          \n2022-08-25  97.9886  93.25330 -0.406128  0.0  \n2022-08-26  97.8570  93.23615 -0.444263  0.0  \n2022-08-29  97.6940  93.21500 -0.510068  0.0  \n2022-08-30  97.5818  93.20975 -0.523812  0.0  \n2022-08-31  97.4850  93.19560 -0.521729  0.0  ",
      "text/html": "<div>\n<style scoped>\n    .dataframe tbody tr th:only-of-type {\n        vertical-align: middle;\n    }\n\n    .dataframe tbody tr th {\n        vertical-align: top;\n    }\n\n    .dataframe thead th {\n        text-align: right;\n    }\n</style>\n<table border=\"1\" class=\"dataframe\">\n  <thead>\n    <tr style=\"text-align: right;\">\n      <th></th>\n      <th>open</th>\n      <th>high</th>\n      <th>low</th>\n      <th>close</th>\n      <th>volume</th>\n      <th>change</th>\n      <th>rsi</th>\n      <th>sma20</th>\n      <th>sma50</th>\n      <th>sma200</th>\n      <th>slope20</th>\n      <th>pos</th>\n    </tr>\n    <tr>\n      <th>date</th>\n      <th></th>\n      <th></th>\n      <th></th>\n      <th></th>\n      <th></th>\n      <th></th>\n      <th></th>\n      <th></th>\n      <th></th>\n      <th></th>\n      <th></th>\n      <th></th>\n    </tr>\n  </thead>\n  <tbody>\n    <tr>\n      <th>2022-08-25</th>\n      <td>91.37</td>\n      <td>91.37</td>\n      <td>89.70</td>\n      <td>90.59</td>\n      <td>209910</td>\n      <td>-0.011350</td>\n      <td>27.912413</td>\n      <td>95.9045</td>\n      <td>97.9886</td>\n      <td>93.25330</td>\n      <td>-0.406128</td>\n      <td>0.0</td>\n    </tr>\n    <tr>\n      <th>2022-08-26</th>\n      <td>90.79</td>\n      <td>91.63</td>\n      <td>90.79</td>\n      <td>91.14</td>\n      <td>126281</td>\n      <td>0.006071</td>\n      <td>30.990964</td>\n      <td>95.5715</td>\n      <td>97.8570</td>\n      <td>93.23615</td>\n      <td>-0.444263</td>\n      <td>0.0</td>\n    </tr>\n    <tr>\n      <th>2022-08-29</th>\n      <td>90.29</td>\n      <td>90.44</td>\n      <td>89.53</td>\n      <td>89.53</td>\n      <td>153372</td>\n      <td>-0.017665</td>\n      <td>27.313779</td>\n      <td>95.2045</td>\n      <td>97.6940</td>\n      <td>93.21500</td>\n      <td>-0.510068</td>\n      <td>0.0</td>\n    </tr>\n    <tr>\n      <th>2022-08-30</th>\n      <td>90.53</td>\n      <td>92.07</td>\n      <td>90.53</td>\n      <td>92.07</td>\n      <td>124937</td>\n      <td>0.028370</td>\n      <td>39.508394</td>\n      <td>94.9495</td>\n      <td>97.5818</td>\n      <td>93.20975</td>\n      <td>-0.523812</td>\n      <td>0.0</td>\n    </tr>\n    <tr>\n      <th>2022-08-31</th>\n      <td>92.21</td>\n      <td>92.35</td>\n      <td>91.37</td>\n      <td>91.37</td>\n      <td>175110</td>\n      <td>-0.007603</td>\n      <td>37.634475</td>\n      <td>94.6020</td>\n      <td>97.4850</td>\n      <td>93.19560</td>\n      <td>-0.521729</td>\n      <td>0.0</td>\n    </tr>\n  </tbody>\n</table>\n</div>"
     },
     "execution_count": 6,
     "metadata": {},
     "output_type": "execute_result"
    }
   ],
   "source": [
    "prices.assign(\n",
    "    rsi=RSI(),\n",
    "    sma20=SMA(20),\n",
    "    sma50=SMA(50),\n",
    "    sma200=SMA(200),\n",
    "    slope20=SLOPE(20),\n",
    "    pos=EVAL(\"sma50 > sma200 and slope20 > 0.0\")\n",
    ").tail()"
   ],
   "metadata": {
    "collapsed": false,
    "pycharm": {
     "name": "#%%\n"
    },
    "ExecuteTime": {
     "end_time": "2023-09-17T11:30:40.604527Z",
     "start_time": "2023-09-17T11:30:40.574324Z"
    }
   }
  },
  {
   "cell_type": "code",
   "execution_count": null,
   "outputs": [],
   "source": [],
   "metadata": {
    "collapsed": false,
    "pycharm": {
     "name": "#%%\n"
    }
   }
  }
 ],
 "metadata": {
  "kernelspec": {
   "display_name": "Python 3",
   "language": "python",
   "name": "python3"
  },
  "language_info": {
   "codemirror_mode": {
    "name": "ipython",
    "version": 2
   },
   "file_extension": ".py",
   "mimetype": "text/x-python",
   "name": "python",
   "nbconvert_exporter": "python",
   "pygments_lexer": "ipython2",
   "version": "2.7.6"
  }
 },
 "nbformat": 4,
 "nbformat_minor": 0
}
