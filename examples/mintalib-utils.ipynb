{
 "cells": [
  {
   "cell_type": "code",
   "execution_count": 1,
   "outputs": [],
   "source": [
    "import pandas as pd\n",
    "\n",
    "from mintalib import core"
   ],
   "metadata": {
    "collapsed": false,
    "pycharm": {
     "name": "#%%\n"
    }
   }
  },
  {
   "cell_type": "code",
   "execution_count": 2,
   "outputs": [
    {
     "name": "stdout",
     "output_type": "stream",
     "text": [
      "['ADX', 'ATR', 'AVGPRICE', 'BBANDS', 'DEMA', 'DIFF', 'DataFrame', 'EMA', 'EVAL', 'Enum', 'Index', 'Indicator', 'IntEnum', 'KELTNER', 'LATR', 'MACD', 'MAX', 'MA_Type', 'MEDPRICE', 'MIN', 'MINUSDI', 'NATR', 'PLUSDI', 'PPO', 'PRICE', 'PSAR', 'Pandas', 'Polars', 'RMA', 'ROC', 'RSI', 'SLOPE', 'SMA', 'STDEV', 'SUM', 'Series', 'SlopeOption', 'TEMA', 'TRADE', 'TRANGE', 'TYPPRICE', 'VOLUME', 'WCLPRICE', 'WMA', '__all__', '__builtins__', '__doc__', '__file__', '__loader__', '__name__', '__package__', '__pyx_unpickle_Enum', '__spec__', '__test__', 'asarray', 'calc_adx', 'calc_atr', 'calc_avgprice', 'calc_bbands', 'calc_dema', 'calc_diff', 'calc_ema', 'calc_keltner', 'calc_latr', 'calc_ma', 'calc_macd', 'calc_max', 'calc_medprice', 'calc_min', 'calc_minusdi', 'calc_natr', 'calc_plusdi', 'calc_ppo', 'calc_psar', 'calc_rma', 'calc_roc', 'calc_rsi', 'calc_slope', 'calc_sma', 'calc_stdev', 'calc_streak', 'calc_sum', 'calc_tema', 'calc_trange', 'calc_typprice', 'calc_wclprice', 'calc_wma', 'check_size', 'compare_sizes', 'export', 'extract_items', 'make_dataframe', 'make_series', 'np', 'pdDataFrame', 'pdSeries', 'plDataFrame', 'plSeries', 'wrap_result']\n"
     ]
    }
   ],
   "source": [
    "print(dir(core))"
   ],
   "metadata": {
    "collapsed": false,
    "pycharm": {
     "name": "#%%\n"
    }
   }
  },
  {
   "cell_type": "code",
   "execution_count": 3,
   "outputs": [
    {
     "name": "stdout",
     "output_type": "stream",
     "text": [
      "PRICE Price Indicator\n",
      "AVGPRICE Average Price Indicator\n",
      "TYPPRICE Typical Price Indicator\n",
      "WCLPRICE Weighted Close Price Indicator\n",
      "MEDPRICE Median Price Indicator\n",
      "VOLUME Volume\n",
      "ROC Rate of Change\n",
      "DIFF Difference\n",
      "MIN Minimum over a Period\n",
      "MAX Maximum over a Period\n",
      "SUM Sum\n",
      "SMA Simple Moving Average\n",
      "EMA Exponential Moving Average\n",
      "RMA Rolling Moving Average (RSI Style)\n",
      "WMA Weighted Moving Average\n",
      "DEMA Double Exponential Moving Average\n",
      "TEMA Triple Exponential Moving Average\n",
      "RSI Relative Streng Index\n",
      "ADX Average Directional Index\n",
      "PLUSDI PLUS Directional Index\n",
      "MINUSDI MINUS Directional Index\n",
      "TRANGE True Range\n",
      "ATR Average True Range\n",
      "NATR Average True Range (normalized)\n",
      "LATR Average True Range (log prices)\n",
      "PSAR Parabolic Stop and Reverse (cf Wilder)\n",
      "BBANDS Bollinger Bands Indicator\n",
      "KELTNER Keltner Bands\n",
      "MACD Moving Average Convergence Divergence\n",
      "PPO Price Percentage Oscillator\n",
      "SLOPE Slope (Time linear Regression)\n",
      "SLOPE.CORRELATION SLope Correlation\n",
      "SLOPE.RMSERROR Slope Root Mean Square Error\n",
      "SLOPE.FORECAST Slope Forecast\n",
      "STDEV Standard Deviation\n",
      "EVAL Expression Eval (pandas only)\n",
      "TRADE Trade Indicator\n"
     ]
    }
   ],
   "source": [
    "def list_indicators():\n",
    "    result = []\n",
    "    def check_indicator(item):\n",
    "        if not isinstance(item, type):\n",
    "            return False\n",
    "        if not item.__name__.isupper():\n",
    "            return False\n",
    "        return True\n",
    "\n",
    "    for item in vars(core).values():\n",
    "        if not check_indicator(item):\n",
    "            continue\n",
    "        result.append(item)\n",
    "        for item in vars(item).values():\n",
    "            if not check_indicator(item):\n",
    "                continue\n",
    "            result.append(item)\n",
    "\n",
    "    return result\n",
    "\n",
    "def show_indicators():\n",
    "    items = list_indicators()\n",
    "\n",
    "    for item in items:\n",
    "        qname = item.__qualname__\n",
    "        doc = item.__doc__.strip()\n",
    "        desc = doc.strip().partition(\"\\n\")[0]\n",
    "        print(qname, desc)\n",
    "\n",
    "    def make_record(item):\n",
    "        name = item.__qualname__\n",
    "        doc = item.__doc__.strip()\n",
    "        desc = doc.partition(\"\\n\")[0]\n",
    "        return dict(name=name, desc=desc)\n",
    "\n",
    "    data = pd.DataFrame([make_record(i) for i in items]).set_index('name')\n",
    "\n",
    "    result = pd.DataFrame([make_record(i) for i in items]).to_markdown\n",
    "\n",
    "    return data\n",
    "\n",
    "\n",
    "\n",
    "data = show_indicators()\n"
   ],
   "metadata": {
    "collapsed": false,
    "pycharm": {
     "name": "#%%\n"
    }
   }
  },
  {
   "cell_type": "code",
   "execution_count": 4,
   "outputs": [
    {
     "name": "stdout",
     "output_type": "stream",
     "text": [
      "Updating indicators.md ...\n",
      "| name              | desc                                   |\n",
      "|:------------------|:---------------------------------------|\n",
      "| PRICE             | Price Indicator                        |\n",
      "| AVGPRICE          | Average Price Indicator                |\n",
      "| TYPPRICE          | Typical Price Indicator                |\n",
      "| WCLPRICE          | Weighted Close Price Indicator         |\n",
      "| MEDPRICE          | Median Price Indicator                 |\n",
      "| VOLUME            | Volume                                 |\n",
      "| ROC               | Rate of Change                         |\n",
      "| DIFF              | Difference                             |\n",
      "| MIN               | Minimum over a Period                  |\n",
      "| MAX               | Maximum over a Period                  |\n",
      "| SUM               | Sum                                    |\n",
      "| SMA               | Simple Moving Average                  |\n",
      "| EMA               | Exponential Moving Average             |\n",
      "| RMA               | Rolling Moving Average (RSI Style)     |\n",
      "| WMA               | Weighted Moving Average                |\n",
      "| DEMA              | Double Exponential Moving Average      |\n",
      "| TEMA              | Triple Exponential Moving Average      |\n",
      "| RSI               | Relative Streng Index                  |\n",
      "| ADX               | Average Directional Index              |\n",
      "| PLUSDI            | PLUS Directional Index                 |\n",
      "| MINUSDI           | MINUS Directional Index                |\n",
      "| TRANGE            | True Range                             |\n",
      "| ATR               | Average True Range                     |\n",
      "| NATR              | Average True Range (normalized)        |\n",
      "| LATR              | Average True Range (log prices)        |\n",
      "| PSAR              | Parabolic Stop and Reverse (cf Wilder) |\n",
      "| BBANDS            | Bollinger Bands Indicator              |\n",
      "| KELTNER           | Keltner Bands                          |\n",
      "| MACD              | Moving Average Convergence Divergence  |\n",
      "| PPO               | Price Percentage Oscillator            |\n",
      "| SLOPE             | Slope (Time linear Regression)         |\n",
      "| SLOPE.CORRELATION | SLope Correlation                      |\n",
      "| SLOPE.RMSERROR    | Slope Root Mean Square Error           |\n",
      "| SLOPE.FORECAST    | Slope Forecast                         |\n",
      "| STDEV             | Standard Deviation                     |\n",
      "| EVAL              | Expression Eval (pandas only)          |\n",
      "| TRADE             | Trade Indicator                        |\n"
     ]
    }
   ],
   "source": [
    "import folder\n",
    "import pyperclip\n",
    "\n",
    "text = data.to_markdown()\n",
    "\n",
    "folder.save_output(\"indicators.md\", text, verbose=True)\n",
    "\n",
    "pyperclip.copy(text)\n",
    "\n",
    "print(text)"
   ],
   "metadata": {
    "collapsed": false,
    "pycharm": {
     "name": "#%%\n"
    }
   }
  },
  {
   "cell_type": "code",
   "execution_count": null,
   "outputs": [],
   "source": [],
   "metadata": {
    "collapsed": false,
    "pycharm": {
     "name": "#%%\n"
    }
   }
  }
 ],
 "metadata": {
  "kernelspec": {
   "display_name": "Python 3",
   "language": "python",
   "name": "python3"
  },
  "language_info": {
   "codemirror_mode": {
    "name": "ipython",
    "version": 2
   },
   "file_extension": ".py",
   "mimetype": "text/x-python",
   "name": "python",
   "nbconvert_exporter": "python",
   "pygments_lexer": "ipython2",
   "version": "2.7.6"
  }
 },
 "nbformat": 4,
 "nbformat_minor": 0
}