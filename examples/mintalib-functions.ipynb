{
 "cells": [
  {
   "cell_type": "markdown",
   "source": [
    "# Using mintalib functions"
   ],
   "metadata": {
    "collapsed": false,
    "pycharm": {
     "name": "#%% md\n"
    }
   }
  },
  {
   "cell_type": "code",
   "execution_count": 3,
   "outputs": [],
   "source": [
    "from mintalib.utils import sample_prices\n",
    "\n",
    "from mintalib.functions import *\n"
   ],
   "metadata": {
    "collapsed": false,
    "pycharm": {
     "name": "#%%\n"
    }
   }
  },
  {
   "cell_type": "code",
   "execution_count": 4,
   "outputs": [
    {
     "data": {
      "text/plain": "             open   high    low  close  volume\ndate                                          \n2022-09-02  76.56  76.67  76.02  76.67  108576\n2022-09-05  75.86  75.97  75.33  75.97  133841\n2022-09-06  75.80  76.34  75.64  76.34   99230\n2022-09-07  76.28  76.70  76.03  76.38  112662\n2022-09-08  76.46  76.46  75.11  75.11  175868",
      "text/html": "<div>\n<style scoped>\n    .dataframe tbody tr th:only-of-type {\n        vertical-align: middle;\n    }\n\n    .dataframe tbody tr th {\n        vertical-align: top;\n    }\n\n    .dataframe thead th {\n        text-align: right;\n    }\n</style>\n<table border=\"1\" class=\"dataframe\">\n  <thead>\n    <tr style=\"text-align: right;\">\n      <th></th>\n      <th>open</th>\n      <th>high</th>\n      <th>low</th>\n      <th>close</th>\n      <th>volume</th>\n    </tr>\n    <tr>\n      <th>date</th>\n      <th></th>\n      <th></th>\n      <th></th>\n      <th></th>\n      <th></th>\n    </tr>\n  </thead>\n  <tbody>\n    <tr>\n      <th>2022-09-02</th>\n      <td>76.56</td>\n      <td>76.67</td>\n      <td>76.02</td>\n      <td>76.67</td>\n      <td>108576</td>\n    </tr>\n    <tr>\n      <th>2022-09-05</th>\n      <td>75.86</td>\n      <td>75.97</td>\n      <td>75.33</td>\n      <td>75.97</td>\n      <td>133841</td>\n    </tr>\n    <tr>\n      <th>2022-09-06</th>\n      <td>75.80</td>\n      <td>76.34</td>\n      <td>75.64</td>\n      <td>76.34</td>\n      <td>99230</td>\n    </tr>\n    <tr>\n      <th>2022-09-07</th>\n      <td>76.28</td>\n      <td>76.70</td>\n      <td>76.03</td>\n      <td>76.38</td>\n      <td>112662</td>\n    </tr>\n    <tr>\n      <th>2022-09-08</th>\n      <td>76.46</td>\n      <td>76.46</td>\n      <td>75.11</td>\n      <td>75.11</td>\n      <td>175868</td>\n    </tr>\n  </tbody>\n</table>\n</div>"
     },
     "execution_count": 4,
     "metadata": {},
     "output_type": "execute_result"
    }
   ],
   "source": [
    "prices = sample_prices()\n",
    "prices.tail()\n"
   ],
   "metadata": {
    "collapsed": false,
    "pycharm": {
     "name": "#%%\n"
    }
   }
  },
  {
   "cell_type": "code",
   "execution_count": 5,
   "outputs": [
    {
     "data": {
      "text/plain": "                macd  macdsignal  macdhist\ndate                                      \n2022-09-02 -0.460946   -0.453389 -0.007557\n2022-09-05 -0.483048   -0.459320 -0.023727\n2022-09-06 -0.465344   -0.460525 -0.004819\n2022-09-07 -0.442979   -0.457016  0.014037\n2022-09-08 -0.521719   -0.469957 -0.051763",
      "text/html": "<div>\n<style scoped>\n    .dataframe tbody tr th:only-of-type {\n        vertical-align: middle;\n    }\n\n    .dataframe tbody tr th {\n        vertical-align: top;\n    }\n\n    .dataframe thead th {\n        text-align: right;\n    }\n</style>\n<table border=\"1\" class=\"dataframe\">\n  <thead>\n    <tr style=\"text-align: right;\">\n      <th></th>\n      <th>macd</th>\n      <th>macdsignal</th>\n      <th>macdhist</th>\n    </tr>\n    <tr>\n      <th>date</th>\n      <th></th>\n      <th></th>\n      <th></th>\n    </tr>\n  </thead>\n  <tbody>\n    <tr>\n      <th>2022-09-02</th>\n      <td>-0.460946</td>\n      <td>-0.453389</td>\n      <td>-0.007557</td>\n    </tr>\n    <tr>\n      <th>2022-09-05</th>\n      <td>-0.483048</td>\n      <td>-0.459320</td>\n      <td>-0.023727</td>\n    </tr>\n    <tr>\n      <th>2022-09-06</th>\n      <td>-0.465344</td>\n      <td>-0.460525</td>\n      <td>-0.004819</td>\n    </tr>\n    <tr>\n      <th>2022-09-07</th>\n      <td>-0.442979</td>\n      <td>-0.457016</td>\n      <td>0.014037</td>\n    </tr>\n    <tr>\n      <th>2022-09-08</th>\n      <td>-0.521719</td>\n      <td>-0.469957</td>\n      <td>-0.051763</td>\n    </tr>\n  </tbody>\n</table>\n</div>"
     },
     "execution_count": 5,
     "metadata": {},
     "output_type": "execute_result"
    }
   ],
   "source": [
    "res = MACD(prices)\n",
    "res.tail()\n"
   ],
   "metadata": {
    "collapsed": false,
    "pycharm": {
     "name": "#%%\n"
    }
   }
  },
  {
   "cell_type": "code",
   "execution_count": 6,
   "outputs": [
    {
     "data": {
      "text/plain": "date\n2022-09-02    0.70\n2022-09-05    1.34\n2022-09-06    0.70\n2022-09-07    0.67\n2022-09-08    1.35\ndtype: float64"
     },
     "execution_count": 6,
     "metadata": {},
     "output_type": "execute_result"
    }
   ],
   "source": [
    "res = TRANGE(prices)\n",
    "res.tail()"
   ],
   "metadata": {
    "collapsed": false,
    "pycharm": {
     "name": "#%%\n"
    }
   }
  },
  {
   "cell_type": "code",
   "execution_count": 7,
   "outputs": [
    {
     "data": {
      "text/plain": "date\n2022-09-02    140829.75\n2022-09-05    140867.30\n2022-09-06    140165.15\n2022-09-07    136318.35\n2022-09-08    136378.95\ndtype: float64"
     },
     "execution_count": 7,
     "metadata": {},
     "output_type": "execute_result"
    }
   ],
   "source": [
    "res = SMA(prices, 20, item='volume')\n",
    "res.tail()"
   ],
   "metadata": {
    "collapsed": false,
    "pycharm": {
     "name": "#%%\n"
    }
   }
  },
  {
   "cell_type": "code",
   "execution_count": null,
   "outputs": [],
   "source": [],
   "metadata": {
    "collapsed": false,
    "pycharm": {
     "name": "#%%\n"
    }
   }
  }
 ],
 "metadata": {
  "kernelspec": {
   "display_name": "Python 3",
   "language": "python",
   "name": "python3"
  },
  "language_info": {
   "codemirror_mode": {
    "name": "ipython",
    "version": 2
   },
   "file_extension": ".py",
   "mimetype": "text/x-python",
   "name": "python",
   "nbconvert_exporter": "python",
   "pygments_lexer": "ipython2",
   "version": "2.7.6"
  }
 },
 "nbformat": 4,
 "nbformat_minor": 0
}