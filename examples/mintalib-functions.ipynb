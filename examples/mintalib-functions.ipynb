{
 "cells": [
  {
   "cell_type": "markdown",
   "source": [
    "# Using mintalib functions"
   ],
   "metadata": {
    "collapsed": false,
    "pycharm": {
     "name": "#%% md\n"
    }
   }
  },
  {
   "cell_type": "code",
   "execution_count": 1,
   "outputs": [],
   "source": [
    "from mintalib.utils import sample_prices\n",
    "\n",
    "import mintalib.functions as ta\n"
   ],
   "metadata": {
    "collapsed": false,
    "pycharm": {
     "name": "#%%\n"
    }
   }
  },
  {
   "cell_type": "code",
   "execution_count": 2,
   "outputs": [
    {
     "data": {
      "text/plain": "              open    high     low   close  volume\ndate                                              \n2022-08-11  118.76  120.32  118.76  120.32  118317\n2022-08-12  120.26  120.42  119.48  119.48  120306\n2022-08-15  120.46  120.46  118.75  118.75  140933\n2022-08-16  118.31  120.04  117.98  120.04   82727\n2022-08-17  119.05  120.43  118.50  120.43  175746",
      "text/html": "<div>\n<style scoped>\n    .dataframe tbody tr th:only-of-type {\n        vertical-align: middle;\n    }\n\n    .dataframe tbody tr th {\n        vertical-align: top;\n    }\n\n    .dataframe thead th {\n        text-align: right;\n    }\n</style>\n<table border=\"1\" class=\"dataframe\">\n  <thead>\n    <tr style=\"text-align: right;\">\n      <th></th>\n      <th>open</th>\n      <th>high</th>\n      <th>low</th>\n      <th>close</th>\n      <th>volume</th>\n    </tr>\n    <tr>\n      <th>date</th>\n      <th></th>\n      <th></th>\n      <th></th>\n      <th></th>\n      <th></th>\n    </tr>\n  </thead>\n  <tbody>\n    <tr>\n      <th>2022-08-11</th>\n      <td>118.76</td>\n      <td>120.32</td>\n      <td>118.76</td>\n      <td>120.32</td>\n      <td>118317</td>\n    </tr>\n    <tr>\n      <th>2022-08-12</th>\n      <td>120.26</td>\n      <td>120.42</td>\n      <td>119.48</td>\n      <td>119.48</td>\n      <td>120306</td>\n    </tr>\n    <tr>\n      <th>2022-08-15</th>\n      <td>120.46</td>\n      <td>120.46</td>\n      <td>118.75</td>\n      <td>118.75</td>\n      <td>140933</td>\n    </tr>\n    <tr>\n      <th>2022-08-16</th>\n      <td>118.31</td>\n      <td>120.04</td>\n      <td>117.98</td>\n      <td>120.04</td>\n      <td>82727</td>\n    </tr>\n    <tr>\n      <th>2022-08-17</th>\n      <td>119.05</td>\n      <td>120.43</td>\n      <td>118.50</td>\n      <td>120.43</td>\n      <td>175746</td>\n    </tr>\n  </tbody>\n</table>\n</div>"
     },
     "execution_count": 2,
     "metadata": {},
     "output_type": "execute_result"
    }
   ],
   "source": [
    "prices = sample_prices()\n",
    "prices.tail()\n"
   ],
   "metadata": {
    "collapsed": false,
    "pycharm": {
     "name": "#%%\n"
    }
   }
  },
  {
   "cell_type": "code",
   "execution_count": 3,
   "outputs": [
    {
     "data": {
      "text/plain": "                macd  macdsignal  macdhist\ndate                                      \n2022-08-11  0.753966    0.593296  0.160669\n2022-08-12  0.914050    0.657447  0.256603\n2022-08-15  0.970822    0.720122  0.250700\n2022-08-16  1.107144    0.797527  0.309618\n2022-08-17  1.232443    0.884510  0.347933",
      "text/html": "<div>\n<style scoped>\n    .dataframe tbody tr th:only-of-type {\n        vertical-align: middle;\n    }\n\n    .dataframe tbody tr th {\n        vertical-align: top;\n    }\n\n    .dataframe thead th {\n        text-align: right;\n    }\n</style>\n<table border=\"1\" class=\"dataframe\">\n  <thead>\n    <tr style=\"text-align: right;\">\n      <th></th>\n      <th>macd</th>\n      <th>macdsignal</th>\n      <th>macdhist</th>\n    </tr>\n    <tr>\n      <th>date</th>\n      <th></th>\n      <th></th>\n      <th></th>\n    </tr>\n  </thead>\n  <tbody>\n    <tr>\n      <th>2022-08-11</th>\n      <td>0.753966</td>\n      <td>0.593296</td>\n      <td>0.160669</td>\n    </tr>\n    <tr>\n      <th>2022-08-12</th>\n      <td>0.914050</td>\n      <td>0.657447</td>\n      <td>0.256603</td>\n    </tr>\n    <tr>\n      <th>2022-08-15</th>\n      <td>0.970822</td>\n      <td>0.720122</td>\n      <td>0.250700</td>\n    </tr>\n    <tr>\n      <th>2022-08-16</th>\n      <td>1.107144</td>\n      <td>0.797527</td>\n      <td>0.309618</td>\n    </tr>\n    <tr>\n      <th>2022-08-17</th>\n      <td>1.232443</td>\n      <td>0.884510</td>\n      <td>0.347933</td>\n    </tr>\n  </tbody>\n</table>\n</div>"
     },
     "execution_count": 3,
     "metadata": {},
     "output_type": "execute_result"
    }
   ],
   "source": [
    "res = ta.macd(prices)\n",
    "res.tail()\n"
   ],
   "metadata": {
    "collapsed": false,
    "pycharm": {
     "name": "#%%\n"
    }
   }
  },
  {
   "cell_type": "code",
   "execution_count": 4,
   "outputs": [
    {
     "data": {
      "text/plain": "date\n2022-08-11    1.56\n2022-08-12    0.94\n2022-08-15    1.71\n2022-08-16    2.06\n2022-08-17    1.93\ndtype: float64"
     },
     "execution_count": 4,
     "metadata": {},
     "output_type": "execute_result"
    }
   ],
   "source": [
    "res = ta.trange(prices)\n",
    "res.tail()"
   ],
   "metadata": {
    "collapsed": false,
    "pycharm": {
     "name": "#%%\n"
    }
   }
  },
  {
   "cell_type": "code",
   "execution_count": 5,
   "outputs": [
    {
     "data": {
      "text/plain": "date\n2022-08-11    130413.25\n2022-08-12    131826.45\n2022-08-15    132643.65\n2022-08-16    130496.25\n2022-08-17    133007.45\ndtype: float64"
     },
     "execution_count": 5,
     "metadata": {},
     "output_type": "execute_result"
    }
   ],
   "source": [
    "res = ta.sma(prices, 20, item='volume')\n",
    "res.tail()"
   ],
   "metadata": {
    "collapsed": false,
    "pycharm": {
     "name": "#%%\n"
    }
   }
  },
  {
   "cell_type": "code",
   "execution_count": null,
   "outputs": [],
   "source": [],
   "metadata": {
    "collapsed": false,
    "pycharm": {
     "name": "#%%\n"
    }
   }
  }
 ],
 "metadata": {
  "kernelspec": {
   "display_name": "Python 3",
   "language": "python",
   "name": "python3"
  },
  "language_info": {
   "codemirror_mode": {
    "name": "ipython",
    "version": 2
   },
   "file_extension": ".py",
   "mimetype": "text/x-python",
   "name": "python",
   "nbconvert_exporter": "python",
   "pygments_lexer": "ipython2",
   "version": "2.7.6"
  }
 },
 "nbformat": 4,
 "nbformat_minor": 0
}