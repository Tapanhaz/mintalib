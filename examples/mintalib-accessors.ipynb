{
 "cells": [
  {
   "cell_type": "markdown",
   "source": [
    "# Using mintalib pandas accessors"
   ],
   "metadata": {
    "collapsed": false,
    "pycharm": {
     "name": "#%% md\n"
    }
   }
  },
  {
   "cell_type": "code",
   "execution_count": 1,
   "outputs": [],
   "source": [
    "from mintalib.utils import sample_prices\n",
    "\n",
    "from mintalib.accessors import register_accessors\n",
    "\n",
    "register_accessors()\n"
   ],
   "metadata": {
    "collapsed": false,
    "pycharm": {
     "name": "#%%\n"
    }
   }
  },
  {
   "cell_type": "code",
   "execution_count": 2,
   "outputs": [
    {
     "data": {
      "text/plain": "             open   high    low  close  volume\ndate                                          \n2022-08-11  92.22  92.48  92.07  92.43  216788\n2022-08-12  92.68  92.80  92.49  92.49  149317\n2022-08-15  92.74  94.34  92.74  94.34  142170\n2022-08-16  94.96  95.86  94.96  95.84  118453\n2022-08-17  97.37  97.37  96.32  96.52  153854",
      "text/html": "<div>\n<style scoped>\n    .dataframe tbody tr th:only-of-type {\n        vertical-align: middle;\n    }\n\n    .dataframe tbody tr th {\n        vertical-align: top;\n    }\n\n    .dataframe thead th {\n        text-align: right;\n    }\n</style>\n<table border=\"1\" class=\"dataframe\">\n  <thead>\n    <tr style=\"text-align: right;\">\n      <th></th>\n      <th>open</th>\n      <th>high</th>\n      <th>low</th>\n      <th>close</th>\n      <th>volume</th>\n    </tr>\n    <tr>\n      <th>date</th>\n      <th></th>\n      <th></th>\n      <th></th>\n      <th></th>\n      <th></th>\n    </tr>\n  </thead>\n  <tbody>\n    <tr>\n      <th>2022-08-11</th>\n      <td>92.22</td>\n      <td>92.48</td>\n      <td>92.07</td>\n      <td>92.43</td>\n      <td>216788</td>\n    </tr>\n    <tr>\n      <th>2022-08-12</th>\n      <td>92.68</td>\n      <td>92.80</td>\n      <td>92.49</td>\n      <td>92.49</td>\n      <td>149317</td>\n    </tr>\n    <tr>\n      <th>2022-08-15</th>\n      <td>92.74</td>\n      <td>94.34</td>\n      <td>92.74</td>\n      <td>94.34</td>\n      <td>142170</td>\n    </tr>\n    <tr>\n      <th>2022-08-16</th>\n      <td>94.96</td>\n      <td>95.86</td>\n      <td>94.96</td>\n      <td>95.84</td>\n      <td>118453</td>\n    </tr>\n    <tr>\n      <th>2022-08-17</th>\n      <td>97.37</td>\n      <td>97.37</td>\n      <td>96.32</td>\n      <td>96.52</td>\n      <td>153854</td>\n    </tr>\n  </tbody>\n</table>\n</div>"
     },
     "execution_count": 2,
     "metadata": {},
     "output_type": "execute_result"
    }
   ],
   "source": [
    "prices = sample_prices()\n",
    "prices.tail()"
   ],
   "metadata": {
    "collapsed": false,
    "pycharm": {
     "name": "#%%\n"
    }
   }
  },
  {
   "cell_type": "code",
   "execution_count": 3,
   "outputs": [
    {
     "ename": "AttributeError",
     "evalue": "'PricesAccessor' object has no attribute 'get_series'",
     "output_type": "error",
     "traceback": [
      "\u001B[1;31m---------------------------------------------------------------------------\u001B[0m",
      "\u001B[1;31mAttributeError\u001B[0m                            Traceback (most recent call last)",
      "Input \u001B[1;32mIn [3]\u001B[0m, in \u001B[0;36m<cell line: 1>\u001B[1;34m()\u001B[0m\n\u001B[1;32m----> 1\u001B[0m macd \u001B[38;5;241m=\u001B[39m \u001B[43mprices\u001B[49m\u001B[38;5;241;43m.\u001B[39;49m\u001B[43mta\u001B[49m\u001B[38;5;241;43m.\u001B[39;49m\u001B[43mmacd\u001B[49m\u001B[43m(\u001B[49m\u001B[43m)\u001B[49m\n\u001B[0;32m      2\u001B[0m macd\u001B[38;5;241m.\u001B[39mtail()\n",
      "File \u001B[1;32m~\\OneDrive\\Python\\mintalib\\src\\mintalib\\accessors.py:266\u001B[0m, in \u001B[0;36mPricesAccessor.macd\u001B[1;34m(self, n1, n2, n3, item)\u001B[0m\n\u001B[0;32m    264\u001B[0m \u001B[38;5;129m@utils\u001B[39m\u001B[38;5;241m.\u001B[39mwrap_function(core\u001B[38;5;241m.\u001B[39mcalc_macd)\n\u001B[0;32m    265\u001B[0m \u001B[38;5;28;01mdef\u001B[39;00m \u001B[38;5;21mmacd\u001B[39m(\u001B[38;5;28mself\u001B[39m, n1: \u001B[38;5;28mint\u001B[39m \u001B[38;5;241m=\u001B[39m \u001B[38;5;241m12\u001B[39m, n2: \u001B[38;5;28mint\u001B[39m \u001B[38;5;241m=\u001B[39m \u001B[38;5;241m26\u001B[39m, n3: \u001B[38;5;28mint\u001B[39m \u001B[38;5;241m=\u001B[39m \u001B[38;5;241m9\u001B[39m, \u001B[38;5;241m*\u001B[39m, item: \u001B[38;5;28mstr\u001B[39m \u001B[38;5;241m=\u001B[39m \u001B[38;5;28;01mNone\u001B[39;00m):\n\u001B[1;32m--> 266\u001B[0m     series \u001B[38;5;241m=\u001B[39m \u001B[38;5;28;43mself\u001B[39;49m\u001B[38;5;241;43m.\u001B[39;49m\u001B[43mget_series\u001B[49m(item\u001B[38;5;241m=\u001B[39mitem)\n\u001B[0;32m    267\u001B[0m     \u001B[38;5;28;01mreturn\u001B[39;00m core\u001B[38;5;241m.\u001B[39mcalc_macd(series, n1\u001B[38;5;241m=\u001B[39mn1, n2\u001B[38;5;241m=\u001B[39mn2, n3\u001B[38;5;241m=\u001B[39mn3)\n",
      "\u001B[1;31mAttributeError\u001B[0m: 'PricesAccessor' object has no attribute 'get_series'"
     ]
    }
   ],
   "source": [
    "macd = prices.ta.macd()\n",
    "macd.tail()\n"
   ],
   "metadata": {
    "collapsed": false,
    "pycharm": {
     "name": "#%%\n"
    }
   }
  },
  {
   "cell_type": "code",
   "execution_count": 9,
   "outputs": [
    {
     "data": {
      "text/plain": "date\n2022-08-11    1.22\n2022-08-12    2.25\n2022-08-15    2.52\n2022-08-16    4.68\n2022-08-17    1.59\ndtype: float64"
     },
     "execution_count": 9,
     "metadata": {},
     "output_type": "execute_result"
    }
   ],
   "source": [
    "trange = prices.ta.trange()\n",
    "trange.tail()"
   ],
   "metadata": {
    "collapsed": false,
    "pycharm": {
     "name": "#%%\n"
    }
   }
  },
  {
   "cell_type": "code",
   "execution_count": null,
   "outputs": [],
   "source": [],
   "metadata": {
    "collapsed": false,
    "pycharm": {
     "name": "#%%\n"
    }
   }
  }
 ],
 "metadata": {
  "kernelspec": {
   "display_name": "Python 3",
   "language": "python",
   "name": "python3"
  },
  "language_info": {
   "codemirror_mode": {
    "name": "ipython",
    "version": 2
   },
   "file_extension": ".py",
   "mimetype": "text/x-python",
   "name": "python",
   "nbconvert_exporter": "python",
   "pygments_lexer": "ipython2",
   "version": "2.7.6"
  }
 },
 "nbformat": 4,
 "nbformat_minor": 0
}