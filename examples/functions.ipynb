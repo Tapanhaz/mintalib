{
 "cells": [
  {
   "cell_type": "markdown",
   "source": [
    "# Using mintalib functions"
   ],
   "metadata": {
    "collapsed": false,
    "pycharm": {
     "name": "#%% md\n"
    }
   }
  },
  {
   "cell_type": "code",
   "execution_count": 1,
   "outputs": [],
   "source": [
    "from mintalib.functions import EMA, SMA, TRANGE, MACD\n",
    "from mintalib.samples import sample_prices"
   ],
   "metadata": {
    "collapsed": false,
    "pycharm": {
     "name": "#%%\n"
    },
    "ExecuteTime": {
     "end_time": "2023-10-27T21:31:36.300809Z",
     "start_time": "2023-10-27T21:31:36.042896Z"
    }
   }
  },
  {
   "cell_type": "code",
   "execution_count": 2,
   "outputs": [
    {
     "data": {
      "text/plain": "                                 open        high         low       close  \\\ndate                                                                        \n2018-09-24 00:00:00-04:00   51.913947   52.977028   51.868454   52.864494   \n2018-09-25 00:00:00-04:00   52.615489   53.350551   52.603517   53.199707   \n2018-09-26 00:00:00-04:00   52.914789   53.573231   52.617890   52.775917   \n2018-09-27 00:00:00-04:00   53.589985   54.217299   53.522940   53.860542   \n2018-09-28 00:00:00-04:00   53.822241   54.073647   53.637880   54.049706   \n...                               ...         ...         ...         ...   \n2023-09-18 00:00:00-04:00  176.479996  179.380005  176.169998  177.970001   \n2023-09-19 00:00:00-04:00  177.520004  179.630005  177.130005  179.070007   \n2023-09-20 00:00:00-04:00  179.259995  179.699997  175.399994  175.490005   \n2023-09-21 00:00:00-04:00  174.550003  176.300003  173.860001  173.929993   \n2023-09-22 00:00:00-04:00  174.669998  175.389999  174.054993  175.179993   \n\n                              volume    change  \ndate                                            \n2018-09-24 00:00:00-04:00  110773600       NaN  \n2018-09-25 00:00:00-04:00   98217600  0.006341  \n2018-09-26 00:00:00-04:00   95938800 -0.007966  \n2018-09-27 00:00:00-04:00  120724800  0.020552  \n2018-09-28 00:00:00-04:00   91717600  0.003512  \n...                              ...       ...  \n2023-09-18 00:00:00-04:00   67257600  0.016913  \n2023-09-19 00:00:00-04:00   51826900  0.006181  \n2023-09-20 00:00:00-04:00   58436200 -0.019992  \n2023-09-21 00:00:00-04:00   63047900 -0.008889  \n2023-09-22 00:00:00-04:00   10333432  0.007187  \n\n[1258 rows x 6 columns]",
      "text/html": "<div>\n<style scoped>\n    .dataframe tbody tr th:only-of-type {\n        vertical-align: middle;\n    }\n\n    .dataframe tbody tr th {\n        vertical-align: top;\n    }\n\n    .dataframe thead th {\n        text-align: right;\n    }\n</style>\n<table border=\"1\" class=\"dataframe\">\n  <thead>\n    <tr style=\"text-align: right;\">\n      <th></th>\n      <th>open</th>\n      <th>high</th>\n      <th>low</th>\n      <th>close</th>\n      <th>volume</th>\n      <th>change</th>\n    </tr>\n    <tr>\n      <th>date</th>\n      <th></th>\n      <th></th>\n      <th></th>\n      <th></th>\n      <th></th>\n      <th></th>\n    </tr>\n  </thead>\n  <tbody>\n    <tr>\n      <th>2018-09-24 00:00:00-04:00</th>\n      <td>51.913947</td>\n      <td>52.977028</td>\n      <td>51.868454</td>\n      <td>52.864494</td>\n      <td>110773600</td>\n      <td>NaN</td>\n    </tr>\n    <tr>\n      <th>2018-09-25 00:00:00-04:00</th>\n      <td>52.615489</td>\n      <td>53.350551</td>\n      <td>52.603517</td>\n      <td>53.199707</td>\n      <td>98217600</td>\n      <td>0.006341</td>\n    </tr>\n    <tr>\n      <th>2018-09-26 00:00:00-04:00</th>\n      <td>52.914789</td>\n      <td>53.573231</td>\n      <td>52.617890</td>\n      <td>52.775917</td>\n      <td>95938800</td>\n      <td>-0.007966</td>\n    </tr>\n    <tr>\n      <th>2018-09-27 00:00:00-04:00</th>\n      <td>53.589985</td>\n      <td>54.217299</td>\n      <td>53.522940</td>\n      <td>53.860542</td>\n      <td>120724800</td>\n      <td>0.020552</td>\n    </tr>\n    <tr>\n      <th>2018-09-28 00:00:00-04:00</th>\n      <td>53.822241</td>\n      <td>54.073647</td>\n      <td>53.637880</td>\n      <td>54.049706</td>\n      <td>91717600</td>\n      <td>0.003512</td>\n    </tr>\n    <tr>\n      <th>...</th>\n      <td>...</td>\n      <td>...</td>\n      <td>...</td>\n      <td>...</td>\n      <td>...</td>\n      <td>...</td>\n    </tr>\n    <tr>\n      <th>2023-09-18 00:00:00-04:00</th>\n      <td>176.479996</td>\n      <td>179.380005</td>\n      <td>176.169998</td>\n      <td>177.970001</td>\n      <td>67257600</td>\n      <td>0.016913</td>\n    </tr>\n    <tr>\n      <th>2023-09-19 00:00:00-04:00</th>\n      <td>177.520004</td>\n      <td>179.630005</td>\n      <td>177.130005</td>\n      <td>179.070007</td>\n      <td>51826900</td>\n      <td>0.006181</td>\n    </tr>\n    <tr>\n      <th>2023-09-20 00:00:00-04:00</th>\n      <td>179.259995</td>\n      <td>179.699997</td>\n      <td>175.399994</td>\n      <td>175.490005</td>\n      <td>58436200</td>\n      <td>-0.019992</td>\n    </tr>\n    <tr>\n      <th>2023-09-21 00:00:00-04:00</th>\n      <td>174.550003</td>\n      <td>176.300003</td>\n      <td>173.860001</td>\n      <td>173.929993</td>\n      <td>63047900</td>\n      <td>-0.008889</td>\n    </tr>\n    <tr>\n      <th>2023-09-22 00:00:00-04:00</th>\n      <td>174.669998</td>\n      <td>175.389999</td>\n      <td>174.054993</td>\n      <td>175.179993</td>\n      <td>10333432</td>\n      <td>0.007187</td>\n    </tr>\n  </tbody>\n</table>\n<p>1258 rows × 6 columns</p>\n</div>"
     },
     "execution_count": 2,
     "metadata": {},
     "output_type": "execute_result"
    }
   ],
   "source": [
    "prices = sample_prices()\n",
    "prices"
   ],
   "metadata": {
    "collapsed": false,
    "pycharm": {
     "name": "#%%\n"
    },
    "ExecuteTime": {
     "end_time": "2023-10-27T21:31:36.706450Z",
     "start_time": "2023-10-27T21:31:36.671381Z"
    }
   }
  },
  {
   "cell_type": "code",
   "execution_count": 3,
   "outputs": [
    {
     "data": {
      "text/plain": "                               macd  macdsignal  macdhist\ndate                                                     \n2018-09-24 00:00:00-04:00       NaN         NaN       NaN\n2018-09-25 00:00:00-04:00       NaN         NaN       NaN\n2018-09-26 00:00:00-04:00       NaN         NaN       NaN\n2018-09-27 00:00:00-04:00       NaN         NaN       NaN\n2018-09-28 00:00:00-04:00       NaN         NaN       NaN\n...                             ...         ...       ...\n2023-09-18 00:00:00-04:00 -1.839406   -1.348443 -0.490963\n2023-09-19 00:00:00-04:00 -1.658504   -1.410455 -0.248049\n2023-09-20 00:00:00-04:00 -1.783455   -1.485055 -0.298401\n2023-09-21 00:00:00-04:00 -1.985473   -1.585139 -0.400335\n2023-09-22 00:00:00-04:00 -2.021408   -1.672392 -0.349015\n\n[1258 rows x 3 columns]",
      "text/html": "<div>\n<style scoped>\n    .dataframe tbody tr th:only-of-type {\n        vertical-align: middle;\n    }\n\n    .dataframe tbody tr th {\n        vertical-align: top;\n    }\n\n    .dataframe thead th {\n        text-align: right;\n    }\n</style>\n<table border=\"1\" class=\"dataframe\">\n  <thead>\n    <tr style=\"text-align: right;\">\n      <th></th>\n      <th>macd</th>\n      <th>macdsignal</th>\n      <th>macdhist</th>\n    </tr>\n    <tr>\n      <th>date</th>\n      <th></th>\n      <th></th>\n      <th></th>\n    </tr>\n  </thead>\n  <tbody>\n    <tr>\n      <th>2018-09-24 00:00:00-04:00</th>\n      <td>NaN</td>\n      <td>NaN</td>\n      <td>NaN</td>\n    </tr>\n    <tr>\n      <th>2018-09-25 00:00:00-04:00</th>\n      <td>NaN</td>\n      <td>NaN</td>\n      <td>NaN</td>\n    </tr>\n    <tr>\n      <th>2018-09-26 00:00:00-04:00</th>\n      <td>NaN</td>\n      <td>NaN</td>\n      <td>NaN</td>\n    </tr>\n    <tr>\n      <th>2018-09-27 00:00:00-04:00</th>\n      <td>NaN</td>\n      <td>NaN</td>\n      <td>NaN</td>\n    </tr>\n    <tr>\n      <th>2018-09-28 00:00:00-04:00</th>\n      <td>NaN</td>\n      <td>NaN</td>\n      <td>NaN</td>\n    </tr>\n    <tr>\n      <th>...</th>\n      <td>...</td>\n      <td>...</td>\n      <td>...</td>\n    </tr>\n    <tr>\n      <th>2023-09-18 00:00:00-04:00</th>\n      <td>-1.839406</td>\n      <td>-1.348443</td>\n      <td>-0.490963</td>\n    </tr>\n    <tr>\n      <th>2023-09-19 00:00:00-04:00</th>\n      <td>-1.658504</td>\n      <td>-1.410455</td>\n      <td>-0.248049</td>\n    </tr>\n    <tr>\n      <th>2023-09-20 00:00:00-04:00</th>\n      <td>-1.783455</td>\n      <td>-1.485055</td>\n      <td>-0.298401</td>\n    </tr>\n    <tr>\n      <th>2023-09-21 00:00:00-04:00</th>\n      <td>-1.985473</td>\n      <td>-1.585139</td>\n      <td>-0.400335</td>\n    </tr>\n    <tr>\n      <th>2023-09-22 00:00:00-04:00</th>\n      <td>-2.021408</td>\n      <td>-1.672392</td>\n      <td>-0.349015</td>\n    </tr>\n  </tbody>\n</table>\n<p>1258 rows × 3 columns</p>\n</div>"
     },
     "execution_count": 3,
     "metadata": {},
     "output_type": "execute_result"
    }
   ],
   "source": [
    "res = MACD(prices)\n",
    "res"
   ],
   "metadata": {
    "collapsed": false,
    "pycharm": {
     "name": "#%%\n"
    },
    "ExecuteTime": {
     "end_time": "2023-10-27T21:31:37.265354Z",
     "start_time": "2023-10-27T21:31:37.242337Z"
    }
   }
  },
  {
   "cell_type": "code",
   "execution_count": 4,
   "outputs": [
    {
     "data": {
      "text/plain": "date\n2018-09-24 00:00:00-04:00         NaN\n2018-09-25 00:00:00-04:00    0.747035\n2018-09-26 00:00:00-04:00    0.955341\n2018-09-27 00:00:00-04:00    1.441382\n2018-09-28 00:00:00-04:00    0.435767\n                               ...   \n2023-09-18 00:00:00-04:00    4.370010\n2023-09-19 00:00:00-04:00    2.500000\n2023-09-20 00:00:00-04:00    4.300003\n2023-09-21 00:00:00-04:00    2.440002\n2023-09-22 00:00:00-04:00    1.460007\nLength: 1258, dtype: float64"
     },
     "execution_count": 4,
     "metadata": {},
     "output_type": "execute_result"
    }
   ],
   "source": [
    "res = TRANGE(prices)\n",
    "res"
   ],
   "metadata": {
    "collapsed": false,
    "pycharm": {
     "name": "#%%\n"
    },
    "ExecuteTime": {
     "end_time": "2023-10-27T21:31:37.884970Z",
     "start_time": "2023-10-27T21:31:37.870277Z"
    }
   }
  },
  {
   "cell_type": "code",
   "execution_count": 5,
   "outputs": [
    {
     "data": {
      "text/plain": "date\n2018-09-24 00:00:00-04:00           NaN\n2018-09-25 00:00:00-04:00           NaN\n2018-09-26 00:00:00-04:00           NaN\n2018-09-27 00:00:00-04:00           NaN\n2018-09-28 00:00:00-04:00           NaN\n                                ...    \n2023-09-18 00:00:00-04:00    64385275.0\n2023-09-19 00:00:00-04:00    64661025.0\n2023-09-20 00:00:00-04:00    65478625.0\n2023-09-21 00:00:00-04:00    65994880.0\n2023-09-22 00:00:00-04:00    63764261.6\nLength: 1258, dtype: float64"
     },
     "execution_count": 5,
     "metadata": {},
     "output_type": "execute_result"
    }
   ],
   "source": [
    "res = SMA(prices, 20, item=\"volume\")\n",
    "res"
   ],
   "metadata": {
    "collapsed": false,
    "pycharm": {
     "name": "#%%\n"
    },
    "ExecuteTime": {
     "end_time": "2023-10-27T21:31:38.457841Z",
     "start_time": "2023-10-27T21:31:38.448667Z"
    }
   }
  },
  {
   "cell_type": "code",
   "execution_count": 5,
   "outputs": [],
   "source": [],
   "metadata": {
    "collapsed": false,
    "pycharm": {
     "name": "#%%\n"
    },
    "ExecuteTime": {
     "end_time": "2023-10-25T18:56:23.371585Z",
     "start_time": "2023-10-25T18:56:23.359173Z"
    }
   }
  },
  {
   "cell_type": "code",
   "execution_count": null,
   "outputs": [],
   "source": [],
   "metadata": {
    "collapsed": false
   }
  }
 ],
 "metadata": {
  "kernelspec": {
   "display_name": "Python 3",
   "language": "python",
   "name": "python3"
  },
  "language_info": {
   "codemirror_mode": {
    "name": "ipython",
    "version": 2
   },
   "file_extension": ".py",
   "mimetype": "text/x-python",
   "name": "python",
   "nbconvert_exporter": "python",
   "pygments_lexer": "ipython2",
   "version": "2.7.6"
  }
 },
 "nbformat": 4,
 "nbformat_minor": 0
}
