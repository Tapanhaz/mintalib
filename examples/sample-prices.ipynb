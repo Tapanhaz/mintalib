{
 "cells": [
  {
   "cell_type": "markdown",
   "source": [
    "# Notebook to generate sample prices"
   ],
   "metadata": {
    "collapsed": false
   },
   "id": "bdf946e1beacac0"
  },
  {
   "cell_type": "code",
   "execution_count": 25,
   "outputs": [],
   "source": [
    "from mintalib.samples import sample_prices\n"
   ],
   "metadata": {
    "collapsed": false,
    "ExecuteTime": {
     "end_time": "2023-09-22T14:28:45.992902Z",
     "start_time": "2023-09-22T14:28:45.964968Z"
    }
   },
   "id": "2f45689963b1424e"
  },
  {
   "cell_type": "code",
   "execution_count": 26,
   "outputs": [
    {
     "data": {
      "text/plain": "array([(datetime.datetime(2018, 9, 24, 0, 0, tzinfo=datetime.timezone(datetime.timedelta(days=-1, seconds=72000))),  51.91394717,  52.9770283 ,  51.86845424,  52.86449432, 110773600,         nan),\n       (datetime.datetime(2018, 9, 25, 0, 0, tzinfo=datetime.timezone(datetime.timedelta(days=-1, seconds=72000))),  52.61548896,  53.35055124,  52.60351656,  53.19970703,  98217600,  0.00634098),\n       (datetime.datetime(2018, 9, 26, 0, 0, tzinfo=datetime.timezone(datetime.timedelta(days=-1, seconds=72000))),  52.91478888,  53.57323083,  52.61789011,  52.77591705,  95938800, -0.00796602),\n       ...,\n       (datetime.datetime(2023, 9, 20, 0, 0, tzinfo=datetime.timezone(datetime.timedelta(days=-1, seconds=72000))), 179.25999451, 179.69999695, 175.3999939 , 175.49000549,  58436200, -0.01999219),\n       (datetime.datetime(2023, 9, 21, 0, 0, tzinfo=datetime.timezone(datetime.timedelta(days=-1, seconds=72000))), 174.55000305, 176.30000305, 173.86000061, 173.92999268,  63047900, -0.00888947),\n       (datetime.datetime(2023, 9, 22, 0, 0, tzinfo=datetime.timezone(datetime.timedelta(days=-1, seconds=72000))), 174.66999817, 175.38999939, 174.05499268, 175.17999268,  10333432,  0.0071868 )],\n      dtype=[('date', 'O'), ('open', '<f8'), ('high', '<f8'), ('low', '<f8'), ('close', '<f8'), ('volume', '<i8'), ('change', '<f8')])"
     },
     "execution_count": 26,
     "metadata": {},
     "output_type": "execute_result"
    }
   ],
   "source": [
    "sample_prices()\n"
   ],
   "metadata": {
    "collapsed": false,
    "ExecuteTime": {
     "end_time": "2023-09-22T14:28:46.478189Z",
     "start_time": "2023-09-22T14:28:46.442866Z"
    }
   },
   "id": "a8013058fc5449a9"
  },
  {
   "cell_type": "code",
   "execution_count": 27,
   "outputs": [
    {
     "data": {
      "text/plain": "                                 open        high         low       close  \\\ndate                                                                        \n2018-09-24 00:00:00-04:00   51.913947   52.977028   51.868454   52.864494   \n2018-09-25 00:00:00-04:00   52.615489   53.350551   52.603517   53.199707   \n2018-09-26 00:00:00-04:00   52.914789   53.573231   52.617890   52.775917   \n2018-09-27 00:00:00-04:00   53.589985   54.217299   53.522940   53.860542   \n2018-09-28 00:00:00-04:00   53.822241   54.073647   53.637880   54.049706   \n...                               ...         ...         ...         ...   \n2023-09-18 00:00:00-04:00  176.479996  179.380005  176.169998  177.970001   \n2023-09-19 00:00:00-04:00  177.520004  179.630005  177.130005  179.070007   \n2023-09-20 00:00:00-04:00  179.259995  179.699997  175.399994  175.490005   \n2023-09-21 00:00:00-04:00  174.550003  176.300003  173.860001  173.929993   \n2023-09-22 00:00:00-04:00  174.669998  175.389999  174.054993  175.179993   \n\n                              volume    change  \ndate                                            \n2018-09-24 00:00:00-04:00  110773600       NaN  \n2018-09-25 00:00:00-04:00   98217600  0.006341  \n2018-09-26 00:00:00-04:00   95938800 -0.007966  \n2018-09-27 00:00:00-04:00  120724800  0.020552  \n2018-09-28 00:00:00-04:00   91717600  0.003512  \n...                              ...       ...  \n2023-09-18 00:00:00-04:00   67257600  0.016913  \n2023-09-19 00:00:00-04:00   51826900  0.006181  \n2023-09-20 00:00:00-04:00   58436200 -0.019992  \n2023-09-21 00:00:00-04:00   63047900 -0.008889  \n2023-09-22 00:00:00-04:00   10333432  0.007187  \n\n[1258 rows x 6 columns]",
      "text/html": "<div>\n<style scoped>\n    .dataframe tbody tr th:only-of-type {\n        vertical-align: middle;\n    }\n\n    .dataframe tbody tr th {\n        vertical-align: top;\n    }\n\n    .dataframe thead th {\n        text-align: right;\n    }\n</style>\n<table border=\"1\" class=\"dataframe\">\n  <thead>\n    <tr style=\"text-align: right;\">\n      <th></th>\n      <th>open</th>\n      <th>high</th>\n      <th>low</th>\n      <th>close</th>\n      <th>volume</th>\n      <th>change</th>\n    </tr>\n    <tr>\n      <th>date</th>\n      <th></th>\n      <th></th>\n      <th></th>\n      <th></th>\n      <th></th>\n      <th></th>\n    </tr>\n  </thead>\n  <tbody>\n    <tr>\n      <th>2018-09-24 00:00:00-04:00</th>\n      <td>51.913947</td>\n      <td>52.977028</td>\n      <td>51.868454</td>\n      <td>52.864494</td>\n      <td>110773600</td>\n      <td>NaN</td>\n    </tr>\n    <tr>\n      <th>2018-09-25 00:00:00-04:00</th>\n      <td>52.615489</td>\n      <td>53.350551</td>\n      <td>52.603517</td>\n      <td>53.199707</td>\n      <td>98217600</td>\n      <td>0.006341</td>\n    </tr>\n    <tr>\n      <th>2018-09-26 00:00:00-04:00</th>\n      <td>52.914789</td>\n      <td>53.573231</td>\n      <td>52.617890</td>\n      <td>52.775917</td>\n      <td>95938800</td>\n      <td>-0.007966</td>\n    </tr>\n    <tr>\n      <th>2018-09-27 00:00:00-04:00</th>\n      <td>53.589985</td>\n      <td>54.217299</td>\n      <td>53.522940</td>\n      <td>53.860542</td>\n      <td>120724800</td>\n      <td>0.020552</td>\n    </tr>\n    <tr>\n      <th>2018-09-28 00:00:00-04:00</th>\n      <td>53.822241</td>\n      <td>54.073647</td>\n      <td>53.637880</td>\n      <td>54.049706</td>\n      <td>91717600</td>\n      <td>0.003512</td>\n    </tr>\n    <tr>\n      <th>...</th>\n      <td>...</td>\n      <td>...</td>\n      <td>...</td>\n      <td>...</td>\n      <td>...</td>\n      <td>...</td>\n    </tr>\n    <tr>\n      <th>2023-09-18 00:00:00-04:00</th>\n      <td>176.479996</td>\n      <td>179.380005</td>\n      <td>176.169998</td>\n      <td>177.970001</td>\n      <td>67257600</td>\n      <td>0.016913</td>\n    </tr>\n    <tr>\n      <th>2023-09-19 00:00:00-04:00</th>\n      <td>177.520004</td>\n      <td>179.630005</td>\n      <td>177.130005</td>\n      <td>179.070007</td>\n      <td>51826900</td>\n      <td>0.006181</td>\n    </tr>\n    <tr>\n      <th>2023-09-20 00:00:00-04:00</th>\n      <td>179.259995</td>\n      <td>179.699997</td>\n      <td>175.399994</td>\n      <td>175.490005</td>\n      <td>58436200</td>\n      <td>-0.019992</td>\n    </tr>\n    <tr>\n      <th>2023-09-21 00:00:00-04:00</th>\n      <td>174.550003</td>\n      <td>176.300003</td>\n      <td>173.860001</td>\n      <td>173.929993</td>\n      <td>63047900</td>\n      <td>-0.008889</td>\n    </tr>\n    <tr>\n      <th>2023-09-22 00:00:00-04:00</th>\n      <td>174.669998</td>\n      <td>175.389999</td>\n      <td>174.054993</td>\n      <td>175.179993</td>\n      <td>10333432</td>\n      <td>0.007187</td>\n    </tr>\n  </tbody>\n</table>\n<p>1258 rows × 6 columns</p>\n</div>"
     },
     "execution_count": 27,
     "metadata": {},
     "output_type": "execute_result"
    }
   ],
   "source": [
    "sample_prices(target='pandas')"
   ],
   "metadata": {
    "collapsed": false,
    "ExecuteTime": {
     "end_time": "2023-09-22T14:28:48.312998Z",
     "start_time": "2023-09-22T14:28:48.275557Z"
    }
   },
   "id": "b141102b074cc1d9"
  },
  {
   "cell_type": "code",
   "execution_count": 28,
   "outputs": [
    {
     "data": {
      "text/plain": "shape: (1_258, 7)\n┌────────────────┬────────────┬────────────┬────────────┬────────────┬───────────┬───────────┐\n│ date           ┆ open       ┆ high       ┆ low        ┆ close      ┆ volume    ┆ change    │\n│ ---            ┆ ---        ┆ ---        ┆ ---        ┆ ---        ┆ ---       ┆ ---       │\n│ object         ┆ f64        ┆ f64        ┆ f64        ┆ f64        ┆ i64       ┆ f64       │\n╞════════════════╪════════════╪════════════╪════════════╪════════════╪═══════════╪═══════════╡\n│ 2018-09-24     ┆ 51.913947  ┆ 52.977028  ┆ 51.868454  ┆ 52.864494  ┆ 110773600 ┆ NaN       │\n│ 00:00:00-04:00 ┆            ┆            ┆            ┆            ┆           ┆           │\n│ 2018-09-25     ┆ 52.615489  ┆ 53.350551  ┆ 52.603517  ┆ 53.199707  ┆ 98217600  ┆ 0.006341  │\n│ 00:00:00-04:00 ┆            ┆            ┆            ┆            ┆           ┆           │\n│ 2018-09-26     ┆ 52.914789  ┆ 53.573231  ┆ 52.61789   ┆ 52.775917  ┆ 95938800  ┆ -0.007966 │\n│ 00:00:00-04:00 ┆            ┆            ┆            ┆            ┆           ┆           │\n│ 2018-09-27     ┆ 53.589985  ┆ 54.217299  ┆ 53.52294   ┆ 53.860542  ┆ 120724800 ┆ 0.020552  │\n│ 00:00:00-04:00 ┆            ┆            ┆            ┆            ┆           ┆           │\n│ …              ┆ …          ┆ …          ┆ …          ┆ …          ┆ …         ┆ …         │\n│ 2023-09-19     ┆ 177.520004 ┆ 179.630005 ┆ 177.130005 ┆ 179.070007 ┆ 51826900  ┆ 0.006181  │\n│ 00:00:00-04:00 ┆            ┆            ┆            ┆            ┆           ┆           │\n│ 2023-09-20     ┆ 179.259995 ┆ 179.699997 ┆ 175.399994 ┆ 175.490005 ┆ 58436200  ┆ -0.019992 │\n│ 00:00:00-04:00 ┆            ┆            ┆            ┆            ┆           ┆           │\n│ 2023-09-21     ┆ 174.550003 ┆ 176.300003 ┆ 173.860001 ┆ 173.929993 ┆ 63047900  ┆ -0.008889 │\n│ 00:00:00-04:00 ┆            ┆            ┆            ┆            ┆           ┆           │\n│ 2023-09-22     ┆ 174.669998 ┆ 175.389999 ┆ 174.054993 ┆ 175.179993 ┆ 10333432  ┆ 0.007187  │\n│ 00:00:00-04:00 ┆            ┆            ┆            ┆            ┆           ┆           │\n└────────────────┴────────────┴────────────┴────────────┴────────────┴───────────┴───────────┘",
      "text/html": "<div><style>\n.dataframe > thead > tr > th,\n.dataframe > tbody > tr > td {\n  text-align: right;\n  white-space: pre-wrap;\n}\n</style>\n<small>shape: (1_258, 7)</small><table border=\"1\" class=\"dataframe\"><thead><tr><th>date</th><th>open</th><th>high</th><th>low</th><th>close</th><th>volume</th><th>change</th></tr><tr><td>object</td><td>f64</td><td>f64</td><td>f64</td><td>f64</td><td>i64</td><td>f64</td></tr></thead><tbody><tr><td>2018-09-24 00:00:00-04:00</td><td>51.913947</td><td>52.977028</td><td>51.868454</td><td>52.864494</td><td>110773600</td><td>NaN</td></tr><tr><td>2018-09-25 00:00:00-04:00</td><td>52.615489</td><td>53.350551</td><td>52.603517</td><td>53.199707</td><td>98217600</td><td>0.006341</td></tr><tr><td>2018-09-26 00:00:00-04:00</td><td>52.914789</td><td>53.573231</td><td>52.61789</td><td>52.775917</td><td>95938800</td><td>-0.007966</td></tr><tr><td>2018-09-27 00:00:00-04:00</td><td>53.589985</td><td>54.217299</td><td>53.52294</td><td>53.860542</td><td>120724800</td><td>0.020552</td></tr><tr><td>2018-09-28 00:00:00-04:00</td><td>53.822241</td><td>54.073647</td><td>53.63788</td><td>54.049706</td><td>91717600</td><td>0.003512</td></tr><tr><td>2018-10-01 00:00:00-04:00</td><td>54.578845</td><td>54.930812</td><td>54.195754</td><td>54.413635</td><td>94403200</td><td>0.006733</td></tr><tr><td>2018-10-02 00:00:00-04:00</td><td>54.411236</td><td>55.069678</td><td>54.262788</td><td>54.897285</td><td>99152800</td><td>0.008888</td></tr><tr><td>2018-10-03 00:00:00-04:00</td><td>55.081655</td><td>55.900517</td><td>55.017007</td><td>55.565311</td><td>114619200</td><td>0.012169</td></tr><tr><td>2018-10-04 00:00:00-04:00</td><td>55.256438</td><td>55.632351</td><td>54.286732</td><td>54.588421</td><td>128168000</td><td>-0.017581</td></tr><tr><td>2018-10-05 00:00:00-04:00</td><td>54.58125</td><td>54.688994</td><td>52.81423</td><td>53.702526</td><td>134322000</td><td>-0.016229</td></tr><tr><td>2018-10-08 00:00:00-04:00</td><td>53.204506</td><td>53.824638</td><td>52.723243</td><td>53.578022</td><td>118655600</td><td>-0.002318</td></tr><tr><td>2018-10-09 00:00:00-04:00</td><td>53.54689</td><td>54.416035</td><td>53.214078</td><td>54.320259</td><td>107564000</td><td>0.013853</td></tr><tr><td>&hellip;</td><td>&hellip;</td><td>&hellip;</td><td>&hellip;</td><td>&hellip;</td><td>&hellip;</td><td>&hellip;</td></tr><tr><td>2023-09-07 00:00:00-04:00</td><td>175.179993</td><td>178.210007</td><td>173.539993</td><td>177.559998</td><td>112488800</td><td>-0.029249</td></tr><tr><td>2023-09-08 00:00:00-04:00</td><td>178.350006</td><td>180.240005</td><td>177.789993</td><td>178.179993</td><td>65551300</td><td>0.003492</td></tr><tr><td>2023-09-11 00:00:00-04:00</td><td>180.070007</td><td>180.300003</td><td>177.339996</td><td>179.360001</td><td>58953100</td><td>0.006623</td></tr><tr><td>2023-09-12 00:00:00-04:00</td><td>179.490005</td><td>180.130005</td><td>174.820007</td><td>176.300003</td><td>90370200</td><td>-0.017061</td></tr><tr><td>2023-09-13 00:00:00-04:00</td><td>176.509995</td><td>177.300003</td><td>173.979996</td><td>174.210007</td><td>84267900</td><td>-0.011855</td></tr><tr><td>2023-09-14 00:00:00-04:00</td><td>174.0</td><td>176.100006</td><td>173.580002</td><td>175.740005</td><td>60895800</td><td>0.008782</td></tr><tr><td>2023-09-15 00:00:00-04:00</td><td>176.479996</td><td>176.5</td><td>173.820007</td><td>175.009995</td><td>109205100</td><td>-0.004154</td></tr><tr><td>2023-09-18 00:00:00-04:00</td><td>176.479996</td><td>179.380005</td><td>176.169998</td><td>177.970001</td><td>67257600</td><td>0.016913</td></tr><tr><td>2023-09-19 00:00:00-04:00</td><td>177.520004</td><td>179.630005</td><td>177.130005</td><td>179.070007</td><td>51826900</td><td>0.006181</td></tr><tr><td>2023-09-20 00:00:00-04:00</td><td>179.259995</td><td>179.699997</td><td>175.399994</td><td>175.490005</td><td>58436200</td><td>-0.019992</td></tr><tr><td>2023-09-21 00:00:00-04:00</td><td>174.550003</td><td>176.300003</td><td>173.860001</td><td>173.929993</td><td>63047900</td><td>-0.008889</td></tr><tr><td>2023-09-22 00:00:00-04:00</td><td>174.669998</td><td>175.389999</td><td>174.054993</td><td>175.179993</td><td>10333432</td><td>0.007187</td></tr></tbody></table></div>"
     },
     "execution_count": 28,
     "metadata": {},
     "output_type": "execute_result"
    }
   ],
   "source": [
    "sample_prices(target='polars')"
   ],
   "metadata": {
    "collapsed": false,
    "ExecuteTime": {
     "end_time": "2023-09-22T14:28:48.751882Z",
     "start_time": "2023-09-22T14:28:48.719235Z"
    }
   },
   "id": "eb8d40930dda96bf"
  },
  {
   "cell_type": "code",
   "execution_count": 28,
   "outputs": [],
   "source": [],
   "metadata": {
    "collapsed": false,
    "ExecuteTime": {
     "end_time": "2023-09-22T14:28:49.410525Z",
     "start_time": "2023-09-22T14:28:49.405319Z"
    }
   },
   "id": "41497fd21c51c0e1"
  },
  {
   "cell_type": "code",
   "execution_count": null,
   "outputs": [],
   "source": [],
   "metadata": {
    "collapsed": false
   },
   "id": "45422ea62efc5f3"
  }
 ],
 "metadata": {
  "kernelspec": {
   "display_name": "Python 3",
   "language": "python",
   "name": "python3"
  },
  "language_info": {
   "codemirror_mode": {
    "name": "ipython",
    "version": 2
   },
   "file_extension": ".py",
   "mimetype": "text/x-python",
   "name": "python",
   "nbconvert_exporter": "python",
   "pygments_lexer": "ipython2",
   "version": "2.7.6"
  }
 },
 "nbformat": 4,
 "nbformat_minor": 5
}
