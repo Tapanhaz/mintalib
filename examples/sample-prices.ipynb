{
 "cells": [
  {
   "cell_type": "markdown",
   "id": "bdf946e1beacac0",
   "metadata": {
    "collapsed": false
   },
   "source": [
    "# How to get sample prices"
   ]
  },
  {
   "cell_type": "code",
   "execution_count": 20,
   "id": "2f45689963b1424e",
   "metadata": {
    "ExecuteTime": {
     "end_time": "2023-10-27T21:32:42.842855Z",
     "start_time": "2023-10-27T21:32:42.591832Z"
    },
    "collapsed": false
   },
   "outputs": [],
   "source": [
    "from mintalib.samples import sample_prices, load_prices"
   ]
  },
  {
   "cell_type": "code",
   "execution_count": 21,
   "id": "a8013058fc5449a9",
   "metadata": {
    "ExecuteTime": {
     "end_time": "2023-10-27T21:32:43.378420Z",
     "start_time": "2023-10-27T21:32:43.347402Z"
    },
    "collapsed": false
   },
   "outputs": [
    {
     "data": {
      "text/html": [
       "<div>\n",
       "<style scoped>\n",
       "    .dataframe tbody tr th:only-of-type {\n",
       "        vertical-align: middle;\n",
       "    }\n",
       "\n",
       "    .dataframe tbody tr th {\n",
       "        vertical-align: top;\n",
       "    }\n",
       "\n",
       "    .dataframe thead th {\n",
       "        text-align: right;\n",
       "    }\n",
       "</style>\n",
       "<table border=\"1\" class=\"dataframe\">\n",
       "  <thead>\n",
       "    <tr style=\"text-align: right;\">\n",
       "      <th></th>\n",
       "      <th>open</th>\n",
       "      <th>high</th>\n",
       "      <th>low</th>\n",
       "      <th>close</th>\n",
       "      <th>volume</th>\n",
       "      <th>change</th>\n",
       "    </tr>\n",
       "    <tr>\n",
       "      <th>date</th>\n",
       "      <th></th>\n",
       "      <th></th>\n",
       "      <th></th>\n",
       "      <th></th>\n",
       "      <th></th>\n",
       "      <th></th>\n",
       "    </tr>\n",
       "  </thead>\n",
       "  <tbody>\n",
       "    <tr>\n",
       "      <th>2019-01-07</th>\n",
       "      <td>35.680969</td>\n",
       "      <td>35.712164</td>\n",
       "      <td>35.009101</td>\n",
       "      <td>35.496204</td>\n",
       "      <td>219111200</td>\n",
       "      <td>NaN</td>\n",
       "    </tr>\n",
       "    <tr>\n",
       "      <th>2019-01-08</th>\n",
       "      <td>35.887334</td>\n",
       "      <td>36.429629</td>\n",
       "      <td>35.637785</td>\n",
       "      <td>36.172878</td>\n",
       "      <td>164101200</td>\n",
       "      <td>0.019063</td>\n",
       "    </tr>\n",
       "    <tr>\n",
       "      <th>2019-01-09</th>\n",
       "      <td>36.302450</td>\n",
       "      <td>37.079898</td>\n",
       "      <td>35.904131</td>\n",
       "      <td>36.787155</td>\n",
       "      <td>180396400</td>\n",
       "      <td>0.016982</td>\n",
       "    </tr>\n",
       "    <tr>\n",
       "      <th>2019-01-10</th>\n",
       "      <td>36.592792</td>\n",
       "      <td>36.945523</td>\n",
       "      <td>36.199270</td>\n",
       "      <td>36.904732</td>\n",
       "      <td>143122800</td>\n",
       "      <td>0.003196</td>\n",
       "    </tr>\n",
       "    <tr>\n",
       "      <th>2019-01-11</th>\n",
       "      <td>36.683979</td>\n",
       "      <td>36.880738</td>\n",
       "      <td>36.355241</td>\n",
       "      <td>36.542404</td>\n",
       "      <td>108092800</td>\n",
       "      <td>-0.009818</td>\n",
       "    </tr>\n",
       "    <tr>\n",
       "      <th>...</th>\n",
       "      <td>...</td>\n",
       "      <td>...</td>\n",
       "      <td>...</td>\n",
       "      <td>...</td>\n",
       "      <td>...</td>\n",
       "      <td>...</td>\n",
       "    </tr>\n",
       "    <tr>\n",
       "      <th>2023-12-29</th>\n",
       "      <td>193.899994</td>\n",
       "      <td>194.399994</td>\n",
       "      <td>191.729996</td>\n",
       "      <td>192.529999</td>\n",
       "      <td>42628800</td>\n",
       "      <td>-0.005424</td>\n",
       "    </tr>\n",
       "    <tr>\n",
       "      <th>2024-01-02</th>\n",
       "      <td>187.149994</td>\n",
       "      <td>188.440002</td>\n",
       "      <td>183.889999</td>\n",
       "      <td>185.639999</td>\n",
       "      <td>82488700</td>\n",
       "      <td>-0.035787</td>\n",
       "    </tr>\n",
       "    <tr>\n",
       "      <th>2024-01-03</th>\n",
       "      <td>184.220001</td>\n",
       "      <td>185.880005</td>\n",
       "      <td>183.429993</td>\n",
       "      <td>184.250000</td>\n",
       "      <td>58414500</td>\n",
       "      <td>-0.007488</td>\n",
       "    </tr>\n",
       "    <tr>\n",
       "      <th>2024-01-04</th>\n",
       "      <td>182.149994</td>\n",
       "      <td>183.089996</td>\n",
       "      <td>180.880005</td>\n",
       "      <td>181.910004</td>\n",
       "      <td>71983600</td>\n",
       "      <td>-0.012700</td>\n",
       "    </tr>\n",
       "    <tr>\n",
       "      <th>2024-01-05</th>\n",
       "      <td>181.990005</td>\n",
       "      <td>182.759995</td>\n",
       "      <td>180.169998</td>\n",
       "      <td>181.179993</td>\n",
       "      <td>62303300</td>\n",
       "      <td>-0.004013</td>\n",
       "    </tr>\n",
       "  </tbody>\n",
       "</table>\n",
       "<p>1259 rows × 6 columns</p>\n",
       "</div>"
      ],
      "text/plain": [
       "                  open        high         low       close     volume  \\\n",
       "date                                                                    \n",
       "2019-01-07   35.680969   35.712164   35.009101   35.496204  219111200   \n",
       "2019-01-08   35.887334   36.429629   35.637785   36.172878  164101200   \n",
       "2019-01-09   36.302450   37.079898   35.904131   36.787155  180396400   \n",
       "2019-01-10   36.592792   36.945523   36.199270   36.904732  143122800   \n",
       "2019-01-11   36.683979   36.880738   36.355241   36.542404  108092800   \n",
       "...                ...         ...         ...         ...        ...   \n",
       "2023-12-29  193.899994  194.399994  191.729996  192.529999   42628800   \n",
       "2024-01-02  187.149994  188.440002  183.889999  185.639999   82488700   \n",
       "2024-01-03  184.220001  185.880005  183.429993  184.250000   58414500   \n",
       "2024-01-04  182.149994  183.089996  180.880005  181.910004   71983600   \n",
       "2024-01-05  181.990005  182.759995  180.169998  181.179993   62303300   \n",
       "\n",
       "              change  \n",
       "date                  \n",
       "2019-01-07       NaN  \n",
       "2019-01-08  0.019063  \n",
       "2019-01-09  0.016982  \n",
       "2019-01-10  0.003196  \n",
       "2019-01-11 -0.009818  \n",
       "...              ...  \n",
       "2023-12-29 -0.005424  \n",
       "2024-01-02 -0.035787  \n",
       "2024-01-03 -0.007488  \n",
       "2024-01-04 -0.012700  \n",
       "2024-01-05 -0.004013  \n",
       "\n",
       "[1259 rows x 6 columns]"
      ]
     },
     "execution_count": 21,
     "metadata": {},
     "output_type": "execute_result"
    }
   ],
   "source": [
    "prices = sample_prices()\n",
    "prices"
   ]
  },
  {
   "cell_type": "code",
   "execution_count": 22,
   "id": "5a7338d9857bc3c5",
   "metadata": {
    "collapsed": false
   },
   "outputs": [
    {
     "data": {
      "text/plain": [
       "open      float64\n",
       "high      float64\n",
       "low       float64\n",
       "close     float64\n",
       "volume      int64\n",
       "change    float64\n",
       "dtype: object"
      ]
     },
     "execution_count": 22,
     "metadata": {},
     "output_type": "execute_result"
    }
   ],
   "source": [
    "prices.dtypes"
   ]
  },
  {
   "cell_type": "code",
   "execution_count": 23,
   "id": "7103d99c",
   "metadata": {},
   "outputs": [
    {
     "data": {
      "text/plain": [
       "DatetimeIndex(['2019-01-07', '2019-01-08', '2019-01-09', '2019-01-10',\n",
       "               '2019-01-11', '2019-01-14', '2019-01-15', '2019-01-16',\n",
       "               '2019-01-17', '2019-01-18',\n",
       "               ...\n",
       "               '2023-12-21', '2023-12-22', '2023-12-26', '2023-12-27',\n",
       "               '2023-12-28', '2023-12-29', '2024-01-02', '2024-01-03',\n",
       "               '2024-01-04', '2024-01-05'],\n",
       "              dtype='datetime64[ns]', name='date', length=1259, freq=None)"
      ]
     },
     "execution_count": 23,
     "metadata": {},
     "output_type": "execute_result"
    }
   ],
   "source": [
    "prices.index"
   ]
  },
  {
   "cell_type": "code",
   "execution_count": 24,
   "id": "2f707bf5",
   "metadata": {},
   "outputs": [
    {
     "data": {
      "text/plain": [
       "array([(datetime.datetime(2019, 1, 7, 0, 0),  35.680969  ,  35.71216402,  35.00910064,  35.49620438, 219111200,         nan),\n",
       "       (datetime.datetime(2019, 1, 8, 0, 0),  35.8873339 ,  36.42962947,  35.63778464,  36.17287827, 164101200,  0.01906327),\n",
       "       (datetime.datetime(2019, 1, 9, 0, 0),  36.30244958,  37.0798978 ,  35.9041308 ,  36.78715515, 180396400,  0.0169817 ),\n",
       "       ...,\n",
       "       (datetime.datetime(2024, 1, 3, 0, 0), 184.22000122, 185.88000488, 183.42999268, 184.25      ,  58414500, -0.00748761),\n",
       "       (datetime.datetime(2024, 1, 4, 0, 0), 182.1499939 , 183.08999634, 180.88000488, 181.91000366,  71983600, -0.01270012),\n",
       "       (datetime.datetime(2024, 1, 5, 0, 0), 181.99000549, 182.75999451, 180.16999817, 181.17999268,  62303300, -0.00401303)],\n",
       "      dtype=[('date', 'O'), ('open', '<f8'), ('high', '<f8'), ('low', '<f8'), ('close', '<f8'), ('volume', '<i8'), ('change', '<f8')])"
      ]
     },
     "execution_count": 24,
     "metadata": {},
     "output_type": "execute_result"
    }
   ],
   "source": [
    "rawprices = load_prices()\n",
    "rawprices"
   ]
  },
  {
   "cell_type": "code",
   "execution_count": 27,
   "id": "07de823d",
   "metadata": {},
   "outputs": [
    {
     "data": {
      "text/plain": [
       "array([[Timestamp('2019-01-07 00:00:00'), 35.680968997183946,\n",
       "        35.712164022660176, ..., 35.4962043762207, 219111200, nan],\n",
       "       [Timestamp('2019-01-08 00:00:00'), 35.88733389756332,\n",
       "        36.42962947388521, ..., 36.17287826538086, 164101200,\n",
       "        0.0190632745402341],\n",
       "       [Timestamp('2019-01-09 00:00:00'), 36.30244957599175,\n",
       "        37.07989779637121, ..., 36.78715515136719, 180396400,\n",
       "        0.01698169776482],\n",
       "       ...,\n",
       "       [Timestamp('2024-01-03 00:00:00'), 184.22000122070312,\n",
       "        185.8800048828125, ..., 184.25, 58414500, -0.0074876071655812],\n",
       "       [Timestamp('2024-01-04 00:00:00'), 182.1499938964844,\n",
       "        183.08999633789065, ..., 181.91000366210935, 71983600,\n",
       "        -0.012700115809447],\n",
       "       [Timestamp('2024-01-05 00:00:00'), 181.9900054931641,\n",
       "        182.75999450683597, ..., 181.17999267578125, 62303300,\n",
       "        -0.0040130337619259]], dtype=object)"
      ]
     },
     "execution_count": 27,
     "metadata": {},
     "output_type": "execute_result"
    }
   ],
   "source": [
    "prices.reset_index().to_numpy()"
   ]
  },
  {
   "cell_type": "code",
   "execution_count": null,
   "id": "b3b88f4f",
   "metadata": {},
   "outputs": [],
   "source": []
  }
 ],
 "metadata": {
  "kernelspec": {
   "display_name": "Python 3",
   "language": "python",
   "name": "python3"
  },
  "language_info": {
   "codemirror_mode": {
    "name": "ipython",
    "version": 3
   },
   "file_extension": ".py",
   "mimetype": "text/x-python",
   "name": "python",
   "nbconvert_exporter": "python",
   "pygments_lexer": "ipython3",
   "version": "3.9.18"
  }
 },
 "nbformat": 4,
 "nbformat_minor": 5
}
