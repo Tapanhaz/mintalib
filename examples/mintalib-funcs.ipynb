{
 "cells": [
  {
   "cell_type": "markdown",
   "source": [
    "# Using mintalib functions"
   ],
   "metadata": {
    "collapsed": false,
    "pycharm": {
     "name": "#%% md\n"
    }
   }
  },
  {
   "cell_type": "code",
   "execution_count": 1,
   "outputs": [],
   "source": [
    "from mintalib.utils import sample_prices\n",
    "\n",
    "from mintalib.funcs import EMA, SMA, TRANGE, MACD\n"
   ],
   "metadata": {
    "collapsed": false,
    "pycharm": {
     "name": "#%%\n"
    },
    "ExecuteTime": {
     "end_time": "2023-09-17T11:28:55.050459Z",
     "start_time": "2023-09-17T11:28:54.806837Z"
    }
   }
  },
  {
   "cell_type": "code",
   "execution_count": 2,
   "outputs": [
    {
     "data": {
      "text/plain": "             open   high    low  close  volume    change\ndate                                                    \n2022-08-25  91.37  91.37  89.70  90.59  209910 -0.011350\n2022-08-26  90.79  91.63  90.79  91.14  126281  0.006071\n2022-08-29  90.29  90.44  89.53  89.53  153372 -0.017665\n2022-08-30  90.53  92.07  90.53  92.07  124937  0.028370\n2022-08-31  92.21  92.35  91.37  91.37  175110 -0.007603",
      "text/html": "<div>\n<style scoped>\n    .dataframe tbody tr th:only-of-type {\n        vertical-align: middle;\n    }\n\n    .dataframe tbody tr th {\n        vertical-align: top;\n    }\n\n    .dataframe thead th {\n        text-align: right;\n    }\n</style>\n<table border=\"1\" class=\"dataframe\">\n  <thead>\n    <tr style=\"text-align: right;\">\n      <th></th>\n      <th>open</th>\n      <th>high</th>\n      <th>low</th>\n      <th>close</th>\n      <th>volume</th>\n      <th>change</th>\n    </tr>\n    <tr>\n      <th>date</th>\n      <th></th>\n      <th></th>\n      <th></th>\n      <th></th>\n      <th></th>\n      <th></th>\n    </tr>\n  </thead>\n  <tbody>\n    <tr>\n      <th>2022-08-25</th>\n      <td>91.37</td>\n      <td>91.37</td>\n      <td>89.70</td>\n      <td>90.59</td>\n      <td>209910</td>\n      <td>-0.011350</td>\n    </tr>\n    <tr>\n      <th>2022-08-26</th>\n      <td>90.79</td>\n      <td>91.63</td>\n      <td>90.79</td>\n      <td>91.14</td>\n      <td>126281</td>\n      <td>0.006071</td>\n    </tr>\n    <tr>\n      <th>2022-08-29</th>\n      <td>90.29</td>\n      <td>90.44</td>\n      <td>89.53</td>\n      <td>89.53</td>\n      <td>153372</td>\n      <td>-0.017665</td>\n    </tr>\n    <tr>\n      <th>2022-08-30</th>\n      <td>90.53</td>\n      <td>92.07</td>\n      <td>90.53</td>\n      <td>92.07</td>\n      <td>124937</td>\n      <td>0.028370</td>\n    </tr>\n    <tr>\n      <th>2022-08-31</th>\n      <td>92.21</td>\n      <td>92.35</td>\n      <td>91.37</td>\n      <td>91.37</td>\n      <td>175110</td>\n      <td>-0.007603</td>\n    </tr>\n  </tbody>\n</table>\n</div>"
     },
     "execution_count": 2,
     "metadata": {},
     "output_type": "execute_result"
    }
   ],
   "source": [
    "prices = sample_prices()\n",
    "prices.tail()\n"
   ],
   "metadata": {
    "collapsed": false,
    "pycharm": {
     "name": "#%%\n"
    },
    "ExecuteTime": {
     "end_time": "2023-09-17T11:28:56.100394Z",
     "start_time": "2023-09-17T11:28:56.068467Z"
    }
   }
  },
  {
   "cell_type": "code",
   "execution_count": 3,
   "outputs": [
    {
     "data": {
      "text/plain": "                macd  macdsignal  macdhist\ndate                                      \n2022-08-25 -2.127351   -1.395820 -0.731530\n2022-08-26 -2.183875   -1.553431 -0.630444\n2022-08-29 -2.331706   -1.709086 -0.622620\n2022-08-30 -2.218335   -1.810936 -0.407399\n2022-08-31 -2.160072   -1.880763 -0.279309",
      "text/html": "<div>\n<style scoped>\n    .dataframe tbody tr th:only-of-type {\n        vertical-align: middle;\n    }\n\n    .dataframe tbody tr th {\n        vertical-align: top;\n    }\n\n    .dataframe thead th {\n        text-align: right;\n    }\n</style>\n<table border=\"1\" class=\"dataframe\">\n  <thead>\n    <tr style=\"text-align: right;\">\n      <th></th>\n      <th>macd</th>\n      <th>macdsignal</th>\n      <th>macdhist</th>\n    </tr>\n    <tr>\n      <th>date</th>\n      <th></th>\n      <th></th>\n      <th></th>\n    </tr>\n  </thead>\n  <tbody>\n    <tr>\n      <th>2022-08-25</th>\n      <td>-2.127351</td>\n      <td>-1.395820</td>\n      <td>-0.731530</td>\n    </tr>\n    <tr>\n      <th>2022-08-26</th>\n      <td>-2.183875</td>\n      <td>-1.553431</td>\n      <td>-0.630444</td>\n    </tr>\n    <tr>\n      <th>2022-08-29</th>\n      <td>-2.331706</td>\n      <td>-1.709086</td>\n      <td>-0.622620</td>\n    </tr>\n    <tr>\n      <th>2022-08-30</th>\n      <td>-2.218335</td>\n      <td>-1.810936</td>\n      <td>-0.407399</td>\n    </tr>\n    <tr>\n      <th>2022-08-31</th>\n      <td>-2.160072</td>\n      <td>-1.880763</td>\n      <td>-0.279309</td>\n    </tr>\n  </tbody>\n</table>\n</div>"
     },
     "execution_count": 3,
     "metadata": {},
     "output_type": "execute_result"
    }
   ],
   "source": [
    "res = MACD(prices)\n",
    "res.tail()\n"
   ],
   "metadata": {
    "collapsed": false,
    "pycharm": {
     "name": "#%%\n"
    },
    "ExecuteTime": {
     "end_time": "2023-09-17T11:28:56.973492Z",
     "start_time": "2023-09-17T11:28:56.950038Z"
    }
   }
  },
  {
   "cell_type": "code",
   "execution_count": 4,
   "outputs": [
    {
     "data": {
      "text/plain": "date\n2022-08-25    1.93\n2022-08-26    1.04\n2022-08-29    1.61\n2022-08-30    2.54\n2022-08-31    0.98\ndtype: float64"
     },
     "execution_count": 4,
     "metadata": {},
     "output_type": "execute_result"
    }
   ],
   "source": [
    "res = TRANGE(prices)\n",
    "res.tail()"
   ],
   "metadata": {
    "collapsed": false,
    "pycharm": {
     "name": "#%%\n"
    },
    "ExecuteTime": {
     "end_time": "2023-09-17T11:28:57.733737Z",
     "start_time": "2023-09-17T11:28:57.712442Z"
    }
   }
  },
  {
   "cell_type": "code",
   "execution_count": 5,
   "outputs": [
    {
     "data": {
      "text/plain": "date\n2022-08-25    133034.60\n2022-08-26    132736.20\n2022-08-29    134439.90\n2022-08-30    133964.75\n2022-08-31    136544.00\ndtype: float64"
     },
     "execution_count": 5,
     "metadata": {},
     "output_type": "execute_result"
    }
   ],
   "source": [
    "res = SMA(prices, 20, item='volume')\n",
    "res.tail()"
   ],
   "metadata": {
    "collapsed": false,
    "pycharm": {
     "name": "#%%\n"
    },
    "ExecuteTime": {
     "end_time": "2023-09-17T11:28:58.410566Z",
     "start_time": "2023-09-17T11:28:58.392437Z"
    }
   }
  },
  {
   "cell_type": "code",
   "execution_count": null,
   "outputs": [],
   "source": [],
   "metadata": {
    "collapsed": false,
    "pycharm": {
     "name": "#%%\n"
    }
   }
  }
 ],
 "metadata": {
  "kernelspec": {
   "display_name": "Python 3",
   "language": "python",
   "name": "python3"
  },
  "language_info": {
   "codemirror_mode": {
    "name": "ipython",
    "version": 2
   },
   "file_extension": ".py",
   "mimetype": "text/x-python",
   "name": "python",
   "nbconvert_exporter": "python",
   "pygments_lexer": "ipython2",
   "version": "2.7.6"
  }
 },
 "nbformat": 4,
 "nbformat_minor": 0
}
