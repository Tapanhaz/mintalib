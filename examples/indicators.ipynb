{
 "cells": [
  {
   "cell_type": "markdown",
   "source": [
    "# Using mintalib indicators"
   ],
   "metadata": {
    "collapsed": false,
    "pycharm": {
     "name": "#%% md\n"
    }
   }
  },
  {
   "cell_type": "code",
   "execution_count": 1,
   "outputs": [],
   "source": [
    "from mintalib.samples import sample_prices\n",
    "from mintalib.indicators import ROC, SMA, EMA, RSI, MACD, TRANGE, ATR, SLOPE, EVAL"
   ],
   "metadata": {
    "collapsed": false,
    "pycharm": {
     "name": "#%%\n"
    },
    "ExecuteTime": {
     "end_time": "2023-10-27T21:32:22.739236Z",
     "start_time": "2023-10-27T21:32:22.450865Z"
    }
   }
  },
  {
   "cell_type": "code",
   "execution_count": 2,
   "outputs": [
    {
     "data": {
      "text/plain": "                                 open        high         low       close  \\\ndate                                                                        \n2023-09-18 00:00:00-04:00  176.479996  179.380005  176.169998  177.970001   \n2023-09-19 00:00:00-04:00  177.520004  179.630005  177.130005  179.070007   \n2023-09-20 00:00:00-04:00  179.259995  179.699997  175.399994  175.490005   \n2023-09-21 00:00:00-04:00  174.550003  176.300003  173.860001  173.929993   \n2023-09-22 00:00:00-04:00  174.669998  175.389999  174.054993  175.179993   \n\n                             volume    change  \ndate                                           \n2023-09-18 00:00:00-04:00  67257600  0.016913  \n2023-09-19 00:00:00-04:00  51826900  0.006181  \n2023-09-20 00:00:00-04:00  58436200 -0.019992  \n2023-09-21 00:00:00-04:00  63047900 -0.008889  \n2023-09-22 00:00:00-04:00  10333432  0.007187  ",
      "text/html": "<div>\n<style scoped>\n    .dataframe tbody tr th:only-of-type {\n        vertical-align: middle;\n    }\n\n    .dataframe tbody tr th {\n        vertical-align: top;\n    }\n\n    .dataframe thead th {\n        text-align: right;\n    }\n</style>\n<table border=\"1\" class=\"dataframe\">\n  <thead>\n    <tr style=\"text-align: right;\">\n      <th></th>\n      <th>open</th>\n      <th>high</th>\n      <th>low</th>\n      <th>close</th>\n      <th>volume</th>\n      <th>change</th>\n    </tr>\n    <tr>\n      <th>date</th>\n      <th></th>\n      <th></th>\n      <th></th>\n      <th></th>\n      <th></th>\n      <th></th>\n    </tr>\n  </thead>\n  <tbody>\n    <tr>\n      <th>2023-09-18 00:00:00-04:00</th>\n      <td>176.479996</td>\n      <td>179.380005</td>\n      <td>176.169998</td>\n      <td>177.970001</td>\n      <td>67257600</td>\n      <td>0.016913</td>\n    </tr>\n    <tr>\n      <th>2023-09-19 00:00:00-04:00</th>\n      <td>177.520004</td>\n      <td>179.630005</td>\n      <td>177.130005</td>\n      <td>179.070007</td>\n      <td>51826900</td>\n      <td>0.006181</td>\n    </tr>\n    <tr>\n      <th>2023-09-20 00:00:00-04:00</th>\n      <td>179.259995</td>\n      <td>179.699997</td>\n      <td>175.399994</td>\n      <td>175.490005</td>\n      <td>58436200</td>\n      <td>-0.019992</td>\n    </tr>\n    <tr>\n      <th>2023-09-21 00:00:00-04:00</th>\n      <td>174.550003</td>\n      <td>176.300003</td>\n      <td>173.860001</td>\n      <td>173.929993</td>\n      <td>63047900</td>\n      <td>-0.008889</td>\n    </tr>\n    <tr>\n      <th>2023-09-22 00:00:00-04:00</th>\n      <td>174.669998</td>\n      <td>175.389999</td>\n      <td>174.054993</td>\n      <td>175.179993</td>\n      <td>10333432</td>\n      <td>0.007187</td>\n    </tr>\n  </tbody>\n</table>\n</div>"
     },
     "execution_count": 2,
     "metadata": {},
     "output_type": "execute_result"
    }
   ],
   "source": [
    "prices = sample_prices()\n",
    "prices.tail()"
   ],
   "metadata": {
    "collapsed": false,
    "pycharm": {
     "name": "#%%\n"
    },
    "ExecuteTime": {
     "end_time": "2023-10-27T21:32:22.759080Z",
     "start_time": "2023-10-27T21:32:22.739843Z"
    }
   }
  },
  {
   "cell_type": "code",
   "execution_count": 3,
   "outputs": [
    {
     "data": {
      "text/plain": "date\n2023-09-18 00:00:00-04:00   -0.013620\n2023-09-19 00:00:00-04:00   -0.010670\n2023-09-20 00:00:00-04:00   -0.010590\n2023-09-21 00:00:00-04:00   -0.013362\n2023-09-22 00:00:00-04:00   -0.012752\ndtype: float64"
     },
     "execution_count": 3,
     "metadata": {},
     "output_type": "execute_result"
    }
   ],
   "source": [
    "indicator = ROC(20) @ EMA(20)\n",
    "\n",
    "res = indicator(prices)\n",
    "res.tail()"
   ],
   "metadata": {
    "collapsed": false,
    "pycharm": {
     "name": "#%%\n"
    },
    "ExecuteTime": {
     "end_time": "2023-10-27T21:32:22.857257Z",
     "start_time": "2023-10-27T21:32:22.844662Z"
    }
   }
  },
  {
   "cell_type": "code",
   "execution_count": 4,
   "outputs": [
    {
     "data": {
      "text/plain": "date\n2023-09-18 00:00:00-04:00    4.370010\n2023-09-19 00:00:00-04:00    2.500000\n2023-09-20 00:00:00-04:00    4.300003\n2023-09-21 00:00:00-04:00    2.440002\n2023-09-22 00:00:00-04:00    1.460007\ndtype: float64"
     },
     "execution_count": 4,
     "metadata": {},
     "output_type": "execute_result"
    }
   ],
   "source": [
    "res = TRANGE() @ prices\n",
    "res.tail()"
   ],
   "metadata": {
    "collapsed": false,
    "pycharm": {
     "name": "#%%\n"
    },
    "ExecuteTime": {
     "end_time": "2023-10-27T21:32:23.241102Z",
     "start_time": "2023-10-27T21:32:23.227823Z"
    }
   }
  },
  {
   "cell_type": "code",
   "execution_count": 5,
   "outputs": [
    {
     "data": {
      "text/plain": "date\n2023-09-18 00:00:00-04:00    64385275.0\n2023-09-19 00:00:00-04:00    64661025.0\n2023-09-20 00:00:00-04:00    65478625.0\n2023-09-21 00:00:00-04:00    65994880.0\n2023-09-22 00:00:00-04:00    63764261.6\ndtype: float64"
     },
     "execution_count": 5,
     "metadata": {},
     "output_type": "execute_result"
    }
   ],
   "source": [
    "res = SMA(20, item=\"volume\") @ prices\n",
    "res.tail()"
   ],
   "metadata": {
    "collapsed": false,
    "pycharm": {
     "name": "#%%\n"
    },
    "ExecuteTime": {
     "end_time": "2023-10-27T21:32:23.650256Z",
     "start_time": "2023-10-27T21:32:23.638127Z"
    }
   }
  },
  {
   "cell_type": "code",
   "execution_count": 6,
   "outputs": [
    {
     "data": {
      "text/plain": "                                 open        high         low       close  \\\ndate                                                                        \n2023-09-18 00:00:00-04:00  176.479996  179.380005  176.169998  177.970001   \n2023-09-19 00:00:00-04:00  177.520004  179.630005  177.130005  179.070007   \n2023-09-20 00:00:00-04:00  179.259995  179.699997  175.399994  175.490005   \n2023-09-21 00:00:00-04:00  174.550003  176.300003  173.860001  173.929993   \n2023-09-22 00:00:00-04:00  174.669998  175.389999  174.054993  175.179993   \n\n                             volume    change        rsi       sma20  \\\ndate                                                                   \n2023-09-18 00:00:00-04:00  67257600  0.016913  45.654501  180.270499   \n2023-09-19 00:00:00-04:00  51826900  0.006181  47.672844  180.432000   \n2023-09-20 00:00:00-04:00  58436200 -0.019992  42.182086  180.345000   \n2023-09-21 00:00:00-04:00  63047900 -0.008889  40.019079  179.985500   \n2023-09-22 00:00:00-04:00  10333432  0.007187  42.560671  179.925500   \n\n                                sma50      sma200   slope20  pos  \ndate                                                              \n2023-09-18 00:00:00-04:00  184.342663  164.564343 -0.184759  0.0  \n2023-09-19 00:00:00-04:00  184.156950  164.722687 -0.271864  0.0  \n2023-09-20 00:00:00-04:00  183.910222  164.861738 -0.393022  0.0  \n2023-09-21 00:00:00-04:00  183.598541  164.995477 -0.472428  0.0  \n2023-09-22 00:00:00-04:00  183.296480  165.141342 -0.598007  0.0  ",
      "text/html": "<div>\n<style scoped>\n    .dataframe tbody tr th:only-of-type {\n        vertical-align: middle;\n    }\n\n    .dataframe tbody tr th {\n        vertical-align: top;\n    }\n\n    .dataframe thead th {\n        text-align: right;\n    }\n</style>\n<table border=\"1\" class=\"dataframe\">\n  <thead>\n    <tr style=\"text-align: right;\">\n      <th></th>\n      <th>open</th>\n      <th>high</th>\n      <th>low</th>\n      <th>close</th>\n      <th>volume</th>\n      <th>change</th>\n      <th>rsi</th>\n      <th>sma20</th>\n      <th>sma50</th>\n      <th>sma200</th>\n      <th>slope20</th>\n      <th>pos</th>\n    </tr>\n    <tr>\n      <th>date</th>\n      <th></th>\n      <th></th>\n      <th></th>\n      <th></th>\n      <th></th>\n      <th></th>\n      <th></th>\n      <th></th>\n      <th></th>\n      <th></th>\n      <th></th>\n      <th></th>\n    </tr>\n  </thead>\n  <tbody>\n    <tr>\n      <th>2023-09-18 00:00:00-04:00</th>\n      <td>176.479996</td>\n      <td>179.380005</td>\n      <td>176.169998</td>\n      <td>177.970001</td>\n      <td>67257600</td>\n      <td>0.016913</td>\n      <td>45.654501</td>\n      <td>180.270499</td>\n      <td>184.342663</td>\n      <td>164.564343</td>\n      <td>-0.184759</td>\n      <td>0.0</td>\n    </tr>\n    <tr>\n      <th>2023-09-19 00:00:00-04:00</th>\n      <td>177.520004</td>\n      <td>179.630005</td>\n      <td>177.130005</td>\n      <td>179.070007</td>\n      <td>51826900</td>\n      <td>0.006181</td>\n      <td>47.672844</td>\n      <td>180.432000</td>\n      <td>184.156950</td>\n      <td>164.722687</td>\n      <td>-0.271864</td>\n      <td>0.0</td>\n    </tr>\n    <tr>\n      <th>2023-09-20 00:00:00-04:00</th>\n      <td>179.259995</td>\n      <td>179.699997</td>\n      <td>175.399994</td>\n      <td>175.490005</td>\n      <td>58436200</td>\n      <td>-0.019992</td>\n      <td>42.182086</td>\n      <td>180.345000</td>\n      <td>183.910222</td>\n      <td>164.861738</td>\n      <td>-0.393022</td>\n      <td>0.0</td>\n    </tr>\n    <tr>\n      <th>2023-09-21 00:00:00-04:00</th>\n      <td>174.550003</td>\n      <td>176.300003</td>\n      <td>173.860001</td>\n      <td>173.929993</td>\n      <td>63047900</td>\n      <td>-0.008889</td>\n      <td>40.019079</td>\n      <td>179.985500</td>\n      <td>183.598541</td>\n      <td>164.995477</td>\n      <td>-0.472428</td>\n      <td>0.0</td>\n    </tr>\n    <tr>\n      <th>2023-09-22 00:00:00-04:00</th>\n      <td>174.669998</td>\n      <td>175.389999</td>\n      <td>174.054993</td>\n      <td>175.179993</td>\n      <td>10333432</td>\n      <td>0.007187</td>\n      <td>42.560671</td>\n      <td>179.925500</td>\n      <td>183.296480</td>\n      <td>165.141342</td>\n      <td>-0.598007</td>\n      <td>0.0</td>\n    </tr>\n  </tbody>\n</table>\n</div>"
     },
     "execution_count": 6,
     "metadata": {},
     "output_type": "execute_result"
    }
   ],
   "source": [
    "prices.assign(\n",
    "    rsi=RSI(),\n",
    "    sma20=SMA(20),\n",
    "    sma50=SMA(50),\n",
    "    sma200=SMA(200),\n",
    "    slope20=SLOPE(20),\n",
    "    pos=EVAL(\"sma50 > sma200 and slope20 > 0.0\"),\n",
    ").tail()"
   ],
   "metadata": {
    "collapsed": false,
    "pycharm": {
     "name": "#%%\n"
    },
    "ExecuteTime": {
     "end_time": "2023-10-27T21:32:24.024206Z",
     "start_time": "2023-10-27T21:32:24.005663Z"
    }
   }
  },
  {
   "cell_type": "code",
   "execution_count": null,
   "outputs": [],
   "source": [],
   "metadata": {
    "collapsed": false,
    "pycharm": {
     "name": "#%%\n"
    }
   }
  }
 ],
 "metadata": {
  "kernelspec": {
   "display_name": "Python 3",
   "language": "python",
   "name": "python3"
  },
  "language_info": {
   "codemirror_mode": {
    "name": "ipython",
    "version": 2
   },
   "file_extension": ".py",
   "mimetype": "text/x-python",
   "name": "python",
   "nbconvert_exporter": "python",
   "pygments_lexer": "ipython2",
   "version": "2.7.6"
  }
 },
 "nbformat": 4,
 "nbformat_minor": 0
}
