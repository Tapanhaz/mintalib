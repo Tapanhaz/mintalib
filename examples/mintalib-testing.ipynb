{
 "cells": [
  {
   "cell_type": "code",
   "execution_count": 1,
   "outputs": [],
   "source": [
    "import inspect\n",
    "\n",
    "import numpy as np\n",
    "import pandas as pd\n",
    "\n",
    "from mintalib import core\n",
    "from mintalib import functions\n",
    "from mintalib import indicators\n",
    "\n",
    "from mintalib.testing import get_sample, test_function\n"
   ],
   "metadata": {
    "collapsed": false,
    "pycharm": {
     "name": "#%%\n"
    }
   }
  },
  {
   "cell_type": "code",
   "execution_count": 2,
   "outputs": [
    {
     "name": "stdout",
     "output_type": "stream",
     "text": [
      "['ADX', 'ATR', 'AVGPRICE', 'BBANDS', 'DEMA', 'DIFF', 'EMA', 'EVAL', 'Indicator', 'IntEnum', 'KELTNER', 'LATR', 'MACD', 'MAX', 'MA_Type', 'MIDPRICE', 'MIN', 'MINUSDI', 'NATR', 'PLUSDI', 'PPO', 'PRICE', 'PSAR', 'Pandas', 'Polars', 'RMA', 'ROC', 'RSI', 'SLOPE', 'SMA', 'STDEV', 'SUM', 'SlopeOption', 'TEMA', 'TRADE', 'TRANGE', 'TYPPRICE', 'VOLUME', 'WCLPRICE', 'WMA', '__all__', '__builtins__', '__doc__', '__file__', '__loader__', '__name__', '__package__', '__pyx_unpickle_Enum', '__spec__', '__test__', 'asarray', 'calc_adx', 'calc_atr', 'calc_avgprice', 'calc_bbands', 'calc_dema', 'calc_diff', 'calc_ema', 'calc_keltner', 'calc_latr', 'calc_ma', 'calc_macd', 'calc_max', 'calc_midprice', 'calc_min', 'calc_minusdi', 'calc_natr', 'calc_plusdi', 'calc_ppo', 'calc_psar', 'calc_rma', 'calc_roc', 'calc_rsi', 'calc_slope', 'calc_sma', 'calc_stdev', 'calc_streak', 'calc_sum', 'calc_tema', 'calc_trange', 'calc_typprice', 'calc_wclprice', 'calc_wma', 'check_size', 'export', 'np', 'pdDataFrame', 'pdSeries', 'plDataFrame', 'plSeries', 'wrap_result']\n"
     ]
    }
   ],
   "source": [
    "print(dir(core))"
   ],
   "metadata": {
    "collapsed": false,
    "pycharm": {
     "name": "#%%\n"
    }
   }
  },
  {
   "cell_type": "code",
   "execution_count": 3,
   "outputs": [
    {
     "name": "stdout",
     "output_type": "stream",
     "text": [
      "['__builtins__', '__cached__', '__doc__', '__file__', '__loader__', '__name__', '__package__', '__spec__', 'adx', 'atr', 'avgprice', 'bbands', 'dema', 'diff', 'ema', 'keltner', 'latr', 'ma', 'macd', 'max', 'midprice', 'min', 'minusdi', 'natr', 'plusdi', 'ppo', 'psar', 'rma', 'roc', 'rsi', 'slope', 'sma', 'stdev', 'streak', 'sum', 'tema', 'trange', 'typprice', 'wclprice', 'wma']\n"
     ]
    }
   ],
   "source": [
    "print(dir(functions))\n"
   ],
   "metadata": {
    "collapsed": false,
    "pycharm": {
     "name": "#%%\n"
    }
   }
  },
  {
   "cell_type": "code",
   "execution_count": 4,
   "outputs": [
    {
     "name": "stdout",
     "output_type": "stream",
     "text": [
      "['ADX', 'ATR', 'AVGPRICE', 'BBANDS', 'DEMA', 'DIFF', 'EMA', 'EVAL', 'KELTNER', 'LATR', 'MACD', 'MAX', 'MIDPRICE', 'MIN', 'MINUSDI', 'NATR', 'PLUSDI', 'PPO', 'PRICE', 'PSAR', 'RMA', 'ROC', 'RSI', 'SLOPE', 'SMA', 'STDEV', 'SUM', 'TEMA', 'TRADE', 'TRANGE', 'TYPPRICE', 'VOLUME', 'WCLPRICE', 'WMA', '__all__', '__builtins__', '__cached__', '__doc__', '__file__', '__loader__', '__name__', '__package__', '__spec__']\n"
     ]
    }
   ],
   "source": [
    "print(dir(indicators))\n"
   ],
   "metadata": {
    "collapsed": false,
    "pycharm": {
     "name": "#%%\n"
    }
   }
  },
  {
   "cell_type": "code",
   "execution_count": 5,
   "outputs": [
    {
     "name": "stdout",
     "output_type": "stream",
     "text": [
      "Help on cython_function_or_method in module mintalib.core:\n",
      "\n",
      "calc_ema(series, period=20, mixed=True)\n",
      "    Exponential Moving Average\n",
      "    \n",
      "    Args:\n",
      "        series (series) : data series. required\n",
      "        period (int) : time period. default 20\n",
      "        mixed (bool) : whether to start as a simple average until period is reached. default True\n",
      "\n"
     ]
    }
   ],
   "source": [
    "help(core.calc_ema)"
   ],
   "metadata": {
    "collapsed": false,
    "pycharm": {
     "name": "#%%\n"
    }
   }
  },
  {
   "cell_type": "code",
   "execution_count": 6,
   "outputs": [
    {
     "name": "stdout",
     "output_type": "stream",
     "text": [
      "Help on class EMA in module mintalib.core:\n",
      "\n",
      "class EMA(mintalib.model.Indicator)\n",
      " |  EMA(period: 'int' = 20, *, item=None)\n",
      " |  \n",
      " |  Exponential Moving Average\n",
      " |  \n",
      " |  Args:\n",
      " |      period (int) : time period. default 20\n",
      " |  \n",
      " |  Method resolution order:\n",
      " |      EMA\n",
      " |      mintalib.model.Indicator\n",
      " |      abc.ABC\n",
      " |      mintalib.model.ReprMixin\n",
      " |      builtins.object\n",
      " |  \n",
      " |  Methods defined here:\n",
      " |  \n",
      " |  __init__(self, period: 'int' = 20, *, item=None)\n",
      " |  \n",
      " |  calc(self, data)\n",
      " |  \n",
      " |  ----------------------------------------------------------------------\n",
      " |  Data and other attributes defined here:\n",
      " |  \n",
      " |  __abstractmethods__ = frozenset()\n",
      " |  \n",
      " |  same_scale = True\n",
      " |  \n",
      " |  ----------------------------------------------------------------------\n",
      " |  Methods inherited from mintalib.model.Indicator:\n",
      " |  \n",
      " |  __call__(self, data)\n",
      " |      Call self as a function.\n",
      " |  \n",
      " |  __matmul__(self, other)\n",
      " |  \n",
      " |  __or__(self, other)\n",
      " |  \n",
      " |  calc_cached(self, data)\n",
      " |      calc with builtin caching\n",
      " |  \n",
      " |  clone(self, **kwargs)\n",
      " |  \n",
      " |  get_series(self, data)\n",
      " |  \n",
      " |  ----------------------------------------------------------------------\n",
      " |  Data descriptors inherited from mintalib.model.Indicator:\n",
      " |  \n",
      " |  __dict__\n",
      " |      dictionary for instance variables (if defined)\n",
      " |  \n",
      " |  __weakref__\n",
      " |      list of weak references to the object (if defined)\n",
      " |  \n",
      " |  ----------------------------------------------------------------------\n",
      " |  Data and other attributes inherited from mintalib.model.Indicator:\n",
      " |  \n",
      " |  default_item = 'close'\n",
      " |  \n",
      " |  item = None\n",
      " |  \n",
      " |  ----------------------------------------------------------------------\n",
      " |  Methods inherited from mintalib.model.ReprMixin:\n",
      " |  \n",
      " |  __repr__(self)\n",
      " |      Return repr(self).\n",
      "\n"
     ]
    }
   ],
   "source": [
    "help(core.EMA)"
   ],
   "metadata": {
    "collapsed": false,
    "pycharm": {
     "name": "#%%\n"
    }
   }
  },
  {
   "cell_type": "code",
   "execution_count": 7,
   "outputs": [
    {
     "data": {
      "text/plain": "<Signature (series, period=20, mixed=True)>"
     },
     "execution_count": 7,
     "metadata": {},
     "output_type": "execute_result"
    }
   ],
   "source": [
    "inspect.signature(core.calc_ema)"
   ],
   "metadata": {
    "collapsed": false,
    "pycharm": {
     "name": "#%%\n"
    }
   }
  },
  {
   "cell_type": "code",
   "execution_count": 8,
   "outputs": [
    {
     "data": {
      "text/plain": "<Signature (period: 'int' = 20, *, item=None)>"
     },
     "execution_count": 8,
     "metadata": {},
     "output_type": "execute_result"
    }
   ],
   "source": [
    "inspect.signature(core.EMA)"
   ],
   "metadata": {
    "collapsed": false,
    "pycharm": {
     "name": "#%%\n"
    }
   }
  },
  {
   "cell_type": "code",
   "execution_count": 9,
   "outputs": [
    {
     "data": {
      "text/plain": "              open    high     low   close  volume    change\ndate                                                        \n2021-08-16  100.26  100.26   99.20  100.16  124844       NaN\n2021-08-17   99.60   99.60   97.56   97.56   76362 -0.025958\n2021-08-18   97.89   99.21   97.60   99.21  133499  0.016913\n2021-08-19   99.44  100.69   99.44  100.69  138084  0.014918\n2021-08-20   99.84  100.52   99.48  100.02  117068 -0.006654\n...            ...     ...     ...     ...     ...       ...\n2022-08-08  104.67  105.68  104.54  105.68  186117  0.004086\n2022-08-09  106.32  107.27  105.72  105.72  142625  0.000379\n2022-08-10  105.77  106.18  104.53  104.53  177557 -0.011256\n2022-08-11  104.45  104.98  104.34  104.34  252835 -0.001818\n2022-08-12  104.01  104.01  103.11  103.56  110473 -0.007476\n\n[260 rows x 6 columns]",
      "text/html": "<div>\n<style scoped>\n    .dataframe tbody tr th:only-of-type {\n        vertical-align: middle;\n    }\n\n    .dataframe tbody tr th {\n        vertical-align: top;\n    }\n\n    .dataframe thead th {\n        text-align: right;\n    }\n</style>\n<table border=\"1\" class=\"dataframe\">\n  <thead>\n    <tr style=\"text-align: right;\">\n      <th></th>\n      <th>open</th>\n      <th>high</th>\n      <th>low</th>\n      <th>close</th>\n      <th>volume</th>\n      <th>change</th>\n    </tr>\n    <tr>\n      <th>date</th>\n      <th></th>\n      <th></th>\n      <th></th>\n      <th></th>\n      <th></th>\n      <th></th>\n    </tr>\n  </thead>\n  <tbody>\n    <tr>\n      <th>2021-08-16</th>\n      <td>100.26</td>\n      <td>100.26</td>\n      <td>99.20</td>\n      <td>100.16</td>\n      <td>124844</td>\n      <td>NaN</td>\n    </tr>\n    <tr>\n      <th>2021-08-17</th>\n      <td>99.60</td>\n      <td>99.60</td>\n      <td>97.56</td>\n      <td>97.56</td>\n      <td>76362</td>\n      <td>-0.025958</td>\n    </tr>\n    <tr>\n      <th>2021-08-18</th>\n      <td>97.89</td>\n      <td>99.21</td>\n      <td>97.60</td>\n      <td>99.21</td>\n      <td>133499</td>\n      <td>0.016913</td>\n    </tr>\n    <tr>\n      <th>2021-08-19</th>\n      <td>99.44</td>\n      <td>100.69</td>\n      <td>99.44</td>\n      <td>100.69</td>\n      <td>138084</td>\n      <td>0.014918</td>\n    </tr>\n    <tr>\n      <th>2021-08-20</th>\n      <td>99.84</td>\n      <td>100.52</td>\n      <td>99.48</td>\n      <td>100.02</td>\n      <td>117068</td>\n      <td>-0.006654</td>\n    </tr>\n    <tr>\n      <th>...</th>\n      <td>...</td>\n      <td>...</td>\n      <td>...</td>\n      <td>...</td>\n      <td>...</td>\n      <td>...</td>\n    </tr>\n    <tr>\n      <th>2022-08-08</th>\n      <td>104.67</td>\n      <td>105.68</td>\n      <td>104.54</td>\n      <td>105.68</td>\n      <td>186117</td>\n      <td>0.004086</td>\n    </tr>\n    <tr>\n      <th>2022-08-09</th>\n      <td>106.32</td>\n      <td>107.27</td>\n      <td>105.72</td>\n      <td>105.72</td>\n      <td>142625</td>\n      <td>0.000379</td>\n    </tr>\n    <tr>\n      <th>2022-08-10</th>\n      <td>105.77</td>\n      <td>106.18</td>\n      <td>104.53</td>\n      <td>104.53</td>\n      <td>177557</td>\n      <td>-0.011256</td>\n    </tr>\n    <tr>\n      <th>2022-08-11</th>\n      <td>104.45</td>\n      <td>104.98</td>\n      <td>104.34</td>\n      <td>104.34</td>\n      <td>252835</td>\n      <td>-0.001818</td>\n    </tr>\n    <tr>\n      <th>2022-08-12</th>\n      <td>104.01</td>\n      <td>104.01</td>\n      <td>103.11</td>\n      <td>103.56</td>\n      <td>110473</td>\n      <td>-0.007476</td>\n    </tr>\n  </tbody>\n</table>\n<p>260 rows × 6 columns</p>\n</div>"
     },
     "execution_count": 9,
     "metadata": {},
     "output_type": "execute_result"
    }
   ],
   "source": [
    "prices = get_sample()\n",
    "prices"
   ],
   "metadata": {
    "collapsed": false,
    "pycharm": {
     "name": "#%%\n"
    }
   }
  },
  {
   "cell_type": "code",
   "execution_count": 10,
   "outputs": [],
   "source": [
    "pd.set_option(\"display.max_rows\", 1000)\n"
   ],
   "metadata": {
    "collapsed": false,
    "pycharm": {
     "name": "#%%\n"
    }
   }
  },
  {
   "cell_type": "code",
   "execution_count": 11,
   "outputs": [
    {
     "data": {
      "text/plain": "True"
     },
     "execution_count": 11,
     "metadata": {},
     "output_type": "execute_result"
    }
   ],
   "source": [
    "test_function(\"roc\", 12, item='close')\n"
   ],
   "metadata": {
    "collapsed": false,
    "pycharm": {
     "name": "#%%\n"
    }
   }
  },
  {
   "cell_type": "code",
   "execution_count": 12,
   "outputs": [
    {
     "data": {
      "text/plain": "True"
     },
     "execution_count": 12,
     "metadata": {},
     "output_type": "execute_result"
    }
   ],
   "source": [
    "test_function(\"sma\", 20, item='close')\n"
   ],
   "metadata": {
    "collapsed": false,
    "pycharm": {
     "name": "#%%\n"
    }
   }
  },
  {
   "cell_type": "code",
   "execution_count": 13,
   "outputs": [
    {
     "data": {
      "text/plain": "True"
     },
     "execution_count": 13,
     "metadata": {},
     "output_type": "execute_result"
    }
   ],
   "source": [
    "\n",
    "test_function(\"sma\", 20, item='close')\n"
   ],
   "metadata": {
    "collapsed": false,
    "pycharm": {
     "name": "#%%\n"
    }
   }
  },
  {
   "cell_type": "markdown",
   "source": [],
   "metadata": {
    "collapsed": false,
    "pycharm": {
     "name": "#%% md\n"
    }
   }
  },
  {
   "cell_type": "code",
   "execution_count": 14,
   "outputs": [
    {
     "data": {
      "text/plain": "True"
     },
     "execution_count": 14,
     "metadata": {},
     "output_type": "execute_result"
    }
   ],
   "source": [
    "test_function(\"wma\", 20, item='close')\n"
   ],
   "metadata": {
    "collapsed": false,
    "pycharm": {
     "name": "#%%\n"
    }
   }
  },
  {
   "cell_type": "code",
   "execution_count": 15,
   "outputs": [
    {
     "data": {
      "text/plain": "True"
     },
     "execution_count": 15,
     "metadata": {},
     "output_type": "execute_result"
    }
   ],
   "source": [
    "test_function(\"dema\", 20, item='close')\n"
   ],
   "metadata": {
    "collapsed": false,
    "pycharm": {
     "name": "#%%\n"
    }
   }
  },
  {
   "cell_type": "code",
   "execution_count": 16,
   "outputs": [
    {
     "data": {
      "text/plain": "True"
     },
     "execution_count": 16,
     "metadata": {},
     "output_type": "execute_result"
    }
   ],
   "source": [
    "test_function(\"tema\", 20, item='close')\n"
   ],
   "metadata": {
    "collapsed": false,
    "pycharm": {
     "name": "#%%\n"
    }
   }
  },
  {
   "cell_type": "code",
   "execution_count": 17,
   "outputs": [
    {
     "data": {
      "text/plain": "True"
     },
     "execution_count": 17,
     "metadata": {},
     "output_type": "execute_result"
    }
   ],
   "source": [
    "test_function(\"rsi\", 14, item='close')\n"
   ],
   "metadata": {
    "collapsed": false,
    "pycharm": {
     "name": "#%%\n"
    }
   }
  },
  {
   "cell_type": "code",
   "execution_count": 18,
   "outputs": [
    {
     "data": {
      "text/plain": "True"
     },
     "execution_count": 18,
     "metadata": {},
     "output_type": "execute_result"
    }
   ],
   "source": [
    "test_function(\"atr\", 14)\n"
   ],
   "metadata": {
    "collapsed": false,
    "pycharm": {
     "name": "#%%\n"
    }
   }
  },
  {
   "cell_type": "code",
   "execution_count": 19,
   "outputs": [
    {
     "data": {
      "text/plain": "True"
     },
     "execution_count": 19,
     "metadata": {},
     "output_type": "execute_result"
    }
   ],
   "source": [
    "test_function(\"macd\", 12, 26, 9)"
   ],
   "metadata": {
    "collapsed": false,
    "pycharm": {
     "name": "#%%\n"
    }
   }
  },
  {
   "cell_type": "code",
   "execution_count": 20,
   "outputs": [
    {
     "data": {
      "text/plain": "True"
     },
     "execution_count": 20,
     "metadata": {},
     "output_type": "execute_result"
    }
   ],
   "source": [
    "test_function(\"adx\", 14)"
   ],
   "metadata": {
    "collapsed": false,
    "pycharm": {
     "name": "#%%\n"
    }
   }
  },
  {
   "cell_type": "code",
   "execution_count": 21,
   "outputs": [
    {
     "data": {
      "text/plain": "True"
     },
     "execution_count": 21,
     "metadata": {},
     "output_type": "execute_result"
    }
   ],
   "source": [
    "test_function(\"atr\", 14)"
   ],
   "metadata": {
    "collapsed": false,
    "pycharm": {
     "name": "#%%\n"
    }
   }
  },
  {
   "cell_type": "code",
   "execution_count": 24,
   "outputs": [],
   "source": [],
   "metadata": {
    "collapsed": false,
    "pycharm": {
     "name": "#%%\n"
    }
   }
  },
  {
   "cell_type": "code",
   "execution_count": 27,
   "outputs": [
    {
     "data": {
      "text/plain": "False"
     },
     "execution_count": 27,
     "metadata": {},
     "output_type": "execute_result"
    }
   ],
   "source": [
    "test_function(\"psar\")"
   ],
   "metadata": {
    "collapsed": false,
    "pycharm": {
     "name": "#%%\n"
    }
   }
  },
  {
   "cell_type": "code",
   "execution_count": 28,
   "outputs": [
    {
     "data": {
      "text/plain": "True"
     },
     "execution_count": 28,
     "metadata": {},
     "output_type": "execute_result"
    }
   ],
   "source": [
    "test_function(\"slope\", 20)"
   ],
   "metadata": {
    "collapsed": false,
    "pycharm": {
     "name": "#%%\n"
    }
   }
  },
  {
   "cell_type": "code",
   "execution_count": null,
   "outputs": [],
   "source": [],
   "metadata": {
    "collapsed": false,
    "pycharm": {
     "name": "#%%\n"
    }
   }
  }
 ],
 "metadata": {
  "kernelspec": {
   "display_name": "Python 3",
   "language": "python",
   "name": "python3"
  },
  "language_info": {
   "codemirror_mode": {
    "name": "ipython",
    "version": 2
   },
   "file_extension": ".py",
   "mimetype": "text/x-python",
   "name": "python",
   "nbconvert_exporter": "python",
   "pygments_lexer": "ipython2",
   "version": "2.7.6"
  }
 },
 "nbformat": 4,
 "nbformat_minor": 0
}