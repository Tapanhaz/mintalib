{
 "cells": [
  {
   "cell_type": "code",
   "execution_count": 2,
   "outputs": [],
   "source": [
    "import inspect\n",
    "\n",
    "import numpy as np\n",
    "import pandas as pd\n",
    "\n",
    "from mintalib import core\n",
    "from mintalib import functions\n",
    "from mintalib import indicators\n",
    "\n",
    "from mintalib.testing import get_sample, test_function\n"
   ],
   "metadata": {
    "collapsed": false,
    "pycharm": {
     "name": "#%%\n"
    }
   }
  },
  {
   "cell_type": "code",
   "execution_count": 3,
   "outputs": [
    {
     "name": "stdout",
     "output_type": "stream",
     "text": [
      "['ADX', 'ATR', 'DEMA', 'DataFrame', 'EMA', 'EVAL', 'Enum', 'Index', 'Indicator', 'IntEnum', 'MACD', 'MAX', 'MA_Type', 'MIN', 'NATR', 'PPO', 'PRICE', 'PSAR', 'RMA', 'ROC', 'RSI', 'SLOPE', 'SMA', 'STDEV', 'Series', 'SlopeOption', 'TEMA', 'TRADE', 'VOLUME', 'WMA', '__all__', '__builtins__', '__doc__', '__file__', '__loader__', '__name__', '__package__', '__pyx_unpickle_Enum', '__spec__', '__test__', 'calc_adx', 'calc_atr', 'calc_dema', 'calc_ema', 'calc_log', 'calc_ma', 'calc_macd', 'calc_max', 'calc_mid', 'calc_min', 'calc_natr', 'calc_ppo', 'calc_price', 'calc_psar', 'calc_rma', 'calc_roc', 'calc_rsi', 'calc_slope', 'calc_sma', 'calc_stdev', 'calc_streak', 'calc_tema', 'calc_trange', 'calc_wma', 'compare_sizes', 'export', 'extract_items', 'make_dataframe', 'make_series', 'np']\n"
     ]
    }
   ],
   "source": [
    "print(dir(core))"
   ],
   "metadata": {
    "collapsed": false,
    "pycharm": {
     "name": "#%%\n"
    }
   }
  },
  {
   "cell_type": "code",
   "execution_count": 4,
   "outputs": [
    {
     "name": "stdout",
     "output_type": "stream",
     "text": [
      "['__builtins__', '__cached__', '__doc__', '__file__', '__loader__', '__name__', '__package__', '__spec__', 'adx', 'atr', 'dema', 'ema', 'log', 'ma', 'macd', 'max', 'mid', 'min', 'natr', 'ppo', 'price', 'psar', 'rma', 'roc', 'rsi', 'slope', 'sma', 'stdev', 'streak', 'tema', 'trange', 'wma']\n"
     ]
    }
   ],
   "source": [
    "print(dir(functions))\n"
   ],
   "metadata": {
    "collapsed": false,
    "pycharm": {
     "name": "#%%\n"
    }
   }
  },
  {
   "cell_type": "code",
   "execution_count": 5,
   "outputs": [
    {
     "name": "stdout",
     "output_type": "stream",
     "text": [
      "['ADX', 'ATR', 'DEMA', 'EMA', 'EVAL', 'MACD', 'MAX', 'MIN', 'NATR', 'PPO', 'PRICE', 'PSAR', 'RMA', 'ROC', 'RSI', 'SLOPE', 'SMA', 'STDEV', 'TEMA', 'TRADE', 'VOLUME', 'WMA', '__all__', '__builtins__', '__cached__', '__doc__', '__file__', '__loader__', '__name__', '__package__', '__spec__']\n"
     ]
    }
   ],
   "source": [
    "print(dir(indicators))\n"
   ],
   "metadata": {
    "collapsed": false,
    "pycharm": {
     "name": "#%%\n"
    }
   }
  },
  {
   "cell_type": "code",
   "execution_count": 6,
   "outputs": [
    {
     "name": "stdout",
     "output_type": "stream",
     "text": [
      "Help on cython_function_or_method in module mintalib.core:\n",
      "\n",
      "calc_ema(series, period=20, mixed=True)\n",
      "    Exponential Moving Average\n",
      "    \n",
      "    Args:\n",
      "        series (series) : The input series. Required\n",
      "        period (int) : The indicator period. Default 20\n",
      "        mixed (bool) : Whether to start as a simple average until period is reached. Default True\n",
      "    \n",
      "    Returns:\n",
      "        A series\n",
      "\n"
     ]
    }
   ],
   "source": [
    "help(core.calc_ema)"
   ],
   "metadata": {
    "collapsed": false,
    "pycharm": {
     "name": "#%%\n"
    }
   }
  },
  {
   "cell_type": "code",
   "execution_count": 7,
   "outputs": [
    {
     "name": "stdout",
     "output_type": "stream",
     "text": [
      "Help on class EMA in module mintalib.core:\n",
      "\n",
      "class EMA(mintalib.model.Indicator)\n",
      " |  EMA(period: 'int' = 20, *, item=None)\n",
      " |  \n",
      " |  Exponential Moving Average Indicator\n",
      " |  \n",
      " |  Args:\n",
      " |      period (int) : The indicator period. Default 20\n",
      " |  \n",
      " |  Returns:\n",
      " |      A callable\n",
      " |  \n",
      " |  Method resolution order:\n",
      " |      EMA\n",
      " |      mintalib.model.Indicator\n",
      " |      abc.ABC\n",
      " |      mintalib.model.ReprMixin\n",
      " |      builtins.object\n",
      " |  \n",
      " |  Methods defined here:\n",
      " |  \n",
      " |  __init__(self, period: 'int' = 20, *, item=None)\n",
      " |  \n",
      " |  calc(self, data)\n",
      " |  \n",
      " |  ----------------------------------------------------------------------\n",
      " |  Data and other attributes defined here:\n",
      " |  \n",
      " |  __abstractmethods__ = frozenset()\n",
      " |  \n",
      " |  same_scale = True\n",
      " |  \n",
      " |  ----------------------------------------------------------------------\n",
      " |  Methods inherited from mintalib.model.Indicator:\n",
      " |  \n",
      " |  __call__(self, data)\n",
      " |      Call self as a function.\n",
      " |  \n",
      " |  __matmul__(self, other)\n",
      " |  \n",
      " |  __or__(self, other)\n",
      " |  \n",
      " |  calc_cached(self, data)\n",
      " |      calc with builtin caching\n",
      " |  \n",
      " |  clone(self, **kwargs)\n",
      " |  \n",
      " |  get_series(self, data)\n",
      " |  \n",
      " |  ----------------------------------------------------------------------\n",
      " |  Data descriptors inherited from mintalib.model.Indicator:\n",
      " |  \n",
      " |  __dict__\n",
      " |      dictionary for instance variables (if defined)\n",
      " |  \n",
      " |  __weakref__\n",
      " |      list of weak references to the object (if defined)\n",
      " |  \n",
      " |  ----------------------------------------------------------------------\n",
      " |  Data and other attributes inherited from mintalib.model.Indicator:\n",
      " |  \n",
      " |  default_item = 'close'\n",
      " |  \n",
      " |  item = None\n",
      " |  \n",
      " |  ----------------------------------------------------------------------\n",
      " |  Methods inherited from mintalib.model.ReprMixin:\n",
      " |  \n",
      " |  __repr__(self)\n",
      " |      Return repr(self).\n",
      "\n"
     ]
    }
   ],
   "source": [
    "help(core.EMA)"
   ],
   "metadata": {
    "collapsed": false,
    "pycharm": {
     "name": "#%%\n"
    }
   }
  },
  {
   "cell_type": "code",
   "execution_count": 8,
   "outputs": [
    {
     "data": {
      "text/plain": "<Signature (series, period=20, mixed=True)>"
     },
     "execution_count": 8,
     "metadata": {},
     "output_type": "execute_result"
    }
   ],
   "source": [
    "inspect.signature(core.calc_ema)"
   ],
   "metadata": {
    "collapsed": false,
    "pycharm": {
     "name": "#%%\n"
    }
   }
  },
  {
   "cell_type": "code",
   "execution_count": 9,
   "outputs": [
    {
     "data": {
      "text/plain": "<Signature (period: 'int' = 20, *, item=None)>"
     },
     "execution_count": 9,
     "metadata": {},
     "output_type": "execute_result"
    }
   ],
   "source": [
    "inspect.signature(core.EMA)"
   ],
   "metadata": {
    "collapsed": false,
    "pycharm": {
     "name": "#%%\n"
    }
   }
  },
  {
   "cell_type": "code",
   "execution_count": 10,
   "outputs": [
    {
     "data": {
      "text/plain": "              open    high     low   close  volume    change\ndate                                                        \n2021-08-13   99.94   99.94   97.55   97.55  127895       NaN\n2021-08-16   97.08   99.36   97.08   99.36   91814  0.018555\n2021-08-17   98.09   98.89   97.53   97.53  137438 -0.018418\n2021-08-18   97.63   98.58   97.63   98.22  116558  0.007075\n2021-08-19   97.84   99.24   97.84   99.24  139811  0.010385\n...            ...     ...     ...     ...     ...       ...\n2022-08-05  105.64  106.47  105.64  106.47  147857 -0.002623\n2022-08-08  106.11  106.42  105.68  106.21  138203 -0.002442\n2022-08-09  105.34  105.65  103.00  103.00  133818 -0.030223\n2022-08-10  103.62  103.62  102.59  103.19  128721  0.001845\n2022-08-11  103.35  103.35  101.35  101.35  214255 -0.017831\n\n[260 rows x 6 columns]",
      "text/html": "<div>\n<style scoped>\n    .dataframe tbody tr th:only-of-type {\n        vertical-align: middle;\n    }\n\n    .dataframe tbody tr th {\n        vertical-align: top;\n    }\n\n    .dataframe thead th {\n        text-align: right;\n    }\n</style>\n<table border=\"1\" class=\"dataframe\">\n  <thead>\n    <tr style=\"text-align: right;\">\n      <th></th>\n      <th>open</th>\n      <th>high</th>\n      <th>low</th>\n      <th>close</th>\n      <th>volume</th>\n      <th>change</th>\n    </tr>\n    <tr>\n      <th>date</th>\n      <th></th>\n      <th></th>\n      <th></th>\n      <th></th>\n      <th></th>\n      <th></th>\n    </tr>\n  </thead>\n  <tbody>\n    <tr>\n      <th>2021-08-13</th>\n      <td>99.94</td>\n      <td>99.94</td>\n      <td>97.55</td>\n      <td>97.55</td>\n      <td>127895</td>\n      <td>NaN</td>\n    </tr>\n    <tr>\n      <th>2021-08-16</th>\n      <td>97.08</td>\n      <td>99.36</td>\n      <td>97.08</td>\n      <td>99.36</td>\n      <td>91814</td>\n      <td>0.018555</td>\n    </tr>\n    <tr>\n      <th>2021-08-17</th>\n      <td>98.09</td>\n      <td>98.89</td>\n      <td>97.53</td>\n      <td>97.53</td>\n      <td>137438</td>\n      <td>-0.018418</td>\n    </tr>\n    <tr>\n      <th>2021-08-18</th>\n      <td>97.63</td>\n      <td>98.58</td>\n      <td>97.63</td>\n      <td>98.22</td>\n      <td>116558</td>\n      <td>0.007075</td>\n    </tr>\n    <tr>\n      <th>2021-08-19</th>\n      <td>97.84</td>\n      <td>99.24</td>\n      <td>97.84</td>\n      <td>99.24</td>\n      <td>139811</td>\n      <td>0.010385</td>\n    </tr>\n    <tr>\n      <th>...</th>\n      <td>...</td>\n      <td>...</td>\n      <td>...</td>\n      <td>...</td>\n      <td>...</td>\n      <td>...</td>\n    </tr>\n    <tr>\n      <th>2022-08-05</th>\n      <td>105.64</td>\n      <td>106.47</td>\n      <td>105.64</td>\n      <td>106.47</td>\n      <td>147857</td>\n      <td>-0.002623</td>\n    </tr>\n    <tr>\n      <th>2022-08-08</th>\n      <td>106.11</td>\n      <td>106.42</td>\n      <td>105.68</td>\n      <td>106.21</td>\n      <td>138203</td>\n      <td>-0.002442</td>\n    </tr>\n    <tr>\n      <th>2022-08-09</th>\n      <td>105.34</td>\n      <td>105.65</td>\n      <td>103.00</td>\n      <td>103.00</td>\n      <td>133818</td>\n      <td>-0.030223</td>\n    </tr>\n    <tr>\n      <th>2022-08-10</th>\n      <td>103.62</td>\n      <td>103.62</td>\n      <td>102.59</td>\n      <td>103.19</td>\n      <td>128721</td>\n      <td>0.001845</td>\n    </tr>\n    <tr>\n      <th>2022-08-11</th>\n      <td>103.35</td>\n      <td>103.35</td>\n      <td>101.35</td>\n      <td>101.35</td>\n      <td>214255</td>\n      <td>-0.017831</td>\n    </tr>\n  </tbody>\n</table>\n<p>260 rows × 6 columns</p>\n</div>"
     },
     "execution_count": 10,
     "metadata": {},
     "output_type": "execute_result"
    }
   ],
   "source": [
    "prices = get_sample()\n",
    "prices"
   ],
   "metadata": {
    "collapsed": false,
    "pycharm": {
     "name": "#%%\n"
    }
   }
  },
  {
   "cell_type": "code",
   "execution_count": 11,
   "outputs": [],
   "source": [
    "pd.set_option(\"display.max_rows\", 1000)\n"
   ],
   "metadata": {
    "collapsed": false,
    "pycharm": {
     "name": "#%%\n"
    }
   }
  },
  {
   "cell_type": "code",
   "execution_count": 12,
   "outputs": [
    {
     "data": {
      "text/plain": "True"
     },
     "execution_count": 12,
     "metadata": {},
     "output_type": "execute_result"
    }
   ],
   "source": [
    "test_function(\"roc\", 12, item='close')\n"
   ],
   "metadata": {
    "collapsed": false,
    "pycharm": {
     "name": "#%%\n"
    }
   }
  },
  {
   "cell_type": "code",
   "execution_count": 13,
   "outputs": [
    {
     "data": {
      "text/plain": "True"
     },
     "execution_count": 13,
     "metadata": {},
     "output_type": "execute_result"
    }
   ],
   "source": [
    "test_function(\"sma\", 20, item='close')\n"
   ],
   "metadata": {
    "collapsed": false,
    "pycharm": {
     "name": "#%%\n"
    }
   }
  },
  {
   "cell_type": "code",
   "execution_count": 14,
   "outputs": [
    {
     "data": {
      "text/plain": "True"
     },
     "execution_count": 14,
     "metadata": {},
     "output_type": "execute_result"
    }
   ],
   "source": [
    "\n",
    "test_function(\"sma\", 20, item='close')\n"
   ],
   "metadata": {
    "collapsed": false,
    "pycharm": {
     "name": "#%%\n"
    }
   }
  },
  {
   "cell_type": "markdown",
   "source": [],
   "metadata": {
    "collapsed": false,
    "pycharm": {
     "name": "#%% md\n"
    }
   }
  },
  {
   "cell_type": "code",
   "execution_count": 15,
   "outputs": [
    {
     "data": {
      "text/plain": "True"
     },
     "execution_count": 15,
     "metadata": {},
     "output_type": "execute_result"
    }
   ],
   "source": [
    "test_function(\"wma\", 20, item='close')\n"
   ],
   "metadata": {
    "collapsed": false,
    "pycharm": {
     "name": "#%%\n"
    }
   }
  },
  {
   "cell_type": "code",
   "execution_count": 16,
   "outputs": [
    {
     "data": {
      "text/plain": "True"
     },
     "execution_count": 16,
     "metadata": {},
     "output_type": "execute_result"
    }
   ],
   "source": [
    "test_function(\"dema\", 20, item='close')\n"
   ],
   "metadata": {
    "collapsed": false,
    "pycharm": {
     "name": "#%%\n"
    }
   }
  },
  {
   "cell_type": "code",
   "execution_count": 17,
   "outputs": [
    {
     "data": {
      "text/plain": "True"
     },
     "execution_count": 17,
     "metadata": {},
     "output_type": "execute_result"
    }
   ],
   "source": [
    "test_function(\"tema\", 20, item='close')\n"
   ],
   "metadata": {
    "collapsed": false,
    "pycharm": {
     "name": "#%%\n"
    }
   }
  },
  {
   "cell_type": "code",
   "execution_count": 18,
   "outputs": [
    {
     "data": {
      "text/plain": "True"
     },
     "execution_count": 18,
     "metadata": {},
     "output_type": "execute_result"
    }
   ],
   "source": [
    "test_function(\"rsi\", 14, item='close')\n"
   ],
   "metadata": {
    "collapsed": false,
    "pycharm": {
     "name": "#%%\n"
    }
   }
  },
  {
   "cell_type": "code",
   "execution_count": 19,
   "outputs": [
    {
     "data": {
      "text/plain": "True"
     },
     "execution_count": 19,
     "metadata": {},
     "output_type": "execute_result"
    }
   ],
   "source": [
    "test_function(\"atr\", 14)\n"
   ],
   "metadata": {
    "collapsed": false,
    "pycharm": {
     "name": "#%%\n"
    }
   }
  },
  {
   "cell_type": "code",
   "execution_count": 20,
   "outputs": [
    {
     "data": {
      "text/plain": "True"
     },
     "execution_count": 20,
     "metadata": {},
     "output_type": "execute_result"
    }
   ],
   "source": [
    "test_function(\"macd\", 12, 26, 9)"
   ],
   "metadata": {
    "collapsed": false,
    "pycharm": {
     "name": "#%%\n"
    }
   }
  },
  {
   "cell_type": "code",
   "execution_count": 21,
   "outputs": [
    {
     "data": {
      "text/plain": "True"
     },
     "execution_count": 21,
     "metadata": {},
     "output_type": "execute_result"
    }
   ],
   "source": [
    "test_function(\"adx\", 14)"
   ],
   "metadata": {
    "collapsed": false,
    "pycharm": {
     "name": "#%%\n"
    }
   }
  },
  {
   "cell_type": "code",
   "execution_count": 22,
   "outputs": [
    {
     "data": {
      "text/plain": "True"
     },
     "execution_count": 22,
     "metadata": {},
     "output_type": "execute_result"
    }
   ],
   "source": [
    "test_function(\"atr\", 14)"
   ],
   "metadata": {
    "collapsed": false,
    "pycharm": {
     "name": "#%%\n"
    }
   }
  },
  {
   "cell_type": "code",
   "execution_count": 24,
   "outputs": [
    {
     "data": {
      "text/plain": "False"
     },
     "execution_count": 24,
     "metadata": {},
     "output_type": "execute_result"
    }
   ],
   "source": [
    "test_function(\"psar\")"
   ],
   "metadata": {
    "collapsed": false,
    "pycharm": {
     "name": "#%%\n"
    }
   }
  },
  {
   "cell_type": "code",
   "execution_count": null,
   "outputs": [],
   "source": [],
   "metadata": {
    "collapsed": false,
    "pycharm": {
     "name": "#%%\n"
    }
   }
  }
 ],
 "metadata": {
  "kernelspec": {
   "display_name": "Python 3",
   "language": "python",
   "name": "python3"
  },
  "language_info": {
   "codemirror_mode": {
    "name": "ipython",
    "version": 2
   },
   "file_extension": ".py",
   "mimetype": "text/x-python",
   "name": "python",
   "nbconvert_exporter": "python",
   "pygments_lexer": "ipython2",
   "version": "2.7.6"
  }
 },
 "nbformat": 4,
 "nbformat_minor": 0
}