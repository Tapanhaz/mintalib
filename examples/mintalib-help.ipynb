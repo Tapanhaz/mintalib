{
 "cells": [
  {
   "cell_type": "markdown",
   "source": [
    "# Examples on getting help with mintalib"
   ],
   "metadata": {
    "collapsed": false,
    "pycharm": {
     "name": "#%% md\n"
    }
   }
  },
  {
   "cell_type": "code",
   "execution_count": 9,
   "outputs": [],
   "source": [
    "from mintalib import helper\n",
    "from mintalib import functions\n"
   ],
   "metadata": {
    "collapsed": false,
    "pycharm": {
     "name": "#%%\n"
    }
   }
  },
  {
   "cell_type": "code",
   "execution_count": 10,
   "outputs": [
    {
     "data": {
      "text/plain": "              input                                        description\nname                                                                  \nAVGPRICE     prices                                      Average Price\nTYPPRICE     prices                                      Typical Price\nWCLPRICE     prices                               Weighted Close Price\nMIDPRICE     prices                                          Mid Price\nPRICE        prices                                      Generic Price\nCROSSOVER    series        1 when data cross over level, 0.0 elsewhere\nCROSSUNDER   series       1 when data cross under level, 0.0 elsewhere\nFLAG_ABOVE   series          returns flag for strictly positive values\nFLAG_BELOW   series          returns flag for strictly negative values\nINVERT_FLAG  series          returns flag for strictly negative values\nUPDOWN_FLAG  series  returns flag according to value crossing up & ...\nLOG          series                                          Logarithm\nEXP          series                                        Exponential\nROC          series                                     Rate of Change\nDIFF         series                                         Difference\nMIN          series                                    Rolling Minimum\nMAX          series                                    Rolling Maximum\nSUM          series                                        Rolling Sum\nMAD          series                            Mean Absolute Deviation\nSTDEV        series                                 Standard Deviation\nSMA          series                              Simple Moving Average\nEMA          series                         Exponential Moving Average\nWMA          series                            Weighted Moving Average\nDEMA         series                  Double Exponential Moving Average\nTEMA         series                  Triple Exponential Moving Average\nMA           series                             Generic Moving Average\nRSI          series                            Relative Strength Index\nPLUSDI       prices                             Plus Directional Index\nMINUSDI      prices                            Minus Directional Index\nADX          prices                          Average Directional Index\nTRANGE       prices                                         True Range\nATR          prices                                 Average True Range\nNATR         prices                    Average True Range (normalized)\nLATR         prices                   Average True Range (logarithmic)\nPSAR         prices                         Parabolic Stop and Reverse\nCCI          prices                            Commodity Channel Index\nCMF          prices                                 Chaikin Money Flow\nMFI          prices                                   Money Flow Index\nBOP          prices                                   Balance of Power\nBBANDS       prices                                    Bollinger Bands\nKELTNER      prices                                    Keltner Channel\nKAMA         series                    Kaufman Adaptive Moving Average\nMACD         series              Moving Average Convergenge Divergence\nPPO          series                        Price Percentage Oscillator\nSLOPE        series                     Slope (time linear regression)\nCURVE        series                Curve (time curvilinear regression)\nSTOCH        prices                              Stochastik Oscillator\nSTREAK_UP    series                          Consecutive streak of ups\nSTREAK_DOWN  series                          Consecutive streak of ups",
      "text/html": "<div>\n<style scoped>\n    .dataframe tbody tr th:only-of-type {\n        vertical-align: middle;\n    }\n\n    .dataframe tbody tr th {\n        vertical-align: top;\n    }\n\n    .dataframe thead th {\n        text-align: right;\n    }\n</style>\n<table border=\"1\" class=\"dataframe\">\n  <thead>\n    <tr style=\"text-align: right;\">\n      <th></th>\n      <th>input</th>\n      <th>description</th>\n    </tr>\n    <tr>\n      <th>name</th>\n      <th></th>\n      <th></th>\n    </tr>\n  </thead>\n  <tbody>\n    <tr>\n      <th>AVGPRICE</th>\n      <td>prices</td>\n      <td>Average Price</td>\n    </tr>\n    <tr>\n      <th>TYPPRICE</th>\n      <td>prices</td>\n      <td>Typical Price</td>\n    </tr>\n    <tr>\n      <th>WCLPRICE</th>\n      <td>prices</td>\n      <td>Weighted Close Price</td>\n    </tr>\n    <tr>\n      <th>MIDPRICE</th>\n      <td>prices</td>\n      <td>Mid Price</td>\n    </tr>\n    <tr>\n      <th>PRICE</th>\n      <td>prices</td>\n      <td>Generic Price</td>\n    </tr>\n    <tr>\n      <th>CROSSOVER</th>\n      <td>series</td>\n      <td>1 when data cross over level, 0.0 elsewhere</td>\n    </tr>\n    <tr>\n      <th>CROSSUNDER</th>\n      <td>series</td>\n      <td>1 when data cross under level, 0.0 elsewhere</td>\n    </tr>\n    <tr>\n      <th>FLAG_ABOVE</th>\n      <td>series</td>\n      <td>returns flag for strictly positive values</td>\n    </tr>\n    <tr>\n      <th>FLAG_BELOW</th>\n      <td>series</td>\n      <td>returns flag for strictly negative values</td>\n    </tr>\n    <tr>\n      <th>INVERT_FLAG</th>\n      <td>series</td>\n      <td>returns flag for strictly negative values</td>\n    </tr>\n    <tr>\n      <th>UPDOWN_FLAG</th>\n      <td>series</td>\n      <td>returns flag according to value crossing up &amp; ...</td>\n    </tr>\n    <tr>\n      <th>LOG</th>\n      <td>series</td>\n      <td>Logarithm</td>\n    </tr>\n    <tr>\n      <th>EXP</th>\n      <td>series</td>\n      <td>Exponential</td>\n    </tr>\n    <tr>\n      <th>ROC</th>\n      <td>series</td>\n      <td>Rate of Change</td>\n    </tr>\n    <tr>\n      <th>DIFF</th>\n      <td>series</td>\n      <td>Difference</td>\n    </tr>\n    <tr>\n      <th>MIN</th>\n      <td>series</td>\n      <td>Rolling Minimum</td>\n    </tr>\n    <tr>\n      <th>MAX</th>\n      <td>series</td>\n      <td>Rolling Maximum</td>\n    </tr>\n    <tr>\n      <th>SUM</th>\n      <td>series</td>\n      <td>Rolling Sum</td>\n    </tr>\n    <tr>\n      <th>MAD</th>\n      <td>series</td>\n      <td>Mean Absolute Deviation</td>\n    </tr>\n    <tr>\n      <th>STDEV</th>\n      <td>series</td>\n      <td>Standard Deviation</td>\n    </tr>\n    <tr>\n      <th>SMA</th>\n      <td>series</td>\n      <td>Simple Moving Average</td>\n    </tr>\n    <tr>\n      <th>EMA</th>\n      <td>series</td>\n      <td>Exponential Moving Average</td>\n    </tr>\n    <tr>\n      <th>WMA</th>\n      <td>series</td>\n      <td>Weighted Moving Average</td>\n    </tr>\n    <tr>\n      <th>DEMA</th>\n      <td>series</td>\n      <td>Double Exponential Moving Average</td>\n    </tr>\n    <tr>\n      <th>TEMA</th>\n      <td>series</td>\n      <td>Triple Exponential Moving Average</td>\n    </tr>\n    <tr>\n      <th>MA</th>\n      <td>series</td>\n      <td>Generic Moving Average</td>\n    </tr>\n    <tr>\n      <th>RSI</th>\n      <td>series</td>\n      <td>Relative Strength Index</td>\n    </tr>\n    <tr>\n      <th>PLUSDI</th>\n      <td>prices</td>\n      <td>Plus Directional Index</td>\n    </tr>\n    <tr>\n      <th>MINUSDI</th>\n      <td>prices</td>\n      <td>Minus Directional Index</td>\n    </tr>\n    <tr>\n      <th>ADX</th>\n      <td>prices</td>\n      <td>Average Directional Index</td>\n    </tr>\n    <tr>\n      <th>TRANGE</th>\n      <td>prices</td>\n      <td>True Range</td>\n    </tr>\n    <tr>\n      <th>ATR</th>\n      <td>prices</td>\n      <td>Average True Range</td>\n    </tr>\n    <tr>\n      <th>NATR</th>\n      <td>prices</td>\n      <td>Average True Range (normalized)</td>\n    </tr>\n    <tr>\n      <th>LATR</th>\n      <td>prices</td>\n      <td>Average True Range (logarithmic)</td>\n    </tr>\n    <tr>\n      <th>PSAR</th>\n      <td>prices</td>\n      <td>Parabolic Stop and Reverse</td>\n    </tr>\n    <tr>\n      <th>CCI</th>\n      <td>prices</td>\n      <td>Commodity Channel Index</td>\n    </tr>\n    <tr>\n      <th>CMF</th>\n      <td>prices</td>\n      <td>Chaikin Money Flow</td>\n    </tr>\n    <tr>\n      <th>MFI</th>\n      <td>prices</td>\n      <td>Money Flow Index</td>\n    </tr>\n    <tr>\n      <th>BOP</th>\n      <td>prices</td>\n      <td>Balance of Power</td>\n    </tr>\n    <tr>\n      <th>BBANDS</th>\n      <td>prices</td>\n      <td>Bollinger Bands</td>\n    </tr>\n    <tr>\n      <th>KELTNER</th>\n      <td>prices</td>\n      <td>Keltner Channel</td>\n    </tr>\n    <tr>\n      <th>KAMA</th>\n      <td>series</td>\n      <td>Kaufman Adaptive Moving Average</td>\n    </tr>\n    <tr>\n      <th>MACD</th>\n      <td>series</td>\n      <td>Moving Average Convergenge Divergence</td>\n    </tr>\n    <tr>\n      <th>PPO</th>\n      <td>series</td>\n      <td>Price Percentage Oscillator</td>\n    </tr>\n    <tr>\n      <th>SLOPE</th>\n      <td>series</td>\n      <td>Slope (time linear regression)</td>\n    </tr>\n    <tr>\n      <th>CURVE</th>\n      <td>series</td>\n      <td>Curve (time curvilinear regression)</td>\n    </tr>\n    <tr>\n      <th>STOCH</th>\n      <td>prices</td>\n      <td>Stochastik Oscillator</td>\n    </tr>\n    <tr>\n      <th>STREAK_UP</th>\n      <td>series</td>\n      <td>Consecutive streak of ups</td>\n    </tr>\n    <tr>\n      <th>STREAK_DOWN</th>\n      <td>series</td>\n      <td>Consecutive streak of ups</td>\n    </tr>\n  </tbody>\n</table>\n</div>"
     },
     "execution_count": 10,
     "metadata": {},
     "output_type": "execute_result"
    }
   ],
   "source": [
    "helper.list_functions()"
   ],
   "metadata": {
    "collapsed": false,
    "pycharm": {
     "name": "#%%\n"
    }
   }
  },
  {
   "cell_type": "code",
   "execution_count": 11,
   "outputs": [
    {
     "data": {
      "text/plain": "                                          description\nname                                                 \nPRICE                                   Generic Price\nAVGPRICE                      Average Price Indicator\nTYPPRICE                      Typical Price Indicator\nWCLPRICE               Weighted Close Price Indicator\nMIDPRICE                          Mid Price Indicator\nVOLUME                               Volume Indicator\nLOG                                         Logarithm\nEXP                                       Exponential\nROC                                    Rate of Change\nDIFF                                       Difference\nMIN                                   Rolling Minimum\nMAX                                   Rolling Maximum\nSUM                                       Rolling Sum\nMAD                            Mean Absolue Deviation\nSTDEV                              Standard Deviation\nSMA                             Simple Moving Average\nEMA                        Exponential Moving Average\nRMA                Rolling Moving Average (RSI Style)\nWMA                           Weighted Moving Average\nDEMA                Double Exponential Moving Average\nTEMA                Triple Exponential Moving Average\nRSI                             Relative Streng Index\nADX                         Average Directional Index\nPLUSDI                         Plus Directional Index\nMINUSDI                       Minus Directional Index\nTRANGE                                     True Range\nATR                                Average True Range\nNATR                  Average True Range (normalized)\nLATR                  Average True Range (log prices)\nPSAR                       Parabolic Stop and Reverse\nCCI                           Commodity Channel Index\nCMF                                Chaikin Money Flow\nMFI                                  Money Flow Index\nBOP                                  Balance of Power\nBBANDS                                Bollinger Bands\nKELTNER                               Keltner Channel\nKAMA                Kaufman Adaptative Moving Average\nMACD            Moving Average Convergence Divergence\nPPO                       Price Percentage Oscillator\nSLOPE                  Slope (time linear regression)\nCURVE             Curve (time curvilinear regression)\nSTOCH                         Stockchastic Oscillator\nEVAL                    Expression Eval (pandas only)\nSLOPE.RVALUE                            Slope R-Value\nSLOPE.ERROR              Slope Root Mean Square Error\nSLOPE.FORECAST                         Slope Forecast\nCURVE.RVALUE                            Curve R-Value\nCURVE.ERROR              Curve Root Mean Square Error",
      "text/html": "<div>\n<style scoped>\n    .dataframe tbody tr th:only-of-type {\n        vertical-align: middle;\n    }\n\n    .dataframe tbody tr th {\n        vertical-align: top;\n    }\n\n    .dataframe thead th {\n        text-align: right;\n    }\n</style>\n<table border=\"1\" class=\"dataframe\">\n  <thead>\n    <tr style=\"text-align: right;\">\n      <th></th>\n      <th>description</th>\n    </tr>\n    <tr>\n      <th>name</th>\n      <th></th>\n    </tr>\n  </thead>\n  <tbody>\n    <tr>\n      <th>PRICE</th>\n      <td>Generic Price</td>\n    </tr>\n    <tr>\n      <th>AVGPRICE</th>\n      <td>Average Price Indicator</td>\n    </tr>\n    <tr>\n      <th>TYPPRICE</th>\n      <td>Typical Price Indicator</td>\n    </tr>\n    <tr>\n      <th>WCLPRICE</th>\n      <td>Weighted Close Price Indicator</td>\n    </tr>\n    <tr>\n      <th>MIDPRICE</th>\n      <td>Mid Price Indicator</td>\n    </tr>\n    <tr>\n      <th>VOLUME</th>\n      <td>Volume Indicator</td>\n    </tr>\n    <tr>\n      <th>LOG</th>\n      <td>Logarithm</td>\n    </tr>\n    <tr>\n      <th>EXP</th>\n      <td>Exponential</td>\n    </tr>\n    <tr>\n      <th>ROC</th>\n      <td>Rate of Change</td>\n    </tr>\n    <tr>\n      <th>DIFF</th>\n      <td>Difference</td>\n    </tr>\n    <tr>\n      <th>MIN</th>\n      <td>Rolling Minimum</td>\n    </tr>\n    <tr>\n      <th>MAX</th>\n      <td>Rolling Maximum</td>\n    </tr>\n    <tr>\n      <th>SUM</th>\n      <td>Rolling Sum</td>\n    </tr>\n    <tr>\n      <th>MAD</th>\n      <td>Mean Absolue Deviation</td>\n    </tr>\n    <tr>\n      <th>STDEV</th>\n      <td>Standard Deviation</td>\n    </tr>\n    <tr>\n      <th>SMA</th>\n      <td>Simple Moving Average</td>\n    </tr>\n    <tr>\n      <th>EMA</th>\n      <td>Exponential Moving Average</td>\n    </tr>\n    <tr>\n      <th>RMA</th>\n      <td>Rolling Moving Average (RSI Style)</td>\n    </tr>\n    <tr>\n      <th>WMA</th>\n      <td>Weighted Moving Average</td>\n    </tr>\n    <tr>\n      <th>DEMA</th>\n      <td>Double Exponential Moving Average</td>\n    </tr>\n    <tr>\n      <th>TEMA</th>\n      <td>Triple Exponential Moving Average</td>\n    </tr>\n    <tr>\n      <th>RSI</th>\n      <td>Relative Streng Index</td>\n    </tr>\n    <tr>\n      <th>ADX</th>\n      <td>Average Directional Index</td>\n    </tr>\n    <tr>\n      <th>PLUSDI</th>\n      <td>Plus Directional Index</td>\n    </tr>\n    <tr>\n      <th>MINUSDI</th>\n      <td>Minus Directional Index</td>\n    </tr>\n    <tr>\n      <th>TRANGE</th>\n      <td>True Range</td>\n    </tr>\n    <tr>\n      <th>ATR</th>\n      <td>Average True Range</td>\n    </tr>\n    <tr>\n      <th>NATR</th>\n      <td>Average True Range (normalized)</td>\n    </tr>\n    <tr>\n      <th>LATR</th>\n      <td>Average True Range (log prices)</td>\n    </tr>\n    <tr>\n      <th>PSAR</th>\n      <td>Parabolic Stop and Reverse</td>\n    </tr>\n    <tr>\n      <th>CCI</th>\n      <td>Commodity Channel Index</td>\n    </tr>\n    <tr>\n      <th>CMF</th>\n      <td>Chaikin Money Flow</td>\n    </tr>\n    <tr>\n      <th>MFI</th>\n      <td>Money Flow Index</td>\n    </tr>\n    <tr>\n      <th>BOP</th>\n      <td>Balance of Power</td>\n    </tr>\n    <tr>\n      <th>BBANDS</th>\n      <td>Bollinger Bands</td>\n    </tr>\n    <tr>\n      <th>KELTNER</th>\n      <td>Keltner Channel</td>\n    </tr>\n    <tr>\n      <th>KAMA</th>\n      <td>Kaufman Adaptative Moving Average</td>\n    </tr>\n    <tr>\n      <th>MACD</th>\n      <td>Moving Average Convergence Divergence</td>\n    </tr>\n    <tr>\n      <th>PPO</th>\n      <td>Price Percentage Oscillator</td>\n    </tr>\n    <tr>\n      <th>SLOPE</th>\n      <td>Slope (time linear regression)</td>\n    </tr>\n    <tr>\n      <th>CURVE</th>\n      <td>Curve (time curvilinear regression)</td>\n    </tr>\n    <tr>\n      <th>STOCH</th>\n      <td>Stockchastic Oscillator</td>\n    </tr>\n    <tr>\n      <th>EVAL</th>\n      <td>Expression Eval (pandas only)</td>\n    </tr>\n    <tr>\n      <th>SLOPE.RVALUE</th>\n      <td>Slope R-Value</td>\n    </tr>\n    <tr>\n      <th>SLOPE.ERROR</th>\n      <td>Slope Root Mean Square Error</td>\n    </tr>\n    <tr>\n      <th>SLOPE.FORECAST</th>\n      <td>Slope Forecast</td>\n    </tr>\n    <tr>\n      <th>CURVE.RVALUE</th>\n      <td>Curve R-Value</td>\n    </tr>\n    <tr>\n      <th>CURVE.ERROR</th>\n      <td>Curve Root Mean Square Error</td>\n    </tr>\n  </tbody>\n</table>\n</div>"
     },
     "execution_count": 11,
     "metadata": {},
     "output_type": "execute_result"
    }
   ],
   "source": [
    "helper.list_indicators()\n"
   ],
   "metadata": {
    "collapsed": false,
    "pycharm": {
     "name": "#%%\n"
    }
   }
  },
  {
   "cell_type": "code",
   "execution_count": 12,
   "outputs": [
    {
     "name": "stdout",
     "output_type": "stream",
     "text": [
      "Help on function EMA in module mintalib.functions:\n",
      "\n",
      "EMA(series, period: int, *, adjust: bool = False, item: str = None)\n",
      "    Exponential Moving Average\n",
      "    \n",
      "    Args:\n",
      "        series (series) : data series, required\n",
      "        period (int) : time period, required\n",
      "        adjust (bool) : whether to adjust weights, default False\n",
      "            when true update ratio increases gradually (see formula)\n",
      "    \n",
      "    Formula:\n",
      "        EMA is calculated as a recursive formula\n",
      "        The standard formula is ema += alpha * (value - ema)\n",
      "            with alpha = 2.0 / (period + 1.0)\n",
      "        The adjusted formula is ema = num/div\n",
      "            where num = value + rho * num, div = 1.0 + rho * div\n",
      "            with rho = 1.0 - alpha\n",
      "\n"
     ]
    }
   ],
   "source": [
    "help(functions.EMA)"
   ],
   "metadata": {
    "collapsed": false,
    "pycharm": {
     "name": "#%%\n"
    }
   }
  },
  {
   "cell_type": "code",
   "execution_count": 13,
   "outputs": [
    {
     "name": "stdout",
     "output_type": "stream",
     "text": [
      "Help on module mintalib.functions in mintalib:\n",
      "\n",
      "NAME\n",
      "    mintalib.functions - # Do not edit! File generated automatically...\n",
      "\n",
      "FUNCTIONS\n",
      "    ADX(prices, period: int = 14)\n",
      "        Average Directional Index\n",
      "    \n",
      "    ATR(prices, period: int = 14)\n",
      "        Average True Range\n",
      "    \n",
      "    AVGPRICE(prices)\n",
      "        Average Price\n",
      "    \n",
      "    BBANDS(prices, period: int = 20, nbdev: float = 2.0)\n",
      "        Bollinger Bands\n",
      "    \n",
      "    BOP(prices, period: int = 20)\n",
      "        Balance of Power\n",
      "    \n",
      "    CCI(prices, period: int = 20)\n",
      "        Commodity Channel Index\n",
      "    \n",
      "    CMF(prices, period: int = 20)\n",
      "        Chaikin Money Flow\n",
      "    \n",
      "    CROSSOVER(series, level: float = 0.0, *, item: str = None)\n",
      "        1 when data cross over level, 0.0 elsewhere\n",
      "    \n",
      "    CROSSUNDER(series, level: float = 0.0, *, item: str = None)\n",
      "        1 when data cross under level, 0.0 elsewhere\n",
      "    \n",
      "    CURVE(series, period: int = 20, *, option: int = 0, offset: int = 0, item: str = None)\n",
      "        Curve (time curvilinear regression)\n",
      "    \n",
      "    DEMA(series, period: int, *, item: str = None)\n",
      "        Double Exponential Moving Average\n",
      "    \n",
      "    DIFF(series, period: int = 1, *, item: str = None)\n",
      "        Difference\n",
      "    \n",
      "    EMA(series, period: int, *, adjust: bool = False, item: str = None)\n",
      "        Exponential Moving Average\n",
      "        \n",
      "        Args:\n",
      "            series (series) : data series, required\n",
      "            period (int) : time period, required\n",
      "            adjust (bool) : whether to adjust weights, default False\n",
      "                when true update ratio increases gradually (see formula)\n",
      "        \n",
      "        Formula:\n",
      "            EMA is calculated as a recursive formula\n",
      "            The standard formula is ema += alpha * (value - ema)\n",
      "                with alpha = 2.0 / (period + 1.0)\n",
      "            The adjusted formula is ema = num/div\n",
      "                where num = value + rho * num, div = 1.0 + rho * div\n",
      "                with rho = 1.0 - alpha\n",
      "    \n",
      "    EXP(series, *, item: str = None)\n",
      "        Exponential\n",
      "    \n",
      "    FLAG_ABOVE(series, level: float = 0.0, *, na_value: float = nan, item: str = None)\n",
      "        returns flag for strictly positive values\n",
      "    \n",
      "    FLAG_BELOW(series, level: float = 0.0, *, na_value: float = nan, item: str = None)\n",
      "        returns flag for strictly negative values\n",
      "    \n",
      "    INVERT_FLAG(series, *, na_value: float = nan, item: str = None)\n",
      "        returns flag for strictly negative values\n",
      "    \n",
      "    KAMA(series, period: int = 10, fastn: int = 2, slown: int = 30, *, item: str = None)\n",
      "        Kaufman Adaptive Moving Average\n",
      "    \n",
      "    KELTNER(prices, period: int = 20, nbatr: float = 2.0)\n",
      "        Keltner Channel\n",
      "    \n",
      "    LATR(prices, period: int = 14)\n",
      "        Average True Range (logarithmic)\n",
      "    \n",
      "    LOG(series, *, item: str = None)\n",
      "        Logarithm\n",
      "    \n",
      "    MA(series, period: int, *, ma_type: 'unicode' = None, item: str = None)\n",
      "        Generic Moving Average\n",
      "        \n",
      "        Args:\n",
      "            series : data series, required\n",
      "            period (int) : time period, required\n",
      "            ma_type (str) : type of moving average, default 'SMA'\n",
      "                one of 'SMA', 'EMA', 'WMA', 'RMA', 'DEMA', 'TEMA'\n",
      "    \n",
      "    MACD(series, n1: int = 12, n2: int = 26, n3: int = 9, *, item: str = None)\n",
      "        Moving Average Convergenge Divergence\n",
      "    \n",
      "    MAD(series, period: int, *, item: str = None)\n",
      "        Mean Absolute Deviation\n",
      "    \n",
      "    MAX(series, period: int, *, item: str = None)\n",
      "        Rolling Maximum\n",
      "    \n",
      "    MFI(prices, period: int = 14)\n",
      "        Money Flow Index\n",
      "    \n",
      "    MIDPRICE(prices)\n",
      "        Mid Price\n",
      "    \n",
      "    MIN(series, period: int, *, item: str = None)\n",
      "        Rolling Minimum\n",
      "    \n",
      "    MINUSDI(prices, period: int = 14)\n",
      "        Minus Directional Index\n",
      "    \n",
      "    NATR(prices, period: int = 14)\n",
      "        Average True Range (normalized)\n",
      "    \n",
      "    PLUSDI(prices, period: int = 14)\n",
      "        Plus Directional Index\n",
      "    \n",
      "    PPO(series, n1: int = 12, n2: int = 26, n3: int = 9, *, item: str = None)\n",
      "        Price Percentage Oscillator\n",
      "    \n",
      "    PRICE(prices, item: 'unicode')\n",
      "        Generic Price\n",
      "    \n",
      "    PSAR(prices, afs: float = 0.02, maxaf: float = 0.2)\n",
      "        Parabolic Stop and Reverse\n",
      "    \n",
      "    ROC(series, period: int = 1, *, item: str = None)\n",
      "        Rate of Change\n",
      "    \n",
      "    RSI(series, period: int = 14, *, item: str = None)\n",
      "        Relative Strength Index\n",
      "    \n",
      "    SLOPE(series, period: int = 20, *, option: int = 0, offset: int = 0, item: str = None)\n",
      "        Slope (time linear regression)\n",
      "    \n",
      "    SMA(series, period: int, *, item: str = None)\n",
      "        Simple Moving Average\n",
      "    \n",
      "    STDEV(series, period: int = 20, *, item: str = None)\n",
      "        Standard Deviation\n",
      "    \n",
      "    STOCH(prices, period: int = 14, fastn: int = 3, slown: int = 3)\n",
      "        Stochastik Oscillator\n",
      "    \n",
      "    STREAK_DOWN(series, *, item: str = None)\n",
      "        Consecutive streak of ups\n",
      "    \n",
      "    STREAK_UP(series, *, item: str = None)\n",
      "        Consecutive streak of ups\n",
      "    \n",
      "    SUM(series, period: int, *, item: str = None)\n",
      "        Rolling Sum\n",
      "    \n",
      "    TEMA(series, period: int = 20, *, item: str = None)\n",
      "        Triple Exponential Moving Average\n",
      "    \n",
      "    TRANGE(prices, *, log_prices: bool = False, percent: bool = False)\n",
      "        True Range\n",
      "    \n",
      "    TYPPRICE(prices)\n",
      "        Typical Price\n",
      "    \n",
      "    UPDOWN_FLAG(series, up_level: float = 0.0, down_level: float = 0.0, *, up_flag: float = 1.0, down_flag: float = 0.0, start_flag: float = nan, item: str = None)\n",
      "        returns flag according to value crossing up & down levels\n",
      "    \n",
      "    WCLPRICE(prices)\n",
      "        Weighted Close Price\n",
      "    \n",
      "    WMA(series, period: int, *, item: str = None)\n",
      "        Weighted Moving Average\n",
      "\n",
      "DATA\n",
      "    __all__ = ['ADX', 'ATR', 'AVGPRICE', 'BBANDS', 'BOP', 'CCI', 'CMF', 'C...\n",
      "\n",
      "FILE\n",
      "    c:\\users\\frederic\\onedrive\\python\\mintalib\\src\\mintalib\\functions.py\n",
      "\n",
      "\n"
     ]
    }
   ],
   "source": [
    "help(functions)"
   ],
   "metadata": {
    "collapsed": false,
    "pycharm": {
     "name": "#%%\n"
    }
   }
  },
  {
   "cell_type": "code",
   "execution_count": null,
   "outputs": [],
   "source": [],
   "metadata": {
    "collapsed": false,
    "pycharm": {
     "name": "#%%\n",
     "is_executing": true
    }
   }
  },
  {
   "cell_type": "code",
   "execution_count": 8,
   "outputs": [],
   "source": [],
   "metadata": {
    "collapsed": false,
    "pycharm": {
     "name": "#%%\n"
    }
   }
  }
 ],
 "metadata": {
  "kernelspec": {
   "display_name": "Python 3",
   "language": "python",
   "name": "python3"
  },
  "language_info": {
   "codemirror_mode": {
    "name": "ipython",
    "version": 2
   },
   "file_extension": ".py",
   "mimetype": "text/x-python",
   "name": "python",
   "nbconvert_exporter": "python",
   "pygments_lexer": "ipython2",
   "version": "2.7.6"
  }
 },
 "nbformat": 4,
 "nbformat_minor": 0
}