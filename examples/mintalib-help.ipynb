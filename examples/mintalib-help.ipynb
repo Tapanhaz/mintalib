{
 "cells": [
  {
   "cell_type": "markdown",
   "source": [
    "# Examples on getting help with mintalib"
   ],
   "metadata": {
    "collapsed": false,
    "pycharm": {
     "name": "#%% md\n"
    }
   }
  },
  {
   "cell_type": "code",
   "execution_count": 2,
   "outputs": [],
   "source": [
    "from mintalib import core\n",
    "from mintalib import functions\n",
    "from mintalib import indicators\n"
   ],
   "metadata": {
    "collapsed": false,
    "pycharm": {
     "name": "#%%\n"
    }
   }
  },
  {
   "cell_type": "code",
   "execution_count": 3,
   "outputs": [
    {
     "name": "stdout",
     "output_type": "stream",
     "text": [
      "['ADX', 'ATR', 'AVGPRICE', 'BBANDS', 'CURVE', 'CurveOption', 'DEMA', 'DIFF', 'EMA', 'EVAL', 'Indicator', 'IntEnum', 'KELTNER', 'LATR', 'MACD', 'MAX', 'MA_Type', 'MIDPRICE', 'MIN', 'MINUSDI', 'NATR', 'PLUSDI', 'PPO', 'PRICE', 'PSAR', 'Pandas', 'Polars', 'RMA', 'ROC', 'RSI', 'SLOPE', 'SMA', 'STDEV', 'STOCH', 'SUM', 'SlopeOption', 'TEMA', 'TRANGE', 'TYPPRICE', 'VOLUME', 'WCLPRICE', 'WMA', '__all__', '__builtins__', '__doc__', '__file__', '__loader__', '__name__', '__package__', '__pyx_unpickle_Enum', '__spec__', '__test__', 'asarray', 'calc_adx', 'calc_atr', 'calc_avgprice', 'calc_bbands', 'calc_curve', 'calc_dema', 'calc_diff', 'calc_ema', 'calc_keltner', 'calc_latr', 'calc_ma', 'calc_macd', 'calc_max', 'calc_midprice', 'calc_min', 'calc_minusdi', 'calc_natr', 'calc_plusdi', 'calc_ppo', 'calc_psar', 'calc_rma', 'calc_roc', 'calc_rsi', 'calc_slope', 'calc_sma', 'calc_stdev', 'calc_stoch', 'calc_streak', 'calc_sum', 'calc_tema', 'calc_trange', 'calc_typprice', 'calc_wclprice', 'calc_wma', 'check_size', 'export', 'namedtuple', 'np', 'pdDataFrame', 'pdSeries', 'plDataFrame', 'plSeries', 'stoch_result', 'wrap_result']\n"
     ]
    }
   ],
   "source": [
    "print(dir(core))"
   ],
   "metadata": {
    "collapsed": false,
    "pycharm": {
     "name": "#%%\n"
    }
   }
  },
  {
   "cell_type": "code",
   "execution_count": 4,
   "outputs": [
    {
     "name": "stdout",
     "output_type": "stream",
     "text": [
      "['__builtins__', '__cached__', '__doc__', '__file__', '__loader__', '__name__', '__package__', '__spec__', 'adx', 'atr', 'avgprice', 'bbands', 'core', 'curve', 'dema', 'diff', 'ema', 'keltner', 'latr', 'ma', 'macd', 'max', 'midprice', 'min', 'minusdi', 'natr', 'plusdi', 'ppo', 'psar', 'rma', 'roc', 'rsi', 'slope', 'sma', 'stdev', 'stoch', 'streak', 'sum', 'tema', 'trange', 'typprice', 'utils', 'wclprice', 'wma']\n"
     ]
    }
   ],
   "source": [
    "print(dir(functions))\n"
   ],
   "metadata": {
    "collapsed": false,
    "pycharm": {
     "name": "#%%\n"
    }
   }
  },
  {
   "cell_type": "code",
   "execution_count": 5,
   "outputs": [
    {
     "name": "stdout",
     "output_type": "stream",
     "text": [
      "['ADX', 'ATR', 'AVGPRICE', 'BBANDS', 'CURVE', 'DEMA', 'DIFF', 'EMA', 'EVAL', 'KELTNER', 'LATR', 'MACD', 'MAX', 'MIDPRICE', 'MIN', 'MINUSDI', 'NATR', 'PLUSDI', 'PPO', 'PRICE', 'PSAR', 'RMA', 'ROC', 'RSI', 'SLOPE', 'SMA', 'STDEV', 'STOCH', 'SUM', 'TEMA', 'TRANGE', 'TYPPRICE', 'VOLUME', 'WCLPRICE', 'WMA', '__all__', '__builtins__', '__cached__', '__doc__', '__file__', '__loader__', '__name__', '__package__', '__spec__']\n"
     ]
    }
   ],
   "source": [
    "print(dir(indicators))\n"
   ],
   "metadata": {
    "collapsed": false,
    "pycharm": {
     "name": "#%%\n"
    }
   }
  },
  {
   "cell_type": "code",
   "execution_count": 6,
   "outputs": [
    {
     "name": "stdout",
     "output_type": "stream",
     "text": [
      "Help on cython_function_or_method in module mintalib.core:\n",
      "\n",
      "calc_ema(series, period, *, mixed: bool = True, wrap: bool = True)\n",
      "    Exponential Moving Average\n",
      "    \n",
      "    Args:\n",
      "        series (series) : data series, required\n",
      "        period (int) : time period, required\n",
      "        mixed (bool) : whether to start as a simple average until period is reached, default True\n",
      "\n"
     ]
    }
   ],
   "source": [
    "help(core.calc_ema)"
   ],
   "metadata": {
    "collapsed": false,
    "pycharm": {
     "name": "#%%\n"
    }
   }
  },
  {
   "cell_type": "code",
   "execution_count": 7,
   "outputs": [
    {
     "name": "stdout",
     "output_type": "stream",
     "text": [
      "Help on function ema in module mintalib.functions:\n",
      "\n",
      "ema(series, period: int, *, mixed: bool = True)\n",
      "    Exponential Moving Average\n",
      "    \n",
      "    Args:\n",
      "        series (series) : data series, required\n",
      "        period (int) : time period, required\n",
      "        mixed (bool) : whether to start as a simple average until period is reached, default True\n",
      "\n"
     ]
    }
   ],
   "source": [
    "help(functions.ema)"
   ],
   "metadata": {
    "collapsed": false,
    "pycharm": {
     "name": "#%%\n"
    }
   }
  },
  {
   "cell_type": "code",
   "execution_count": 8,
   "outputs": [
    {
     "name": "stdout",
     "output_type": "stream",
     "text": [
      "Help on class EMA in module mintalib.core:\n",
      "\n",
      "class EMA(mintalib.model.Indicator)\n",
      " |  EMA(period: 'int', *, item=None)\n",
      " |  \n",
      " |  Exponential Moving Average\n",
      " |  \n",
      " |  Args:\n",
      " |      period (int) : time period, required\n",
      " |      item (str) : source item, optional\n",
      " |  \n",
      " |  Method resolution order:\n",
      " |      EMA\n",
      " |      mintalib.model.Indicator\n",
      " |      abc.ABC\n",
      " |      mintalib.model.ReprMixin\n",
      " |      builtins.object\n",
      " |  \n",
      " |  Methods defined here:\n",
      " |  \n",
      " |  __init__(self, period: 'int', *, item=None)\n",
      " |  \n",
      " |  calc(self, data)\n",
      " |  \n",
      " |  ----------------------------------------------------------------------\n",
      " |  Data and other attributes defined here:\n",
      " |  \n",
      " |  __abstractmethods__ = frozenset()\n",
      " |  \n",
      " |  same_scale = True\n",
      " |  \n",
      " |  ----------------------------------------------------------------------\n",
      " |  Methods inherited from mintalib.model.Indicator:\n",
      " |  \n",
      " |  __call__(self, data)\n",
      " |      Call self as a function.\n",
      " |  \n",
      " |  __matmul__(self, other)\n",
      " |  \n",
      " |  __or__(self, other)\n",
      " |  \n",
      " |  calc_cached(self, data)\n",
      " |      calc with builtin caching\n",
      " |  \n",
      " |  clone(self, **kwargs)\n",
      " |  \n",
      " |  get_series(self, data)\n",
      " |  \n",
      " |  ----------------------------------------------------------------------\n",
      " |  Data descriptors inherited from mintalib.model.Indicator:\n",
      " |  \n",
      " |  __dict__\n",
      " |      dictionary for instance variables (if defined)\n",
      " |  \n",
      " |  __weakref__\n",
      " |      list of weak references to the object (if defined)\n",
      " |  \n",
      " |  ----------------------------------------------------------------------\n",
      " |  Data and other attributes inherited from mintalib.model.Indicator:\n",
      " |  \n",
      " |  default_item = 'close'\n",
      " |  \n",
      " |  item = None\n",
      " |  \n",
      " |  ----------------------------------------------------------------------\n",
      " |  Methods inherited from mintalib.model.ReprMixin:\n",
      " |  \n",
      " |  __repr__(self)\n",
      " |      Return repr(self).\n",
      "\n"
     ]
    }
   ],
   "source": [
    "help(indicators.EMA)"
   ],
   "metadata": {
    "collapsed": false,
    "pycharm": {
     "name": "#%%\n"
    }
   }
  },
  {
   "cell_type": "code",
   "execution_count": 9,
   "outputs": [
    {
     "name": "stdout",
     "output_type": "stream",
     "text": [
      "Help on module mintalib.core in mintalib:\n",
      "\n",
      "NAME\n",
      "    mintalib.core\n",
      "\n",
      "CLASSES\n",
      "    enum.IntEnum(builtins.int, enum.Enum)\n",
      "        CurveOption\n",
      "        MA_Type\n",
      "        SlopeOption\n",
      "    \n",
      "    class CurveOption(enum.IntEnum)\n",
      "     |  CurveOption(value, names=None, *, module=None, qualname=None, type=None, start=1)\n",
      "     |  \n",
      "     |  Slope Option Enumeration\n",
      "     |  \n",
      "     |  Method resolution order:\n",
      "     |      CurveOption\n",
      "     |      enum.IntEnum\n",
      "     |      builtins.int\n",
      "     |      enum.Enum\n",
      "     |      builtins.object\n",
      "     |  \n",
      "     |  Data and other attributes defined here:\n",
      "     |  \n",
      "     |  BADOPTION = CurveOption.BADOPTION\n",
      "     |  \n",
      "     |  CURVE = CurveOption.CURVE\n",
      "     |  \n",
      "     |  INTERCEPT = CurveOption.INTERCEPT\n",
      "     |  \n",
      "     |  RMSE = CurveOption.RMSE\n",
      "     |  \n",
      "     |  RSQUARE = CurveOption.RSQUARE\n",
      "     |  \n",
      "     |  RVALUE = CurveOption.RVALUE\n",
      "     |  \n",
      "     |  SLOPE = CurveOption.SLOPE\n",
      "     |  \n",
      "     |  ----------------------------------------------------------------------\n",
      "     |  Data descriptors inherited from enum.Enum:\n",
      "     |  \n",
      "     |  name\n",
      "     |      The name of the Enum member.\n",
      "     |  \n",
      "     |  value\n",
      "     |      The value of the Enum member.\n",
      "     |  \n",
      "     |  ----------------------------------------------------------------------\n",
      "     |  Readonly properties inherited from enum.EnumMeta:\n",
      "     |  \n",
      "     |  __members__\n",
      "     |      Returns a mapping of member name->value.\n",
      "     |      \n",
      "     |      This mapping lists all enum members, including aliases. Note that this\n",
      "     |      is a read-only view of the internal mapping.\n",
      "    \n",
      "    class MA_Type(enum.IntEnum)\n",
      "     |  MA_Type(value, names=None, *, module=None, qualname=None, type=None, start=1)\n",
      "     |  \n",
      "     |  Moving Average Type Enumeration\n",
      "     |  \n",
      "     |  Method resolution order:\n",
      "     |      MA_Type\n",
      "     |      enum.IntEnum\n",
      "     |      builtins.int\n",
      "     |      enum.Enum\n",
      "     |      builtins.object\n",
      "     |  \n",
      "     |  Data and other attributes defined here:\n",
      "     |  \n",
      "     |  DEMA = DEMA\n",
      "     |  \n",
      "     |  EMA = EMA\n",
      "     |  \n",
      "     |  RMA = RMA\n",
      "     |  \n",
      "     |  SMA = SMA\n",
      "     |  \n",
      "     |  TEMA = TEMA\n",
      "     |  \n",
      "     |  WMA = WMA\n",
      "     |  \n",
      "     |  ----------------------------------------------------------------------\n",
      "     |  Data descriptors inherited from enum.Enum:\n",
      "     |  \n",
      "     |  name\n",
      "     |      The name of the Enum member.\n",
      "     |  \n",
      "     |  value\n",
      "     |      The value of the Enum member.\n",
      "     |  \n",
      "     |  ----------------------------------------------------------------------\n",
      "     |  Readonly properties inherited from enum.EnumMeta:\n",
      "     |  \n",
      "     |  __members__\n",
      "     |      Returns a mapping of member name->value.\n",
      "     |      \n",
      "     |      This mapping lists all enum members, including aliases. Note that this\n",
      "     |      is a read-only view of the internal mapping.\n",
      "    \n",
      "    class SlopeOption(enum.IntEnum)\n",
      "     |  SlopeOption(value, names=None, *, module=None, qualname=None, type=None, start=1)\n",
      "     |  \n",
      "     |  Slope Option Enumeration\n",
      "     |  \n",
      "     |  Method resolution order:\n",
      "     |      SlopeOption\n",
      "     |      enum.IntEnum\n",
      "     |      builtins.int\n",
      "     |      enum.Enum\n",
      "     |      builtins.object\n",
      "     |  \n",
      "     |  Data and other attributes defined here:\n",
      "     |  \n",
      "     |  CORRELATION = SlopeOption.CORRELATION\n",
      "     |  \n",
      "     |  FORECAST = SlopeOption.FORECAST\n",
      "     |  \n",
      "     |  INTERCEPT = SlopeOption.INTERCEPT\n",
      "     |  \n",
      "     |  RMSERROR = SlopeOption.RMSERROR\n",
      "     |  \n",
      "     |  SLOPE = SlopeOption.SLOPE\n",
      "     |  \n",
      "     |  ----------------------------------------------------------------------\n",
      "     |  Data descriptors inherited from enum.Enum:\n",
      "     |  \n",
      "     |  name\n",
      "     |      The name of the Enum member.\n",
      "     |  \n",
      "     |  value\n",
      "     |      The value of the Enum member.\n",
      "     |  \n",
      "     |  ----------------------------------------------------------------------\n",
      "     |  Readonly properties inherited from enum.EnumMeta:\n",
      "     |  \n",
      "     |  __members__\n",
      "     |      Returns a mapping of member name->value.\n",
      "     |      \n",
      "     |      This mapping lists all enum members, including aliases. Note that this\n",
      "     |      is a read-only view of the internal mapping.\n",
      "\n",
      "FUNCTIONS\n",
      "    calc_adx(prices, period=14)\n",
      "        Average Directional Index\n",
      "    \n",
      "    calc_atr(prices, period=14)\n",
      "        Average True Range\n",
      "    \n",
      "    calc_avgprice(prices)\n",
      "        Average Price\n",
      "    \n",
      "    calc_bbands(prices, period=20, nbdev=2.0)\n",
      "        Bollinger Bands\n",
      "    \n",
      "    calc_curve(series, period=20, option=0, offset=0)\n",
      "        Curve (time curvilinear regression)\n",
      "    \n",
      "    calc_dema(series, period, wrap: bool = True)\n",
      "        Double Exponential Moving Average\n",
      "    \n",
      "    calc_diff(series, period=1, wrap: bool = True)\n",
      "        Difference\n",
      "    \n",
      "    calc_ema(series, period, *, mixed: bool = True, wrap: bool = True)\n",
      "        Exponential Moving Average\n",
      "        \n",
      "        Args:\n",
      "            series (series) : data series, required\n",
      "            period (int) : time period, required\n",
      "            mixed (bool) : whether to start as a simple average until period is reached, default True\n",
      "    \n",
      "    calc_keltner(prices, period=20, nbatr=2.0)\n",
      "        Keltner Bands\n",
      "    \n",
      "    calc_latr(prices, period=14)\n",
      "        Normalized Average True Range\n",
      "    \n",
      "    calc_ma(series, period, *, ma_type=0, wrap: bool = True)\n",
      "        Generic Moving Average\n",
      "        \n",
      "        Args:\n",
      "            series : data series, required\n",
      "            period (int) : time period, default 20\n",
      "            ma_type (int) : type of moving average, default 0 (SMA)\n",
      "    \n",
      "    calc_macd(series, n1=12, n2=26, n3=9)\n",
      "        Moving Average Convergenge Divergence\n",
      "    \n",
      "    calc_max(series, period)\n",
      "        Rolling Maximum\n",
      "    \n",
      "    calc_midprice(prices)\n",
      "        Mid Price\n",
      "    \n",
      "    calc_min(series, period)\n",
      "        Rolling Minimum\n",
      "    \n",
      "    calc_minusdi(prices, period=14)\n",
      "        Minus Directional Index\n",
      "    \n",
      "    calc_natr(prices, period=14)\n",
      "        Normalized Average True Range\n",
      "    \n",
      "    calc_plusdi(prices, period=14)\n",
      "        Plus Directional Index\n",
      "    \n",
      "    calc_ppo(series, n1=12, n2=26, n3=9)\n",
      "        Price Percentage Oscillator\n",
      "    \n",
      "    calc_psar(prices, afs=0.02, maxaf=0.2)\n",
      "        Parabolic Stop and Reverse\n",
      "    \n",
      "    calc_roc(series, period=1)\n",
      "        Rate of Change\n",
      "    \n",
      "    calc_rsi(series, period=14)\n",
      "        Relative Strength Index\n",
      "    \n",
      "    calc_slope(series, period=20, option=0, offset=0)\n",
      "        Slope (time linear regression)\n",
      "    \n",
      "    calc_sma(series, period, *, wrap: bool = True)\n",
      "        Simple Moving Average\n",
      "        \n",
      "        Args:\n",
      "            series : data series. required\n",
      "            period (int) : time period. default 20\n",
      "    \n",
      "    calc_stdev(series, period=20)\n",
      "        Standard Deviation\n",
      "    \n",
      "    calc_stoch(prices, period=14, fastn=3, slown=3, *, wrap: bool = True)\n",
      "        Stochastik Oscillator\n",
      "    \n",
      "    calc_streak(series)\n",
      "        streak\n",
      "    \n",
      "    calc_sum(series, period)\n",
      "        Rolling Sum\n",
      "    \n",
      "    calc_tema(series, period=20, wrap: bool = True)\n",
      "        Triple Exponential Moving Average\n",
      "    \n",
      "    calc_trange(prices, *, log_prices: bool = False, percent: bool = False, wrap: bool = True)\n",
      "        True Range\n",
      "    \n",
      "    calc_typprice(prices)\n",
      "        Typical Price\n",
      "    \n",
      "    calc_wclprice(prices)\n",
      "        Weighted Close Price\n",
      "    \n",
      "    calc_wma(series, period, wrap: bool = True)\n",
      "        Weighted Moving Average\n",
      "\n",
      "DATA\n",
      "    __all__ = ['calc_avgprice', 'calc_typprice', 'calc_wclprice', 'calc_mi...\n",
      "    __test__ = {}\n",
      "\n",
      "FILE\n",
      "    c:\\users\\frederic\\onedrive\\python\\mintalib\\src\\mintalib\\core.cp38-win_amd64.pyd\n",
      "\n",
      "\n"
     ]
    }
   ],
   "source": [
    "help(core)"
   ],
   "metadata": {
    "collapsed": false,
    "pycharm": {
     "name": "#%%\n"
    }
   }
  },
  {
   "cell_type": "code",
   "execution_count": 10,
   "outputs": [
    {
     "name": "stdout",
     "output_type": "stream",
     "text": [
      "Help on module mintalib.functions in mintalib:\n",
      "\n",
      "NAME\n",
      "    mintalib.functions - # Do not edit! File generated automatically...\n",
      "\n",
      "FUNCTIONS\n",
      "    adx(prices, period: int = 14)\n",
      "        Average Directional Index\n",
      "    \n",
      "    atr(prices, period: int = 14)\n",
      "        Average True Range\n",
      "    \n",
      "    avgprice(prices)\n",
      "        Average Price\n",
      "    \n",
      "    bbands(prices, period: int = 20, nbdev: float = 2.0)\n",
      "        Bollinger Bands\n",
      "    \n",
      "    curve(series, period: int = 20, option: int = 0, offset: int = 0)\n",
      "        Curve (time curvilinear regression)\n",
      "    \n",
      "    dema(series, period: int)\n",
      "        Double Exponential Moving Average\n",
      "    \n",
      "    diff(series, period: int = 1)\n",
      "        Difference\n",
      "    \n",
      "    ema(series, period: int, *, mixed: bool = True)\n",
      "        Exponential Moving Average\n",
      "        \n",
      "        Args:\n",
      "            series (series) : data series, required\n",
      "            period (int) : time period, required\n",
      "            mixed (bool) : whether to start as a simple average until period is reached, default True\n",
      "    \n",
      "    keltner(prices, period: int = 20, nbatr: float = 2.0)\n",
      "        Keltner Bands\n",
      "    \n",
      "    latr(prices, period: int = 14)\n",
      "        Normalized Average True Range\n",
      "    \n",
      "    ma(series, period: int, *, ma_type: int = 0)\n",
      "        Generic Moving Average\n",
      "        \n",
      "        Args:\n",
      "            series : data series, required\n",
      "            period (int) : time period, default 20\n",
      "            ma_type (int) : type of moving average, default 0 (SMA)\n",
      "    \n",
      "    macd(series, n1: int = 12, n2: int = 26, n3: int = 9)\n",
      "        Moving Average Convergenge Divergence\n",
      "    \n",
      "    max(series, period: int)\n",
      "        Rolling Maximum\n",
      "    \n",
      "    midprice(prices)\n",
      "        Mid Price\n",
      "    \n",
      "    min(series, period: int)\n",
      "        Rolling Minimum\n",
      "    \n",
      "    minusdi(prices, period: int = 14)\n",
      "        Minus Directional Index\n",
      "    \n",
      "    natr(prices, period: int = 14)\n",
      "        Normalized Average True Range\n",
      "    \n",
      "    plusdi(prices, period: int = 14)\n",
      "        Plus Directional Index\n",
      "    \n",
      "    ppo(series, n1: int = 12, n2: int = 26, n3: int = 9)\n",
      "        Price Percentage Oscillator\n",
      "    \n",
      "    psar(prices, afs: float = 0.02, maxaf: float = 0.2)\n",
      "        Parabolic Stop and Reverse\n",
      "    \n",
      "    rma(series, period: int)\n",
      "        Rolling Moving Average (RSI Style)\n",
      "        \n",
      "        Exponential moving average with alpha = 2 / period,\n",
      "        but strats as a simple moving average till period bars.\n",
      "        \n",
      "        Args:\n",
      "            series (series) : data series. required\n",
      "            period (int) : time period. rerquired\n",
      "    \n",
      "    roc(series, period: int = 1)\n",
      "        Rate of Change\n",
      "    \n",
      "    rsi(series, period: int = 14)\n",
      "        Relative Strength Index\n",
      "    \n",
      "    slope(series, period: int = 20, option: int = 0, offset: int = 0)\n",
      "        Slope (time linear regression)\n",
      "    \n",
      "    sma(series, period: int)\n",
      "        Simple Moving Average\n",
      "        \n",
      "        Args:\n",
      "            series : data series. required\n",
      "            period (int) : time period. default 20\n",
      "    \n",
      "    stdev(series, period: int = 20)\n",
      "        Standard Deviation\n",
      "    \n",
      "    stoch(prices, period: int = 14, fastn: int = 3, slown: int = 3)\n",
      "        Stochastik Oscillator\n",
      "    \n",
      "    streak(series)\n",
      "        streak\n",
      "    \n",
      "    sum(series, period: int)\n",
      "        Rolling Sum\n",
      "    \n",
      "    tema(series, period: int = 20)\n",
      "        Triple Exponential Moving Average\n",
      "    \n",
      "    trange(prices, *, log_prices: bool = False, percent: bool = False)\n",
      "        True Range\n",
      "    \n",
      "    typprice(prices)\n",
      "        Typical Price\n",
      "    \n",
      "    wclprice(prices)\n",
      "        Weighted Close Price\n",
      "    \n",
      "    wma(series, period: int)\n",
      "        Weighted Moving Average\n",
      "\n",
      "FILE\n",
      "    c:\\users\\frederic\\onedrive\\python\\mintalib\\src\\mintalib\\functions.py\n",
      "\n",
      "\n"
     ]
    }
   ],
   "source": [
    "help(functions)"
   ],
   "metadata": {
    "collapsed": false,
    "pycharm": {
     "name": "#%%\n"
    }
   }
  },
  {
   "cell_type": "code",
   "execution_count": null,
   "outputs": [],
   "source": [],
   "metadata": {
    "collapsed": false,
    "pycharm": {
     "name": "#%%\n",
     "is_executing": true
    }
   }
  },
  {
   "cell_type": "code",
   "execution_count": null,
   "outputs": [],
   "source": [],
   "metadata": {
    "collapsed": false,
    "pycharm": {
     "name": "#%%\n",
     "is_executing": true
    }
   }
  },
  {
   "cell_type": "code",
   "execution_count": 10,
   "outputs": [],
   "source": [],
   "metadata": {
    "collapsed": false,
    "pycharm": {
     "name": "#%%\n"
    }
   }
  }
 ],
 "metadata": {
  "kernelspec": {
   "display_name": "Python 3",
   "language": "python",
   "name": "python3"
  },
  "language_info": {
   "codemirror_mode": {
    "name": "ipython",
    "version": 2
   },
   "file_extension": ".py",
   "mimetype": "text/x-python",
   "name": "python",
   "nbconvert_exporter": "python",
   "pygments_lexer": "ipython2",
   "version": "2.7.6"
  }
 },
 "nbformat": 4,
 "nbformat_minor": 0
}