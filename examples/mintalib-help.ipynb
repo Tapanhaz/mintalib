{
 "cells": [
  {
   "cell_type": "markdown",
   "source": [
    "# Examples on getting help with mintalib"
   ],
   "metadata": {
    "collapsed": false,
    "pycharm": {
     "name": "#%% md\n"
    }
   }
  },
  {
   "cell_type": "code",
   "execution_count": 3,
   "outputs": [],
   "source": [
    "from mintalib import functions\n",
    "from mintalib import indicators\n"
   ],
   "metadata": {
    "collapsed": false,
    "pycharm": {
     "name": "#%%\n"
    }
   }
  },
  {
   "cell_type": "code",
   "execution_count": 4,
   "outputs": [
    {
     "name": "stdout",
     "output_type": "stream",
     "text": [
      "['ADX', 'ATR', 'AVGPRICE', 'BBANDS', 'BOP', 'CCI', 'CMF', 'CURVE', 'DEMA', 'DIFF', 'EMA', 'EXP', 'KAMA', 'KELTNER', 'LATR', 'LOG', 'MA', 'MACD', 'MAD', 'MAX', 'MFI', 'MIDPRICE', 'MIN', 'MINUSDI', 'NATR', 'PLUSDI', 'PPO', 'PSAR', 'ROC', 'RSI', 'SLOPE', 'SMA', 'STDEV', 'STOCH', 'STREAK', 'SUM', 'TEMA', 'TRANGE', 'TYPPRICE', 'WCLPRICE', 'WMA']\n"
     ]
    }
   ],
   "source": [
    "print(functions.__all__)\n"
   ],
   "metadata": {
    "collapsed": false,
    "pycharm": {
     "name": "#%%\n"
    }
   }
  },
  {
   "cell_type": "code",
   "execution_count": 5,
   "outputs": [
    {
     "name": "stdout",
     "output_type": "stream",
     "text": [
      "['ADX', 'ATR', 'AVGPRICE', 'BBANDS', 'BOP', 'CCI', 'CMF', 'CURVE', 'DEMA', 'DIFF', 'EMA', 'EVAL', 'EXP', 'KAMA', 'KELTNER', 'LATR', 'LOG', 'MACD', 'MAD', 'MAX', 'MFI', 'MIDPRICE', 'MIN', 'MINUSDI', 'NATR', 'PLUSDI', 'PPO', 'PRICE', 'PSAR', 'RMA', 'ROC', 'RSI', 'SLOPE', 'SMA', 'STDEV', 'STOCH', 'SUM', 'TEMA', 'TRANGE', 'TYPPRICE', 'VOLUME', 'WCLPRICE', 'WMA']\n"
     ]
    }
   ],
   "source": [
    "print(indicators.__all__)\n"
   ],
   "metadata": {
    "collapsed": false,
    "pycharm": {
     "name": "#%%\n"
    }
   }
  },
  {
   "cell_type": "code",
   "execution_count": 6,
   "outputs": [
    {
     "name": "stdout",
     "output_type": "stream",
     "text": [
      "Help on function EMA in module mintalib.functions:\n",
      "\n",
      "EMA(series, period: int, *, adjust: bool = False, item: str = None)\n",
      "    Exponential Moving Average\n",
      "    \n",
      "    Args:\n",
      "        series (series) : data series, required\n",
      "        period (int) : time period, required\n",
      "        adjust (bool) : whether to adjust weights, default False\n",
      "            when true update ratio increases gradually (see formula)\n",
      "    \n",
      "    Formula:\n",
      "        EMA is calculated as a recursive formula\n",
      "        The standard formula is ema += alpha * (value - ema)\n",
      "            with alpha = 2.0 / (period + 1.0)\n",
      "        The adjusted formula is ema = num/div\n",
      "            where num = value + rho * num, div = 1.0 + rho * div\n",
      "            with rho = 1.0 - alpha\n",
      "\n"
     ]
    }
   ],
   "source": [
    "help(functions.EMA)"
   ],
   "metadata": {
    "collapsed": false,
    "pycharm": {
     "name": "#%%\n"
    }
   }
  },
  {
   "cell_type": "code",
   "execution_count": 7,
   "outputs": [
    {
     "name": "stdout",
     "output_type": "stream",
     "text": [
      "Help on module mintalib.functions in mintalib:\n",
      "\n",
      "NAME\n",
      "    mintalib.functions - # Do not edit! File generated automatically...\n",
      "\n",
      "FUNCTIONS\n",
      "    ADX(prices, period: int = 14)\n",
      "        Average Directional Index\n",
      "    \n",
      "    ATR(prices, period: int = 14)\n",
      "        Average True Range\n",
      "    \n",
      "    AVGPRICE(prices)\n",
      "        Average Price\n",
      "    \n",
      "    BBANDS(prices, period: int = 20, nbdev: float = 2.0)\n",
      "        Bollinger Bands\n",
      "    \n",
      "    BOP(prices, period: int = 20)\n",
      "        Balance of Power\n",
      "    \n",
      "    CCI(prices, period: int = 20)\n",
      "        Commodity Channel Index\n",
      "    \n",
      "    CMF(prices, period: int = 20)\n",
      "        Chaikin Money Flow\n",
      "    \n",
      "    CURVE(series, period: int = 20, *, option: int = 0, offset: int = 0, item: str = None)\n",
      "        Curve (time curvilinear regression)\n",
      "    \n",
      "    DEMA(series, period: int, *, item: str = None)\n",
      "        Double Exponential Moving Average\n",
      "    \n",
      "    DIFF(series, period: int = 1, *, item: str = None)\n",
      "        Difference\n",
      "    \n",
      "    EMA(series, period: int, *, adjust: bool = False, item: str = None)\n",
      "        Exponential Moving Average\n",
      "        \n",
      "        Args:\n",
      "            series (series) : data series, required\n",
      "            period (int) : time period, required\n",
      "            adjust (bool) : whether to adjust weights, default False\n",
      "                when true update ratio increases gradually (see formula)\n",
      "        \n",
      "        Formula:\n",
      "            EMA is calculated as a recursive formula\n",
      "            The standard formula is ema += alpha * (value - ema)\n",
      "                with alpha = 2.0 / (period + 1.0)\n",
      "            The adjusted formula is ema = num/div\n",
      "                where num = value + rho * num, div = 1.0 + rho * div\n",
      "                with rho = 1.0 - alpha\n",
      "    \n",
      "    EXP(series, *, item: str = None)\n",
      "        Exponential\n",
      "    \n",
      "    KAMA(series, period: int = 10, fastn: int = 2, slown: int = 30, *, item: str = None)\n",
      "        Kaufman Adaptive Moving Average\n",
      "    \n",
      "    KELTNER(prices, period: int = 20, nbatr: float = 2.0)\n",
      "        Keltner Channel\n",
      "    \n",
      "    LATR(prices, period: int = 14)\n",
      "        Average True Range (logarithmic)\n",
      "    \n",
      "    LOG(series, *, item: str = None)\n",
      "        Logarithm\n",
      "    \n",
      "    MA(series, period: int, *, ma_type: int = 0, item: str = None)\n",
      "        Generic Moving Average\n",
      "        \n",
      "        Args:\n",
      "            series : data series, required\n",
      "            period (int) : time period, default 20\n",
      "            ma_type (int) : type of moving average, default 0 (SMA)\n",
      "    \n",
      "    MACD(series, n1: int = 12, n2: int = 26, n3: int = 9, *, item: str = None)\n",
      "        Moving Average Convergenge Divergence\n",
      "    \n",
      "    MAD(series, period: int, *, item: str = None)\n",
      "        Mean Absolute Deviation\n",
      "    \n",
      "    MAX(series, period: int, *, item: str = None)\n",
      "        Rolling Maximum\n",
      "    \n",
      "    MFI(prices, period: int = 14)\n",
      "        Money Flow Index\n",
      "    \n",
      "    MIDPRICE(prices)\n",
      "        Mid Price\n",
      "    \n",
      "    MIN(series, period: int, *, item: str = None)\n",
      "        Rolling Minimum\n",
      "    \n",
      "    MINUSDI(prices, period: int = 14)\n",
      "        Minus Directional Index\n",
      "    \n",
      "    NATR(prices, period: int = 14)\n",
      "        Average True Range (normalized)\n",
      "    \n",
      "    PLUSDI(prices, period: int = 14)\n",
      "        Plus Directional Index\n",
      "    \n",
      "    PPO(series, n1: int = 12, n2: int = 26, n3: int = 9, *, item: str = None)\n",
      "        Price Percentage Oscillator\n",
      "    \n",
      "    PSAR(prices, afs: float = 0.02, maxaf: float = 0.2)\n",
      "        Parabolic Stop and Reverse\n",
      "    \n",
      "    ROC(series, period: int = 1, *, item: str = None)\n",
      "        Rate of Change\n",
      "    \n",
      "    RSI(series, period: int = 14, *, item: str = None)\n",
      "        Relative Strength Index\n",
      "    \n",
      "    SLOPE(series, period: int = 20, *, option: int = 0, offset: int = 0, item: str = None)\n",
      "        Slope (time linear regression)\n",
      "    \n",
      "    SMA(series, period: int, *, item: str = None)\n",
      "        Simple Moving Average\n",
      "    \n",
      "    STDEV(series, period: int = 20, *, item: str = None)\n",
      "        Standard Deviation\n",
      "    \n",
      "    STOCH(prices, period: int = 14, fastn: int = 3, slown: int = 3)\n",
      "        Stochastik Oscillator\n",
      "    \n",
      "    STREAK(series, *, item: str = None)\n",
      "        Consecutive streak of ups/downs\n",
      "    \n",
      "    SUM(series, period: int, *, item: str = None)\n",
      "        Rolling Sum\n",
      "    \n",
      "    TEMA(series, period: int = 20, *, item: str = None)\n",
      "        Triple Exponential Moving Average\n",
      "    \n",
      "    TRANGE(prices, *, log_prices: bool = False, percent: bool = False)\n",
      "        True Range\n",
      "    \n",
      "    TYPPRICE(prices)\n",
      "        Typical Price\n",
      "    \n",
      "    WCLPRICE(prices)\n",
      "        Weighted Close Price\n",
      "    \n",
      "    WMA(series, period: int, *, item: str = None)\n",
      "        Weighted Moving Average\n",
      "\n",
      "DATA\n",
      "    __all__ = ['ADX', 'ATR', 'AVGPRICE', 'BBANDS', 'BOP', 'CCI', 'CMF', 'C...\n",
      "\n",
      "FILE\n",
      "    c:\\users\\frederic\\onedrive\\python\\mintalib\\src\\mintalib\\functions.py\n",
      "\n",
      "\n"
     ]
    }
   ],
   "source": [
    "help(functions)"
   ],
   "metadata": {
    "collapsed": false,
    "pycharm": {
     "name": "#%%\n"
    }
   }
  },
  {
   "cell_type": "code",
   "execution_count": 10,
   "outputs": [],
   "source": [],
   "metadata": {
    "collapsed": false,
    "pycharm": {
     "name": "#%%\n"
    }
   }
  }
 ],
 "metadata": {
  "kernelspec": {
   "display_name": "Python 3",
   "language": "python",
   "name": "python3"
  },
  "language_info": {
   "codemirror_mode": {
    "name": "ipython",
    "version": 2
   },
   "file_extension": ".py",
   "mimetype": "text/x-python",
   "name": "python",
   "nbconvert_exporter": "python",
   "pygments_lexer": "ipython2",
   "version": "2.7.6"
  }
 },
 "nbformat": 4,
 "nbformat_minor": 0
}