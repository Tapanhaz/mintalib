{
 "cells": [
  {
   "cell_type": "markdown",
   "source": [
    "# Notebook to update list of functions in README.md"
   ],
   "metadata": {
    "collapsed": false,
    "pycharm": {
     "name": "#%% md\n"
    }
   }
  },
  {
   "cell_type": "code",
   "execution_count": 3,
   "outputs": [],
   "source": [
    "import re\n",
    "\n",
    "import project\n",
    "\n",
    "import pandas as pd\n",
    "\n",
    "from inspect import Signature\n",
    "\n",
    "from mintalib import funcs\n",
    "\n",
    "def get_info(func):\n",
    "    \"\"\" information about function \"\"\"\n",
    "\n",
    "    info = dict(Name=func.__qualname__)\n",
    "\n",
    "    params = list(Signature.from_callable(func).parameters.values())\n",
    "    if params and params[0].name in ('series', 'prices'):\n",
    "        info.update(Input=params[0].name)\n",
    "\n",
    "    doc = func.__doc__ or \"\"\n",
    "    description = doc.strip().partition(\"\\n\")[0]\n",
    "    if description is not None:\n",
    "        info.update(Description=description)\n",
    "\n",
    "    return info\n",
    "\n",
    "\n",
    "def list_functions():\n",
    "    \"\"\" list functions \"\"\"\n",
    "\n",
    "    result = [v for k, v in vars(funcs).items()\n",
    "              if k.isupper() and callable(v)]\n",
    "\n",
    "    result = [get_info(f) for f in result]\n",
    "\n",
    "    result = pd.DataFrame(result).set_index('Name')\n",
    "\n",
    "    return result\n"
   ],
   "metadata": {
    "collapsed": false,
    "pycharm": {
     "name": "#%%\n"
    },
    "ExecuteTime": {
     "end_time": "2023-09-21T12:18:30.396127Z",
     "start_time": "2023-09-21T12:18:30.376070Z"
    }
   }
  },
  {
   "cell_type": "code",
   "execution_count": 4,
   "outputs": [
    {
     "name": "stdout",
     "output_type": "stream",
     "text": [
      "| Name             | Input   | Description                                               |\n",
      "|:-----------------|:--------|:----------------------------------------------------------|\n",
      "| AVGPRICE         | prices  | Average Price                                             |\n",
      "| TYPPRICE         | prices  | Typical Price                                             |\n",
      "| WCLPRICE         | prices  | Weighted Close Price                                      |\n",
      "| MIDPRICE         | prices  | Mid Price                                                 |\n",
      "| PRICE            | prices  | Generic Price                                             |\n",
      "| CROSSOVER        | series  | 1 when data cross over level, 0.0 elsewhere               |\n",
      "| CROSSUNDER       | series  | 1 when data cross under level, 0.0 elsewhere              |\n",
      "| FLAG_ABOVE       | series  | returns flag for strictly positive values                 |\n",
      "| FLAG_BELOW       | series  | returns flag for strictly negative values                 |\n",
      "| INVERT_FLAG      | series  | returns flag for strictly negative values                 |\n",
      "| UPDOWN_FLAG      | series  | returns flag according to value crossing up & down levels |\n",
      "| LOG              | series  | Logarithm                                                 |\n",
      "| EXP              | series  | Exponential                                               |\n",
      "| ROC              | series  | Rate of Change                                            |\n",
      "| DIFF             | series  | Difference                                                |\n",
      "| MIN              | series  | Rolling Minimum                                           |\n",
      "| MAX              | series  | Rolling Maximum                                           |\n",
      "| SUM              | series  | Rolling Sum                                               |\n",
      "| MAD              | series  | Mean Absolute Deviation                                   |\n",
      "| STDEV            | series  | Standard Deviation                                        |\n",
      "| SMA              | series  | Simple Moving Average                                     |\n",
      "| EMA              | series  | Exponential Moving Average                                |\n",
      "| RMA              | series  | Rolling Moving Average (RSI Style)                        |\n",
      "| WMA              | series  | Weighted Moving Average                                   |\n",
      "| DEMA             | series  | Double Exponential Moving Average                         |\n",
      "| TEMA             | series  | Triple Exponential Moving Average                         |\n",
      "| MA               | series  | Generic Moving Average                                    |\n",
      "| RSI              | series  | Relative Strength Index                                   |\n",
      "| PLUSDI           | prices  | Plus Directional Index                                    |\n",
      "| MINUSDI          | prices  | Minus Directional Index                                   |\n",
      "| ADX              | prices  | Average Directional Index                                 |\n",
      "| TRANGE           | prices  | True Range                                                |\n",
      "| ATR              | prices  | Average True Range                                        |\n",
      "| NATR             | prices  | Average True Range (normalized)                           |\n",
      "| LATR             | prices  | Average True Range (logarithmic)                          |\n",
      "| PSAR             | prices  | Parabolic Stop and Reverse                                |\n",
      "| CCI              | prices  | Commodity Channel Index                                   |\n",
      "| CMF              | prices  | Chaikin Money Flow                                        |\n",
      "| MFI              | prices  | Money Flow Index                                          |\n",
      "| BOP              | prices  | Balance of Power                                          |\n",
      "| BBANDS           | prices  | Bollinger Bands                                           |\n",
      "| KELTNER          | prices  | Keltner Channel                                           |\n",
      "| EFFICIENCY_RATIO | series  | Efficiency Ratio                                          |\n",
      "| KAMA             | series  | Kaufman Adaptive Moving Average                           |\n",
      "| MACD             | series  | Moving Average Convergenge Divergence                     |\n",
      "| PPO              | series  | Price Percentage Oscillator                               |\n",
      "| SLOPE            | series  | Slope (time linear regression)                            |\n",
      "| CURVE            | series  | Curve (time curvilinear regression)                       |\n",
      "| STOCH            | prices  | Stochastik Oscillator                                     |\n",
      "| STREAK_UP        | series  | Consecutive streak of ups                                 |\n",
      "| STREAK_DOWN      | series  | Consecutive streak of ups                                 |\n",
      "| EVAL             | prices  | Expression Eval (pandas only)                             |\n"
     ]
    }
   ],
   "source": [
    "functions = list_functions()\n",
    "print(functions.to_markdown())\n"
   ],
   "metadata": {
    "collapsed": false,
    "pycharm": {
     "name": "#%%\n"
    },
    "ExecuteTime": {
     "end_time": "2023-09-21T12:18:30.899862Z",
     "start_time": "2023-09-21T12:18:30.883950Z"
    }
   }
  },
  {
   "cell_type": "code",
   "execution_count": 3,
   "outputs": [
    {
     "name": "stdout",
     "output_type": "stream",
     "text": [
      "Backing up README.md ...\n"
     ]
    },
    {
     "data": {
      "text/plain": "3157"
     },
     "execution_count": 3,
     "metadata": {},
     "output_type": "execute_result"
    }
   ],
   "source": [
    "def backup_readme(verbose=True):\n",
    "    readme = project.root.joinpath(\"README.md\")\n",
    "    backup = project.root.joinpath(\"README.bak\")\n",
    "\n",
    "    if verbose:\n",
    "        print(f\"Backing up {readme.name} ...\")\n",
    "\n",
    "    contents = readme.read_text()\n",
    "    size = backup.write_text(contents)\n",
    "    return size\n",
    "\n",
    "backup_readme()\n"
   ],
   "metadata": {
    "collapsed": false,
    "pycharm": {
     "name": "#%%\n"
    },
    "ExecuteTime": {
     "end_time": "2023-09-16T16:48:32.221008Z",
     "start_time": "2023-09-16T16:48:32.199342Z"
    }
   }
  },
  {
   "cell_type": "code",
   "execution_count": 4,
   "outputs": [
    {
     "name": "stdout",
     "output_type": "stream",
     "text": [
      "Updating README.md ...\n"
     ]
    },
    {
     "data": {
      "text/plain": "8072"
     },
     "execution_count": 4,
     "metadata": {},
     "output_type": "execute_result"
    }
   ],
   "source": [
    "\n",
    "def update_readme(verbose=True):\n",
    "    title = \"## List of Functions\\n\"\n",
    "    table = list_functions().to_markdown()\n",
    "    repl = title + \"\\n\" + table + \"\\n\"\n",
    "\n",
    "    # flags m=multiline, s=dotall\n",
    "    pattern = r\"(?ms)(^[#]+ List of (Functions|Indicators).*\\Z)\"\n",
    "\n",
    "    readme = project.root.joinpath(\"README.md\")\n",
    "    contents = readme.read_text()\n",
    "\n",
    "    output, count = re.subn(pattern, repl, contents)\n",
    "\n",
    "    if count != 1:\n",
    "        raise RuntimeError(\"Cound not locate list of funtions\")\n",
    "\n",
    "    if verbose:\n",
    "        print(f\"Updating {readme.name} ...\")\n",
    "\n",
    "    return readme.write_text(output)\n",
    "\n",
    "\n",
    "\n",
    "update_readme()\n",
    "\n"
   ],
   "metadata": {
    "collapsed": false,
    "ExecuteTime": {
     "end_time": "2023-09-16T16:48:32.974485Z",
     "start_time": "2023-09-16T16:48:32.947540Z"
    }
   }
  },
  {
   "cell_type": "code",
   "execution_count": null,
   "outputs": [],
   "source": [],
   "metadata": {
    "collapsed": false,
    "pycharm": {
     "name": "#%%\n"
    }
   }
  }
 ],
 "metadata": {
  "kernelspec": {
   "display_name": "Python 3",
   "language": "python",
   "name": "python3"
  },
  "language_info": {
   "codemirror_mode": {
    "name": "ipython",
    "version": 2
   },
   "file_extension": ".py",
   "mimetype": "text/x-python",
   "name": "python",
   "nbconvert_exporter": "python",
   "pygments_lexer": "ipython2",
   "version": "2.7.6"
  }
 },
 "nbformat": 4,
 "nbformat_minor": 0
}
