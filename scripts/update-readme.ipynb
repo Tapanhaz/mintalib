{
 "cells": [
  {
   "cell_type": "markdown",
   "source": [
    "# Notebook to update list of indicators and functions in README.md\n",
    "**Warning** developer use only!\n"
   ],
   "metadata": {
    "collapsed": false,
    "pycharm": {
     "name": "#%% md\n"
    }
   }
  },
  {
   "cell_type": "code",
   "execution_count": 79,
   "outputs": [],
   "source": [
    "import re\n",
    "\n",
    "import inspect\n",
    "\n",
    "import pandas as pd\n",
    "import readme_renderer.rst\n",
    "\n",
    "import project\n",
    "\n",
    "from mintalib import core\n",
    "from mintalib import functions\n",
    "from mintalib import indicators\n",
    "\n",
    "from mintalib.utils import sample_prices\n",
    "\n",
    "from pprint import pformat\n",
    "\n",
    "\n",
    "# TODO move list_functions, list_indicators to utils ?\n"
   ],
   "metadata": {
    "collapsed": false,
    "pycharm": {
     "name": "#%%\n"
    }
   }
  },
  {
   "cell_type": "code",
   "execution_count": 80,
   "outputs": [
    {
     "name": "stdout",
     "output_type": "stream",
     "text": [
      "                                    description\n",
      "name                                           \n",
      "avgprice                          Average Price\n",
      "typprice                          Typical Price\n",
      "wclprice                   Weighted Close Price\n",
      "midprice                              Mid Price\n",
      "roc                              Rate of Change\n",
      "diff                                 Difference\n",
      "min                             Rolling Minimum\n",
      "max                             Rolling Maximum\n",
      "sum                                 Rolling Sum\n",
      "sma                       Simple Moving Average\n",
      "ema                  Exponential Moving Average\n",
      "rma          Rolling Moving Average (RSI Style)\n",
      "wma                     Weighted Moving Average\n",
      "dema          Double Exponential Moving Average\n",
      "tema          Triple Exponential Moving Average\n",
      "ma                       Generic Moving Average\n",
      "rsi                     Relative Strength Index\n",
      "plusdi                   Plus Directional Index\n",
      "minusdi                 Minus Directional Index\n",
      "adx                   Average Directional Index\n",
      "trange                               True Range\n",
      "atr                          Average True Range\n",
      "natr              Normalized Average True Range\n",
      "latr              Normalized Average True Range\n",
      "psar                 Parabolic Stop and Reverse\n",
      "bbands                          Bollinger Bands\n",
      "keltner                           Keltner Bands\n",
      "macd      Moving Average Convergenge Divergence\n",
      "ppo                 Price Percentage Oscillator\n",
      "slope            Slope (time linear regression)\n",
      "curve       Curve (time curvilinear regression)\n",
      "stdev                        Standard Deviation\n",
      "stoch                     Stochastik Oscillator\n",
      "streak                                   streak\n"
     ]
    }
   ],
   "source": [
    "def get_description(f):\n",
    "    doc = f.__doc__ or \"\"\n",
    "    return doc.strip().partition(\"\\n\")[0]\n",
    "\n",
    "\n",
    "def get_info(func):\n",
    "    name = func.__name__\n",
    "    description = get_description(func)\n",
    "    result = dict(name=name, description=description)\n",
    "    return result\n",
    "\n",
    "\n",
    "def list_functions():\n",
    "    \"\"\" list functions \"\"\"\n",
    "\n",
    "    result = []\n",
    "    for k, v in vars(functions).items():\n",
    "        if not callable(v):\n",
    "            continue\n",
    "\n",
    "        if v.__name__.startswith(\"_\"):\n",
    "            continue\n",
    "\n",
    "        result.append(v)\n",
    "\n",
    "    result = [get_info(f) for f in result]\n",
    "\n",
    "    result = pd.DataFrame(result).set_index('name')\n",
    "\n",
    "    return result\n",
    "\n",
    "\n",
    "print(list_functions())"
   ],
   "metadata": {
    "collapsed": false,
    "pycharm": {
     "name": "#%%\n"
    }
   }
  },
  {
   "cell_type": "code",
   "execution_count": 81,
   "outputs": [
    {
     "name": "stdout",
     "output_type": "stream",
     "text": [
      "                                    description\n",
      "name                                           \n",
      "PRICE                           Price Indicator\n",
      "AVGPRICE                Average Price Indicator\n",
      "TYPPRICE                Typical Price Indicator\n",
      "WCLPRICE         Weighted Close Price Indicator\n",
      "MIDPRICE                    Mid Price Indicator\n",
      "VOLUME                         Volume Indicator\n",
      "ROC                              Rate of Change\n",
      "DIFF                                 Difference\n",
      "MIN                             Rolling Minimum\n",
      "MAX                             Rolling Maximum\n",
      "SUM                                 Rolling Sum\n",
      "SMA                       Simple Moving Average\n",
      "EMA                  Exponential Moving Average\n",
      "RMA          Rolling Moving Average (RSI Style)\n",
      "WMA                     Weighted Moving Average\n",
      "DEMA          Double Exponential Moving Average\n",
      "TEMA          Triple Exponential Moving Average\n",
      "RSI                       Relative Streng Index\n",
      "ADX                   Average Directional Index\n",
      "PLUSDI                   Plus Directional Index\n",
      "MINUSDI                 Minus Directional Index\n",
      "TRANGE                               True Range\n",
      "ATR                          Average True Range\n",
      "NATR            Average True Range (normalized)\n",
      "LATR            Average True Range (log prices)\n",
      "PSAR                 Parabolic Stop and Reverse\n",
      "BBANDS                          Bollinger Bands\n",
      "KELTNER                           Keltner Bands\n",
      "MACD      Moving Average Convergence Divergence\n",
      "PPO                 Price Percentage Oscillator\n",
      "SLOPE            Slope (time linear Regression)\n",
      "CURVE       Curve (time curvilinear regression)\n",
      "STDEV                        Standard Deviation\n",
      "STOCH                   Stockchastic Oscillator\n",
      "EVAL              Expression Eval (pandas only)\n"
     ]
    }
   ],
   "source": [
    "def list_indicators():\n",
    "    \"\"\" list indicators \"\"\"\n",
    "\n",
    "    result = []\n",
    "    for k, v in vars(indicators).items():\n",
    "        if not isinstance(v, type):\n",
    "            continue\n",
    "\n",
    "        if v.__name__.startswith(\"_\"):\n",
    "            continue\n",
    "\n",
    "        result.append(v)\n",
    "\n",
    "    result = [get_info(f) for f in result]\n",
    "\n",
    "    result = pd.DataFrame(result).set_index('name')\n",
    "\n",
    "    return result\n",
    "\n",
    "\n",
    "print(list_indicators())\n"
   ],
   "metadata": {
    "collapsed": false,
    "pycharm": {
     "name": "#%%\n"
    }
   }
  },
  {
   "cell_type": "code",
   "execution_count": 82,
   "outputs": [
    {
     "name": "stdout",
     "output_type": "stream",
     "text": [
      "Backing up README.md ...\n"
     ]
    },
    {
     "data": {
      "text/plain": "5916"
     },
     "execution_count": 82,
     "metadata": {},
     "output_type": "execute_result"
    }
   ],
   "source": [
    "def backup_readme(verbose=True):\n",
    "    readme = project.root.joinpath(\"README.md\")\n",
    "    backup = project.root.joinpath(\"output/README.bak\")\n",
    "\n",
    "    if verbose:\n",
    "        print(f\"Backing up {readme.name} ...\")\n",
    "\n",
    "    contents = readme.read_text()\n",
    "    size = backup.write_text(contents)\n",
    "    return size\n",
    "\n",
    "backup_readme()\n"
   ],
   "metadata": {
    "collapsed": false,
    "pycharm": {
     "name": "#%%\n"
    }
   }
  },
  {
   "cell_type": "code",
   "execution_count": 83,
   "outputs": [
    {
     "name": "stdout",
     "output_type": "stream",
     "text": [
      "Updating README.md ...\n"
     ]
    },
    {
     "data": {
      "text/plain": "5916"
     },
     "execution_count": 83,
     "metadata": {},
     "output_type": "execute_result"
    }
   ],
   "source": [
    "def update_functions(verbose=True):\n",
    "    data = list_functions().to_markdown()\n",
    "\n",
    "    prefix = \"<details>\\n<summary>List of Functions</summary>\\n\"\n",
    "    suffix = \"</details>\\n\"\n",
    "\n",
    "    pattern = prefix + \"([^<>]+)\" + suffix\n",
    "    repl = prefix + \"\\n\" + data + \"\\n\\n\" + suffix\n",
    "\n",
    "    readme = project.root.joinpath(\"README.md\")\n",
    "    contents = readme.read_text()\n",
    "\n",
    "    buffer, count = re.subn(pattern, repl, contents, flags=re.MULTILINE)\n",
    "\n",
    "    if count != 1:\n",
    "        raise RuntimeError(\"Cound not replace functions\")\n",
    "\n",
    "    if verbose:\n",
    "        print(f\"Updating {readme.name} ...\")\n",
    "\n",
    "    size = readme.write_text(buffer)\n",
    "\n",
    "    return size\n",
    "\n",
    "\n",
    "update_functions()\n",
    "\n"
   ],
   "metadata": {
    "collapsed": false,
    "pycharm": {
     "name": "#%%\n"
    }
   }
  },
  {
   "cell_type": "code",
   "execution_count": 84,
   "outputs": [
    {
     "name": "stdout",
     "output_type": "stream",
     "text": [
      "Updating README.md ...\n"
     ]
    },
    {
     "data": {
      "text/plain": "5916"
     },
     "execution_count": 84,
     "metadata": {},
     "output_type": "execute_result"
    }
   ],
   "source": [
    "def update_indicators(verbose=True):\n",
    "    data = list_indicators().to_markdown()\n",
    "\n",
    "    prefix = \"<details>\\n<summary>List of Indicators</summary>\\n\"\n",
    "    suffix = \"</details>\\n\"\n",
    "\n",
    "    pattern = prefix + \"([^<>]+)\" + suffix\n",
    "    repl = prefix + \"\\n\" + data + \"\\n\\n\" + suffix\n",
    "\n",
    "    readme = project.root.joinpath(\"README.md\")\n",
    "    contents = readme.read_text()\n",
    "\n",
    "    buffer, count = re.subn(pattern, repl, contents, flags=re.MULTILINE)\n",
    "\n",
    "    if count != 1:\n",
    "        raise RuntimeError(\"Cound not replace indicators\")\n",
    "\n",
    "    if verbose:\n",
    "        print(f\"Updating {readme.name} ...\")\n",
    "\n",
    "    size = readme.write_text(buffer)\n",
    "\n",
    "    return size\n",
    "\n",
    "update_indicators()"
   ],
   "metadata": {
    "collapsed": false,
    "pycharm": {
     "name": "#%%\n"
    }
   }
  },
  {
   "cell_type": "code",
   "execution_count": null,
   "outputs": [],
   "source": [],
   "metadata": {
    "collapsed": false,
    "pycharm": {
     "name": "#%%\n"
    }
   }
  }
 ],
 "metadata": {
  "kernelspec": {
   "display_name": "Python 3",
   "language": "python",
   "name": "python3"
  },
  "language_info": {
   "codemirror_mode": {
    "name": "ipython",
    "version": 2
   },
   "file_extension": ".py",
   "mimetype": "text/x-python",
   "name": "python",
   "nbconvert_exporter": "python",
   "pygments_lexer": "ipython2",
   "version": "2.7.6"
  }
 },
 "nbformat": 4,
 "nbformat_minor": 0
}