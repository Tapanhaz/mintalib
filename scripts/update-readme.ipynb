{
 "cells": [
  {
   "cell_type": "markdown",
   "source": [
    "# Notebook to update list of indicators and functions in README.md\n",
    "**Warning** developer use only!\n"
   ],
   "metadata": {
    "collapsed": false,
    "pycharm": {
     "name": "#%% md\n"
    }
   }
  },
  {
   "cell_type": "code",
   "execution_count": 1,
   "outputs": [],
   "source": [
    "import re\n",
    "\n",
    "import inspect\n",
    "\n",
    "import pandas as pd\n",
    "import readme_renderer.rst\n",
    "\n",
    "import project\n",
    "\n",
    "from mintalib import core\n",
    "from mintalib import functions\n",
    "from mintalib import indicators\n",
    "\n",
    "from mintalib.utils import sample_prices\n",
    "\n",
    "from pprint import pformat\n",
    "\n",
    "\n",
    "# TODO move list_functions, list_indicators to utils ?\n"
   ],
   "metadata": {
    "collapsed": false,
    "pycharm": {
     "name": "#%%\n"
    }
   }
  },
  {
   "cell_type": "code",
   "execution_count": 2,
   "outputs": [
    {
     "name": "stdout",
     "output_type": "stream",
     "text": [
      "           input                            description\n",
      "name                                                   \n",
      "AVGPRICE  prices                          Average Price\n",
      "TYPPRICE  prices                          Typical Price\n",
      "WCLPRICE  prices                   Weighted Close Price\n",
      "MIDPRICE  prices                              Mid Price\n",
      "LOG       series                              Logarithm\n",
      "EXP       series                            Exponential\n",
      "ROC       series                         Rate of Change\n",
      "DIFF      series                             Difference\n",
      "MIN       series                        Rolling Minimum\n",
      "MAX       series                        Rolling Maximum\n",
      "SUM       series                            Rolling Sum\n",
      "MAD       series                Mean Absolute Deviation\n",
      "STDEV     series                     Standard Deviation\n",
      "SMA       series                  Simple Moving Average\n",
      "EMA       series             Exponential Moving Average\n",
      "WMA       series                Weighted Moving Average\n",
      "DEMA      series      Double Exponential Moving Average\n",
      "TEMA      series      Triple Exponential Moving Average\n",
      "MA        series                 Generic Moving Average\n",
      "RSI       series                Relative Strength Index\n",
      "PLUSDI    prices                 Plus Directional Index\n",
      "MINUSDI   prices                Minus Directional Index\n",
      "ADX       prices              Average Directional Index\n",
      "TRANGE    prices                             True Range\n",
      "ATR       prices                     Average True Range\n",
      "NATR      prices        Average True Range (normalized)\n",
      "LATR      prices       Average True Range (logarithmic)\n",
      "PSAR      prices             Parabolic Stop and Reverse\n",
      "CCI       prices                Commodity Channel Index\n",
      "CMF       prices                     Chaikin Money Flow\n",
      "MFI       prices                       Money Flow Index\n",
      "BOP       prices                       Balance of Power\n",
      "BBANDS    prices                        Bollinger Bands\n",
      "KELTNER   prices                        Keltner Channel\n",
      "KAMA      series        Kaufman Adaptive Moving Average\n",
      "MACD      series  Moving Average Convergenge Divergence\n",
      "PPO       series            Price Percentage Oscillator\n",
      "SLOPE     series         Slope (time linear regression)\n",
      "CURVE     series    Curve (time curvilinear regression)\n",
      "STOCH     prices                  Stochastik Oscillator\n",
      "STREAK    series        Consecutive streak of ups/downs\n"
     ]
    }
   ],
   "source": [
    "def get_description(f):\n",
    "    doc = f.__doc__ or \"\"\n",
    "    return doc.strip().partition(\"\\n\")[0]\n",
    "\n",
    "\n",
    "def get_info(func):\n",
    "    name = func.__qualname__\n",
    "    result = dict(name=name)\n",
    "    params = list(inspect.signature(func).parameters.values())\n",
    "    result = dict(name=name)\n",
    "    if params and params[0].name in ('series', 'prices'):\n",
    "        result['input'] = params[0].name\n",
    "    description = get_description(func)\n",
    "    result.update(description=description)\n",
    "    return result\n",
    "\n",
    "\n",
    "def list_functions():\n",
    "    \"\"\" list functions \"\"\"\n",
    "\n",
    "    result = []\n",
    "    for k, v in vars(functions).items():\n",
    "        if not callable(v):\n",
    "            continue\n",
    "\n",
    "        if v.__name__.startswith(\"_\"):\n",
    "            continue\n",
    "\n",
    "        params = list(inspect.signature(v).parameters.values())\n",
    "        if params and params[0].name not in ('series', 'prices'):\n",
    "            continue\n",
    "\n",
    "        result.append(v)\n",
    "\n",
    "    result = [get_info(f) for f in result]\n",
    "\n",
    "    result = pd.DataFrame(result).set_index('name')\n",
    "\n",
    "    return result\n",
    "\n",
    "\n",
    "print(list_functions())"
   ],
   "metadata": {
    "collapsed": false,
    "pycharm": {
     "name": "#%%\n"
    }
   }
  },
  {
   "cell_type": "code",
   "execution_count": 3,
   "outputs": [
    {
     "name": "stdout",
     "output_type": "stream",
     "text": [
      "                                          description\n",
      "name                                                 \n",
      "PRICE                                   Generic Price\n",
      "AVGPRICE                      Average Price Indicator\n",
      "TYPPRICE                      Typical Price Indicator\n",
      "WCLPRICE               Weighted Close Price Indicator\n",
      "MIDPRICE                          Mid Price Indicator\n",
      "VOLUME                               Volume Indicator\n",
      "LOG                                         Logarithm\n",
      "EXP                                       Exponential\n",
      "ROC                                    Rate of Change\n",
      "DIFF                                       Difference\n",
      "MIN                                   Rolling Minimum\n",
      "MAX                                   Rolling Maximum\n",
      "SUM                                       Rolling Sum\n",
      "MAD                            Mean Absolue Deviation\n",
      "STDEV                              Standard Deviation\n",
      "SMA                             Simple Moving Average\n",
      "EMA                        Exponential Moving Average\n",
      "RMA                Rolling Moving Average (RSI Style)\n",
      "WMA                           Weighted Moving Average\n",
      "DEMA                Double Exponential Moving Average\n",
      "TEMA                Triple Exponential Moving Average\n",
      "RSI                             Relative Streng Index\n",
      "ADX                         Average Directional Index\n",
      "PLUSDI                         Plus Directional Index\n",
      "MINUSDI                       Minus Directional Index\n",
      "TRANGE                                     True Range\n",
      "ATR                                Average True Range\n",
      "NATR                  Average True Range (normalized)\n",
      "LATR                  Average True Range (log prices)\n",
      "PSAR                       Parabolic Stop and Reverse\n",
      "CCI                           Commodity Channel Index\n",
      "CMF                                Chaikin Money Flow\n",
      "MFI                                  Money Flow Index\n",
      "BOP                                  Balance of Power\n",
      "BBANDS                                Bollinger Bands\n",
      "KELTNER                               Keltner Channel\n",
      "KAMA                Kaufman Adaptative Moving Average\n",
      "MACD            Moving Average Convergence Divergence\n",
      "PPO                       Price Percentage Oscillator\n",
      "SLOPE                  Slope (time linear regression)\n",
      "SLOPE.RVALUE              Slope R-Value (Correlation)\n",
      "SLOPE.ERROR              Slope Root Mean Square Error\n",
      "SLOPE.FORECAST                         Slope Forecast\n",
      "CURVE             Curve (time curvilinear regression)\n",
      "CURVE.RVALUE                            Curve R-Value\n",
      "CURVE.ERROR              Curve Root Mean Square Error\n",
      "STOCH                         Stockchastic Oscillator\n",
      "EVAL                    Expression Eval (pandas only)\n"
     ]
    }
   ],
   "source": [
    "def list_indicators():\n",
    "    \"\"\" list indicators \"\"\"\n",
    "\n",
    "    def check_indicator(obj):\n",
    "        if not isinstance(v, type):\n",
    "            return False\n",
    "\n",
    "        if v.__name__.startswith(\"_\"):\n",
    "            return False\n",
    "\n",
    "        if not v.__name__.isupper():\n",
    "            return False\n",
    "\n",
    "        return True\n",
    "\n",
    "\n",
    "    result = []\n",
    "\n",
    "    for k, v in vars(indicators).items():\n",
    "        if check_indicator(v):\n",
    "            result.append(v)\n",
    "            for k, v in vars(v).items():\n",
    "                if check_indicator(v):\n",
    "                    result.append(v)\n",
    "\n",
    "    result = [get_info(f) for f in result]\n",
    "\n",
    "    result = pd.DataFrame(result).set_index('name')\n",
    "\n",
    "    return result\n",
    "\n",
    "\n",
    "print(list_indicators())\n"
   ],
   "metadata": {
    "collapsed": false,
    "pycharm": {
     "name": "#%%\n"
    }
   }
  },
  {
   "cell_type": "code",
   "execution_count": 4,
   "outputs": [
    {
     "name": "stdout",
     "output_type": "stream",
     "text": [
      "Backing up README.md ...\n"
     ]
    },
    {
     "data": {
      "text/plain": "9867"
     },
     "execution_count": 4,
     "metadata": {},
     "output_type": "execute_result"
    }
   ],
   "source": [
    "def backup_readme(verbose=True):\n",
    "    readme = project.root.joinpath(\"README.md\")\n",
    "    backup = project.root.joinpath(\"README.bak\")\n",
    "\n",
    "    if verbose:\n",
    "        print(f\"Backing up {readme.name} ...\")\n",
    "\n",
    "    contents = readme.read_text()\n",
    "    size = backup.write_text(contents)\n",
    "    return size\n",
    "\n",
    "backup_readme()\n"
   ],
   "metadata": {
    "collapsed": false,
    "pycharm": {
     "name": "#%%\n"
    }
   }
  },
  {
   "cell_type": "code",
   "execution_count": 5,
   "outputs": [
    {
     "name": "stdout",
     "output_type": "stream",
     "text": [
      "Updating README.md ...\n"
     ]
    },
    {
     "data": {
      "text/plain": "9381"
     },
     "execution_count": 5,
     "metadata": {},
     "output_type": "execute_result"
    }
   ],
   "source": [
    "def update_functions(verbose=True):\n",
    "    data = list_functions().to_markdown()\n",
    "\n",
    "    prefix = \"<details>\\n<summary>List of Functions</summary>\\n\"\n",
    "    suffix = \"</details>\\n\"\n",
    "\n",
    "    pattern = prefix + \"([^<>]+)\" + suffix\n",
    "    repl = prefix + \"\\n\" + data + \"\\n\\n\" + suffix\n",
    "\n",
    "    readme = project.root.joinpath(\"README.md\")\n",
    "    contents = readme.read_text()\n",
    "\n",
    "    buffer, count = re.subn(pattern, repl, contents, flags=re.MULTILINE)\n",
    "\n",
    "    if count != 1:\n",
    "        raise RuntimeError(\"Cound not replace functions\")\n",
    "\n",
    "    if verbose:\n",
    "        print(f\"Updating {readme.name} ...\")\n",
    "\n",
    "    size = readme.write_text(buffer)\n",
    "\n",
    "    return size\n",
    "\n",
    "\n",
    "update_functions()\n",
    "\n"
   ],
   "metadata": {
    "collapsed": false,
    "pycharm": {
     "name": "#%%\n"
    }
   }
  },
  {
   "cell_type": "code",
   "execution_count": 6,
   "outputs": [
    {
     "name": "stdout",
     "output_type": "stream",
     "text": [
      "Updating README.md ...\n"
     ]
    },
    {
     "data": {
      "text/plain": "9381"
     },
     "execution_count": 6,
     "metadata": {},
     "output_type": "execute_result"
    }
   ],
   "source": [
    "def update_indicators(verbose=True):\n",
    "    data = list_indicators().to_markdown()\n",
    "\n",
    "    prefix = \"<details>\\n<summary>List of Indicators</summary>\\n\"\n",
    "    suffix = \"</details>\\n\"\n",
    "\n",
    "    pattern = prefix + \"([^<>]+)\" + suffix\n",
    "    repl = prefix + \"\\n\" + data + \"\\n\\n\" + suffix\n",
    "\n",
    "    readme = project.root.joinpath(\"README.md\")\n",
    "    contents = readme.read_text()\n",
    "\n",
    "    buffer, count = re.subn(pattern, repl, contents, flags=re.MULTILINE)\n",
    "\n",
    "    if count != 1:\n",
    "        raise RuntimeError(\"Cound not replace indicators\")\n",
    "\n",
    "    if verbose:\n",
    "        print(f\"Updating {readme.name} ...\")\n",
    "\n",
    "    size = readme.write_text(buffer)\n",
    "\n",
    "    return size\n",
    "\n",
    "update_indicators()"
   ],
   "metadata": {
    "collapsed": false,
    "pycharm": {
     "name": "#%%\n"
    }
   }
  },
  {
   "cell_type": "code",
   "execution_count": null,
   "outputs": [],
   "source": [],
   "metadata": {
    "collapsed": false,
    "pycharm": {
     "name": "#%%\n"
    }
   }
  }
 ],
 "metadata": {
  "kernelspec": {
   "display_name": "Python 3",
   "language": "python",
   "name": "python3"
  },
  "language_info": {
   "codemirror_mode": {
    "name": "ipython",
    "version": 2
   },
   "file_extension": ".py",
   "mimetype": "text/x-python",
   "name": "python",
   "nbconvert_exporter": "python",
   "pygments_lexer": "ipython2",
   "version": "2.7.6"
  }
 },
 "nbformat": 4,
 "nbformat_minor": 0
}