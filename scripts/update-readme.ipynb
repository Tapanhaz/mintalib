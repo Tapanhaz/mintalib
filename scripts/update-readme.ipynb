{
 "cells": [
  {
   "cell_type": "markdown",
   "source": [
    "# Notebook to update list of indicators in README.md"
   ],
   "metadata": {
    "collapsed": false,
    "pycharm": {
     "name": "#%% md\n"
    }
   }
  },
  {
   "cell_type": "code",
   "execution_count": 4,
   "outputs": [],
   "source": [
    "import re\n",
    "import shutil\n",
    "\n",
    "import pandas as pd\n",
    "\n",
    "from mintalib import core\n",
    "\n",
    "from config import ROOTDIR\n"
   ],
   "metadata": {
    "collapsed": false,
    "pycharm": {
     "name": "#%%\n"
    },
    "ExecuteTime": {
     "end_time": "2023-10-28T20:31:16.718249Z",
     "start_time": "2023-10-28T20:31:16.709193Z"
    }
   }
  },
  {
   "cell_type": "code",
   "execution_count": 5,
   "outputs": [],
   "source": [
    "\n",
    "def get_info(func):\n",
    "    \"\"\" information about function \"\"\"\n",
    "\n",
    "    info = dict(Name=func.__qualname__)\n",
    "\n",
    "    doc = func.__doc__ or \"\"\n",
    "    description = doc.strip().partition(\"\\n\")[0]\n",
    "    if description is not None:\n",
    "        info.update(Description=description)\n",
    "\n",
    "    return info\n",
    "\n",
    "\n",
    "def list_functions():\n",
    "    \"\"\" list functions \"\"\"\n",
    "\n",
    "    result = [v for k, v in vars(core).items()\n",
    "              if k.isupper() and callable(v)]\n",
    "\n",
    "    result = [get_info(f) for f in result]\n",
    "\n",
    "    result = pd.DataFrame(result).set_index('Name')\n",
    "\n",
    "    result = result.sort_index()\n",
    "\n",
    "    return result\n"
   ],
   "metadata": {
    "collapsed": false,
    "ExecuteTime": {
     "end_time": "2023-10-28T20:31:17.063871Z",
     "start_time": "2023-10-28T20:31:17.045136Z"
    }
   }
  },
  {
   "cell_type": "code",
   "execution_count": 6,
   "outputs": [
    {
     "data": {
      "text/plain": "                                                Description\nName                                                       \nADX                               Average Directional Index\nATR                                      Average True Range\nAVGPRICE                                      Average Price\nBBANDS                                      Bollinger Bands\nBOP                                        Balance of Power\nCCI                                 Commodity Channel Index\nCMF                                      Chaikin Money Flow\nCROSSOVER                                        Cross Over\nCROSSUNDER                                      Cross Under\nCURVE                   Curve (time curvilinear regression)\nDEMA                      Double Exponential Moving Average\nDIFF                                             Difference\nEFFICIENCY_RATIO                 Efficiency Ratio (Kaufman)\nEMA                              Exponential Moving Average\nEVAL                          Expression Eval (pandas only)\nEXP                                             Exponential\nFLAG_ABOVE                       Flag for value above level\nFLAG_BELOW                       Flag for value below level\nFORECAST                  Forecast (time linear regression)\nINVERT_FLAG                                     Invert flag\nKAMA              Kaufman Adaptive Moving Average (Kaufman)\nKELTNER                                     Keltner Channel\nLATR                       Average True Range (logarithmic)\nLOG                                               Logarithm\nMA                                   Generic Moving Average\nMACD                  Moving Average Convergenge Divergence\nMAD                                 Mean Absolute Deviation\nMAX                                         Rolling Maximum\nMFI                                        Money Flow Index\nMIDPRICE                                          Mid Price\nMIN                                         Rolling Minimum\nMINUSDI                             Minus Directional Index\nNATR                        Average True Range (normalized)\nPLUSDI                               Plus Directional Index\nPPO                             Price Percentage Oscillator\nPRICE                                         Generic Price\nRMA                      Rolling Moving Average (RSI Style)\nROC                                          Rate of Change\nRSI                                 Relative Strength Index\nRVALUE                      RValue (time linear regression)\nSAR                              Parabolic Stop and Reverse\nSLOPE                        Slope (time linear regression)\nSMA                                   Simple Moving Average\nSTDEV                                    Standard Deviation\nSTOCH                                 Stochastic Oscillator\nSTREAK_DOWN                     Consecutive streak of downs\nSTREAK_UP                         Consecutive streak of ups\nSUM                                             Rolling Sum\nTEMA                      Triple Exponential Moving Average\nTRANGE                                           True Range\nTYPPRICE                                      Typical Price\nUPDOWN_FLAG        Flag for value crossing levels up & down\nWCLPRICE                               Weighted Close Price\nWMA                                 Weighted Moving Average",
      "text/html": "<div>\n<style scoped>\n    .dataframe tbody tr th:only-of-type {\n        vertical-align: middle;\n    }\n\n    .dataframe tbody tr th {\n        vertical-align: top;\n    }\n\n    .dataframe thead th {\n        text-align: right;\n    }\n</style>\n<table border=\"1\" class=\"dataframe\">\n  <thead>\n    <tr style=\"text-align: right;\">\n      <th></th>\n      <th>Description</th>\n    </tr>\n    <tr>\n      <th>Name</th>\n      <th></th>\n    </tr>\n  </thead>\n  <tbody>\n    <tr>\n      <th>ADX</th>\n      <td>Average Directional Index</td>\n    </tr>\n    <tr>\n      <th>ATR</th>\n      <td>Average True Range</td>\n    </tr>\n    <tr>\n      <th>AVGPRICE</th>\n      <td>Average Price</td>\n    </tr>\n    <tr>\n      <th>BBANDS</th>\n      <td>Bollinger Bands</td>\n    </tr>\n    <tr>\n      <th>BOP</th>\n      <td>Balance of Power</td>\n    </tr>\n    <tr>\n      <th>CCI</th>\n      <td>Commodity Channel Index</td>\n    </tr>\n    <tr>\n      <th>CMF</th>\n      <td>Chaikin Money Flow</td>\n    </tr>\n    <tr>\n      <th>CROSSOVER</th>\n      <td>Cross Over</td>\n    </tr>\n    <tr>\n      <th>CROSSUNDER</th>\n      <td>Cross Under</td>\n    </tr>\n    <tr>\n      <th>CURVE</th>\n      <td>Curve (time curvilinear regression)</td>\n    </tr>\n    <tr>\n      <th>DEMA</th>\n      <td>Double Exponential Moving Average</td>\n    </tr>\n    <tr>\n      <th>DIFF</th>\n      <td>Difference</td>\n    </tr>\n    <tr>\n      <th>EFFICIENCY_RATIO</th>\n      <td>Efficiency Ratio (Kaufman)</td>\n    </tr>\n    <tr>\n      <th>EMA</th>\n      <td>Exponential Moving Average</td>\n    </tr>\n    <tr>\n      <th>EVAL</th>\n      <td>Expression Eval (pandas only)</td>\n    </tr>\n    <tr>\n      <th>EXP</th>\n      <td>Exponential</td>\n    </tr>\n    <tr>\n      <th>FLAG_ABOVE</th>\n      <td>Flag for value above level</td>\n    </tr>\n    <tr>\n      <th>FLAG_BELOW</th>\n      <td>Flag for value below level</td>\n    </tr>\n    <tr>\n      <th>FORECAST</th>\n      <td>Forecast (time linear regression)</td>\n    </tr>\n    <tr>\n      <th>INVERT_FLAG</th>\n      <td>Invert flag</td>\n    </tr>\n    <tr>\n      <th>KAMA</th>\n      <td>Kaufman Adaptive Moving Average (Kaufman)</td>\n    </tr>\n    <tr>\n      <th>KELTNER</th>\n      <td>Keltner Channel</td>\n    </tr>\n    <tr>\n      <th>LATR</th>\n      <td>Average True Range (logarithmic)</td>\n    </tr>\n    <tr>\n      <th>LOG</th>\n      <td>Logarithm</td>\n    </tr>\n    <tr>\n      <th>MA</th>\n      <td>Generic Moving Average</td>\n    </tr>\n    <tr>\n      <th>MACD</th>\n      <td>Moving Average Convergenge Divergence</td>\n    </tr>\n    <tr>\n      <th>MAD</th>\n      <td>Mean Absolute Deviation</td>\n    </tr>\n    <tr>\n      <th>MAX</th>\n      <td>Rolling Maximum</td>\n    </tr>\n    <tr>\n      <th>MFI</th>\n      <td>Money Flow Index</td>\n    </tr>\n    <tr>\n      <th>MIDPRICE</th>\n      <td>Mid Price</td>\n    </tr>\n    <tr>\n      <th>MIN</th>\n      <td>Rolling Minimum</td>\n    </tr>\n    <tr>\n      <th>MINUSDI</th>\n      <td>Minus Directional Index</td>\n    </tr>\n    <tr>\n      <th>NATR</th>\n      <td>Average True Range (normalized)</td>\n    </tr>\n    <tr>\n      <th>PLUSDI</th>\n      <td>Plus Directional Index</td>\n    </tr>\n    <tr>\n      <th>PPO</th>\n      <td>Price Percentage Oscillator</td>\n    </tr>\n    <tr>\n      <th>PRICE</th>\n      <td>Generic Price</td>\n    </tr>\n    <tr>\n      <th>RMA</th>\n      <td>Rolling Moving Average (RSI Style)</td>\n    </tr>\n    <tr>\n      <th>ROC</th>\n      <td>Rate of Change</td>\n    </tr>\n    <tr>\n      <th>RSI</th>\n      <td>Relative Strength Index</td>\n    </tr>\n    <tr>\n      <th>RVALUE</th>\n      <td>RValue (time linear regression)</td>\n    </tr>\n    <tr>\n      <th>SAR</th>\n      <td>Parabolic Stop and Reverse</td>\n    </tr>\n    <tr>\n      <th>SLOPE</th>\n      <td>Slope (time linear regression)</td>\n    </tr>\n    <tr>\n      <th>SMA</th>\n      <td>Simple Moving Average</td>\n    </tr>\n    <tr>\n      <th>STDEV</th>\n      <td>Standard Deviation</td>\n    </tr>\n    <tr>\n      <th>STOCH</th>\n      <td>Stochastic Oscillator</td>\n    </tr>\n    <tr>\n      <th>STREAK_DOWN</th>\n      <td>Consecutive streak of downs</td>\n    </tr>\n    <tr>\n      <th>STREAK_UP</th>\n      <td>Consecutive streak of ups</td>\n    </tr>\n    <tr>\n      <th>SUM</th>\n      <td>Rolling Sum</td>\n    </tr>\n    <tr>\n      <th>TEMA</th>\n      <td>Triple Exponential Moving Average</td>\n    </tr>\n    <tr>\n      <th>TRANGE</th>\n      <td>True Range</td>\n    </tr>\n    <tr>\n      <th>TYPPRICE</th>\n      <td>Typical Price</td>\n    </tr>\n    <tr>\n      <th>UPDOWN_FLAG</th>\n      <td>Flag for value crossing levels up &amp; down</td>\n    </tr>\n    <tr>\n      <th>WCLPRICE</th>\n      <td>Weighted Close Price</td>\n    </tr>\n    <tr>\n      <th>WMA</th>\n      <td>Weighted Moving Average</td>\n    </tr>\n  </tbody>\n</table>\n</div>"
     },
     "execution_count": 6,
     "metadata": {},
     "output_type": "execute_result"
    }
   ],
   "source": [
    "functions = list_functions()\n",
    "functions\n"
   ],
   "metadata": {
    "collapsed": false,
    "pycharm": {
     "name": "#%%\n"
    },
    "ExecuteTime": {
     "end_time": "2023-10-28T20:31:17.578753Z",
     "start_time": "2023-10-28T20:31:17.565909Z"
    }
   }
  },
  {
   "cell_type": "code",
   "execution_count": 7,
   "outputs": [
    {
     "name": "stdout",
     "output_type": "stream",
     "text": [
      "Help on cython_function_or_method in module mintalib.core:\n",
      "\n",
      "SAR(prices, afs: 'float' = 0.02, maxaf: 'float' = 0.2)\n",
      "    Parabolic Stop and Reverse\n"
     ]
    }
   ],
   "source": [
    "help(core.SAR)\n"
   ],
   "metadata": {
    "collapsed": false,
    "pycharm": {
     "name": "#%%\n"
    },
    "ExecuteTime": {
     "end_time": "2023-10-28T20:31:18.088757Z",
     "start_time": "2023-10-28T20:31:18.079577Z"
    }
   }
  },
  {
   "cell_type": "code",
   "execution_count": 8,
   "outputs": [
    {
     "name": "stdout",
     "output_type": "stream",
     "text": [
      "Backing up README.md ...\n"
     ]
    }
   ],
   "source": [
    "def backup_readme(verbose=True):\n",
    "    readme = ROOTDIR.joinpath(\"README.md\")\n",
    "    if ROOTDIR.joinpath(\"archive\").exists():\n",
    "        backup = ROOTDIR.joinpath(\"archive/README.bak\")\n",
    "    else:\n",
    "        backup = ROOTDIR.joinpath(\"README.bak\")\n",
    "\n",
    "    if verbose:\n",
    "        print(f\"Backing up {readme.name} ...\")\n",
    "\n",
    "    shutil.copy(readme, backup)\n",
    "\n",
    "\n",
    "backup_readme()\n"
   ],
   "metadata": {
    "collapsed": false,
    "ExecuteTime": {
     "end_time": "2023-10-28T20:31:18.666047Z",
     "start_time": "2023-10-28T20:31:18.651715Z"
    }
   }
  },
  {
   "cell_type": "code",
   "execution_count": 9,
   "outputs": [
    {
     "name": "stdout",
     "output_type": "stream",
     "text": [
      "Updating README.md ...\n"
     ]
    },
    {
     "data": {
      "text/plain": "8229"
     },
     "execution_count": 9,
     "metadata": {},
     "output_type": "execute_result"
    }
   ],
   "source": [
    "\n",
    "def update_readme(verbose=True):\n",
    "    title = \"## List of Indicators\\n\"\n",
    "    table = list_functions().to_markdown()\n",
    "    repl = title + \"\\n\" + table + \"\\n\\n\\n\"\n",
    "\n",
    "    # flags m=multiline, s=dotall\n",
    "    pattern = r\"(?ms)(^[#]+ List of (Functions|Indicators)\\n[^#]+)\"\n",
    "\n",
    "    readme = ROOTDIR.joinpath(\"README.md\")\n",
    "    contents = readme.read_text()\n",
    "\n",
    "    output, count = re.subn(pattern, repl, contents)\n",
    "\n",
    "    if count != 1:\n",
    "        raise RuntimeError(\"Cound not locate list of funtions\")\n",
    "\n",
    "    if verbose:\n",
    "        print(f\"Updating {readme.name} ...\")\n",
    "\n",
    "    return readme.write_text(output)\n",
    "\n",
    "\n",
    "\n",
    "update_readme()\n",
    "\n"
   ],
   "metadata": {
    "collapsed": false,
    "ExecuteTime": {
     "end_time": "2023-10-28T20:31:19.462711Z",
     "start_time": "2023-10-28T20:31:19.440627Z"
    }
   }
  },
  {
   "cell_type": "code",
   "execution_count": 44,
   "outputs": [],
   "source": [],
   "metadata": {
    "collapsed": false,
    "pycharm": {
     "name": "#%%\n"
    },
    "ExecuteTime": {
     "end_time": "2023-09-25T14:05:12.858903Z",
     "start_time": "2023-09-25T14:05:12.854693Z"
    }
   }
  },
  {
   "cell_type": "code",
   "execution_count": null,
   "outputs": [],
   "source": [],
   "metadata": {
    "collapsed": false
   }
  }
 ],
 "metadata": {
  "kernelspec": {
   "display_name": "Python 3",
   "language": "python",
   "name": "python3"
  },
  "language_info": {
   "codemirror_mode": {
    "name": "ipython",
    "version": 2
   },
   "file_extension": ".py",
   "mimetype": "text/x-python",
   "name": "python",
   "nbconvert_exporter": "python",
   "pygments_lexer": "ipython2",
   "version": "2.7.6"
  }
 },
 "nbformat": 4,
 "nbformat_minor": 0
}
