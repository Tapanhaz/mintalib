{
 "cells": [
  {
   "cell_type": "code",
   "execution_count": 3,
   "outputs": [],
   "source": [
    "from mintalib import indicators"
   ],
   "metadata": {
    "collapsed": false,
    "pycharm": {
     "name": "#%%\n"
    }
   }
  },
  {
   "cell_type": "code",
   "execution_count": 4,
   "outputs": [
    {
     "data": {
      "text/plain": "['ADX',\n 'ATR',\n 'ATRL',\n 'ATRP',\n 'CURVE',\n 'DEMA',\n 'EMA',\n 'EVAL',\n 'KAMA',\n 'MACD',\n 'PPO',\n 'PRICE',\n 'PSAR',\n 'RMA',\n 'ROC',\n 'RSI',\n 'SLOPE',\n 'SMA',\n 'STDEV',\n 'TEMA',\n 'TRADE',\n 'VOLUME',\n 'WMA',\n '__all__',\n '__builtins__',\n '__cached__',\n '__file__',\n '__loader__',\n '__name__',\n '__package__',\n '__spec__']"
     },
     "execution_count": 4,
     "metadata": {},
     "output_type": "execute_result"
    }
   ],
   "source": [
    "dir(indicators)"
   ],
   "metadata": {
    "collapsed": false,
    "pycharm": {
     "name": "#%%\n"
    }
   }
  },
  {
   "cell_type": "code",
   "execution_count": 5,
   "outputs": [
    {
     "name": "stdout",
     "output_type": "stream",
     "text": [
      "Help on class EMA in module mintalib.core:\n",
      "\n",
      "class EMA(mintalib.model.Indicator)\n",
      " |  EMA(period: 'int' = 20, *, item=None)\n",
      " |  \n",
      " |  Exponential Moving Average Indicator\n",
      " |  \n",
      " |  Args:\n",
      " |      period (int) : The indicator period. Default 20\n",
      " |  \n",
      " |  Returns:\n",
      " |      A Callable\n",
      " |  \n",
      " |  Method resolution order:\n",
      " |      EMA\n",
      " |      mintalib.model.Indicator\n",
      " |      abc.ABC\n",
      " |      mintalib.model.ReprMixin\n",
      " |      builtins.object\n",
      " |  \n",
      " |  Methods defined here:\n",
      " |  \n",
      " |  __init__(self, period: 'int' = 20, *, item=None)\n",
      " |  \n",
      " |  calc(self, data)\n",
      " |  \n",
      " |  ----------------------------------------------------------------------\n",
      " |  Data and other attributes defined here:\n",
      " |  \n",
      " |  __abstractmethods__ = frozenset()\n",
      " |  \n",
      " |  same_scale = True\n",
      " |  \n",
      " |  ----------------------------------------------------------------------\n",
      " |  Methods inherited from mintalib.model.Indicator:\n",
      " |  \n",
      " |  __call__(self, data)\n",
      " |      Call self as a function.\n",
      " |  \n",
      " |  __matmul__(self, other)\n",
      " |  \n",
      " |  __or__(self, other)\n",
      " |  \n",
      " |  calc_cached(self, data)\n",
      " |      calc with builtin caching\n",
      " |  \n",
      " |  clone(self, **kwargs)\n",
      " |  \n",
      " |  get_series(self, data)\n",
      " |  \n",
      " |  ----------------------------------------------------------------------\n",
      " |  Data descriptors inherited from mintalib.model.Indicator:\n",
      " |  \n",
      " |  __dict__\n",
      " |      dictionary for instance variables (if defined)\n",
      " |  \n",
      " |  __weakref__\n",
      " |      list of weak references to the object (if defined)\n",
      " |  \n",
      " |  ----------------------------------------------------------------------\n",
      " |  Data and other attributes inherited from mintalib.model.Indicator:\n",
      " |  \n",
      " |  default_item = 'close'\n",
      " |  \n",
      " |  item = None\n",
      " |  \n",
      " |  ----------------------------------------------------------------------\n",
      " |  Methods inherited from mintalib.model.ReprMixin:\n",
      " |  \n",
      " |  __repr__(self)\n",
      " |      Return repr(self).\n",
      "\n"
     ]
    }
   ],
   "source": [
    "indicators.EMA\n",
    "\n",
    "help(indicators.EMA)"
   ],
   "metadata": {
    "collapsed": false,
    "pycharm": {
     "name": "#%%\n"
    }
   }
  },
  {
   "cell_type": "code",
   "execution_count": null,
   "outputs": [],
   "source": [],
   "metadata": {
    "collapsed": false,
    "pycharm": {
     "name": "#%%\n"
    }
   }
  }
 ],
 "metadata": {
  "kernelspec": {
   "display_name": "Python 3",
   "language": "python",
   "name": "python3"
  },
  "language_info": {
   "codemirror_mode": {
    "name": "ipython",
    "version": 2
   },
   "file_extension": ".py",
   "mimetype": "text/x-python",
   "name": "python",
   "nbconvert_exporter": "python",
   "pygments_lexer": "ipython2",
   "version": "2.7.6"
  }
 },
 "nbformat": 4,
 "nbformat_minor": 0
}