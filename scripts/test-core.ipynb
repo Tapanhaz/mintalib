{
 "cells": [
  {
   "cell_type": "code",
   "execution_count": 32,
   "outputs": [],
   "source": [
    "import io\n",
    "import numpy as np\n",
    "import pandas as pd\n",
    "\n",
    "import inspect\n",
    "\n",
    "from mintalib import core\n",
    "\n",
    "from mintalib import testing\n",
    "\n",
    "from functools import lru_cache\n",
    "\n",
    "from itertools import product\n",
    "\n",
    "import talib\n",
    "\n",
    "from talib import abstract\n",
    "\n",
    "import warnings\n",
    "\n",
    "import pandas as pd\n"
   ],
   "metadata": {
    "collapsed": false,
    "pycharm": {
     "name": "#%%\n"
    }
   }
  },
  {
   "cell_type": "code",
   "execution_count": 33,
   "outputs": [
    {
     "data": {
      "text/plain": "['ADX',\n 'ATR',\n 'ATRL',\n 'ATRP',\n 'CURVE',\n 'CURVE_BADOPTION',\n 'CURVE_INTERCEPT',\n 'CURVE_MSE',\n 'CURVE_RMSE',\n 'CURVE_RSQUARE',\n 'CURVE_RVALUE',\n 'CURVE_SLOPE',\n 'CURVE_VALUE',\n 'CurveOption',\n 'DEMA',\n 'DataFrame',\n 'EMA',\n 'EVAL',\n 'Index',\n 'Indicator',\n 'KAMA',\n 'MACD',\n 'PPO',\n 'PRICE',\n 'PSAR',\n 'RMA',\n 'ROC',\n 'RSI',\n 'SLOPE',\n 'SLOPE_BADOPTION',\n 'SLOPE_CORRELATION',\n 'SLOPE_DEFAULT',\n 'SLOPE_FORECAST',\n 'SLOPE_INTERCEPT',\n 'SLOPE_RMSERROR',\n 'SLOPE_VALUE',\n 'SMA',\n 'STDEV',\n 'Series',\n 'SlopeOption',\n 'TEMA',\n 'TRADE',\n 'VOLUME',\n 'WMA',\n '__all__',\n '__builtins__',\n '__doc__',\n '__file__',\n '__loader__',\n '__name__',\n '__package__',\n '__pyx_unpickle_Enum',\n '__pyx_unpickle___Pyx_EnumMeta',\n '__spec__',\n '__test__',\n 'calc_adx',\n 'calc_atr',\n 'calc_curve',\n 'calc_dema',\n 'calc_ema',\n 'calc_kama',\n 'calc_log',\n 'calc_macd',\n 'calc_mid',\n 'calc_ppo',\n 'calc_price',\n 'calc_psar',\n 'calc_rma',\n 'calc_roc',\n 'calc_rsi',\n 'calc_slope',\n 'calc_sma',\n 'calc_stdev',\n 'calc_streak',\n 'calc_tema',\n 'calc_trange',\n 'calc_wma',\n 'efficiency_ratio',\n 'export',\n 'make_dataframe',\n 'make_series',\n 'np']"
     },
     "execution_count": 33,
     "metadata": {},
     "output_type": "execute_result"
    }
   ],
   "source": [
    "dir(core)"
   ],
   "metadata": {
    "collapsed": false,
    "pycharm": {
     "name": "#%%\n"
    }
   }
  },
  {
   "cell_type": "code",
   "execution_count": 34,
   "outputs": [
    {
     "name": "stdout",
     "output_type": "stream",
     "text": [
      "Help on cython_function_or_method in module mintalib.core:\n",
      "\n",
      "calc_ema(series, period=20)\n",
      "    Exponential Moving Average\n",
      "    \n",
      "    Args:\n",
      "        series (series) : The input series. Required\n",
      "        period (int) : The indicator period. Default 20\n",
      "    \n",
      "    Returns:\n",
      "        A series\n",
      "\n"
     ]
    }
   ],
   "source": [
    "help(core.calc_ema)"
   ],
   "metadata": {
    "collapsed": false,
    "pycharm": {
     "name": "#%%\n"
    }
   }
  },
  {
   "cell_type": "code",
   "execution_count": 35,
   "outputs": [
    {
     "name": "stdout",
     "output_type": "stream",
     "text": [
      "Help on class SMA in module mintalib.core:\n",
      "\n",
      "class SMA(mintalib.model.Indicator)\n",
      " |  SMA(period=50, *, item=None)\n",
      " |  \n",
      " |  Simple Moving Average\n",
      " |  \n",
      " |  Method resolution order:\n",
      " |      SMA\n",
      " |      mintalib.model.Indicator\n",
      " |      abc.ABC\n",
      " |      mintalib.model.ReprMixin\n",
      " |      builtins.object\n",
      " |  \n",
      " |  Methods defined here:\n",
      " |  \n",
      " |  __init__(self, period=50, *, item=None)\n",
      " |  \n",
      " |  calc(self, data)\n",
      " |  \n",
      " |  ----------------------------------------------------------------------\n",
      " |  Data and other attributes defined here:\n",
      " |  \n",
      " |  __abstractmethods__ = frozenset()\n",
      " |  \n",
      " |  same_scale = True\n",
      " |  \n",
      " |  ----------------------------------------------------------------------\n",
      " |  Methods inherited from mintalib.model.Indicator:\n",
      " |  \n",
      " |  __call__(self, data)\n",
      " |      Call self as a function.\n",
      " |  \n",
      " |  __matmul__(self, other)\n",
      " |  \n",
      " |  __or__(self, other)\n",
      " |  \n",
      " |  calc_cached(self, data)\n",
      " |      calc with builtin caching\n",
      " |  \n",
      " |  clone(self, **kwargs)\n",
      " |  \n",
      " |  get_series(self, data)\n",
      " |  \n",
      " |  ----------------------------------------------------------------------\n",
      " |  Data descriptors inherited from mintalib.model.Indicator:\n",
      " |  \n",
      " |  __dict__\n",
      " |      dictionary for instance variables (if defined)\n",
      " |  \n",
      " |  __weakref__\n",
      " |      list of weak references to the object (if defined)\n",
      " |  \n",
      " |  ----------------------------------------------------------------------\n",
      " |  Data and other attributes inherited from mintalib.model.Indicator:\n",
      " |  \n",
      " |  default_item = 'close'\n",
      " |  \n",
      " |  item = None\n",
      " |  \n",
      " |  ----------------------------------------------------------------------\n",
      " |  Methods inherited from mintalib.model.ReprMixin:\n",
      " |  \n",
      " |  __repr__(self)\n",
      " |      Return repr(self).\n",
      "\n"
     ]
    }
   ],
   "source": [
    "help(core.SMA)"
   ],
   "metadata": {
    "collapsed": false,
    "pycharm": {
     "name": "#%%\n"
    }
   }
  },
  {
   "cell_type": "code",
   "execution_count": 36,
   "outputs": [
    {
     "data": {
      "text/plain": "<Signature (self, data)>"
     },
     "execution_count": 36,
     "metadata": {},
     "output_type": "execute_result"
    }
   ],
   "source": [
    "inspect.signature(core.SMA.calc)\n"
   ],
   "metadata": {
    "collapsed": false,
    "pycharm": {
     "name": "#%%\n"
    }
   }
  },
  {
   "cell_type": "code",
   "execution_count": 37,
   "outputs": [
    {
     "data": {
      "text/plain": "pandas.core.frame.DataFrame"
     },
     "execution_count": 37,
     "metadata": {},
     "output_type": "execute_result"
    }
   ],
   "source": [
    "prices = testing.get_prices()\n",
    "type(prices)"
   ],
   "metadata": {
    "collapsed": false,
    "pycharm": {
     "name": "#%%\n"
    }
   }
  },
  {
   "cell_type": "code",
   "execution_count": 39,
   "outputs": [
    {
     "data": {
      "text/plain": "0           NaN\n1           NaN\n2           NaN\n3           NaN\n4           NaN\n         ...   \n245    1.909249\n246    1.895731\n247    1.891750\n248    1.943768\n249    1.920642\nLength: 250, dtype: float64"
     },
     "execution_count": 39,
     "metadata": {},
     "output_type": "execute_result"
    }
   ],
   "source": [
    "core.calc_atr(prices)\n"
   ],
   "metadata": {
    "collapsed": false,
    "pycharm": {
     "name": "#%%\n"
    }
   }
  },
  {
   "cell_type": "code",
   "execution_count": 20,
   "outputs": [
    {
     "data": {
      "text/plain": "                macd  macdsignal  macdhist\ndate                                      \n2021-07-29       NaN         NaN       NaN\n2021-07-30       NaN         NaN       NaN\n2021-08-02       NaN         NaN       NaN\n2021-08-03       NaN         NaN       NaN\n2021-08-04       NaN         NaN       NaN\n...              ...         ...       ...\n2022-07-21 -1.394736   -1.165696 -0.229041\n2022-07-22 -1.639678   -1.260492 -0.379185\n2022-07-25 -1.578367   -1.324067 -0.254300\n2022-07-26 -1.530693   -1.365392 -0.165300\n2022-07-27 -1.408889   -1.374092 -0.034797\n\n[260 rows x 3 columns]",
      "text/html": "<div>\n<style scoped>\n    .dataframe tbody tr th:only-of-type {\n        vertical-align: middle;\n    }\n\n    .dataframe tbody tr th {\n        vertical-align: top;\n    }\n\n    .dataframe thead th {\n        text-align: right;\n    }\n</style>\n<table border=\"1\" class=\"dataframe\">\n  <thead>\n    <tr style=\"text-align: right;\">\n      <th></th>\n      <th>macd</th>\n      <th>macdsignal</th>\n      <th>macdhist</th>\n    </tr>\n    <tr>\n      <th>date</th>\n      <th></th>\n      <th></th>\n      <th></th>\n    </tr>\n  </thead>\n  <tbody>\n    <tr>\n      <th>2021-07-29</th>\n      <td>NaN</td>\n      <td>NaN</td>\n      <td>NaN</td>\n    </tr>\n    <tr>\n      <th>2021-07-30</th>\n      <td>NaN</td>\n      <td>NaN</td>\n      <td>NaN</td>\n    </tr>\n    <tr>\n      <th>2021-08-02</th>\n      <td>NaN</td>\n      <td>NaN</td>\n      <td>NaN</td>\n    </tr>\n    <tr>\n      <th>2021-08-03</th>\n      <td>NaN</td>\n      <td>NaN</td>\n      <td>NaN</td>\n    </tr>\n    <tr>\n      <th>2021-08-04</th>\n      <td>NaN</td>\n      <td>NaN</td>\n      <td>NaN</td>\n    </tr>\n    <tr>\n      <th>...</th>\n      <td>...</td>\n      <td>...</td>\n      <td>...</td>\n    </tr>\n    <tr>\n      <th>2022-07-21</th>\n      <td>-1.394736</td>\n      <td>-1.165696</td>\n      <td>-0.229041</td>\n    </tr>\n    <tr>\n      <th>2022-07-22</th>\n      <td>-1.639678</td>\n      <td>-1.260492</td>\n      <td>-0.379185</td>\n    </tr>\n    <tr>\n      <th>2022-07-25</th>\n      <td>-1.578367</td>\n      <td>-1.324067</td>\n      <td>-0.254300</td>\n    </tr>\n    <tr>\n      <th>2022-07-26</th>\n      <td>-1.530693</td>\n      <td>-1.365392</td>\n      <td>-0.165300</td>\n    </tr>\n    <tr>\n      <th>2022-07-27</th>\n      <td>-1.408889</td>\n      <td>-1.374092</td>\n      <td>-0.034797</td>\n    </tr>\n  </tbody>\n</table>\n<p>260 rows × 3 columns</p>\n</div>"
     },
     "execution_count": 20,
     "metadata": {},
     "output_type": "execute_result"
    }
   ],
   "source": [
    "core.calc_macd(prices.close)"
   ],
   "metadata": {
    "collapsed": false,
    "pycharm": {
     "name": "#%%\n"
    }
   }
  },
  {
   "cell_type": "code",
   "execution_count": 21,
   "outputs": [
    {
     "data": {
      "text/plain": "['adx',\n 'atr',\n 'curve',\n 'dema',\n 'ema',\n 'kama',\n 'log',\n 'macd',\n 'mid',\n 'ppo',\n 'price',\n 'psar',\n 'rma',\n 'roc',\n 'rsi',\n 'slope',\n 'sma',\n 'stdev',\n 'streak',\n 'tema',\n 'trange',\n 'wma']"
     },
     "execution_count": 21,
     "metadata": {},
     "output_type": "execute_result"
    }
   ],
   "source": [
    "names = [n[5:] for n in dir(core) if n.startswith(\"calc_\")]\n",
    "names\n"
   ],
   "metadata": {
    "collapsed": false,
    "pycharm": {
     "name": "#%%\n"
    }
   }
  },
  {
   "cell_type": "code",
   "execution_count": 22,
   "outputs": [
    {
     "name": "stdout",
     "output_type": "stream",
     "text": [
      "calc_sma series\n",
      "sma S50:0 20\n",
      "sma <class 'pandas.core.series.Series'> <class 'pandas.core.series.Series'> True\n",
      "sma S50:20 20\n",
      "sma <class 'pandas.core.series.Series'> <class 'pandas.core.series.Series'> True\n",
      "sma S50:-5 20\n",
      "sma <class 'pandas.core.series.Series'> <class 'pandas.core.series.Series'> False\n",
      "calc_ema series\n",
      "ema S50:0 20\n",
      "ema <class 'pandas.core.series.Series'> <class 'pandas.core.series.Series'> False\n",
      "ema S50:20 20\n",
      "ema <class 'pandas.core.series.Series'> <class 'pandas.core.series.Series'> False\n",
      "ema S50:-5 20\n",
      "ema <class 'pandas.core.series.Series'> <class 'pandas.core.series.Series'> False\n"
     ]
    }
   ],
   "source": [
    "\n",
    "map_names = dict(mid='midprice')\n",
    "\n",
    "\n",
    "def get_calc(name):\n",
    "    func = getattr(core, f\"calc_{name}\", None)\n",
    "    return func\n",
    "\n",
    "\n",
    "def ref_ema(series, period):\n",
    "    return series.ewm(span=period, min_periods=period, adjust=False, ignore_na=True).mean()\n",
    "\n",
    "\n",
    "def ref_sma(series, period):\n",
    "    return series.rolling(window=period).mean()\n",
    "\n",
    "\n",
    "def get_ref(name):\n",
    "    func = globals().get(f\"ref_{name}\")\n",
    "    if func is None:\n",
    "        func = getattr(abstract, name.upper(), None)\n",
    "    return func\n",
    "\n",
    "\n",
    "def get_first_param(func):\n",
    "    signature = inspect.signature(func)\n",
    "    parameters = list(signature.parameters.values())\n",
    "    if parameters:\n",
    "        param = parameters[0]\n",
    "        return param.name\n",
    "\n",
    "\n",
    "\n",
    "@lru_cache\n",
    "def series_inputs():\n",
    "    inputs = dict()\n",
    "    for count, skip in product([50], [0, 20, -5]):\n",
    "        key = f\"S{count}:{skip}\"\n",
    "        data = random_walk(count, skip=skip)\n",
    "        inputs[key] = data\n",
    "    return inputs\n",
    "\n",
    "@lru_cache\n",
    "def prices_inputs():\n",
    "    inputs = dict()\n",
    "    for count, skip in product([50], [0, 20, -5]):\n",
    "        key = f\"P{count}:{skip}\"\n",
    "        data = sample_prices(count, skip=skip)\n",
    "        inputs[key] = data\n",
    "    return inputs\n",
    "\n",
    "\n",
    "def test_name(name, period):\n",
    "    calc = get_calc(name)\n",
    "    ref = get_ref(name)\n",
    "\n",
    "    if calc is None:\n",
    "        warnings.warn(\"Calc for {name} not found!\")\n",
    "        return\n",
    "\n",
    "    if ref is None:\n",
    "        warnings.warn(f\"Ref for {name} fnot found!\")\n",
    "        return\n",
    "\n",
    "    param = get_first_param(calc)\n",
    "    print(f\"calc_{name}\", param)\n",
    "\n",
    "    if param == 'prices':\n",
    "        inputs = prices_inputs()\n",
    "    else:\n",
    "        inputs = series_inputs()\n",
    "\n",
    "    for key, data in inputs.items():\n",
    "        print(name, key, period)\n",
    "        result = calc(data, period)\n",
    "        target = ref(data, period)\n",
    "        compare = compare_results(result, target)\n",
    "\n",
    "        print(name, type(result), type(target), compare)\n",
    "\n",
    "\n",
    "def compare_results(result, target):\n",
    "    if isinstance(result, pd.Series):\n",
    "        result = result.values\n",
    "\n",
    "    if isinstance(target, pd.Series):\n",
    "        target = target.values\n",
    "\n",
    "    return np.allclose(result, target, equal_nan=True)\n",
    "\n",
    "\n",
    "\n",
    "test_name(\"sma\", 20)\n",
    "test_name(\"ema\", 20)\n",
    "\n"
   ],
   "metadata": {
    "collapsed": false,
    "pycharm": {
     "name": "#%%\n"
    }
   }
  },
  {
   "cell_type": "code",
   "execution_count": 23,
   "outputs": [],
   "source": [
    "data = \"\"\"\\\n",
    "date          open    high     low   close    volume\n",
    "2022-05-19   99.76  100.72   99.76  100.72  136654.0\n",
    "2022-05-20  100.67  102.90  100.67  102.90  191287.0\n",
    "2022-05-23  103.82  104.16  103.63  103.63  153282.0\n",
    "2022-05-24  102.04  103.44  102.04  103.44  174975.0\n",
    "2022-05-25  103.78  104.34  103.49  104.25  150746.0\n",
    "2022-05-26  104.28  105.87  104.28  105.87   95146.0\n",
    "2022-05-27  105.86  106.15  105.41  106.15  148301.0\n",
    "2022-05-30  108.14  108.14  106.20  106.49  169159.0\n",
    "2022-05-31  106.78  106.78  105.39  105.80  111953.0\n",
    "2022-06-01  106.55  107.42  105.32  107.42  219275.0\n",
    "2022-06-02  106.86  106.86  104.98  104.98  157016.0\n",
    "2022-06-03  104.82  105.15  103.92  103.92  178344.0\n",
    "2022-06-06  103.27  103.27  102.16  102.85  111618.0\n",
    "2022-06-07  103.35  103.35  102.10  102.53  110751.0\n",
    "2022-06-08  103.06  104.92  102.67  103.57   99175.0\n",
    "2022-06-09  102.58  103.74  102.58  102.67  177273.0\n",
    "2022-06-10  102.39  102.39  101.95  102.12  116301.0\n",
    "2022-06-13  102.72  104.11  102.61  104.11   82395.0\n",
    "2022-06-14  104.38  106.13  104.36  106.13  156676.0\n",
    "2022-06-15  106.16  106.16  105.46  105.46  178853.0\n",
    "2022-06-16  105.36  106.75  105.36  106.75  149042.0\n",
    "2022-06-17  106.83  107.67  106.83  107.35  130764.0\n",
    "2022-06-20  106.81  106.81  106.62  106.81  162909.0\n",
    "2022-06-21  106.59  107.14  106.21  107.14  133974.0\n",
    "2022-06-22  107.49  107.49  106.05  106.05  161829.0\n",
    "2022-06-23  106.43  106.43  105.06  105.06  126359.0\n",
    "2022-06-24  104.91  105.75  104.70  105.75  125444.0\n",
    "2022-06-27  106.32  106.32  105.26  105.89  125450.0\n",
    "2022-06-28  105.50  106.89  105.50  106.89  129627.0\n",
    "2022-06-29  106.48  107.18  106.03  106.03  118273.0\n",
    "2022-06-30  106.34  106.34  105.93  106.09  123633.0\n",
    "2022-07-01  107.60  108.45  107.26  108.45  140498.0\n",
    "2022-07-04  108.84  109.58  108.84  109.58  165658.0\n",
    "2022-07-05  109.28  110.87  109.28  109.57  151093.0\n",
    "2022-07-06  110.36  112.30  110.36  112.26  133831.0\n",
    "2022-07-07  111.55  111.55  110.14  110.14  146914.0\n",
    "2022-07-08  110.46  111.15  110.41  110.69  151584.0\n",
    "2022-07-11  110.91  110.91  109.58  110.82  125386.0\n",
    "2022-07-12  110.10  110.10  109.00  109.00  130852.0\n",
    "2022-07-13  108.91  108.91  107.92  108.16  168689.0\n",
    "2022-07-14  109.18  109.87  109.17  109.84  160095.0\n",
    "2022-07-15  109.92  109.92  108.75  109.69  185769.0\n",
    "2022-07-18  111.00  111.60  110.81  110.81  144026.0\n",
    "2022-07-19  111.01  111.01  109.21  109.21  137981.0\n",
    "2022-07-20  110.82  111.37  110.40  110.40  119492.0\n",
    "2022-07-21  109.75  109.82  108.80  108.80  127867.0\n",
    "2022-07-22  109.27  109.27  107.64  107.64  182014.0\n",
    "2022-07-25  107.94  107.94  105.99  105.99  157951.0\n",
    "2022-07-26  107.50  108.11  107.19  107.40  191611.0\n",
    "2022-07-27  108.38  108.80  107.96  108.80  114188.0\n",
    "\"\"\""
   ],
   "metadata": {
    "collapsed": false,
    "pycharm": {
     "name": "#%%\n"
    }
   }
  },
  {
   "cell_type": "code",
   "execution_count": 12,
   "outputs": [
    {
     "ename": "FileNotFoundError",
     "evalue": "[Errno 2] No such file or directory: 'date          open    high     low   close    volume\\n2022-05-19   99.76  100.72   99.76  100.72  136654.0\\n2022-05-20  100.67  102.90  100.67  102.90  191287.0\\n2022-05-23  103.82  104.16  103.63  103.63  153282.0\\n2022-05-24  102.04  103.44  102.04  103.44  174975.0\\n2022-05-25  103.78  104.34  103.49  104.25  150746.0\\n2022-05-26  104.28  105.87  104.28  105.87   95146.0\\n2022-05-27  105.86  106.15  105.41  106.15  148301.0\\n2022-05-30  108.14  108.14  106.20  106.49  169159.0\\n2022-05-31  106.78  106.78  105.39  105.80  111953.0\\n2022-06-01  106.55  107.42  105.32  107.42  219275.0\\n2022-06-02  106.86  106.86  104.98  104.98  157016.0\\n2022-06-03  104.82  105.15  103.92  103.92  178344.0\\n2022-06-06  103.27  103.27  102.16  102.85  111618.0\\n2022-06-07  103.35  103.35  102.10  102.53  110751.0\\n2022-06-08  103.06  104.92  102.67  103.57   99175.0\\n2022-06-09  102.58  103.74  102.58  102.67  177273.0\\n2022-06-10  102.39  102.39  101.95  102.12  116301.0\\n2022-06-13  102.72  104.11  102.61  104.11   82395.0\\n2022-06-14  104.38  106.13  104.36  106.13  156676.0\\n2022-06-15  106.16  106.16  105.46  105.46  178853.0\\n2022-06-16  105.36  106.75  105.36  106.75  149042.0\\n2022-06-17  106.83  107.67  106.83  107.35  130764.0\\n2022-06-20  106.81  106.81  106.62  106.81  162909.0\\n2022-06-21  106.59  107.14  106.21  107.14  133974.0\\n2022-06-22  107.49  107.49  106.05  106.05  161829.0\\n2022-06-23  106.43  106.43  105.06  105.06  126359.0\\n2022-06-24  104.91  105.75  104.70  105.75  125444.0\\n2022-06-27  106.32  106.32  105.26  105.89  125450.0\\n2022-06-28  105.50  106.89  105.50  106.89  129627.0\\n2022-06-29  106.48  107.18  106.03  106.03  118273.0\\n2022-06-30  106.34  106.34  105.93  106.09  123633.0\\n2022-07-01  107.60  108.45  107.26  108.45  140498.0\\n2022-07-04  108.84  109.58  108.84  109.58  165658.0\\n2022-07-05  109.28  110.87  109.28  109.57  151093.0\\n2022-07-06  110.36  112.30  110.36  112.26  133831.0\\n2022-07-07  111.55  111.55  110.14  110.14  146914.0\\n2022-07-08  110.46  111.15  110.41  110.69  151584.0\\n2022-07-11  110.91  110.91  109.58  110.82  125386.0\\n2022-07-12  110.10  110.10  109.00  109.00  130852.0\\n2022-07-13  108.91  108.91  107.92  108.16  168689.0\\n2022-07-14  109.18  109.87  109.17  109.84  160095.0\\n2022-07-15  109.92  109.92  108.75  109.69  185769.0\\n2022-07-18  111.00  111.60  110.81  110.81  144026.0\\n2022-07-19  111.01  111.01  109.21  109.21  137981.0\\n2022-07-20  110.82  111.37  110.40  110.40  119492.0\\n2022-07-21  109.75  109.82  108.80  108.80  127867.0\\n2022-07-22  109.27  109.27  107.64  107.64  182014.0\\n2022-07-25  107.94  107.94  105.99  105.99  157951.0\\n2022-07-26  107.50  108.11  107.19  107.40  191611.0\\n2022-07-27  108.38  108.80  107.96  108.80  114188.0\\n'",
     "output_type": "error",
     "traceback": [
      "\u001B[1;31m---------------------------------------------------------------------------\u001B[0m",
      "\u001B[1;31mFileNotFoundError\u001B[0m                         Traceback (most recent call last)",
      "Input \u001B[1;32mIn [12]\u001B[0m, in \u001B[0;36m<cell line: 1>\u001B[1;34m()\u001B[0m\n\u001B[1;32m----> 1\u001B[0m \u001B[43mpd\u001B[49m\u001B[38;5;241;43m.\u001B[39;49m\u001B[43mread_csv\u001B[49m\u001B[43m(\u001B[49m\u001B[43mdata\u001B[49m\u001B[43m)\u001B[49m\n",
      "File \u001B[1;32m~\\miniconda3\\envs\\py38\\lib\\site-packages\\pandas\\util\\_decorators.py:311\u001B[0m, in \u001B[0;36mdeprecate_nonkeyword_arguments.<locals>.decorate.<locals>.wrapper\u001B[1;34m(*args, **kwargs)\u001B[0m\n\u001B[0;32m    305\u001B[0m \u001B[38;5;28;01mif\u001B[39;00m \u001B[38;5;28mlen\u001B[39m(args) \u001B[38;5;241m>\u001B[39m num_allow_args:\n\u001B[0;32m    306\u001B[0m     warnings\u001B[38;5;241m.\u001B[39mwarn(\n\u001B[0;32m    307\u001B[0m         msg\u001B[38;5;241m.\u001B[39mformat(arguments\u001B[38;5;241m=\u001B[39marguments),\n\u001B[0;32m    308\u001B[0m         \u001B[38;5;167;01mFutureWarning\u001B[39;00m,\n\u001B[0;32m    309\u001B[0m         stacklevel\u001B[38;5;241m=\u001B[39mstacklevel,\n\u001B[0;32m    310\u001B[0m     )\n\u001B[1;32m--> 311\u001B[0m \u001B[38;5;28;01mreturn\u001B[39;00m \u001B[43mfunc\u001B[49m\u001B[43m(\u001B[49m\u001B[38;5;241;43m*\u001B[39;49m\u001B[43margs\u001B[49m\u001B[43m,\u001B[49m\u001B[43m \u001B[49m\u001B[38;5;241;43m*\u001B[39;49m\u001B[38;5;241;43m*\u001B[39;49m\u001B[43mkwargs\u001B[49m\u001B[43m)\u001B[49m\n",
      "File \u001B[1;32m~\\miniconda3\\envs\\py38\\lib\\site-packages\\pandas\\io\\parsers\\readers.py:680\u001B[0m, in \u001B[0;36mread_csv\u001B[1;34m(filepath_or_buffer, sep, delimiter, header, names, index_col, usecols, squeeze, prefix, mangle_dupe_cols, dtype, engine, converters, true_values, false_values, skipinitialspace, skiprows, skipfooter, nrows, na_values, keep_default_na, na_filter, verbose, skip_blank_lines, parse_dates, infer_datetime_format, keep_date_col, date_parser, dayfirst, cache_dates, iterator, chunksize, compression, thousands, decimal, lineterminator, quotechar, quoting, doublequote, escapechar, comment, encoding, encoding_errors, dialect, error_bad_lines, warn_bad_lines, on_bad_lines, delim_whitespace, low_memory, memory_map, float_precision, storage_options)\u001B[0m\n\u001B[0;32m    665\u001B[0m kwds_defaults \u001B[38;5;241m=\u001B[39m _refine_defaults_read(\n\u001B[0;32m    666\u001B[0m     dialect,\n\u001B[0;32m    667\u001B[0m     delimiter,\n\u001B[1;32m   (...)\u001B[0m\n\u001B[0;32m    676\u001B[0m     defaults\u001B[38;5;241m=\u001B[39m{\u001B[38;5;124m\"\u001B[39m\u001B[38;5;124mdelimiter\u001B[39m\u001B[38;5;124m\"\u001B[39m: \u001B[38;5;124m\"\u001B[39m\u001B[38;5;124m,\u001B[39m\u001B[38;5;124m\"\u001B[39m},\n\u001B[0;32m    677\u001B[0m )\n\u001B[0;32m    678\u001B[0m kwds\u001B[38;5;241m.\u001B[39mupdate(kwds_defaults)\n\u001B[1;32m--> 680\u001B[0m \u001B[38;5;28;01mreturn\u001B[39;00m \u001B[43m_read\u001B[49m\u001B[43m(\u001B[49m\u001B[43mfilepath_or_buffer\u001B[49m\u001B[43m,\u001B[49m\u001B[43m \u001B[49m\u001B[43mkwds\u001B[49m\u001B[43m)\u001B[49m\n",
      "File \u001B[1;32m~\\miniconda3\\envs\\py38\\lib\\site-packages\\pandas\\io\\parsers\\readers.py:575\u001B[0m, in \u001B[0;36m_read\u001B[1;34m(filepath_or_buffer, kwds)\u001B[0m\n\u001B[0;32m    572\u001B[0m _validate_names(kwds\u001B[38;5;241m.\u001B[39mget(\u001B[38;5;124m\"\u001B[39m\u001B[38;5;124mnames\u001B[39m\u001B[38;5;124m\"\u001B[39m, \u001B[38;5;28;01mNone\u001B[39;00m))\n\u001B[0;32m    574\u001B[0m \u001B[38;5;66;03m# Create the parser.\u001B[39;00m\n\u001B[1;32m--> 575\u001B[0m parser \u001B[38;5;241m=\u001B[39m \u001B[43mTextFileReader\u001B[49m\u001B[43m(\u001B[49m\u001B[43mfilepath_or_buffer\u001B[49m\u001B[43m,\u001B[49m\u001B[43m \u001B[49m\u001B[38;5;241;43m*\u001B[39;49m\u001B[38;5;241;43m*\u001B[39;49m\u001B[43mkwds\u001B[49m\u001B[43m)\u001B[49m\n\u001B[0;32m    577\u001B[0m \u001B[38;5;28;01mif\u001B[39;00m chunksize \u001B[38;5;129;01mor\u001B[39;00m iterator:\n\u001B[0;32m    578\u001B[0m     \u001B[38;5;28;01mreturn\u001B[39;00m parser\n",
      "File \u001B[1;32m~\\miniconda3\\envs\\py38\\lib\\site-packages\\pandas\\io\\parsers\\readers.py:933\u001B[0m, in \u001B[0;36mTextFileReader.__init__\u001B[1;34m(self, f, engine, **kwds)\u001B[0m\n\u001B[0;32m    930\u001B[0m     \u001B[38;5;28mself\u001B[39m\u001B[38;5;241m.\u001B[39moptions[\u001B[38;5;124m\"\u001B[39m\u001B[38;5;124mhas_index_names\u001B[39m\u001B[38;5;124m\"\u001B[39m] \u001B[38;5;241m=\u001B[39m kwds[\u001B[38;5;124m\"\u001B[39m\u001B[38;5;124mhas_index_names\u001B[39m\u001B[38;5;124m\"\u001B[39m]\n\u001B[0;32m    932\u001B[0m \u001B[38;5;28mself\u001B[39m\u001B[38;5;241m.\u001B[39mhandles: IOHandles \u001B[38;5;241m|\u001B[39m \u001B[38;5;28;01mNone\u001B[39;00m \u001B[38;5;241m=\u001B[39m \u001B[38;5;28;01mNone\u001B[39;00m\n\u001B[1;32m--> 933\u001B[0m \u001B[38;5;28mself\u001B[39m\u001B[38;5;241m.\u001B[39m_engine \u001B[38;5;241m=\u001B[39m \u001B[38;5;28;43mself\u001B[39;49m\u001B[38;5;241;43m.\u001B[39;49m\u001B[43m_make_engine\u001B[49m\u001B[43m(\u001B[49m\u001B[43mf\u001B[49m\u001B[43m,\u001B[49m\u001B[43m \u001B[49m\u001B[38;5;28;43mself\u001B[39;49m\u001B[38;5;241;43m.\u001B[39;49m\u001B[43mengine\u001B[49m\u001B[43m)\u001B[49m\n",
      "File \u001B[1;32m~\\miniconda3\\envs\\py38\\lib\\site-packages\\pandas\\io\\parsers\\readers.py:1217\u001B[0m, in \u001B[0;36mTextFileReader._make_engine\u001B[1;34m(self, f, engine)\u001B[0m\n\u001B[0;32m   1213\u001B[0m     mode \u001B[38;5;241m=\u001B[39m \u001B[38;5;124m\"\u001B[39m\u001B[38;5;124mrb\u001B[39m\u001B[38;5;124m\"\u001B[39m\n\u001B[0;32m   1214\u001B[0m \u001B[38;5;66;03m# error: No overload variant of \"get_handle\" matches argument types\u001B[39;00m\n\u001B[0;32m   1215\u001B[0m \u001B[38;5;66;03m# \"Union[str, PathLike[str], ReadCsvBuffer[bytes], ReadCsvBuffer[str]]\"\u001B[39;00m\n\u001B[0;32m   1216\u001B[0m \u001B[38;5;66;03m# , \"str\", \"bool\", \"Any\", \"Any\", \"Any\", \"Any\", \"Any\"\u001B[39;00m\n\u001B[1;32m-> 1217\u001B[0m \u001B[38;5;28mself\u001B[39m\u001B[38;5;241m.\u001B[39mhandles \u001B[38;5;241m=\u001B[39m \u001B[43mget_handle\u001B[49m\u001B[43m(\u001B[49m\u001B[43m  \u001B[49m\u001B[38;5;66;43;03m# type: ignore[call-overload]\u001B[39;49;00m\n\u001B[0;32m   1218\u001B[0m \u001B[43m    \u001B[49m\u001B[43mf\u001B[49m\u001B[43m,\u001B[49m\n\u001B[0;32m   1219\u001B[0m \u001B[43m    \u001B[49m\u001B[43mmode\u001B[49m\u001B[43m,\u001B[49m\n\u001B[0;32m   1220\u001B[0m \u001B[43m    \u001B[49m\u001B[43mencoding\u001B[49m\u001B[38;5;241;43m=\u001B[39;49m\u001B[38;5;28;43mself\u001B[39;49m\u001B[38;5;241;43m.\u001B[39;49m\u001B[43moptions\u001B[49m\u001B[38;5;241;43m.\u001B[39;49m\u001B[43mget\u001B[49m\u001B[43m(\u001B[49m\u001B[38;5;124;43m\"\u001B[39;49m\u001B[38;5;124;43mencoding\u001B[39;49m\u001B[38;5;124;43m\"\u001B[39;49m\u001B[43m,\u001B[49m\u001B[43m \u001B[49m\u001B[38;5;28;43;01mNone\u001B[39;49;00m\u001B[43m)\u001B[49m\u001B[43m,\u001B[49m\n\u001B[0;32m   1221\u001B[0m \u001B[43m    \u001B[49m\u001B[43mcompression\u001B[49m\u001B[38;5;241;43m=\u001B[39;49m\u001B[38;5;28;43mself\u001B[39;49m\u001B[38;5;241;43m.\u001B[39;49m\u001B[43moptions\u001B[49m\u001B[38;5;241;43m.\u001B[39;49m\u001B[43mget\u001B[49m\u001B[43m(\u001B[49m\u001B[38;5;124;43m\"\u001B[39;49m\u001B[38;5;124;43mcompression\u001B[39;49m\u001B[38;5;124;43m\"\u001B[39;49m\u001B[43m,\u001B[49m\u001B[43m \u001B[49m\u001B[38;5;28;43;01mNone\u001B[39;49;00m\u001B[43m)\u001B[49m\u001B[43m,\u001B[49m\n\u001B[0;32m   1222\u001B[0m \u001B[43m    \u001B[49m\u001B[43mmemory_map\u001B[49m\u001B[38;5;241;43m=\u001B[39;49m\u001B[38;5;28;43mself\u001B[39;49m\u001B[38;5;241;43m.\u001B[39;49m\u001B[43moptions\u001B[49m\u001B[38;5;241;43m.\u001B[39;49m\u001B[43mget\u001B[49m\u001B[43m(\u001B[49m\u001B[38;5;124;43m\"\u001B[39;49m\u001B[38;5;124;43mmemory_map\u001B[39;49m\u001B[38;5;124;43m\"\u001B[39;49m\u001B[43m,\u001B[49m\u001B[43m \u001B[49m\u001B[38;5;28;43;01mFalse\u001B[39;49;00m\u001B[43m)\u001B[49m\u001B[43m,\u001B[49m\n\u001B[0;32m   1223\u001B[0m \u001B[43m    \u001B[49m\u001B[43mis_text\u001B[49m\u001B[38;5;241;43m=\u001B[39;49m\u001B[43mis_text\u001B[49m\u001B[43m,\u001B[49m\n\u001B[0;32m   1224\u001B[0m \u001B[43m    \u001B[49m\u001B[43merrors\u001B[49m\u001B[38;5;241;43m=\u001B[39;49m\u001B[38;5;28;43mself\u001B[39;49m\u001B[38;5;241;43m.\u001B[39;49m\u001B[43moptions\u001B[49m\u001B[38;5;241;43m.\u001B[39;49m\u001B[43mget\u001B[49m\u001B[43m(\u001B[49m\u001B[38;5;124;43m\"\u001B[39;49m\u001B[38;5;124;43mencoding_errors\u001B[39;49m\u001B[38;5;124;43m\"\u001B[39;49m\u001B[43m,\u001B[49m\u001B[43m \u001B[49m\u001B[38;5;124;43m\"\u001B[39;49m\u001B[38;5;124;43mstrict\u001B[39;49m\u001B[38;5;124;43m\"\u001B[39;49m\u001B[43m)\u001B[49m\u001B[43m,\u001B[49m\n\u001B[0;32m   1225\u001B[0m \u001B[43m    \u001B[49m\u001B[43mstorage_options\u001B[49m\u001B[38;5;241;43m=\u001B[39;49m\u001B[38;5;28;43mself\u001B[39;49m\u001B[38;5;241;43m.\u001B[39;49m\u001B[43moptions\u001B[49m\u001B[38;5;241;43m.\u001B[39;49m\u001B[43mget\u001B[49m\u001B[43m(\u001B[49m\u001B[38;5;124;43m\"\u001B[39;49m\u001B[38;5;124;43mstorage_options\u001B[39;49m\u001B[38;5;124;43m\"\u001B[39;49m\u001B[43m,\u001B[49m\u001B[43m \u001B[49m\u001B[38;5;28;43;01mNone\u001B[39;49;00m\u001B[43m)\u001B[49m\u001B[43m,\u001B[49m\n\u001B[0;32m   1226\u001B[0m \u001B[43m\u001B[49m\u001B[43m)\u001B[49m\n\u001B[0;32m   1227\u001B[0m \u001B[38;5;28;01massert\u001B[39;00m \u001B[38;5;28mself\u001B[39m\u001B[38;5;241m.\u001B[39mhandles \u001B[38;5;129;01mis\u001B[39;00m \u001B[38;5;129;01mnot\u001B[39;00m \u001B[38;5;28;01mNone\u001B[39;00m\n\u001B[0;32m   1228\u001B[0m f \u001B[38;5;241m=\u001B[39m \u001B[38;5;28mself\u001B[39m\u001B[38;5;241m.\u001B[39mhandles\u001B[38;5;241m.\u001B[39mhandle\n",
      "File \u001B[1;32m~\\miniconda3\\envs\\py38\\lib\\site-packages\\pandas\\io\\common.py:789\u001B[0m, in \u001B[0;36mget_handle\u001B[1;34m(path_or_buf, mode, encoding, compression, memory_map, is_text, errors, storage_options)\u001B[0m\n\u001B[0;32m    784\u001B[0m \u001B[38;5;28;01melif\u001B[39;00m \u001B[38;5;28misinstance\u001B[39m(handle, \u001B[38;5;28mstr\u001B[39m):\n\u001B[0;32m    785\u001B[0m     \u001B[38;5;66;03m# Check whether the filename is to be opened in binary mode.\u001B[39;00m\n\u001B[0;32m    786\u001B[0m     \u001B[38;5;66;03m# Binary mode does not support 'encoding' and 'newline'.\u001B[39;00m\n\u001B[0;32m    787\u001B[0m     \u001B[38;5;28;01mif\u001B[39;00m ioargs\u001B[38;5;241m.\u001B[39mencoding \u001B[38;5;129;01mand\u001B[39;00m \u001B[38;5;124m\"\u001B[39m\u001B[38;5;124mb\u001B[39m\u001B[38;5;124m\"\u001B[39m \u001B[38;5;129;01mnot\u001B[39;00m \u001B[38;5;129;01min\u001B[39;00m ioargs\u001B[38;5;241m.\u001B[39mmode:\n\u001B[0;32m    788\u001B[0m         \u001B[38;5;66;03m# Encoding\u001B[39;00m\n\u001B[1;32m--> 789\u001B[0m         handle \u001B[38;5;241m=\u001B[39m \u001B[38;5;28;43mopen\u001B[39;49m\u001B[43m(\u001B[49m\n\u001B[0;32m    790\u001B[0m \u001B[43m            \u001B[49m\u001B[43mhandle\u001B[49m\u001B[43m,\u001B[49m\n\u001B[0;32m    791\u001B[0m \u001B[43m            \u001B[49m\u001B[43mioargs\u001B[49m\u001B[38;5;241;43m.\u001B[39;49m\u001B[43mmode\u001B[49m\u001B[43m,\u001B[49m\n\u001B[0;32m    792\u001B[0m \u001B[43m            \u001B[49m\u001B[43mencoding\u001B[49m\u001B[38;5;241;43m=\u001B[39;49m\u001B[43mioargs\u001B[49m\u001B[38;5;241;43m.\u001B[39;49m\u001B[43mencoding\u001B[49m\u001B[43m,\u001B[49m\n\u001B[0;32m    793\u001B[0m \u001B[43m            \u001B[49m\u001B[43merrors\u001B[49m\u001B[38;5;241;43m=\u001B[39;49m\u001B[43merrors\u001B[49m\u001B[43m,\u001B[49m\n\u001B[0;32m    794\u001B[0m \u001B[43m            \u001B[49m\u001B[43mnewline\u001B[49m\u001B[38;5;241;43m=\u001B[39;49m\u001B[38;5;124;43m\"\u001B[39;49m\u001B[38;5;124;43m\"\u001B[39;49m\u001B[43m,\u001B[49m\n\u001B[0;32m    795\u001B[0m \u001B[43m        \u001B[49m\u001B[43m)\u001B[49m\n\u001B[0;32m    796\u001B[0m     \u001B[38;5;28;01melse\u001B[39;00m:\n\u001B[0;32m    797\u001B[0m         \u001B[38;5;66;03m# Binary mode\u001B[39;00m\n\u001B[0;32m    798\u001B[0m         handle \u001B[38;5;241m=\u001B[39m \u001B[38;5;28mopen\u001B[39m(handle, ioargs\u001B[38;5;241m.\u001B[39mmode)\n",
      "\u001B[1;31mFileNotFoundError\u001B[0m: [Errno 2] No such file or directory: 'date          open    high     low   close    volume\\n2022-05-19   99.76  100.72   99.76  100.72  136654.0\\n2022-05-20  100.67  102.90  100.67  102.90  191287.0\\n2022-05-23  103.82  104.16  103.63  103.63  153282.0\\n2022-05-24  102.04  103.44  102.04  103.44  174975.0\\n2022-05-25  103.78  104.34  103.49  104.25  150746.0\\n2022-05-26  104.28  105.87  104.28  105.87   95146.0\\n2022-05-27  105.86  106.15  105.41  106.15  148301.0\\n2022-05-30  108.14  108.14  106.20  106.49  169159.0\\n2022-05-31  106.78  106.78  105.39  105.80  111953.0\\n2022-06-01  106.55  107.42  105.32  107.42  219275.0\\n2022-06-02  106.86  106.86  104.98  104.98  157016.0\\n2022-06-03  104.82  105.15  103.92  103.92  178344.0\\n2022-06-06  103.27  103.27  102.16  102.85  111618.0\\n2022-06-07  103.35  103.35  102.10  102.53  110751.0\\n2022-06-08  103.06  104.92  102.67  103.57   99175.0\\n2022-06-09  102.58  103.74  102.58  102.67  177273.0\\n2022-06-10  102.39  102.39  101.95  102.12  116301.0\\n2022-06-13  102.72  104.11  102.61  104.11   82395.0\\n2022-06-14  104.38  106.13  104.36  106.13  156676.0\\n2022-06-15  106.16  106.16  105.46  105.46  178853.0\\n2022-06-16  105.36  106.75  105.36  106.75  149042.0\\n2022-06-17  106.83  107.67  106.83  107.35  130764.0\\n2022-06-20  106.81  106.81  106.62  106.81  162909.0\\n2022-06-21  106.59  107.14  106.21  107.14  133974.0\\n2022-06-22  107.49  107.49  106.05  106.05  161829.0\\n2022-06-23  106.43  106.43  105.06  105.06  126359.0\\n2022-06-24  104.91  105.75  104.70  105.75  125444.0\\n2022-06-27  106.32  106.32  105.26  105.89  125450.0\\n2022-06-28  105.50  106.89  105.50  106.89  129627.0\\n2022-06-29  106.48  107.18  106.03  106.03  118273.0\\n2022-06-30  106.34  106.34  105.93  106.09  123633.0\\n2022-07-01  107.60  108.45  107.26  108.45  140498.0\\n2022-07-04  108.84  109.58  108.84  109.58  165658.0\\n2022-07-05  109.28  110.87  109.28  109.57  151093.0\\n2022-07-06  110.36  112.30  110.36  112.26  133831.0\\n2022-07-07  111.55  111.55  110.14  110.14  146914.0\\n2022-07-08  110.46  111.15  110.41  110.69  151584.0\\n2022-07-11  110.91  110.91  109.58  110.82  125386.0\\n2022-07-12  110.10  110.10  109.00  109.00  130852.0\\n2022-07-13  108.91  108.91  107.92  108.16  168689.0\\n2022-07-14  109.18  109.87  109.17  109.84  160095.0\\n2022-07-15  109.92  109.92  108.75  109.69  185769.0\\n2022-07-18  111.00  111.60  110.81  110.81  144026.0\\n2022-07-19  111.01  111.01  109.21  109.21  137981.0\\n2022-07-20  110.82  111.37  110.40  110.40  119492.0\\n2022-07-21  109.75  109.82  108.80  108.80  127867.0\\n2022-07-22  109.27  109.27  107.64  107.64  182014.0\\n2022-07-25  107.94  107.94  105.99  105.99  157951.0\\n2022-07-26  107.50  108.11  107.19  107.40  191611.0\\n2022-07-27  108.38  108.80  107.96  108.80  114188.0\\n'"
     ]
    }
   ],
   "source": [
    "pd.read_csv(data)"
   ],
   "metadata": {
    "collapsed": false,
    "pycharm": {
     "name": "#%%\n"
    }
   }
  },
  {
   "cell_type": "code",
   "execution_count": 24,
   "outputs": [
    {
     "data": {
      "text/plain": "          date    open    high     low   close    volume\n0   2022-05-19   99.76  100.72   99.76  100.72  136654.0\n1   2022-05-20  100.67  102.90  100.67  102.90  191287.0\n2   2022-05-23  103.82  104.16  103.63  103.63  153282.0\n3   2022-05-24  102.04  103.44  102.04  103.44  174975.0\n4   2022-05-25  103.78  104.34  103.49  104.25  150746.0\n5   2022-05-26  104.28  105.87  104.28  105.87   95146.0\n6   2022-05-27  105.86  106.15  105.41  106.15  148301.0\n7   2022-05-30  108.14  108.14  106.20  106.49  169159.0\n8   2022-05-31  106.78  106.78  105.39  105.80  111953.0\n9   2022-06-01  106.55  107.42  105.32  107.42  219275.0\n10  2022-06-02  106.86  106.86  104.98  104.98  157016.0\n11  2022-06-03  104.82  105.15  103.92  103.92  178344.0\n12  2022-06-06  103.27  103.27  102.16  102.85  111618.0\n13  2022-06-07  103.35  103.35  102.10  102.53  110751.0\n14  2022-06-08  103.06  104.92  102.67  103.57   99175.0\n15  2022-06-09  102.58  103.74  102.58  102.67  177273.0\n16  2022-06-10  102.39  102.39  101.95  102.12  116301.0\n17  2022-06-13  102.72  104.11  102.61  104.11   82395.0\n18  2022-06-14  104.38  106.13  104.36  106.13  156676.0\n19  2022-06-15  106.16  106.16  105.46  105.46  178853.0\n20  2022-06-16  105.36  106.75  105.36  106.75  149042.0\n21  2022-06-17  106.83  107.67  106.83  107.35  130764.0\n22  2022-06-20  106.81  106.81  106.62  106.81  162909.0\n23  2022-06-21  106.59  107.14  106.21  107.14  133974.0\n24  2022-06-22  107.49  107.49  106.05  106.05  161829.0\n25  2022-06-23  106.43  106.43  105.06  105.06  126359.0\n26  2022-06-24  104.91  105.75  104.70  105.75  125444.0\n27  2022-06-27  106.32  106.32  105.26  105.89  125450.0\n28  2022-06-28  105.50  106.89  105.50  106.89  129627.0\n29  2022-06-29  106.48  107.18  106.03  106.03  118273.0\n30  2022-06-30  106.34  106.34  105.93  106.09  123633.0\n31  2022-07-01  107.60  108.45  107.26  108.45  140498.0\n32  2022-07-04  108.84  109.58  108.84  109.58  165658.0\n33  2022-07-05  109.28  110.87  109.28  109.57  151093.0\n34  2022-07-06  110.36  112.30  110.36  112.26  133831.0\n35  2022-07-07  111.55  111.55  110.14  110.14  146914.0\n36  2022-07-08  110.46  111.15  110.41  110.69  151584.0\n37  2022-07-11  110.91  110.91  109.58  110.82  125386.0\n38  2022-07-12  110.10  110.10  109.00  109.00  130852.0\n39  2022-07-13  108.91  108.91  107.92  108.16  168689.0\n40  2022-07-14  109.18  109.87  109.17  109.84  160095.0\n41  2022-07-15  109.92  109.92  108.75  109.69  185769.0\n42  2022-07-18  111.00  111.60  110.81  110.81  144026.0\n43  2022-07-19  111.01  111.01  109.21  109.21  137981.0\n44  2022-07-20  110.82  111.37  110.40  110.40  119492.0\n45  2022-07-21  109.75  109.82  108.80  108.80  127867.0\n46  2022-07-22  109.27  109.27  107.64  107.64  182014.0\n47  2022-07-25  107.94  107.94  105.99  105.99  157951.0\n48  2022-07-26  107.50  108.11  107.19  107.40  191611.0\n49  2022-07-27  108.38  108.80  107.96  108.80  114188.0",
      "text/html": "<div>\n<style scoped>\n    .dataframe tbody tr th:only-of-type {\n        vertical-align: middle;\n    }\n\n    .dataframe tbody tr th {\n        vertical-align: top;\n    }\n\n    .dataframe thead th {\n        text-align: right;\n    }\n</style>\n<table border=\"1\" class=\"dataframe\">\n  <thead>\n    <tr style=\"text-align: right;\">\n      <th></th>\n      <th>date</th>\n      <th>open</th>\n      <th>high</th>\n      <th>low</th>\n      <th>close</th>\n      <th>volume</th>\n    </tr>\n  </thead>\n  <tbody>\n    <tr>\n      <th>0</th>\n      <td>2022-05-19</td>\n      <td>99.76</td>\n      <td>100.72</td>\n      <td>99.76</td>\n      <td>100.72</td>\n      <td>136654.0</td>\n    </tr>\n    <tr>\n      <th>1</th>\n      <td>2022-05-20</td>\n      <td>100.67</td>\n      <td>102.90</td>\n      <td>100.67</td>\n      <td>102.90</td>\n      <td>191287.0</td>\n    </tr>\n    <tr>\n      <th>2</th>\n      <td>2022-05-23</td>\n      <td>103.82</td>\n      <td>104.16</td>\n      <td>103.63</td>\n      <td>103.63</td>\n      <td>153282.0</td>\n    </tr>\n    <tr>\n      <th>3</th>\n      <td>2022-05-24</td>\n      <td>102.04</td>\n      <td>103.44</td>\n      <td>102.04</td>\n      <td>103.44</td>\n      <td>174975.0</td>\n    </tr>\n    <tr>\n      <th>4</th>\n      <td>2022-05-25</td>\n      <td>103.78</td>\n      <td>104.34</td>\n      <td>103.49</td>\n      <td>104.25</td>\n      <td>150746.0</td>\n    </tr>\n    <tr>\n      <th>5</th>\n      <td>2022-05-26</td>\n      <td>104.28</td>\n      <td>105.87</td>\n      <td>104.28</td>\n      <td>105.87</td>\n      <td>95146.0</td>\n    </tr>\n    <tr>\n      <th>6</th>\n      <td>2022-05-27</td>\n      <td>105.86</td>\n      <td>106.15</td>\n      <td>105.41</td>\n      <td>106.15</td>\n      <td>148301.0</td>\n    </tr>\n    <tr>\n      <th>7</th>\n      <td>2022-05-30</td>\n      <td>108.14</td>\n      <td>108.14</td>\n      <td>106.20</td>\n      <td>106.49</td>\n      <td>169159.0</td>\n    </tr>\n    <tr>\n      <th>8</th>\n      <td>2022-05-31</td>\n      <td>106.78</td>\n      <td>106.78</td>\n      <td>105.39</td>\n      <td>105.80</td>\n      <td>111953.0</td>\n    </tr>\n    <tr>\n      <th>9</th>\n      <td>2022-06-01</td>\n      <td>106.55</td>\n      <td>107.42</td>\n      <td>105.32</td>\n      <td>107.42</td>\n      <td>219275.0</td>\n    </tr>\n    <tr>\n      <th>10</th>\n      <td>2022-06-02</td>\n      <td>106.86</td>\n      <td>106.86</td>\n      <td>104.98</td>\n      <td>104.98</td>\n      <td>157016.0</td>\n    </tr>\n    <tr>\n      <th>11</th>\n      <td>2022-06-03</td>\n      <td>104.82</td>\n      <td>105.15</td>\n      <td>103.92</td>\n      <td>103.92</td>\n      <td>178344.0</td>\n    </tr>\n    <tr>\n      <th>12</th>\n      <td>2022-06-06</td>\n      <td>103.27</td>\n      <td>103.27</td>\n      <td>102.16</td>\n      <td>102.85</td>\n      <td>111618.0</td>\n    </tr>\n    <tr>\n      <th>13</th>\n      <td>2022-06-07</td>\n      <td>103.35</td>\n      <td>103.35</td>\n      <td>102.10</td>\n      <td>102.53</td>\n      <td>110751.0</td>\n    </tr>\n    <tr>\n      <th>14</th>\n      <td>2022-06-08</td>\n      <td>103.06</td>\n      <td>104.92</td>\n      <td>102.67</td>\n      <td>103.57</td>\n      <td>99175.0</td>\n    </tr>\n    <tr>\n      <th>15</th>\n      <td>2022-06-09</td>\n      <td>102.58</td>\n      <td>103.74</td>\n      <td>102.58</td>\n      <td>102.67</td>\n      <td>177273.0</td>\n    </tr>\n    <tr>\n      <th>16</th>\n      <td>2022-06-10</td>\n      <td>102.39</td>\n      <td>102.39</td>\n      <td>101.95</td>\n      <td>102.12</td>\n      <td>116301.0</td>\n    </tr>\n    <tr>\n      <th>17</th>\n      <td>2022-06-13</td>\n      <td>102.72</td>\n      <td>104.11</td>\n      <td>102.61</td>\n      <td>104.11</td>\n      <td>82395.0</td>\n    </tr>\n    <tr>\n      <th>18</th>\n      <td>2022-06-14</td>\n      <td>104.38</td>\n      <td>106.13</td>\n      <td>104.36</td>\n      <td>106.13</td>\n      <td>156676.0</td>\n    </tr>\n    <tr>\n      <th>19</th>\n      <td>2022-06-15</td>\n      <td>106.16</td>\n      <td>106.16</td>\n      <td>105.46</td>\n      <td>105.46</td>\n      <td>178853.0</td>\n    </tr>\n    <tr>\n      <th>20</th>\n      <td>2022-06-16</td>\n      <td>105.36</td>\n      <td>106.75</td>\n      <td>105.36</td>\n      <td>106.75</td>\n      <td>149042.0</td>\n    </tr>\n    <tr>\n      <th>21</th>\n      <td>2022-06-17</td>\n      <td>106.83</td>\n      <td>107.67</td>\n      <td>106.83</td>\n      <td>107.35</td>\n      <td>130764.0</td>\n    </tr>\n    <tr>\n      <th>22</th>\n      <td>2022-06-20</td>\n      <td>106.81</td>\n      <td>106.81</td>\n      <td>106.62</td>\n      <td>106.81</td>\n      <td>162909.0</td>\n    </tr>\n    <tr>\n      <th>23</th>\n      <td>2022-06-21</td>\n      <td>106.59</td>\n      <td>107.14</td>\n      <td>106.21</td>\n      <td>107.14</td>\n      <td>133974.0</td>\n    </tr>\n    <tr>\n      <th>24</th>\n      <td>2022-06-22</td>\n      <td>107.49</td>\n      <td>107.49</td>\n      <td>106.05</td>\n      <td>106.05</td>\n      <td>161829.0</td>\n    </tr>\n    <tr>\n      <th>25</th>\n      <td>2022-06-23</td>\n      <td>106.43</td>\n      <td>106.43</td>\n      <td>105.06</td>\n      <td>105.06</td>\n      <td>126359.0</td>\n    </tr>\n    <tr>\n      <th>26</th>\n      <td>2022-06-24</td>\n      <td>104.91</td>\n      <td>105.75</td>\n      <td>104.70</td>\n      <td>105.75</td>\n      <td>125444.0</td>\n    </tr>\n    <tr>\n      <th>27</th>\n      <td>2022-06-27</td>\n      <td>106.32</td>\n      <td>106.32</td>\n      <td>105.26</td>\n      <td>105.89</td>\n      <td>125450.0</td>\n    </tr>\n    <tr>\n      <th>28</th>\n      <td>2022-06-28</td>\n      <td>105.50</td>\n      <td>106.89</td>\n      <td>105.50</td>\n      <td>106.89</td>\n      <td>129627.0</td>\n    </tr>\n    <tr>\n      <th>29</th>\n      <td>2022-06-29</td>\n      <td>106.48</td>\n      <td>107.18</td>\n      <td>106.03</td>\n      <td>106.03</td>\n      <td>118273.0</td>\n    </tr>\n    <tr>\n      <th>30</th>\n      <td>2022-06-30</td>\n      <td>106.34</td>\n      <td>106.34</td>\n      <td>105.93</td>\n      <td>106.09</td>\n      <td>123633.0</td>\n    </tr>\n    <tr>\n      <th>31</th>\n      <td>2022-07-01</td>\n      <td>107.60</td>\n      <td>108.45</td>\n      <td>107.26</td>\n      <td>108.45</td>\n      <td>140498.0</td>\n    </tr>\n    <tr>\n      <th>32</th>\n      <td>2022-07-04</td>\n      <td>108.84</td>\n      <td>109.58</td>\n      <td>108.84</td>\n      <td>109.58</td>\n      <td>165658.0</td>\n    </tr>\n    <tr>\n      <th>33</th>\n      <td>2022-07-05</td>\n      <td>109.28</td>\n      <td>110.87</td>\n      <td>109.28</td>\n      <td>109.57</td>\n      <td>151093.0</td>\n    </tr>\n    <tr>\n      <th>34</th>\n      <td>2022-07-06</td>\n      <td>110.36</td>\n      <td>112.30</td>\n      <td>110.36</td>\n      <td>112.26</td>\n      <td>133831.0</td>\n    </tr>\n    <tr>\n      <th>35</th>\n      <td>2022-07-07</td>\n      <td>111.55</td>\n      <td>111.55</td>\n      <td>110.14</td>\n      <td>110.14</td>\n      <td>146914.0</td>\n    </tr>\n    <tr>\n      <th>36</th>\n      <td>2022-07-08</td>\n      <td>110.46</td>\n      <td>111.15</td>\n      <td>110.41</td>\n      <td>110.69</td>\n      <td>151584.0</td>\n    </tr>\n    <tr>\n      <th>37</th>\n      <td>2022-07-11</td>\n      <td>110.91</td>\n      <td>110.91</td>\n      <td>109.58</td>\n      <td>110.82</td>\n      <td>125386.0</td>\n    </tr>\n    <tr>\n      <th>38</th>\n      <td>2022-07-12</td>\n      <td>110.10</td>\n      <td>110.10</td>\n      <td>109.00</td>\n      <td>109.00</td>\n      <td>130852.0</td>\n    </tr>\n    <tr>\n      <th>39</th>\n      <td>2022-07-13</td>\n      <td>108.91</td>\n      <td>108.91</td>\n      <td>107.92</td>\n      <td>108.16</td>\n      <td>168689.0</td>\n    </tr>\n    <tr>\n      <th>40</th>\n      <td>2022-07-14</td>\n      <td>109.18</td>\n      <td>109.87</td>\n      <td>109.17</td>\n      <td>109.84</td>\n      <td>160095.0</td>\n    </tr>\n    <tr>\n      <th>41</th>\n      <td>2022-07-15</td>\n      <td>109.92</td>\n      <td>109.92</td>\n      <td>108.75</td>\n      <td>109.69</td>\n      <td>185769.0</td>\n    </tr>\n    <tr>\n      <th>42</th>\n      <td>2022-07-18</td>\n      <td>111.00</td>\n      <td>111.60</td>\n      <td>110.81</td>\n      <td>110.81</td>\n      <td>144026.0</td>\n    </tr>\n    <tr>\n      <th>43</th>\n      <td>2022-07-19</td>\n      <td>111.01</td>\n      <td>111.01</td>\n      <td>109.21</td>\n      <td>109.21</td>\n      <td>137981.0</td>\n    </tr>\n    <tr>\n      <th>44</th>\n      <td>2022-07-20</td>\n      <td>110.82</td>\n      <td>111.37</td>\n      <td>110.40</td>\n      <td>110.40</td>\n      <td>119492.0</td>\n    </tr>\n    <tr>\n      <th>45</th>\n      <td>2022-07-21</td>\n      <td>109.75</td>\n      <td>109.82</td>\n      <td>108.80</td>\n      <td>108.80</td>\n      <td>127867.0</td>\n    </tr>\n    <tr>\n      <th>46</th>\n      <td>2022-07-22</td>\n      <td>109.27</td>\n      <td>109.27</td>\n      <td>107.64</td>\n      <td>107.64</td>\n      <td>182014.0</td>\n    </tr>\n    <tr>\n      <th>47</th>\n      <td>2022-07-25</td>\n      <td>107.94</td>\n      <td>107.94</td>\n      <td>105.99</td>\n      <td>105.99</td>\n      <td>157951.0</td>\n    </tr>\n    <tr>\n      <th>48</th>\n      <td>2022-07-26</td>\n      <td>107.50</td>\n      <td>108.11</td>\n      <td>107.19</td>\n      <td>107.40</td>\n      <td>191611.0</td>\n    </tr>\n    <tr>\n      <th>49</th>\n      <td>2022-07-27</td>\n      <td>108.38</td>\n      <td>108.80</td>\n      <td>107.96</td>\n      <td>108.80</td>\n      <td>114188.0</td>\n    </tr>\n  </tbody>\n</table>\n</div>"
     },
     "execution_count": 24,
     "metadata": {},
     "output_type": "execute_result"
    }
   ],
   "source": [
    "pd.read_csv(io.StringIO(data), sep='\\s+', parse_dates=True)"
   ],
   "metadata": {
    "collapsed": false,
    "pycharm": {
     "name": "#%%\n"
    }
   }
  },
  {
   "cell_type": "code",
   "execution_count": null,
   "outputs": [],
   "source": [],
   "metadata": {
    "collapsed": false,
    "pycharm": {
     "name": "#%%\n"
    }
   }
  }
 ],
 "metadata": {
  "kernelspec": {
   "display_name": "Python 3",
   "language": "python",
   "name": "python3"
  },
  "language_info": {
   "codemirror_mode": {
    "name": "ipython",
    "version": 2
   },
   "file_extension": ".py",
   "mimetype": "text/x-python",
   "name": "python",
   "nbconvert_exporter": "python",
   "pygments_lexer": "ipython2",
   "version": "2.7.6"
  }
 },
 "nbformat": 4,
 "nbformat_minor": 0
}