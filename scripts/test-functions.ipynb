{
 "cells": [
  {
   "cell_type": "code",
   "execution_count": 15,
   "outputs": [],
   "source": [
    "import inspect\n",
    "\n",
    "from mintalib import functions, random_walk\n"
   ],
   "metadata": {
    "collapsed": false,
    "pycharm": {
     "name": "#%%\n"
    }
   }
  },
  {
   "cell_type": "code",
   "execution_count": 16,
   "outputs": [
    {
     "data": {
      "text/plain": "['__builtins__',\n '__cached__',\n '__file__',\n '__loader__',\n '__name__',\n '__package__',\n '__spec__',\n 'adx',\n 'atr',\n 'curve',\n 'dema',\n 'ema',\n 'kama',\n 'log',\n 'macd',\n 'mid',\n 'ppo',\n 'price',\n 'psar',\n 'rma',\n 'roc',\n 'rsi',\n 'slope',\n 'sma',\n 'stdev',\n 'streak',\n 'tema',\n 'trange',\n 'wma']"
     },
     "execution_count": 16,
     "metadata": {},
     "output_type": "execute_result"
    }
   ],
   "source": [
    "dir(functions)\n"
   ],
   "metadata": {
    "collapsed": false,
    "pycharm": {
     "name": "#%%\n"
    }
   }
  },
  {
   "cell_type": "code",
   "execution_count": 17,
   "outputs": [
    {
     "name": "stdout",
     "output_type": "stream",
     "text": [
      "Help on cython_function_or_method in module mintalib.core:\n",
      "\n",
      "calc_ema(series, period=20)\n",
      "    Exponential Moving Average\n",
      "    \n",
      "    Args:\n",
      "        series (array/series) : The input series. Required\n",
      "        period (int) : The indicator period. Default 20\n",
      "        name (str) : The output series name. Default None\n",
      "    \n",
      "    Returns:\n",
      "        A Series\n",
      "\n"
     ]
    }
   ],
   "source": [
    "help(functions.ema)\n"
   ],
   "metadata": {
    "collapsed": false,
    "pycharm": {
     "name": "#%%\n"
    }
   }
  },
  {
   "cell_type": "code",
   "execution_count": null,
   "outputs": [],
   "source": [],
   "metadata": {
    "collapsed": false,
    "pycharm": {
     "name": "#%%\n"
    }
   }
  }
 ],
 "metadata": {
  "kernelspec": {
   "display_name": "Python 3",
   "language": "python",
   "name": "python3"
  },
  "language_info": {
   "codemirror_mode": {
    "name": "ipython",
    "version": 2
   },
   "file_extension": ".py",
   "mimetype": "text/x-python",
   "name": "python",
   "nbconvert_exporter": "python",
   "pygments_lexer": "ipython2",
   "version": "2.7.6"
  }
 },
 "nbformat": 4,
 "nbformat_minor": 0
}