{
 "cells": [
  {
   "cell_type": "markdown",
   "source": [
    "# Notebook to generate opers module"
   ],
   "metadata": {
    "collapsed": false
   }
  },
  {
   "cell_type": "code",
   "execution_count": 11,
   "outputs": [],
   "source": [
    "import project\n",
    "\n",
    "from mintalib import core\n",
    "\n",
    "from inspect import Signature, Parameter\n",
    "\n"
   ],
   "metadata": {
    "collapsed": false,
    "ExecuteTime": {
     "end_time": "2023-09-21T15:54:14.035337Z",
     "start_time": "2023-09-21T15:54:14.025044Z"
    }
   }
  },
  {
   "cell_type": "code",
   "execution_count": 12,
   "outputs": [
    {
     "name": "stdout",
     "output_type": "stream",
     "text": [
      "['AVGPRICE', 'TYPPRICE', 'WCLPRICE', 'MIDPRICE', 'PRICE', 'CROSSOVER', 'CROSSUNDER', 'FLAG_ABOVE', 'FLAG_BELOW', 'INVERT_FLAG', 'UPDOWN_FLAG', 'LOG', 'EXP', 'ROC', 'DIFF', 'MIN', 'MAX', 'SUM', 'MAD', 'STDEV', 'SMA', 'EMA', 'RMA', 'WMA', 'DEMA', 'TEMA', 'MA', 'RSI', 'PLUSDI', 'MINUSDI', 'ADX', 'TRANGE', 'ATR', 'NATR', 'LATR', 'PSAR', 'CCI', 'CMF', 'MFI', 'BOP', 'BBANDS', 'KELTNER', 'EFFICIENCY_RATIO', 'KAMA', 'MACD', 'PPO', 'SLOPE', 'CURVE', 'STOCH', 'STREAK_UP', 'STREAK_DOWN', 'EVAL']\n"
     ]
    }
   ],
   "source": [
    "def core_functions(first_param=('series', 'prices')):\n",
    "    \"\"\" list of core functions \"\"\"\n",
    "\n",
    "    result = []\n",
    "    \n",
    "    for k, v in vars(core).items():\n",
    "        if not k.isupper():\n",
    "            continue\n",
    "\n",
    "        if isinstance(v, type) or not callable(v):\n",
    "            continue\n",
    "\n",
    "        params = list(Signature.from_callable(v).parameters)\n",
    "\n",
    "        if params[0] not in first_param:\n",
    "            continue\n",
    "\n",
    "        result.append(k)\n",
    "\n",
    "    return result\n",
    "\n",
    "\n",
    "print(core_functions())"
   ],
   "metadata": {
    "collapsed": false,
    "pycharm": {
     "name": "#%%\n"
    },
    "ExecuteTime": {
     "end_time": "2023-09-21T15:54:14.641653Z",
     "start_time": "2023-09-21T15:54:14.624866Z"
    }
   }
  },
  {
   "cell_type": "code",
   "execution_count": 13,
   "outputs": [],
   "source": [
    "from mintalib.model import Operand\n",
    "from mintalib.core import wrap_function\n",
    "\n",
    "\n",
    "@wrap_function(core.EMA)\n",
    "class EMA(Operand):\n",
    "    same_scale = True\n",
    "\n",
    "    def __init__(self, period: int, *, item: str=None):\n",
    "        self.period = period\n",
    "        self.item = item\n",
    "\n",
    "    def __call__(self, series):\n",
    "        return core.EMA(series, period=self.period)\n"
   ],
   "metadata": {
    "collapsed": false,
    "ExecuteTime": {
     "end_time": "2023-09-21T15:54:15.464466Z",
     "start_time": "2023-09-21T15:54:15.450909Z"
    }
   }
  },
  {
   "cell_type": "code",
   "execution_count": 14,
   "outputs": [
    {
     "name": "stdout",
     "output_type": "stream",
     "text": [
      "@wrap_function(core.EMA)\n",
      "class EMA(Operand):\n",
      "    def __init__(self, period: int, *, adjust: bool = False, item: str = None):\n",
      "        self.period = period\n",
      "        self.adjust = adjust\n",
      "        self.item = item\n",
      "\n",
      "    def __call__(self, series):\n",
      "        return core.EMA(series, period=self.period, adjust=self.adjust, item=self.item)\n"
     ]
    }
   ],
   "source": [
    "import inspect\n",
    "\n",
    "\n",
    "def make_operand(func, name: str = None, verbose=False):\n",
    "    if name is None:\n",
    "        name = func.__name__.upper()\n",
    "\n",
    "    fname = func.__qualname__\n",
    "    module = func.__module__.rpartition('.')[2]\n",
    "    qname = f\"{module}.{fname}\"\n",
    "\n",
    "    indent = \" \" * 4\n",
    "    indent2 = \" \" * 8\n",
    "\n",
    "    signature = Signature.from_callable(func)\n",
    "    parameters = list(signature.parameters.values())\n",
    "\n",
    "    if verbose:\n",
    "        print(\"signature\", signature)\n",
    "        print(\"parameters\", parameters)\n",
    "\n",
    "    newparams = []\n",
    "    ftype = parameters[0].name\n",
    "\n",
    "    def annotate(param):\n",
    "        if param.name in ['period']:\n",
    "            return param.replace(annotation=int)\n",
    "\n",
    "        if param.annotation == 'str':\n",
    "            return param.replace(annotation=str)\n",
    "\n",
    "        if type(p.default) in (int, float, bool):\n",
    "            return param.replace(annotation=type(p.default))\n",
    "        \n",
    "        return param\n",
    "\n",
    "    for i, p in enumerate(parameters):\n",
    "        if i == 0:\n",
    "            p = Parameter('self', Parameter.POSITIONAL_OR_KEYWORD)\n",
    "        else:\n",
    "            p = annotate(p)\n",
    "        newparams.append(p)\n",
    "\n",
    "    if verbose:\n",
    "        print(\"newparams\", newparams)\n",
    "\n",
    "    newsig = Signature(newparams)\n",
    "\n",
    "    def argument(arg):\n",
    "        return ftype if arg == 'self' else f\"{arg}=self.{arg}\"\n",
    "\n",
    "    args = [argument(p.name) for p in newparams]\n",
    "    args = \", \".join(args)\n",
    "\n",
    "    code = \"\"\n",
    "    #code = \"# noinspection PyPep8Naming\\n\"\n",
    "\n",
    "    code += f\"@wrap_function({qname})\\n\"\n",
    "    code += f\"class {name}(Operand):\\n\"\n",
    "    \n",
    "    if len(newparams) > 1:\n",
    "        code += indent + f\"def __init__\" + str(newsig) + \":\\n\"\n",
    "        for p in newparams[1:]:\n",
    "            name = p.name\n",
    "            code += indent2 + f\"self.{name} = {name}\\n\"\n",
    "        code += \"\\n\"\n",
    "\n",
    "    code += indent + f\"def __call__(self, {ftype}):\\n\"\n",
    "    code += indent2 + f\"return {qname}({args})\\n\"\n",
    "\n",
    "    return code\n",
    "\n",
    "\n",
    "print(make_operand(core.EMA))"
   ],
   "metadata": {
    "collapsed": false,
    "ExecuteTime": {
     "end_time": "2023-09-21T15:54:16.069685Z",
     "start_time": "2023-09-21T15:54:16.055166Z"
    }
   }
  },
  {
   "cell_type": "code",
   "execution_count": 15,
   "outputs": [
    {
     "name": "stdout",
     "output_type": "stream",
     "text": [
      "# Do not edit. File was generated by make-opers!\n",
      "\n",
      "from . import core\n",
      "from .model import Operand\n",
      "from .core import wrap_function\n",
      "\n",
      "nan: float = float('NAN')\n",
      "\n",
      "\n",
      "@wrap_function(core.AVGPRICE)\n",
      "class AVGPRICE(Operand):\n",
      "    def __call__(self, prices):\n",
      "        retu ...\n"
     ]
    }
   ],
   "source": [
    "def make_opers():\n",
    "    buffer = \"# Do not edit. File was generated by make-opers!\\n\\n\"\n",
    "\n",
    "    buffer += \"from . import core\\n\"\n",
    "    buffer += \"from .model import Operand\\n\"\n",
    "    buffer += \"from .core import wrap_function\\n\"\n",
    "    buffer += \"\\n\"\n",
    "    buffer += \"nan: float = float('NAN')\\n\"\n",
    "    buffer += \"\\n\\n\"\n",
    "\n",
    "    names = core_functions()\n",
    "\n",
    "    for name in names:\n",
    "        func = getattr(core, name)\n",
    "        text = make_operand(func)\n",
    "        buffer += text + \"\\n\\n\"\n",
    "\n",
    "    buffer += \"__all__ = [n for n in dir() if n.isupper()]\\n\"\n",
    "\n",
    "    return buffer\n",
    "\n",
    "code = make_opers()\n",
    "print(code[:256], \"...\")\n",
    "\n"
   ],
   "metadata": {
    "collapsed": false,
    "ExecuteTime": {
     "end_time": "2023-09-21T15:54:17.225651Z",
     "start_time": "2023-09-21T15:54:17.206001Z"
    }
   }
  },
  {
   "cell_type": "code",
   "execution_count": 16,
   "outputs": [
    {
     "data": {
      "text/plain": "['ADX',\n 'ATR',\n 'AVGPRICE',\n 'BBANDS',\n 'BOP',\n 'CCI',\n 'CMF',\n 'CROSSOVER',\n 'CROSSUNDER',\n 'CURVE',\n 'DEMA',\n 'DIFF',\n 'EFFICIENCY_RATIO',\n 'EMA',\n 'EVAL',\n 'EXP',\n 'FLAG_ABOVE',\n 'FLAG_BELOW',\n 'INVERT_FLAG',\n 'KAMA',\n 'KELTNER',\n 'LATR',\n 'LOG',\n 'MA',\n 'MACD',\n 'MAD',\n 'MAX',\n 'MFI',\n 'MIDPRICE',\n 'MIN',\n 'MINUSDI',\n 'NATR',\n 'Operand',\n 'PLUSDI',\n 'PPO',\n 'PRICE',\n 'PSAR',\n 'RMA',\n 'ROC',\n 'RSI',\n 'SLOPE',\n 'SMA',\n 'STDEV',\n 'STOCH',\n 'STREAK_DOWN',\n 'STREAK_UP',\n 'SUM',\n 'TEMA',\n 'TRANGE',\n 'TYPPRICE',\n 'UPDOWN_FLAG',\n 'WCLPRICE',\n 'WMA',\n '__all__',\n '__annotations__',\n '__builtins__',\n '__doc__',\n '__loader__',\n '__name__',\n '__package__',\n '__spec__',\n 'core',\n 'nan',\n 'wrap_function']"
     },
     "execution_count": 16,
     "metadata": {},
     "output_type": "execute_result"
    }
   ],
   "source": [
    "import importlib.util\n",
    "\n",
    "def new_module(name):\n",
    "    spec = importlib.util.spec_from_loader(name, None)\n",
    "    return importlib.util.module_from_spec(spec)\n",
    "\n",
    "code = make_opers()\n",
    "\n",
    "indicators = new_module(\"mintalib.opers\")\n",
    "\n",
    "exec(code, indicators.__dict__)\n",
    "\n",
    "dir(indicators)"
   ],
   "metadata": {
    "collapsed": false,
    "ExecuteTime": {
     "end_time": "2023-09-21T15:54:18.092394Z",
     "start_time": "2023-09-21T15:54:18.066759Z"
    }
   }
  },
  {
   "cell_type": "code",
   "execution_count": 17,
   "outputs": [
    {
     "name": "stdout",
     "output_type": "stream",
     "text": [
      "Updating opers.py ...\n"
     ]
    },
    {
     "data": {
      "text/plain": "13958"
     },
     "execution_count": 17,
     "metadata": {},
     "output_type": "execute_result"
    }
   ],
   "source": [
    "outfile = project.pkgdir / \"opers.py\"\n",
    "\n",
    "print(f\"Updating {outfile.name} ...\")\n",
    "\n",
    "outfile.write_text(code)\n"
   ],
   "metadata": {
    "collapsed": false,
    "ExecuteTime": {
     "end_time": "2023-09-21T15:54:20.307024Z",
     "start_time": "2023-09-21T15:54:20.283830Z"
    }
   }
  },
  {
   "cell_type": "code",
   "execution_count": null,
   "outputs": [],
   "source": [],
   "metadata": {
    "collapsed": false
   }
  }
 ],
 "metadata": {
  "kernelspec": {
   "display_name": "Python 3",
   "language": "python",
   "name": "python3"
  },
  "language_info": {
   "codemirror_mode": {
    "name": "ipython",
    "version": 2
   },
   "file_extension": ".py",
   "mimetype": "text/x-python",
   "name": "python",
   "nbconvert_exporter": "python",
   "pygments_lexer": "ipython2",
   "version": "2.7.6"
  }
 },
 "nbformat": 4,
 "nbformat_minor": 0
}
