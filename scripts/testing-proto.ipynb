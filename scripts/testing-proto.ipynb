{
 "cells": [
  {
   "cell_type": "code",
   "execution_count": 583,
   "outputs": [],
   "source": [
    "import io\n",
    "import json\n",
    "\n",
    "import numpy as np\n",
    "import pandas as pd\n",
    "\n",
    "from mintalib.utils import sample_prices\n",
    "\n",
    "from functools import singledispatchmethod\n",
    "\n",
    "import dataclasses as dc\n",
    "\n",
    "from dataclasses import dataclass\n",
    "\n",
    "from prettyprinter import pprint, pformat, register_pretty, pretty_call\n"
   ],
   "metadata": {
    "collapsed": false,
    "pycharm": {
     "name": "#%%\n"
    }
   }
  },
  {
   "cell_type": "code",
   "execution_count": 584,
   "outputs": [
    {
     "data": {
      "text/plain": "             open   high    low  close  volume\ndate                                          \n2022-07-22  99.60  99.60  98.09  99.11  126610\n2022-07-25  98.85  98.85  98.54  98.54  143293\n2022-07-26  98.78  98.78  98.39  98.45  148397\n2022-07-27  98.46  98.46  97.25  97.25  115005\n2022-07-28  97.13  99.22  97.13  99.22  126585",
      "text/html": "<div>\n<style scoped>\n    .dataframe tbody tr th:only-of-type {\n        vertical-align: middle;\n    }\n\n    .dataframe tbody tr th {\n        vertical-align: top;\n    }\n\n    .dataframe thead th {\n        text-align: right;\n    }\n</style>\n<table border=\"1\" class=\"dataframe\">\n  <thead>\n    <tr style=\"text-align: right;\">\n      <th></th>\n      <th>open</th>\n      <th>high</th>\n      <th>low</th>\n      <th>close</th>\n      <th>volume</th>\n    </tr>\n    <tr>\n      <th>date</th>\n      <th></th>\n      <th></th>\n      <th></th>\n      <th></th>\n      <th></th>\n    </tr>\n  </thead>\n  <tbody>\n    <tr>\n      <th>2022-07-22</th>\n      <td>99.60</td>\n      <td>99.60</td>\n      <td>98.09</td>\n      <td>99.11</td>\n      <td>126610</td>\n    </tr>\n    <tr>\n      <th>2022-07-25</th>\n      <td>98.85</td>\n      <td>98.85</td>\n      <td>98.54</td>\n      <td>98.54</td>\n      <td>143293</td>\n    </tr>\n    <tr>\n      <th>2022-07-26</th>\n      <td>98.78</td>\n      <td>98.78</td>\n      <td>98.39</td>\n      <td>98.45</td>\n      <td>148397</td>\n    </tr>\n    <tr>\n      <th>2022-07-27</th>\n      <td>98.46</td>\n      <td>98.46</td>\n      <td>97.25</td>\n      <td>97.25</td>\n      <td>115005</td>\n    </tr>\n    <tr>\n      <th>2022-07-28</th>\n      <td>97.13</td>\n      <td>99.22</td>\n      <td>97.13</td>\n      <td>99.22</td>\n      <td>126585</td>\n    </tr>\n  </tbody>\n</table>\n</div>"
     },
     "execution_count": 584,
     "metadata": {},
     "output_type": "execute_result"
    }
   ],
   "source": [
    "prices = sample_prices(5)\n",
    "prices"
   ],
   "metadata": {
    "collapsed": false,
    "pycharm": {
     "name": "#%%\n"
    }
   }
  },
  {
   "cell_type": "code",
   "execution_count": 585,
   "outputs": [
    {
     "name": "stdout",
     "output_type": "stream",
     "text": [
      "ns.dataframe(\n",
      "    index=[\n",
      "        ns.timestamp('2022-07-22 00:00:00'),\n",
      "        ns.timestamp('2022-07-25 00:00:00'),\n",
      "        ns.timestamp('2022-07-26 00:00:00'),\n",
      "        ns.timestamp('2022-07-27 00:00:00'),\n",
      "        ns.timestamp('2022-07-28 00:00:00')\n",
      "    ],\n",
      "    columns=['open', 'high', 'low', 'close', 'volume'],\n",
      "    data=[\n",
      "        [99.6, 99.6, 98.09, 99.11, 126610],\n",
      "        [98.85, 98.85, 98.54, 98.54, 143293],\n",
      "        [98.78, 98.78, 98.39, 98.45, 148397],\n",
      "        [98.46, 98.46, 97.25, 97.25, 115005],\n",
      "        [97.13, 99.22, 97.13, 99.22, 126585]\n",
      "    ],\n",
      "    index_names=['date'],\n",
      "    column_names=[None]\n",
      ")\n"
     ]
    },
    {
     "data": {
      "text/plain": "             open   high    low  close  volume\ndate                                          \n2022-07-22  99.60  99.60  98.09  99.11  126610\n2022-07-25  98.85  98.85  98.54  98.54  143293\n2022-07-26  98.78  98.78  98.39  98.45  148397\n2022-07-27  98.46  98.46  97.25  97.25  115005\n2022-07-28  97.13  99.22  97.13  99.22  126585",
      "text/html": "<div>\n<style scoped>\n    .dataframe tbody tr th:only-of-type {\n        vertical-align: middle;\n    }\n\n    .dataframe tbody tr th {\n        vertical-align: top;\n    }\n\n    .dataframe thead th {\n        text-align: right;\n    }\n</style>\n<table border=\"1\" class=\"dataframe\">\n  <thead>\n    <tr style=\"text-align: right;\">\n      <th></th>\n      <th>open</th>\n      <th>high</th>\n      <th>low</th>\n      <th>close</th>\n      <th>volume</th>\n    </tr>\n    <tr>\n      <th>date</th>\n      <th></th>\n      <th></th>\n      <th></th>\n      <th></th>\n      <th></th>\n    </tr>\n  </thead>\n  <tbody>\n    <tr>\n      <th>2022-07-22</th>\n      <td>99.60</td>\n      <td>99.60</td>\n      <td>98.09</td>\n      <td>99.11</td>\n      <td>126610</td>\n    </tr>\n    <tr>\n      <th>2022-07-25</th>\n      <td>98.85</td>\n      <td>98.85</td>\n      <td>98.54</td>\n      <td>98.54</td>\n      <td>143293</td>\n    </tr>\n    <tr>\n      <th>2022-07-26</th>\n      <td>98.78</td>\n      <td>98.78</td>\n      <td>98.39</td>\n      <td>98.45</td>\n      <td>148397</td>\n    </tr>\n    <tr>\n      <th>2022-07-27</th>\n      <td>98.46</td>\n      <td>98.46</td>\n      <td>97.25</td>\n      <td>97.25</td>\n      <td>115005</td>\n    </tr>\n    <tr>\n      <th>2022-07-28</th>\n      <td>97.13</td>\n      <td>99.22</td>\n      <td>97.13</td>\n      <td>99.22</td>\n      <td>126585</td>\n    </tr>\n  </tbody>\n</table>\n</div>"
     },
     "execution_count": 585,
     "metadata": {},
     "output_type": "execute_result"
    }
   ],
   "source": [
    "class NameSpace:\n",
    "\n",
    "    @staticmethod\n",
    "    def dataframe(**kwargs):\n",
    "        return pd.DataFrame.from_dict(kwargs, orient='tight')\n",
    "\n",
    "    @staticmethod\n",
    "    def series(data, index_name=None):\n",
    "        return pd.Series(data).rename_axis(index=index_name)\n",
    "\n",
    "    @staticmethod\n",
    "    def timestamp(text):\n",
    "        return pd.Timestamp(text)\n",
    "\n",
    "    @staticmethod\n",
    "    def ndarray(data):\n",
    "        return np.array(data)\n",
    "\n",
    "\n",
    "@register_pretty(pd.DataFrame)\n",
    "def pretty_dataframe(value, ctx):\n",
    "    data = value.to_dict(orient='tight')\n",
    "    return pretty_call(ctx, 'ns.dataframe', **data)\n",
    "\n",
    "@register_pretty(pd.Series)\n",
    "def pretty_series(value, ctx):\n",
    "    data = value.to_dict()\n",
    "    index_name = value.index.name\n",
    "    return pretty_call(ctx, 'ns.series', data=data, index_name=index_name)\n",
    "\n",
    "@register_pretty(np.ndarray)\n",
    "def pretty_ndarray(value, ctx):\n",
    "    data = value.tolist()\n",
    "    return pretty_call(ctx, 'ns.ndarray', data)\n",
    "\n",
    "\n",
    "@register_pretty(pd.Timestamp)\n",
    "def pretty_timestamp(value, ctx):\n",
    "    data = str(value)\n",
    "    return pretty_call(ctx, 'ns.timestamp', data)\n",
    "\n",
    "\n",
    "ns = NameSpace\n",
    "res = pformat(prices)\n",
    "print(res)\n",
    "eval(res)\n",
    "\n"
   ],
   "metadata": {
    "collapsed": false,
    "pycharm": {
     "name": "#%%\n"
    }
   }
  },
  {
   "cell_type": "code",
   "execution_count": 586,
   "outputs": [
    {
     "name": "stdout",
     "output_type": "stream",
     "text": [
      "ns.series(\n",
      "    data={\n",
      "        ns.timestamp('2022-07-22 00:00:00'): 99.11,\n",
      "        ns.timestamp('2022-07-25 00:00:00'): 98.54,\n",
      "        ns.timestamp('2022-07-26 00:00:00'): 98.45,\n",
      "        ns.timestamp('2022-07-27 00:00:00'): 97.25,\n",
      "        ns.timestamp('2022-07-28 00:00:00'): 99.22\n",
      "    },\n",
      "    index_name='date'\n",
      ")\n"
     ]
    },
    {
     "data": {
      "text/plain": "date\n2022-07-22    99.11\n2022-07-25    98.54\n2022-07-26    98.45\n2022-07-27    97.25\n2022-07-28    99.22\ndtype: float64"
     },
     "execution_count": 586,
     "metadata": {},
     "output_type": "execute_result"
    }
   ],
   "source": [
    "\n",
    "ns = NameSpace\n",
    "res = pformat(prices.close)\n",
    "print(res)\n",
    "eval(res)\n"
   ],
   "metadata": {
    "collapsed": false,
    "pycharm": {
     "name": "#%%\n"
    }
   }
  },
  {
   "cell_type": "code",
   "execution_count": 587,
   "outputs": [
    {
     "name": "stdout",
     "output_type": "stream",
     "text": [
      "ns.ndarray([99.11, 98.54, 98.45, 97.25, 99.22])\n"
     ]
    },
    {
     "data": {
      "text/plain": "array([99.11, 98.54, 98.45, 97.25, 99.22])"
     },
     "execution_count": 587,
     "metadata": {},
     "output_type": "execute_result"
    }
   ],
   "source": [
    "\n",
    "ns = NameSpace\n",
    "res = pformat(prices.close.values)\n",
    "print(res)\n",
    "eval(res)"
   ],
   "metadata": {
    "collapsed": false,
    "pycharm": {
     "name": "#%%\n"
    }
   }
  },
  {
   "cell_type": "code",
   "execution_count": null,
   "outputs": [],
   "source": [
    "\n"
   ],
   "metadata": {
    "collapsed": false,
    "pycharm": {
     "name": "#%%\n"
    }
   }
  }
 ],
 "metadata": {
  "kernelspec": {
   "display_name": "Python 3",
   "language": "python",
   "name": "python3"
  },
  "language_info": {
   "codemirror_mode": {
    "name": "ipython",
    "version": 2
   },
   "file_extension": ".py",
   "mimetype": "text/x-python",
   "name": "python",
   "nbconvert_exporter": "python",
   "pygments_lexer": "ipython2",
   "version": "2.7.6"
  }
 },
 "nbformat": 4,
 "nbformat_minor": 0
}